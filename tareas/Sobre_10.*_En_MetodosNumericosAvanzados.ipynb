{
 "cells": [
  {
   "cell_type": "code",
   "execution_count": 399,
   "metadata": {
    "collapsed": false
   },
   "outputs": [
    {
     "data": {
      "text/plain": [
       "1"
      ]
     },
     "execution_count": 399,
     "metadata": {},
     "output_type": "execute_result"
    }
   ],
   "source": [
    "asdf=1"
   ]
  },
  {
   "cell_type": "code",
   "execution_count": 1,
   "metadata": {
    "collapsed": false
   },
   "outputs": [
    {
     "name": "stderr",
     "output_type": "stream",
     "text": [
      "INFO: Loading help data...\n"
     ]
    }
   ],
   "source": [
    "using Intervalos, Graficador, AutoDif\n",
    "using PyPlot"
   ]
  },
  {
   "cell_type": "markdown",
   "metadata": {
    "collapsed": true
   },
   "source": [
    "#[1]\n",
    "#### Escribe una función que calcule el operador de Newton para un intervalo $X$, dadas $f(x)$ y $f′(x)$."
   ]
  },
  {
   "cell_type": "code",
   "execution_count": 2,
   "metadata": {
    "collapsed": false
   },
   "outputs": [
    {
     "data": {
      "text/plain": [
       "newtonIntervalo (generic function with 1 method)"
      ]
     },
     "execution_count": 2,
     "metadata": {},
     "output_type": "execute_result"
    }
   ],
   "source": [
    "ptomedio(x::Intervalo)= (x.a + x.b)/2\n",
    "\n",
    "newtonIntervalo(x::Intervalo,f::Function,ff::Function)= Intervalo(ptomedio(x)) - f(Intervalo(ptomedio(x)))/ff(x)"
   ]
  },
  {
   "cell_type": "markdown",
   "metadata": {},
   "source": [
    "Voy a implementar un par de funciones que den la unión o intersección de un par de intervalos. Si los intervalos no se intersectan las funciones arrojan un error"
   ]
  },
  {
   "cell_type": "code",
   "execution_count": 3,
   "metadata": {
    "collapsed": false
   },
   "outputs": [
    {
     "data": {
      "text/plain": [
       "iNtersectar (generic function with 1 method)"
      ]
     },
     "execution_count": 3,
     "metadata": {},
     "output_type": "execute_result"
    }
   ],
   "source": [
    "uNir(x::Intervalo,y::Intervalo) = (x.a<=y.b && y.a<=x.b) ? Intervalo(min(x.a,y.a),max(x.b,y.b)) : \n",
    "                                                                return(\"Deben ser intervalos que se intersectan\")\n",
    "iNtersectar(x::Intervalo,y::Intervalo) = (x.a<=y.b && y.a<=x.b) ? Intervalo(max(x.a,y.a),min(x.b,y.b)) : \n",
    "                                                                return(\"Deben ser intervalos que se intersectan\")"
   ]
  },
  {
   "cell_type": "markdown",
   "metadata": {},
   "source": [
    "#[2]\n",
    "#### Implementa el método de Newton para intervalos para encontrar las raíces de $f(x)=x^3−1$ a partir de $X=[−3,3]$. Muestra gráficamente la implementación del método. En cada iteración subsecuente del método, ilustra qué le pasa al diámetro de la refincación del intervalo que vas obteniendo."
   ]
  },
  {
   "cell_type": "code",
   "execution_count": 403,
   "metadata": {
    "collapsed": false
   },
   "outputs": [
    {
     "data": {
      "text/plain": [
       "cerosNewton (generic function with 2 methods)"
      ]
     },
     "execution_count": 403,
     "metadata": {},
     "output_type": "execute_result"
    }
   ],
   "source": [
    "function cerosNewtonAux(x::Intervalo,f::Function,ff::Function,n::Int64)\n",
    "    if in(0.0,ff(x))\n",
    "        if ff(x).a<0.0 && ff(x).b>0.0 #x.a<0.0 && x.b>0.0\n",
    "            return \"El intervalo de la derivada contiene al cero\"\n",
    "        end\n",
    "    end\n",
    "    if typeof(iNtersectar(x,newtonIntervalo(x,f,ff)))==ASCIIString\n",
    "        return \"El intervalo elegido no contiene ceros de $f(x)\"\n",
    "    end\n",
    "    if n>100\n",
    "        println(x)\n",
    "        return \"Más de 100 iteraciones\"\n",
    "    elseif abs(redonUP(-,x.b,x.a))<2.0^-30 \n",
    "        return x\n",
    "    else\n",
    "        n+=1\n",
    "        cerosNewtonAux( iNtersectar(x,newtonIntervalo(x,f,ff))  , f , ff , n)\n",
    "    end\n",
    "end\n",
    "\n",
    "cerosNewton(x::Intervalo,f::Function,ff::Function)=cerosNewtonAux(x::Intervalo,f::Function,ff::Function,1)"
   ]
  },
  {
   "cell_type": "code",
   "execution_count": 404,
   "metadata": {
    "collapsed": false
   },
   "outputs": [
    {
     "data": {
      "text/plain": [
       "[9.999999999996766945433800838764672234217058898840182419042737791180041684117653e-01,\n",
       "1.00000000000035560775191859952649349832031965423996115501097468381781371997584e+00]"
      ]
     },
     "execution_count": 404,
     "metadata": {},
     "output_type": "execute_result"
    }
   ],
   "source": [
    "f1(x)=x^3-1\n",
    "f2(x)=3*x^2\n",
    "interv1=Intervalo(-3,3)\n",
    "cerosNewton(interv1,f1,f2)"
   ]
  },
  {
   "cell_type": "code",
   "execution_count": 405,
   "metadata": {
    "collapsed": false,
    "scrolled": true
   },
   "outputs": [
    {
     "data": {
      "text/plain": [
       "[9.999999999996638396386008709155080217012860753066769572114956244718861318173878e-01,\n",
       "1.000000000000370042584027206015784751339542262885839885826171619502992567418929e+00]"
      ]
     },
     "execution_count": 405,
     "metadata": {},
     "output_type": "execute_result"
    }
   ],
   "source": [
    "interv1=Intervalo(3e-02,3)\n",
    "cerosNewton(interv1,f1,f2)"
   ]
  },
  {
   "cell_type": "code",
   "execution_count": 406,
   "metadata": {
    "collapsed": false
   },
   "outputs": [
    {
     "data": {
      "text/plain": [
       "[9.999999999996455746958370586872576732910155438046615480108400544854991344102032e-01,\n",
       "1.00000000000039142809569346024873314200851275964043658576342252110557003319485e+00]"
      ]
     },
     "execution_count": 406,
     "metadata": {},
     "output_type": "execute_result"
    }
   ],
   "source": [
    "interv1=Intervalo(0,3)\n",
    "cerosNewton(interv1,f1,f2)"
   ]
  },
  {
   "cell_type": "code",
   "execution_count": null,
   "metadata": {
    "collapsed": true
   },
   "outputs": [],
   "source": []
  },
  {
   "cell_type": "markdown",
   "metadata": {
    "collapsed": false
   },
   "source": [
    "Lo siguiente es una representación gráfica de lo que hace el método. Para hacerlo amigable con nosotros solo hice las primeras tres iteraciones."
   ]
  },
  {
   "cell_type": "code",
   "execution_count": 407,
   "metadata": {
    "collapsed": false
   },
   "outputs": [
    {
     "data": {
      "image/png": "[encoded data removed]",
      "text/plain": [
       "Figure(PyObject <matplotlib.figure.Figure object at 0x7f50771f8410>)"
      ]
     },
     "metadata": {},
     "output_type": "display_data"
    }
   ],
   "source": [
    "eme=ptomedio(interv1)\n",
    "graficaarea(float64(interv1.a),float64(interv1.b),f1)\n",
    "PyPlot.plot(Float64[eme],Float64[f1(eme)],\"+r\")\n",
    "\n",
    "interv2=newtonIntervalo(interv1,f1,f2)\n",
    "interv3=iNtersectar(interv1,interv2)\n",
    "polY=f1(interv3)\n",
    "PyPlot.fill_between(Float64[interv3.a,interv3.b],float64(polY.a),float64(polY.b),color=\"gray\")\n",
    "eme=ptomedio(interv3)\n",
    "PyPlot.plot(Float64[eme],Float64[f1(eme)],\"+r\")\n",
    "\n",
    "interv4=newtonIntervalo(interv3,f1,f2)\n",
    "interv5=iNtersectar(interv3,interv4)\n",
    "polY=f1(interv5)\n",
    "PyPlot.fill_between(Float64[interv5.a,interv5.b],float64(polY.a),float64(polY.b),color=\"black\")\n",
    "eme=ptomedio(interv5)\n",
    "PyPlot.plot(Float64[eme],Float64[f1(eme)],\"+r\")\n",
    "\n",
    "interv6=newtonIntervalo(interv5,f1,f2)\n",
    "interv7=iNtersectar(interv5,interv6)\n",
    "polY=f1(interv7)\n",
    "PyPlot.fill_between(Float64[interv7.a,interv7.b],float64(polY.a),float64(polY.b),color=\"white\")\n",
    "eme=ptomedio(interv7)\n",
    "PyPlot.plot(Float64[eme],Float64[f1(eme)],\"+r\")\n",
    ";"
   ]
  },
  {
   "cell_type": "code",
   "execution_count": null,
   "metadata": {
    "collapsed": true
   },
   "outputs": [],
   "source": []
  },
  {
   "cell_type": "markdown",
   "metadata": {},
   "source": [
    "Ahora voy a implementar el método con diferenciación automática, para lo cual agregué la siguiente linea al módulo AutoDif:\n",
    "`ValorDeriv(x::Intervalo)=ValorDeriv(x,Intervalo(1.0))`"
   ]
  },
  {
   "cell_type": "code",
   "execution_count": 15,
   "metadata": {
    "collapsed": false
   },
   "outputs": [
    {
     "data": {
      "text/html": [
       "3 methods for generic function <b>ValorDeriv</b>:<ul><li> ValorDeriv(x::<b>Intervalo</b>) at <a href=\"https://github.com/shgaeo/clase/tree/716111e3d57e4e92a91fa18e71d871cbbfc0ca29/e/MisModulos/AutoDif/src/AutoDif.jl#L19\" target=\"_blank\">/home/santiago/Documentos/Escuela-maestría/1er-semestre/Física-computacional/Clase/MisModulos/AutoDif/src/AutoDif.jl:19</a><li> ValorDeriv(valor,deriv)<li> ValorDeriv(valor) at <a href=\"https://github.com/shgaeo/clase/tree/716111e3d57e4e92a91fa18e71d871cbbfc0ca29/e/MisModulos/AutoDif/src/AutoDif.jl#L18\" target=\"_blank\">/home/santiago/Documentos/Escuela-maestría/1er-semestre/Física-computacional/Clase/MisModulos/AutoDif/src/AutoDif.jl:18</a></ul>"
      ],
      "text/plain": [
       "# 3 methods for generic function \"ValorDeriv\":\n",
       "ValorDeriv(x::Intervalo) at /home/santiago/Documentos/Escuela-maestría/1er-semestre/Física-computacional/Clase/MisModulos/AutoDif/src/AutoDif.jl:19\n",
       "ValorDeriv(valor,deriv)\n",
       "ValorDeriv(valor) at /home/santiago/Documentos/Escuela-maestría/1er-semestre/Física-computacional/Clase/MisModulos/AutoDif/src/AutoDif.jl:18"
      ]
     },
     "execution_count": 15,
     "metadata": {},
     "output_type": "execute_result"
    }
   ],
   "source": [
    "methods(ValorDeriv)"
   ]
  },
  {
   "cell_type": "code",
   "execution_count": 409,
   "metadata": {
    "collapsed": false
   },
   "outputs": [
    {
     "data": {
      "text/plain": [
       "cerosNewton (generic function with 2 methods)"
      ]
     },
     "execution_count": 409,
     "metadata": {},
     "output_type": "execute_result"
    }
   ],
   "source": [
    "newtonIntervalo(x::Intervalo,f::Function)= Intervalo(ptomedio(x)) - f(Intervalo(ptomedio(x)))/(f(ValorDeriv(x)).deriv)\n",
    "\n",
    "function cerosNewtonAux(x::Intervalo,f::Function,n::Int64)\n",
    "    y=f(ValorDeriv(x))\n",
    "    if in(0.0,y.deriv)\n",
    "        if y.deriv.a<0.0 && y.deriv.b>0.0 \n",
    "            return \"El intervalo de la derivada contiene al cero\"\n",
    "        end\n",
    "    end\n",
    "    if typeof(iNtersectar(x,newtonIntervalo(x,f)))==ASCIIString\n",
    "        return \"El intervalo elegido no contiene ceros de $f(x)\"\n",
    "    end\n",
    "    if n>100\n",
    "        println(x)\n",
    "        return \"Más de 100 iteraciones\"\n",
    "    elseif abs(redonUP(-,x.b,x.a))<2.0^-30 \n",
    "        return x\n",
    "    else\n",
    "        n+=1\n",
    "        cerosNewtonAux( iNtersectar(x,newtonIntervalo(x,f))  , f , n)\n",
    "    end\n",
    "end\n",
    "\n",
    "cerosNewton(x::Intervalo,f::Function)=cerosNewtonAux(x::Intervalo,f::Function,1)"
   ]
  },
  {
   "cell_type": "code",
   "execution_count": 410,
   "metadata": {
    "collapsed": false
   },
   "outputs": [
    {
     "data": {
      "text/plain": [
       "[9.999999999996766945433800838764672234217058898840182419042737791180041684117653e-01,\n",
       "1.00000000000035560775191859952649349832031965423996115501097468381781371997584e+00]"
      ]
     },
     "execution_count": 410,
     "metadata": {},
     "output_type": "execute_result"
    }
   ],
   "source": [
    "f1(x)=x^3-1\n",
    "interv1=Intervalo(-3,3)\n",
    "cerosNewton(interv1,f1)"
   ]
  },
  {
   "cell_type": "code",
   "execution_count": 411,
   "metadata": {
    "collapsed": false
   },
   "outputs": [
    {
     "data": {
      "text/plain": [
       "[9.999999999996638396386008709155080217012860753066769572114956244718861318173878e-01,\n",
       "1.000000000000370042584027206015784751339542262885839885826171619502992567418929e+00]"
      ]
     },
     "execution_count": 411,
     "metadata": {},
     "output_type": "execute_result"
    }
   ],
   "source": [
    "interv1=Intervalo(3e-02,3)\n",
    "cerosNewton(interv1,f1)"
   ]
  },
  {
   "cell_type": "code",
   "execution_count": 412,
   "metadata": {
    "collapsed": false,
    "scrolled": true
   },
   "outputs": [
    {
     "data": {
      "text/plain": [
       "[9.999999999996455746958370586872576732910155438046615480108400544854991344102032e-01,\n",
       "1.00000000000039142809569346024873314200851275964043658576342252110557003319485e+00]"
      ]
     },
     "execution_count": 412,
     "metadata": {},
     "output_type": "execute_result"
    }
   ],
   "source": [
    "interv1=Intervalo(0,3)\n",
    "cerosNewton(interv1,f1)"
   ]
  },
  {
   "cell_type": "code",
   "execution_count": null,
   "metadata": {
    "collapsed": false
   },
   "outputs": [],
   "source": []
  },
  {
   "cell_type": "markdown",
   "metadata": {
    "collapsed": false
   },
   "source": [
    "#[3]\n",
    "##### Usando tu implementación, demuestra que en el mismo intervalo $X=[−3,3]$ que $g(x)=x^2+1$ no tiene ninguna raíz. Ilustra gráficamente esto."
   ]
  },
  {
   "cell_type": "markdown",
   "metadata": {
    "collapsed": false
   },
   "source": [
    "El problema es que hasta este punto el código no está listo para incluir derivadas que incluyan el cero."
   ]
  },
  {
   "cell_type": "code",
   "execution_count": 413,
   "metadata": {
    "collapsed": false
   },
   "outputs": [
    {
     "data": {
      "text/plain": [
       "\"El intervalo de la derivada contiene al cero\""
      ]
     },
     "execution_count": 413,
     "metadata": {},
     "output_type": "execute_result"
    }
   ],
   "source": [
    "f1(x)=x^2+1\n",
    "interv1=Intervalo(-3,3)\n",
    "cerosNewton(interv1,f1)"
   ]
  },
  {
   "cell_type": "markdown",
   "metadata": {},
   "source": [
    "Para ver esto usaré lo aprendido en el ejercicio $\\mathbf{[5]}$"
   ]
  },
  {
   "cell_type": "markdown",
   "metadata": {},
   "source": [
    "##### ¡¡¡OJO, LOS SIGUIENTES RENGLONES NO CORRERAN SI NO SE CORREN PRIMERO LOS EJERCICIOS $\\mathbf{[5],[6]}$!!!"
   ]
  },
  {
   "cell_type": "code",
   "execution_count": 414,
   "metadata": {
    "collapsed": false
   },
   "outputs": [
    {
     "data": {
      "text/plain": [
       "0-element Array{Intervalo,1}"
      ]
     },
     "execution_count": 414,
     "metadata": {},
     "output_type": "execute_result"
    }
   ],
   "source": [
    "cerosNewtonExtend(interv1,f1)"
   ]
  },
  {
   "cell_type": "markdown",
   "metadata": {},
   "source": [
    "Nótese que un arreglo vacío implica que no hay ceros en la función"
   ]
  },
  {
   "cell_type": "code",
   "execution_count": 415,
   "metadata": {
    "collapsed": false
   },
   "outputs": [
    {
     "data": {
      "image/png": "[encoded data removed]",
      "text/plain": [
       "Figure(PyObject <matplotlib.figure.Figure object at 0x7f50771660d0>)"
      ]
     },
     "metadata": {},
     "output_type": "display_data"
    }
   ],
   "source": [
    "eme=ptomedio(interv1)\n",
    "graficaarea(float64(interv1.a),float64(interv1.b),f1)\n",
    "PyPlot.plot(Float64[eme],Float64[f1(eme)],\"or\")\n",
    "\n",
    "interv2=newtonPolos(interv1,f1,f1(ValorDeriv(interv1)).deriv)[1]\n",
    "interv3=newtonPolos(interv1,f1,f1(ValorDeriv(interv1)).deriv)[2]\n",
    "polY2=f1(interv2)\n",
    "polY3=f1(interv3)\n",
    "PyPlot.fill_between(Float64[interv2.a,interv2.b],float64(polY2.a),float64(polY2.b),color=\"gray\")\n",
    "PyPlot.plot(Float64[ptomedio(interv2)],Float64[f1(ptomedio(interv2))],\"or\")\n",
    "PyPlot.fill_between(Float64[interv3.a,interv3.b],float64(polY3.a),float64(polY3.b),color=\"gray\")\n",
    "PyPlot.plot(Float64[ptomedio(interv3)],Float64[f1(ptomedio(interv3))],\"or\")\n",
    "\n",
    "\n",
    ";"
   ]
  },
  {
   "cell_type": "code",
   "execution_count": null,
   "metadata": {
    "collapsed": false
   },
   "outputs": [],
   "source": []
  },
  {
   "cell_type": "code",
   "execution_count": null,
   "metadata": {
    "collapsed": false
   },
   "outputs": [],
   "source": []
  },
  {
   "cell_type": "markdown",
   "metadata": {},
   "source": [
    "#[4]\n",
    "##### Considera la familia de polinomios de Wilkinson definidos por $W_n(x)=∏^n_{i=1}(x−i)$. Partiendo de un intervalo simétrico alrededor de cero, implementa el método de Newton para encontrar sus raíces, utilizando diferenciación automática."
   ]
  },
  {
   "cell_type": "code",
   "execution_count": 416,
   "metadata": {
    "collapsed": false
   },
   "outputs": [
    {
     "data": {
      "text/plain": [
       "wilkinson (generic function with 1 method)"
      ]
     },
     "execution_count": 416,
     "metadata": {},
     "output_type": "execute_result"
    }
   ],
   "source": [
    "function wilkinson(x,n::Int64)\n",
    "    a=(x-1)\n",
    "    for i=2:n\n",
    "        a=a*(x-i)\n",
    "    end\n",
    "    return a\n",
    "end"
   ]
  },
  {
   "cell_type": "markdown",
   "metadata": {
    "collapsed": false,
    "scrolled": true
   },
   "source": [
    "Para n=1 debe ser fácil ya que su derivada es constante:"
   ]
  },
  {
   "cell_type": "code",
   "execution_count": 417,
   "metadata": {
    "collapsed": false
   },
   "outputs": [
    {
     "data": {
      "text/plain": [
       "[1e+00,\n",
       "1e+00]"
      ]
     },
     "execution_count": 417,
     "metadata": {},
     "output_type": "execute_result"
    }
   ],
   "source": [
    "n=1;\n",
    "f3(x)=wilkinson(x,n)\n",
    "interv8=Intervalo(-3,3)\n",
    "cerosNewton(interv8,f3)"
   ]
  },
  {
   "cell_type": "markdown",
   "metadata": {
    "collapsed": true
   },
   "source": [
    "Para n>1 hay problemas con los ceros:"
   ]
  },
  {
   "cell_type": "code",
   "execution_count": 418,
   "metadata": {
    "collapsed": false
   },
   "outputs": [
    {
     "data": {
      "text/plain": [
       "\"El intervalo de la derivada contiene al cero\""
      ]
     },
     "execution_count": 418,
     "metadata": {},
     "output_type": "execute_result"
    }
   ],
   "source": [
    "n=2;\n",
    "f3(x)=wilkinson(x,n)\n",
    "interv8=Intervalo(-3,3)\n",
    "cerosNewton(interv8,f3)"
   ]
  },
  {
   "cell_type": "markdown",
   "metadata": {},
   "source": [
    "Por lo que utilizaremos lo visto en $\\mathbf{[5]}$"
   ]
  },
  {
   "cell_type": "markdown",
   "metadata": {},
   "source": [
    "##### ¡¡¡OJO, LOS SIGUIENTES RENGLONES NO CORRERAN SI NO SE CORREN PRIMERO LOS EJERCICIOS $\\mathbf{[5],[6]}$!!!"
   ]
  },
  {
   "cell_type": "code",
   "execution_count": 419,
   "metadata": {
    "collapsed": false,
    "scrolled": true
   },
   "outputs": [
    {
     "data": {
      "text/plain": [
       "2-element Array{Intervalo,1}:\n",
       " [9.999999999999999998155997061966351108210856219083849356502771708433450575411437e-01,\n",
       "1.000000000000000000171824893675646323257987171146879414578688496973363273297247e+00]\n",
       " [1.999999999994603790865697743381402149251108492029768575480125154411250070162069e+00,\n",
       "2.000000000006012232641448098931943215126567463711357178491711117934244974116473e+00]"
      ]
     },
     "execution_count": 419,
     "metadata": {},
     "output_type": "execute_result"
    }
   ],
   "source": [
    "n=2;\n",
    "f3(x)=wilkinson(x,n)\n",
    "interv8=Intervalo(-3,3)\n",
    "cerosNewtonExtend(interv8,f3)"
   ]
  },
  {
   "cell_type": "markdown",
   "metadata": {},
   "source": [
    "Que es lo que esperabamos (ceros en 1, 2)"
   ]
  },
  {
   "cell_type": "markdown",
   "metadata": {},
   "source": [
    "A continuación pongo una gráfica para ver el método"
   ]
  },
  {
   "cell_type": "code",
   "execution_count": 420,
   "metadata": {
    "collapsed": false
   },
   "outputs": [
    {
     "data": {
      "image/png": "[encoded data removed]",
      "text/plain": [
       "Figure(PyObject <matplotlib.figure.Figure object at 0x7f50772cad50>)"
      ]
     },
     "metadata": {},
     "output_type": "display_data"
    }
   ],
   "source": [
    "x=-2:2.0^-3:5\n",
    "y=similar(x)\n",
    "for i=1:length(x)\n",
    "    y[i]=f3(x[i])\n",
    "end\n",
    "PyPlot.plot(x,y)\n",
    "PyPlot.plot([-3,5],zeros(2))\n",
    "\n",
    "interv2=newtonPolos(interv8,f3,f3(ValorDeriv(interv8)).deriv)[1]\n",
    "interv3=newtonPolos(interv8,f3,f3(ValorDeriv(interv8)).deriv)[2]\n",
    "polY2=f3(interv2)\n",
    "polY3=f3(interv3)\n",
    "PyPlot.fill_between(Float64[interv2.a,interv2.b],float64(polY2.a),float64(polY2.b),color=\"gray\")\n",
    "PyPlot.plot(Float64[ptomedio(interv2)],Float64[f3(ptomedio(interv2))],\"ow\")\n",
    "PyPlot.fill_between(Float64[interv3.a,interv3.b],float64(polY3.a),float64(polY3.b),color=\"gray\")\n",
    "PyPlot.plot(Float64[ptomedio(interv3)],Float64[f3(ptomedio(interv3))],\"xw\")\n",
    "\n",
    "interv4=newtonPolos(interv2,f3,f3(ValorDeriv(interv2)).deriv)[1]\n",
    "interv5=newtonPolos(interv2,f3,f3(ValorDeriv(interv2)).deriv)[2]\n",
    "polY4=f3(interv4)\n",
    "polY5=f3(interv5)\n",
    "PyPlot.fill_between(Float64[interv4.a,interv4.b],float64(polY4.a),float64(polY4.b),color=\"black\")\n",
    "PyPlot.plot(Float64[ptomedio(interv4)],Float64[f3(ptomedio(interv4))],\"ow\")\n",
    "PyPlot.fill_between(Float64[interv5.a,interv5.b],float64(polY5.a),float64(polY5.b),color=\"black\")\n",
    "PyPlot.plot(Float64[ptomedio(interv5)],Float64[f3(ptomedio(interv5))],\"ow\")\n",
    "\n",
    "interv6biz=newtonPolos(interv4,f3,f3(ValorDeriv(interv4)).deriv)[1]\n",
    "interv6=newtonPolos(interv6biz,f3,f3(ValorDeriv(interv6biz)).deriv)[1]\n",
    "polY6=f3(interv6)\n",
    "PyPlot.fill_between(Float64[interv6.a,interv6.b],float64(polY6.a),float64(polY6.b),color=\"red\")\n",
    "PyPlot.plot(Float64[ptomedio(interv6)],Float64[f3(ptomedio(interv6))],\"ow\")\n",
    "\n",
    "interv7biz=newtonIntervaloExtend(interv5,f3)\n",
    "interv7=newtonIntervaloExtend(interv7biz,f3)\n",
    "polY7=f3(interv7)\n",
    "PyPlot.fill_between(Float64[interv7.a,interv7.b],float64(polY7.a),float64(polY7.b),color=\"red\")\n",
    "PyPlot.plot(Float64[ptomedio(interv7)],Float64[f3(ptomedio(interv7))],\"ow\")\n",
    "\n",
    "PyPlot.annotate(\"1\",xy=(0, 0), xytext=(float64(ptomedio(interv2)),0.5+float64(f3(ptomedio(interv2)))), color=\"white\")\n",
    "PyPlot.annotate(\"1\",xy=(0, 0), xytext=(float64(ptomedio(interv3)),0.5+float64(f3(ptomedio(interv3)))), color=\"white\")\n",
    "PyPlot.annotate(\"2\",xy=(0, 0), xytext=(float64(ptomedio(interv4)),0.5+float64(f3(ptomedio(interv4)))), color=\"white\")\n",
    "PyPlot.annotate(\"2\",xy=(0, 0), xytext=(float64(ptomedio(interv5)),0.5+float64(f3(ptomedio(interv5)))), color=\"white\")\n",
    "PyPlot.annotate(\"3\",xy=(0, 0), xytext=(float64(ptomedio(interv6)),0.5+float64(f3(ptomedio(interv6)))), color=\"white\")\n",
    "PyPlot.annotate(\"3\",xy=(0, 0), xytext=(float64(ptomedio(interv7)),0.5+float64(f3(ptomedio(interv7)))), color=\"white\")\n",
    "\n",
    "PyPlot.plot([1,1],[-2,1],\"--b\")\n",
    "PyPlot.plot(2*[1,1],[-2,1],\"b--\")\n",
    "PyPlot.plot(3*[1,1],[-2,1],\"b--\")\n",
    "PyPlot.plot(4*[1,1],[-2,1],\"b--\")\n",
    "PyPlot.plot(5*[1,1],[-2,1],\"b--\");"
   ]
  },
  {
   "cell_type": "markdown",
   "metadata": {},
   "source": [
    "Y podemos seguir con n's mayores"
   ]
  },
  {
   "cell_type": "code",
   "execution_count": 421,
   "metadata": {
    "collapsed": false
   },
   "outputs": [
    {
     "data": {
      "text/plain": [
       "3-element Array{Intervalo,1}:\n",
       " [1.999999999999060651037212502745113628405555151212758086901089187815144296576921e+00,\n",
       "2.000000000000939381351568138295555184743266798034539413001264974319286480141766e+00]\n",
       " [2.999999999969176580097394573465092054338969001453923403727582830868754626145685e+00,\n",
       "3e+00]                                                                               \n",
       " [9.999999999999999994543924578535230927182482124109948166750261559045679461914948e-01,\n",
       "1.000000000000000000514503267371896848684802320550721938132477348085361382386436e+00]"
      ]
     },
     "execution_count": 421,
     "metadata": {},
     "output_type": "execute_result"
    }
   ],
   "source": [
    "n=3;\n",
    "f3(x)=wilkinson(x,n)\n",
    "interv8=Intervalo(-3,3)\n",
    "cerosNewtonExtend(interv8,f3)"
   ]
  },
  {
   "cell_type": "code",
   "execution_count": 422,
   "metadata": {
    "collapsed": false
   },
   "outputs": [
    {
     "data": {
      "text/plain": [
       "4-element Array{Intervalo,1}:\n",
       " [2.999999999999999999981136915237848026649966043526898277501850551720310090975441e+00,\n",
       "3.000000000000000000018864545562766702245756276445428143032445057594866304819489e+00]\n",
       " [3.999999999999999963255327494935099918349718753667703632669156874203865652682734e+00,\n",
       "4.000000000000000039047963430059351977780313250901453381390296449130680804788137e+00]\n",
       " [9.999999999999999996560729745244623513004078514021492324355310826089166263479026e-01,\n",
       "1.000000000000000000333762789639675603365627208873398272135413735291556334026655e+00]\n",
       " [1.999999999999999842651380217819609500396366102390286702274764427995614826682292e+00,\n",
       "2.000000000000000157171402483869887867662713476479255993236753706674045444712612e+00]"
      ]
     },
     "execution_count": 422,
     "metadata": {},
     "output_type": "execute_result"
    }
   ],
   "source": [
    "n=4;\n",
    "f3(x)=wilkinson(x,n)\n",
    "interv8=Intervalo(-5,5)\n",
    "cerosNewtonExtend(interv8,f3)"
   ]
  },
  {
   "cell_type": "markdown",
   "metadata": {},
   "source": [
    "# División extendida"
   ]
  },
  {
   "cell_type": "markdown",
   "metadata": {},
   "source": [
    "#[5]\n",
    "#### Supón que $F′(X)$ sea un intervalo, digamos $F′(X)=[−a,b]$, que contiene $0$ (con $a,b>0$).\n",
    "#### (i) Definiendo 1/A como el conjunto {1/x:x∈A}, evalúa 1/F′(X)."
   ]
  },
  {
   "cell_type": "markdown",
   "metadata": {},
   "source": [
    "Sabemos que $1/F′(X)$ debería dar como resultado dos intervalos: $[-∞,-\\frac{1}{a}]$ y $[\\frac{1}{b},∞]$\n",
    "\n",
    "Para trabajar con estos intervalos haré que $1/F′(X)$ no arroje un intervalo sino un arreglo de intervalos:"
   ]
  },
  {
   "cell_type": "markdown",
   "metadata": {},
   "source": [
    "#### (ii) Define una función que implementa esta \"división extendida\" de intervalos (o, más bien, inversa extendida)."
   ]
  },
  {
   "cell_type": "code",
   "execution_count": 4,
   "metadata": {
    "collapsed": false,
    "scrolled": true
   },
   "outputs": [
    {
     "data": {
      "text/plain": [
       "extenDiv (generic function with 1 method)"
      ]
     },
     "execution_count": 4,
     "metadata": {},
     "output_type": "execute_result"
    }
   ],
   "source": [
    "extenDiv(x::Intervalo)=[Intervalo(-inf(BigFloat),(1/Intervalo(x.a)).b),Intervalo((1/Intervalo(x.b)).a,inf(BigFloat))]"
   ]
  },
  {
   "cell_type": "code",
   "execution_count": 424,
   "metadata": {
    "collapsed": false
   },
   "outputs": [
    {
     "data": {
      "text/plain": [
       "2-element Array{Intervalo,1}:\n",
       " [-inf,\n",
       "-3.333333333333333333333333333333333333333333333333333333333333333333333333333305e-01]\n",
       " [3.333333333333333333333333333333333333333333333333333333333333333333333333333305e-01,\n",
       "inf]  "
      ]
     },
     "execution_count": 424,
     "metadata": {},
     "output_type": "execute_result"
    }
   ],
   "source": [
    "extenDiv(Intervalo(-3,3))"
   ]
  },
  {
   "cell_type": "markdown",
   "metadata": {},
   "source": [
    "Nótese que al definirlo hice que el redondeo incluyera el valor que yo quiero. Si lo hubiera definido como \n",
    "\n",
    "    extenDiv(x::Intervalo)=[Intervalo(-inf(BigFloat),1/x.a),Intervalo(1/x.b,inf(BigFloat))]\n",
    "\n",
    "entonces \n",
    "\n",
    "    extenDiv(Intervalo(-3,3))\n",
    "\n",
    "arroja \n",
    "\n",
    "    [ [-inf,-3.333333333333333333333333333333333333333333333333333333333333333333333333333348e-01], \n",
    "        [3.333333333333333333333333333333333333333333333333333333333333333333333333333348e-01,inf] ]\n",
    "\n",
    "Que claramente no contiene los elementos {$-1/3,1/3$}"
   ]
  },
  {
   "cell_type": "markdown",
   "metadata": {
    "collapsed": true
   },
   "source": [
    "#[6]\n",
    "#### Resulta que el método de Newton sigue funcionando si utilizamos esta división extendida cuándo sea apropiado. Impleméntalo para encontrar todas las raíces de una función en un intervalo dado.\n",
    "\n",
    "#### Nota que hay casos en los cuales no ocurre ninguna de las posibilidades (1) ni (2) en el teorema del método de Newton para intervalos. ¿Qué se puede hacer en este caso?"
   ]
  },
  {
   "cell_type": "markdown",
   "metadata": {
    "collapsed": false
   },
   "source": [
    "Voy a definir un nuevo tipo composito para distinguir los distintos tipos de ceros que puede encontrar el método:"
   ]
  },
  {
   "cell_type": "code",
   "execution_count": 5,
   "metadata": {
    "collapsed": true
   },
   "outputs": [],
   "source": [
    "type Ceros\n",
    "    sinRaiz::Array{Intervalo,1} # caso (1) del notebook\n",
    "    raizUnica::Array{Intervalo,1} # caso (2) del notebook\n",
    "    raizMasDeUna::Array{Intervalo,1} # ninguno de los anteriores\n",
    "end"
   ]
  },
  {
   "cell_type": "code",
   "execution_count": null,
   "metadata": {
    "collapsed": false
   },
   "outputs": [],
   "source": []
  },
  {
   "cell_type": "code",
   "execution_count": 6,
   "metadata": {
    "collapsed": false
   },
   "outputs": [
    {
     "data": {
      "text/plain": [
       "newtonPolos (generic function with 1 method)"
      ]
     },
     "execution_count": 6,
     "metadata": {},
     "output_type": "execute_result"
    }
   ],
   "source": [
    "newtonPolosAux(x::Intervalo,f::Function,y::Intervalo)= iNtersectar(x,Intervalo(ptomedio(x)) - f(Intervalo(ptomedio(x)))*y)\n",
    "\n",
    "function newtonPolos(x::Intervalo,f::Function,y::Intervalo)\n",
    "    derivs=extenDiv(y)\n",
    "    a=Intervalo[]\n",
    "    for i=1:2\n",
    "        if typeof(newtonPolosAux(x,f,derivs[i]))==ASCIIString\n",
    "            \n",
    "        else\n",
    "            push!(a,newtonPolosAux(x,f,derivs[i]))\n",
    "        end\n",
    "    end\n",
    "    return a\n",
    "end"
   ]
  },
  {
   "cell_type": "code",
   "execution_count": 20,
   "metadata": {
    "collapsed": false
   },
   "outputs": [
    {
     "data": {
      "text/plain": [
       "cerosNewtonExtend (generic function with 1 method)"
      ]
     },
     "execution_count": 20,
     "metadata": {},
     "output_type": "execute_result"
    }
   ],
   "source": [
    "newtonIntervaloExtend(x::Intervalo,f::Function) = iNtersectar(x,newtonIntervaloExtendAux(x,f))\n",
    "newtonIntervaloExtendAux(x::Intervalo,f::Function)=\n",
    "        Intervalo(ptomedio(x)) - f(Intervalo(ptomedio(x)))/(f(ValorDeriv(x)).deriv)\n",
    "\n",
    "\n",
    "function cerosNewtonExtendAux(x::Array{Intervalo,1},f::Function,n::Int64,z::Ceros)\n",
    "    for i=1:length(x)\n",
    "        y=f(ValorDeriv(x[i]))\n",
    "        if y.deriv.a<0.0 && y.deriv.b>0.0 \n",
    "            cerosNewtonExtendAux( newtonPolos(x[i],f,y.deriv)  , f , n,z)\n",
    "        elseif typeof(newtonIntervaloExtend(x[i],f))==ASCIIString    \n",
    "            push!(z.sinRaiz,x[i])\n",
    "            #println(\"El intervalo elegido no contiene ceros de $f(x)\")\n",
    "        elseif n>100\n",
    "            println(\"En $(x[i]) Más de 100 iteraciones\")\n",
    "            #return(z)\n",
    "        elseif abs(redonUP(-,x[i].b,x[i].a))<2.0^-30 \n",
    "            if in(newtonIntervaloExtendAux(x[i],f),x[i])\n",
    "                push!(z.raizUnica,x[i])\n",
    "            else\n",
    "                push!(z.raizMasDeUna,x[i])\n",
    "            end\n",
    "        else\n",
    "            ##println(\"pasan:\")\n",
    "            ##println(x[i])\n",
    "            ##println()\n",
    "            n+=1\n",
    "            #println(\"$(x[i])\")\n",
    "            cerosNewtonExtendAux( [newtonIntervaloExtend(x[i],f)]  , f , n,z)\n",
    "        end\n",
    "    end\n",
    "    return z\n",
    "end\n",
    "cerosNewtonExtend(x::Intervalo,f::Function)=cerosNewtonExtendAux([x],f,1,Ceros(Intervalo[],Intervalo[],Intervalo[]))"
   ]
  },
  {
   "cell_type": "code",
   "execution_count": 427,
   "metadata": {
    "collapsed": false
   },
   "outputs": [
    {
     "name": "stdout",
     "output_type": "stream",
     "text": [
      "[9.999999999996766945433800838764672234217058898840182419042737791180041684117653e-01,\n",
      "1.00000000000035560775191859952649349832031965423996115501097468381781371997584e+00]\n",
      "[9.999999999996455746958370586872576732910155438046615480108400544854991344102032e-01,\n",
      "1.00000000000039142809569346024873314200851275964043658576342252110557003319485e+00]\n",
      "El intervalo elegido no contiene ceros de f1(x)\n"
     ]
    }
   ],
   "source": [
    "f1(x)=x^3-1\n",
    "interv1=Intervalo(-3,3)\n",
    "println(cerosNewton(interv1,f1))\n",
    "interv1=Intervalo(0,3)\n",
    "println(cerosNewton(interv1,f1))\n",
    "interv1=Intervalo(3,13)\n",
    "println(cerosNewton(interv1,f1))"
   ]
  },
  {
   "cell_type": "code",
   "execution_count": 21,
   "metadata": {
    "collapsed": false
   },
   "outputs": [
    {
     "name": "stdout",
     "output_type": "stream",
     "text": [
      "Ceros([],[[9.999999999996766945433800838764672234217058898840182419042737791180041684117653e-01,\n",
      "1.00000000000035560775191859952649349832031965423996115501097468381781371997584e+00]],[])\n",
      "Ceros([],[[9.999999999996455746958370586872576732910155438046615480108400544854991344102032e-01,\n",
      "1.00000000000039142809569346024873314200851275964043658576342252110557003319485e+00]],[])\n",
      "Ceros([[3e+00,\n",
      "4.152628720173893722556561644143262276064957318843213445586291616646086746638413e+00]],[],[])\n"
     ]
    }
   ],
   "source": [
    "f1(x)=x^3-1\n",
    "interv1=Intervalo(-3,3)\n",
    "println(cerosNewtonExtend(interv1,f1))\n",
    "interv1=Intervalo(0,3)\n",
    "println(cerosNewtonExtend(interv1,f1))\n",
    "interv1=Intervalo(3,13)\n",
    "println(cerosNewtonExtend(interv1,f1))"
   ]
  },
  {
   "cell_type": "markdown",
   "metadata": {},
   "source": [
    "Ahora para $f(x)=x^2-1$, la cual tiene derivada $2x$ que se hace cero en $(-3,3)$"
   ]
  },
  {
   "cell_type": "code",
   "execution_count": 430,
   "metadata": {
    "collapsed": false
   },
   "outputs": [
    {
     "name": "stdout",
     "output_type": "stream",
     "text": [
      "El intervalo de la derivada contiene al cero\n",
      "[9.999999999999999818070336260818762212836466401569907606283975886159996237057381e-01,\n",
      "1.000000000000000018484792426209236554433405630564611521146908370944471311548792e+00]\n",
      "El intervalo elegido no contiene ceros de f1(x)\n"
     ]
    }
   ],
   "source": [
    "f1(x)=x^2-1\n",
    "interv1=Intervalo(-3,3)\n",
    "println(cerosNewton(interv1,f1))\n",
    "interv1=Intervalo(0,3)\n",
    "println(cerosNewton(interv1,f1))\n",
    "interv1=Intervalo(3,13)\n",
    "println(cerosNewton(interv1,f1))"
   ]
  },
  {
   "cell_type": "code",
   "execution_count": 22,
   "metadata": {
    "collapsed": false
   },
   "outputs": [
    {
     "name": "stdout",
     "output_type": "stream",
     "text": [
      "Ceros([],[[-1.000000000116555949760334967198204461460207626849085879682821950118675275773075e+00,\n",
      "-9.999999998874207384013877142596300523171748517271878457416413873980464490940146e-01],[9.999999998874207384013877142596300523171748517271878457416413873980464490940146e-01,\n",
      "1.000000000116555949760334967198204461460207626849085879682821950118675275773075e+00]],[])\n",
      "Nótese que el programa separa y encuentra los ceros al rededor de +-1\n",
      "\n",
      "Ceros([],[[9.999999999999999818070336260818762212836466401569907606283975886159996237057381e-01,\n",
      "1.000000000000000018484792426209236554433405630564611521146908370944471311548792e+00]],[])\n",
      "\n",
      "Ceros([[3e+00,\n",
      "5.576923076923076923076923076923076923076923076923076923076923076923076923076982e+00]],[],[])\n"
     ]
    }
   ],
   "source": [
    "f1(x)=x^2-1\n",
    "interv1=Intervalo(-3,3)\n",
    "println(cerosNewtonExtend(interv1,f1))\n",
    "println(\"Nótese que el programa separa y encuentra los ceros al rededor de +-1\")\n",
    "println()\n",
    "interv1=Intervalo(0,3)\n",
    "println(cerosNewtonExtend(interv1,f1))\n",
    "println()\n",
    "interv1=Intervalo(3,13)\n",
    "println(cerosNewtonExtend(interv1,f1))"
   ]
  },
  {
   "cell_type": "code",
   "execution_count": null,
   "metadata": {
    "collapsed": true
   },
   "outputs": [],
   "source": []
  },
  {
   "cell_type": "markdown",
   "metadata": {
    "collapsed": true
   },
   "source": [
    "#[7]\n",
    "#### Implementa pruebas (tests) para tu código."
   ]
  },
  {
   "cell_type": "code",
   "execution_count": 23,
   "metadata": {
    "collapsed": true
   },
   "outputs": [],
   "source": [
    "using FactCheck"
   ]
  },
  {
   "cell_type": "code",
   "execution_count": 41,
   "metadata": {
    "collapsed": false
   },
   "outputs": [
    {
     "name": "stdout",
     "output_type": "stream",
     "text": [
      "Probando división extendida\n",
      "2 facts verified.\n",
      "Probando Metodo Newton\n",
      "8 facts verified.\n"
     ]
    }
   ],
   "source": [
    "facts(\"Probando división extendida\")do \n",
    "    var1=extenDiv(Intervalo(-3,3))\n",
    "    @fact in(-1//3,var1[1]) => true\n",
    "    @fact in(1//3,var1[2]) => true\n",
    "end;\n",
    "\n",
    "facts(\"Probando Metodo Newton\")do \n",
    "    f1(x)=x^2-1\n",
    "    interv1=Intervalo(-3,3)\n",
    "    var1=cerosNewtonExtend(interv1,f1)\n",
    "    @fact var1.sinRaiz => Intervalo[]\n",
    "    @fact var1.raizMasDeUna => Intervalo[]\n",
    "    @fact length(var1.raizUnica) => 2\n",
    "    @fact in(-1,var1.raizUnica[1]) => true\n",
    "    @fact in(1,var1.raizUnica[2]) => true\n",
    "    interv2=Intervalo(3,4)\n",
    "    var2=cerosNewtonExtend(interv2,f1)\n",
    "    @fact var2.raizUnica => Intervalo[]\n",
    "    @fact var2.raizMasDeUna => Intervalo[]\n",
    "    @fact length(var2.sinRaiz) => 1\n",
    "end;"
   ]
  }
 ],
 "metadata": {
  "kernelspec": {
   "display_name": "Julia 0.3.6",
   "language": "julia",
   "name": "julia 0.3"
  },
  "language_info": {
   "name": "julia",
   "version": "0.3.7"
  }
 },
 "nbformat": 4,
 "nbformat_minor": 0
}
