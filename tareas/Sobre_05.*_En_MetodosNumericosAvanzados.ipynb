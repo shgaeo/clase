{
 "metadata": {
  "language": "Julia",
  "name": "",
  "signature": "sha256:188ffba9fc9289b14e51a9f7b1d8224a266b1f938c23ecbba8f847df9114b2a8"
 },
 "nbformat": 3,
 "nbformat_minor": 0,
 "worksheets": [
  {
   "cells": [
    {
     "cell_type": "code",
     "collapsed": false,
     "input": [
      "include(\"../../funciones.jl\");"
     ],
     "language": "python",
     "metadata": {},
     "outputs": [],
     "prompt_number": 1
    },
    {
     "cell_type": "heading",
     "level": 1,
     "metadata": {},
     "source": [
      "[1] (i)"
     ]
    },
    {
     "cell_type": "heading",
     "level": 4,
     "metadata": {},
     "source": [
      "Si tuvi\u00e9ramos un n\u00famero real positivo x (es decir, con precisi\u00f3n infinita), \u00bfc\u00f3mo podr\u00edamos encontrar \u25b3(x) y \u25bd(x)?"
     ]
    },
    {
     "cell_type": "markdown",
     "metadata": {},
     "source": [
      "Si tenemos un n\u00famero real $R$, entonces su representaci\u00f3n en binario es una cadena infinita de $0$'s y $1$'s. \n",
      "\n",
      "Como los Flot64 tienen solo 52 bits de mantissa entonces lo que hacemos cortar la cadena hasta el $52^{avo}$ bit (teniendo cuidado de si estamos en normales o subnormales) y nos fijamos en el siguiente. Si es cero dejamos la cadena igual, si es uno sumamos un $1$ al $52^{avo}$ bit (esto equivale a sumar el m\u00ednimo paso para la potencia de $R$)"
     ]
    },
    {
     "cell_type": "heading",
     "level": 1,
     "metadata": {},
     "source": [
      "[1] (ii)"
     ]
    },
    {
     "cell_type": "heading",
     "level": 4,
     "metadata": {},
     "source": [
      "Encuentra \u25b3(0.1) y \u25bd(0.1) para aritm\u00e9tica flotante de IEEE."
     ]
    },
    {
     "cell_type": "markdown",
     "metadata": {},
     "source": [
      "Si tenemos $0.1$ en binario es: $0.1100 1100 ...$ infinitas veces, como podemos tomar solo 52 elementos de mantissa para float64 (m\u00e1s bit escondido) entonces tomamos hasta un bit m\u00e1s, si es 1 redondeamos hacia arriba, si es 0 lo dejamos como est\u00e1 (redondeo hacia abajo):\n",
      "\n",
      "\\begin{align}\n",
      "0.1_{10}= 0.0001\\; | \\;10011001100110011001&10011001100110011001100110011001 \\; |\\; 100 ..._2 \\\\\n",
      "\\uparrow \\,man&tissa\\, de\\, 52 \\, bits\\uparrow\n",
      "\\end{align}\n",
      "\n",
      "Para representar los redondeos hacia arriba o hacia abajo:"
     ]
    },
    {
     "cell_type": "code",
     "collapsed": false,
     "input": [
      "\u0394_01=\"0.00011001100110011001100110011001100110011001100110011010\"\n",
      "\u2207_01=\"0.00011001100110011001100110011001100110011001100110011001\"\n",
      "#usando mi programa:\n",
      "println(bin_a_10_con_punto(\u0394_01))\n",
      "println(bin_a_10_con_punto(\u2207_01))"
     ],
     "language": "python",
     "metadata": {},
     "outputs": [
      {
       "output_type": "stream",
       "stream": "stdout",
       "text": [
        "0.1"
       ]
      },
      {
       "output_type": "stream",
       "stream": "stdout",
       "text": [
        "\n",
        "0.09999999999999999\n"
       ]
      }
     ],
     "prompt_number": 3
    },
    {
     "cell_type": "heading",
     "level": 4,
     "metadata": {},
     "source": [
      "\u00bfEn cu\u00e1nto difieren?"
     ]
    },
    {
     "cell_type": "code",
     "collapsed": false,
     "input": [
      "println(bin_a_10_con_punto(\u0394_01)-bin_a_10_con_punto(\u2207_01))\n",
      "# lo cual corresponde al paso m\u00ednimo para normales con exponente -4, como lo calcula la funci\u00f3n\n",
      "println(distancia_normales(-4,52)) "
     ],
     "language": "python",
     "metadata": {},
     "outputs": [
      {
       "output_type": "stream",
       "stream": "stdout",
       "text": [
        "1."
       ]
      },
      {
       "output_type": "stream",
       "stream": "stdout",
       "text": [
        "3877787807814457e-17\n",
        "1.3877787807814457e-17\n"
       ]
      }
     ],
     "prompt_number": 4
    },
    {
     "cell_type": "heading",
     "level": 4,
     "metadata": {},
     "source": [
      "\u00bfQu\u00e9 podemos decir sobre el error de redondeo?"
     ]
    },
    {
     "cell_type": "markdown",
     "metadata": {},
     "source": [
      "Podemos decir que es del orden del paso m\u00ednimo del flotante dado"
     ]
    },
    {
     "cell_type": "markdown",
     "metadata": {},
     "source": [
      "N\u00f3tese que el bit siguiente al $52^{avo}$ es uno por lo que el redondeo 'nearest' redondea hacia arriba"
     ]
    },
    {
     "cell_type": "heading",
     "level": 1,
     "metadata": {},
     "source": [
      "[2]"
     ]
    },
    {
     "cell_type": "heading",
     "level": 4,
     "metadata": {},
     "source": [
      "Para $x=1.1$"
     ]
    },
    {
     "cell_type": "code",
     "collapsed": false,
     "input": [],
     "language": "python",
     "metadata": {},
     "outputs": [],
     "prompt_number": 7
    },
    {
     "cell_type": "code",
     "collapsed": false,
     "input": [
      "\u0394_11=\"1.0001100110011001100110011001100110011001100110011010\"\n",
      "\u2207_11=\"1.0001100110011001100110011001100110011001100110011001\"\n",
      "#usando mi programa:\n",
      "println(bin_a_10_con_punto(\u0394_11), \"(redondeo hacia arriba)\")\n",
      "println(bin_a_10_con_punto(\u2207_11), \"(redondeo hacia abajo)\")\n",
      "println(\"la diferencia es\")\n",
      "println(bin_a_10_con_punto(\u0394_11)-bin_a_10_con_punto(\u2207_11))\n",
      "e=0;\n",
      "println(\"que corresponde al m\u00ednimo paso para exponente $e\")\n",
      "println(distancia_normales(e,52)) "
     ],
     "language": "python",
     "metadata": {},
     "outputs": [
      {
       "output_type": "stream",
       "stream": "stdout",
       "text": [
        "1."
       ]
      },
      {
       "output_type": "stream",
       "stream": "stdout",
       "text": [
        "1(redondeo hacia arriba)\n",
        "1.0999999999999999(redondeo hacia abajo)\n",
        "la diferencia es\n",
        "2.220446049250313e-16\n",
        "que corresponde al m\u00ednimo paso para exponente 0\n",
        "2.220446049250313e-16\n"
       ]
      }
     ],
     "prompt_number": 8
    },
    {
     "cell_type": "markdown",
     "metadata": {},
     "source": [
      "El redondeo `nearest` redondea hacia arriba para $1.1$"
     ]
    },
    {
     "cell_type": "heading",
     "level": 4,
     "metadata": {},
     "source": [
      "Para $x=10.1$"
     ]
    },
    {
     "cell_type": "code",
     "collapsed": false,
     "input": [
      "\u0394_101=\"1010.0001100110011001100110011001100110011001100110100\"\n",
      "\u2207_101=\"1010.0001100110011001100110011001100110011001100110011\"\n",
      "#usando mi programa:\n",
      "println(bin_a_10_con_punto(\u0394_101), \"(redondeo hacia arriba)\")\n",
      "println(bin_a_10_con_punto(\u2207_101), \"(redondeo hacia abajo)\")\n",
      "println(\"la diferencia es: \",bin_a_10_con_punto(\u0394_101)-bin_a_10_con_punto(\u2207_101))\n",
      "e=3;\n",
      "println(\"que corresponde al m\u00ednimo paso para exponente $e\")\n",
      "println(distancia_normales(e,52)) "
     ],
     "language": "python",
     "metadata": {},
     "outputs": [
      {
       "output_type": "stream",
       "stream": "stdout",
       "text": [
        "10."
       ]
      },
      {
       "output_type": "stream",
       "stream": "stdout",
       "text": [
        "100000000000001(redondeo hacia arriba)\n",
        "10.1(redondeo hacia abajo)\n",
        "la diferencia es: 1.7763568394002505e-15\n",
        "que corresponde al m\u00ednimo paso para exponente 3\n",
        "1.7763568394002505e-15\n"
       ]
      }
     ],
     "prompt_number": 9
    },
    {
     "cell_type": "markdown",
     "metadata": {},
     "source": [
      "El redondeo `nearest` redondea hacia abajo para $10.1$"
     ]
    },
    {
     "cell_type": "heading",
     "level": 1,
     "metadata": {},
     "source": [
      "[3]"
     ]
    },
    {
     "cell_type": "heading",
     "level": 4,
     "metadata": {},
     "source": [
      "\u00bfQu\u00e9 pasa con \u25b3(x) y \u25bd(x) si $x \\in F ^*$?"
     ]
    },
    {
     "cell_type": "markdown",
     "metadata": {},
     "source": [
      "Si $x \\in F^*$ entonces basta ver de nuevo la definici\u00f3n de $\u25b3(x)$ y $\u25bd(x)$ para darnos cuenta de que $\u25b3(x)=\u25bd(x)=x$"
     ]
    },
    {
     "cell_type": "heading",
     "level": 1,
     "metadata": {},
     "source": [
      "[4]"
     ]
    },
    {
     "cell_type": "heading",
     "level": 4,
     "metadata": {},
     "source": [
      "\u00bfCu\u00e1l es la relaci\u00f3n entre \u25b3(\u2212x) y \u25bd(x)?"
     ]
    },
    {
     "cell_type": "markdown",
     "metadata": {},
     "source": [
      "$\u25b3(-x)$ y $\u25bd(x)$ tienen la misma representaci\u00f3n en binario excepto por el primer bit que representa el signo. Ambos redondeos se acercan al cero de la misma manera."
     ]
    },
    {
     "cell_type": "heading",
     "level": 1,
     "metadata": {},
     "source": [
      "[5]"
     ]
    },
    {
     "cell_type": "heading",
     "level": 4,
     "metadata": {},
     "source": [
      "Encuentra unos ejemplos de pares de n\u00fameros $x,y \\in F$ tal que $x\u2295y\u2209F$. (Aqu\u00ed, $F$ denota a los flotantes de doble precisi\u00f3n de IEEE, y $\u2295$ es alguna operaci\u00f3n aritm\u00e9tica entre $x$ y $y$.)"
     ]
    },
    {
     "cell_type": "code",
     "collapsed": false,
     "input": [
      "#dado que F no inluye \u00b1\u221e un ejemplo ser\u00eda\n",
      "1/0"
     ],
     "language": "python",
     "metadata": {},
     "outputs": [
      {
       "metadata": {},
       "output_type": "pyout",
       "prompt_number": 11,
       "text": [
        "Inf"
       ]
      }
     ],
     "prompt_number": 11
    },
    {
     "cell_type": "code",
     "collapsed": false,
     "input": [
      "#Otro ejemplo es:\n",
      "(2.0^-1)+(2.0^52)\n",
      "#Ya que el resultado deb\u00eda ser: 4503599627370496.5 , pero este n\u00famero no pertenece a F (Float64 \n",
      "#no tiene suficientes bits para representarlo, de modo que lo redondea). Obviamente 2.0^-1 y 2.0^52 s\u00ed pertenecen a F"
     ],
     "language": "python",
     "metadata": {},
     "outputs": [
      {
       "metadata": {},
       "output_type": "pyout",
       "prompt_number": 12,
       "text": [
        "4.503599627370496e15"
       ]
      }
     ],
     "prompt_number": 12
    },
    {
     "cell_type": "code",
     "collapsed": false,
     "input": [
      "#Notese que\n",
      "(2.0^-1)+(2.0^51)\n",
      "#S\u00ed pertenece a F"
     ],
     "language": "python",
     "metadata": {},
     "outputs": [
      {
       "metadata": {},
       "output_type": "pyout",
       "prompt_number": 13,
       "text": [
        "2.2517998136852485e15"
       ]
      }
     ],
     "prompt_number": 13
    },
    {
     "cell_type": "heading",
     "level": 1,
     "metadata": {},
     "source": [
      "[6]"
     ]
    },
    {
     "cell_type": "heading",
     "level": 4,
     "metadata": {},
     "source": [
      "\u00bfQu\u00e9 podemos hacer al respecto?"
     ]
    },
    {
     "cell_type": "markdown",
     "metadata": {},
     "source": [
      "Una opci\u00f3n es aumentar la presici\u00f3n, por ejemplo usar BigFloat:"
     ]
    },
    {
     "cell_type": "code",
     "collapsed": false,
     "input": [
      "(big(2.0)^-1)+(2.0^52)\n",
      "#S\u00ed da la respuesta correcta (y le sobran varios bits de presici\u00f3n)"
     ],
     "language": "python",
     "metadata": {},
     "outputs": [
      {
       "metadata": {},
       "output_type": "pyout",
       "prompt_number": 14,
       "text": [
        "4.5035996273704965e+15 with 256 bits of precision"
       ]
      }
     ],
     "prompt_number": 14
    },
    {
     "cell_type": "heading",
     "level": 1,
     "metadata": {},
     "source": [
      "[7]"
     ]
    },
    {
     "cell_type": "heading",
     "level": 4,
     "metadata": {},
     "source": [
      "En los reales tenemos que, si se cumple x+y=x+y\u2032, entonces y=y\u2032. \u00bfSe cumple esto entre los n\u00fameros de punto flotante? Si tu respuesta es no, da un ejemplo."
     ]
    },
    {
     "cell_type": "markdown",
     "metadata": {},
     "source": [
      "NO se cumple, ejemplo:"
     ]
    },
    {
     "cell_type": "code",
     "collapsed": false,
     "input": [
      "x=2.0^300\n",
      "y=2.0^50\n",
      "z=2.0^10\n",
      "println(x+y==x+z)\n",
      "println(y==z)"
     ],
     "language": "python",
     "metadata": {},
     "outputs": [
      {
       "output_type": "stream",
       "stream": "stdout",
       "text": [
        "true\n"
       ]
      },
      {
       "output_type": "stream",
       "stream": "stdout",
       "text": [
        "false\n"
       ]
      }
     ],
     "prompt_number": 15
    },
    {
     "cell_type": "heading",
     "level": 1,
     "metadata": {},
     "source": [
      "[8]"
     ]
    },
    {
     "cell_type": "heading",
     "level": 4,
     "metadata": {},
     "source": [
      "Analiza el caso de iterar el mapeo $f:[0,1]\u2192[0,1]$ dado por $f(x)=3x$ mod $1$, con la condici\u00f3n inicial $x_0=\\frac{1}{10}$:"
     ]
    },
    {
     "cell_type": "heading",
     "level": 4,
     "metadata": {},
     "source": [
      "[Nota: mod $1$ quiere decir que s\u00f3lo consideramos la parte fraccionaria entre $0$ y $1$ de la respuesta en cada paso.]"
     ]
    },
    {
     "cell_type": "heading",
     "level": 4,
     "metadata": {},
     "source": [
      "1. \u00bfQu\u00e9 pasa anal\u00edticamente?"
     ]
    },
    {
     "cell_type": "markdown",
     "metadata": {},
     "source": [
      "Anal\u00edticamente lo que ocurre es lo siguiente:\n",
      "\n",
      "$x_0=\\frac{1}{10} \\rightarrow \\frac{3}{10} \\rightarrow \\frac{9}{10} \\rightarrow (\\frac{27}{10}_{mod1}=)\\frac{7}{10} \\rightarrow (\\frac{21}{10}_{mod1}=)\\frac{1}{10}=x_0 $\n",
      "\n",
      "por lo que nos mantenemos entre los valores $[\\frac{1}{10} ,\\frac{3}{10} ,\\frac{9}{10} ,\\frac{7}{10}]$ \n",
      "\n",
      "dando vueltas cada 4 iteraciones"
     ]
    },
    {
     "cell_type": "heading",
     "level": 4,
     "metadata": {},
     "source": [
      "2. \u00bfQu\u00e9 pasa num\u00e9ricamente?"
     ]
    },
    {
     "cell_type": "code",
     "collapsed": false,
     "input": [
      "#N\u00f3tese que de entrada que si usamos flotantes:\n",
      "0.1==mod1(0.1,1)\n",
      "#Pero veamos si despu\u00e9s de 4 iteraciones recuperamos el valor mod(0.1,1)"
     ],
     "language": "python",
     "metadata": {},
     "outputs": [
      {
       "metadata": {},
       "output_type": "pyout",
       "prompt_number": 16,
       "text": [
        "false"
       ]
      }
     ],
     "prompt_number": 16
    },
    {
     "cell_type": "code",
     "collapsed": false,
     "input": [
      "function mapeo_01(x,n::Int64)\n",
      "    tipo=typeof(x)\n",
      "    if tipo==Rational{Int64}\n",
      "        limite=40  #esto es debido a que 3^40 se sale del rango de Int64\n",
      "    elseif tipo==Float64\n",
      "        limite=647 #esto es debido a que 3.0^647 es igual a Inf\n",
      "    else\n",
      "        error(\"primer argumento debe ser flotante o racional\")\n",
      "    end\n",
      "    if n>=limite\n",
      "        error(\"n debe ser menor que $limite para $tipo\")\n",
      "    elseif n<=0\n",
      "        error(\"n debe ser mayor que cero\")\n",
      "    end\n",
      "    \n",
      "    z=1\n",
      "    println(mod1(x,1))\n",
      "    for i=1:n\n",
      "        z=mod1(3^i*x,1)\n",
      "        println(z)\n",
      "        if z==mod1(x,1) # esto es solo para probar que con racionales funciona bien\n",
      "            println(\"Se repeite en iteraci\u00f3n n\u00famero $i\")\n",
      "        end            \n",
      "    end\n",
      "end"
     ],
     "language": "python",
     "metadata": {},
     "outputs": [
      {
       "metadata": {},
       "output_type": "pyout",
       "prompt_number": 3,
       "text": [
        "mapeo_01 (generic function with 1 method)"
       ]
      }
     ],
     "prompt_number": 3
    },
    {
     "cell_type": "code",
     "collapsed": false,
     "input": [
      "mapeo_01(1/10,4)"
     ],
     "language": "python",
     "metadata": {},
     "outputs": [
      {
       "output_type": "stream",
       "stream": "stdout",
       "text": [
        "0.10000000000000009"
       ]
      },
      {
       "output_type": "stream",
       "stream": "stdout",
       "text": [
        "\n",
        "0.30000000000000004\n",
        "0.8999999999999999\n",
        "0.7000000000000002\n",
        "0.09999999999999964\n"
       ]
      }
     ],
     "prompt_number": 63
    },
    {
     "cell_type": "markdown",
     "metadata": {},
     "source": [
      "Claramente no recupramos el valor si usamos flotantes\n",
      "\u00bfServir\u00e1 si usamos 'racionales'?"
     ]
    },
    {
     "cell_type": "code",
     "collapsed": false,
     "input": [
      "mapeo_01(1//10,4)"
     ],
     "language": "python",
     "metadata": {},
     "outputs": [
      {
       "output_type": "stream",
       "stream": "stdout",
       "text": [
        "1//"
       ]
      },
      {
       "output_type": "stream",
       "stream": "stdout",
       "text": [
        "10\n",
        "3//10\n",
        "9//10\n",
        "7//10\n",
        "1//10\n",
        "Se repeite en iteraci\u00f3n n\u00famero 4\n"
       ]
      }
     ],
     "prompt_number": 64
    },
    {
     "cell_type": "markdown",
     "metadata": {},
     "source": [
      "S\u00ed funciona =)"
     ]
    },
    {
     "cell_type": "code",
     "collapsed": false,
     "input": [
      "3.0^647"
     ],
     "language": "python",
     "metadata": {},
     "outputs": [
      {
       "metadata": {},
       "output_type": "pyout",
       "prompt_number": 65,
       "text": [
        "Inf"
       ]
      }
     ],
     "prompt_number": 65
    },
    {
     "cell_type": "heading",
     "level": 4,
     "metadata": {},
     "source": [
      "3. \u00bfQu\u00e9 pasa si consideras una condici\u00f3n inicial x0 arbitraria?"
     ]
    },
    {
     "cell_type": "code",
     "collapsed": false,
     "input": [
      "function mapeo_01_sin_print(x) #Hice una funci\u00f3n muy parecida a la anterior pero que tiene como objetivo obtener el \n",
      "                                    #n\u00famero de iteraciones necesarias para regresar al valor inicial x0\n",
      "    tipo=typeof(x)\n",
      "    if tipo==Rational{Int64}\n",
      "        limite=40  #esto es debido a que 3^40 se sale del rango de Int64\n",
      "    elseif tipo==Float64\n",
      "        limite=647 #esto es debido a que 3.0^647 es igual a Inf\n",
      "    else\n",
      "        error(\"primer argumento debe ser flotante o racional\")\n",
      "    end\n",
      "    \n",
      "    z=1\n",
      "    println(mod1(x,1))\n",
      "    for i=1:limite\n",
      "        z=mod1(3^i*x,1)\n",
      "        if z==mod1(x,1)\n",
      "            println(\"Se repeite en iteraci\u00f3n n\u00famero $i\")\n",
      "            return\n",
      "        end            \n",
      "    end\n",
      "    println(\"Los $limite n\u00fameros son distintos\")\n",
      "end"
     ],
     "language": "python",
     "metadata": {},
     "outputs": [
      {
       "metadata": {},
       "output_type": "pyout",
       "prompt_number": 7,
       "text": [
        "mapeo_01_sin_print (generic function with 1 method)"
       ]
      }
     ],
     "prompt_number": 7
    },
    {
     "cell_type": "markdown",
     "metadata": {},
     "source": [
      "Si es arbitrario entonces va a generar un conjunto grande de n\u00fameros entre $0$ y $1$ que son todos distintos entre ellos."
     ]
    },
    {
     "cell_type": "code",
     "collapsed": false,
     "input": [
      "for i=1:5\n",
      "    mapeo_01_sin_print(rand())\n",
      "end"
     ],
     "language": "python",
     "metadata": {},
     "outputs": [
      {
       "output_type": "stream",
       "stream": "stdout",
       "text": [
        "0.9981898448823328"
       ]
      },
      {
       "output_type": "stream",
       "stream": "stdout",
       "text": [
        "\n",
        "Los 647 n\u00fameros son distintos\n",
        "0.5307652799144511\n",
        "Los 647 n\u00fameros son distintos\n",
        "0.33321510247027075\n",
        "Los 647 n\u00fameros son distintos\n",
        "0.7512031889755064\n",
        "Los 647 n\u00fameros son distintos\n",
        "0.07789417958008515\n",
        "Los 647 n\u00fameros son distintos\n"
       ]
      }
     ],
     "prompt_number": 4
    },
    {
     "cell_type": "markdown",
     "metadata": {},
     "source": [
      "Excepto para casos particulares, como varios racionales:"
     ]
    },
    {
     "cell_type": "code",
     "collapsed": false,
     "input": [
      "mapeo_01_sin_print(1//4)\n",
      "mapeo_01_sin_print(1//5)\n",
      "mapeo_01_sin_print(1//32)\n",
      "mapeo_01_sin_print(1//17)\n",
      "mapeo_01_sin_print(1//3) # no todos los racionales, por ejemplo 1//3 se queda en 1 siempre por lo que nunca regresa a 1//3"
     ],
     "language": "python",
     "metadata": {},
     "outputs": [
      {
       "output_type": "stream",
       "stream": "stdout",
       "text": [
        "1//"
       ]
      },
      {
       "output_type": "stream",
       "stream": "stdout",
       "text": [
        "4\n",
        "Se repeite en iteraci\u00f3n n\u00famero 2\n",
        "1//5\n",
        "Se repeite en iteraci\u00f3n n\u00famero 4\n",
        "1//32\n",
        "Se repeite en iteraci\u00f3n n\u00famero 8\n",
        "1//17\n",
        "Se repeite en iteraci\u00f3n n\u00famero 16\n",
        "1//3\n",
        "Los 40 n\u00fameros son distintos\n"
       ]
      }
     ],
     "prompt_number": 8
    },
    {
     "cell_type": "markdown",
     "metadata": {},
     "source": [
      "Y para algunos flotantes:"
     ]
    },
    {
     "cell_type": "code",
     "collapsed": false,
     "input": [
      "mapeo_01_sin_print(2.0^-1)\n",
      "mapeo_01_sin_print(2.0^-2)\n",
      "mapeo_01_sin_print(2.0^-3)\n",
      "mapeo_01_sin_print(2.0^-5)\n",
      "mapeo_01_sin_print(2.0^-6)\n",
      "mapeo_01_sin_print(2.0^-7)\n",
      "mapeo_01_sin_print(2.0^-8) #pero no todos los flotantes tipo 2.0^-n"
     ],
     "language": "python",
     "metadata": {},
     "outputs": [
      {
       "output_type": "stream",
       "stream": "stdout",
       "text": [
        "0.5"
       ]
      },
      {
       "output_type": "stream",
       "stream": "stdout",
       "text": [
        "\n",
        "Se repeite en iteraci\u00f3n n\u00famero 1\n",
        "0.25\n",
        "Se repeite en iteraci\u00f3n n\u00famero 2\n",
        "0.125\n",
        "Se repeite en iteraci\u00f3n n\u00famero 2\n",
        "0.03125\n",
        "Se repeite en iteraci\u00f3n n\u00famero 8\n",
        "0.015625\n",
        "Se repeite en iteraci\u00f3n n\u00famero 16\n",
        "0.0078125\n",
        "Se repeite en iteraci\u00f3n n\u00famero 32\n",
        "0.00390625\n",
        "Los 647 n\u00fameros son distintos\n"
       ]
      }
     ],
     "prompt_number": 32
    },
    {
     "cell_type": "heading",
     "level": 1,
     "metadata": {},
     "source": [
      "[9]"
     ]
    },
    {
     "cell_type": "heading",
     "level": 4,
     "metadata": {},
     "source": [
      "Calcula $S$ num\u00e9ricamente de manera ingenua.\n",
      "\n",
      "\\begin{equation}\n",
      "S=\\sum_{n=1}^{\\infty} \\frac{1}{n^2} = \\frac{\\pi^2}{6}\n",
      "\\end{equation}"
     ]
    },
    {
     "cell_type": "markdown",
     "metadata": {},
     "source": [
      "podr\u00edamos tratar de calcularla directamente, aunque vale la pena notar que el primer t\u00e9rmino de la serie es $1$, y que al sumar $1 + \\frac{1}{(10^8)^2}$ obtenemos nuevamente $1$, de modo que no es necesario sumar hasta valores mayores que este"
     ]
    },
    {
     "cell_type": "code",
     "collapsed": false,
     "input": [
      "s=0\n",
      "for n=1:(10^8-1)\n",
      "    s+=1.0/n^2\n",
      "end\n",
      "s"
     ],
     "language": "python",
     "metadata": {},
     "outputs": [
      {
       "metadata": {},
       "output_type": "pyout",
       "prompt_number": 85,
       "text": [
        "1.644934057834575"
       ]
      }
     ],
     "prompt_number": 85
    },
    {
     "cell_type": "code",
     "collapsed": false,
     "input": [
      "#por otro lado\n",
      "println(\u03c0^2/6)\n",
      "#Por lo que el valor de la serie difiere en\n",
      "\u03c0^2/6-s"
     ],
     "language": "python",
     "metadata": {},
     "outputs": [
      {
       "output_type": "stream",
       "stream": "stdout",
       "text": [
        "1."
       ]
      },
      {
       "output_type": "stream",
       "stream": "stdout",
       "text": [
        "6449340668482264\n"
       ]
      },
      {
       "metadata": {},
       "output_type": "pyout",
       "prompt_number": 92,
       "text": [
        "9.013651380840315e-9"
       ]
      }
     ],
     "prompt_number": 92
    },
    {
     "cell_type": "heading",
     "level": 1,
     "metadata": {},
     "source": [
      "[10]"
     ]
    },
    {
     "cell_type": "heading",
     "level": 4,
     "metadata": {},
     "source": [
      "Sea la cola de la suma $T_N:=\u2211_{n=N+1}^\u221e \\frac{1}{n^2}$. Utiliza un argumento geom\u00e9trico para mostrar que\n",
      "\n",
      "\\begin{equation}\n",
      "\\int_{N+1}^\\infty \\frac{1}{x^2}dx < T_N < \\int_{N+1}^\\infty \\frac{1}{(x-1)^2}dx\n",
      "\\end{equation}"
     ]
    },
    {
     "cell_type": "markdown",
     "metadata": {},
     "source": [
      "Partimos entonces de separar la integral de la izq en pasos unitarios:\n",
      "\n",
      "\\begin{equation}\n",
      "    \\int_{N+1}^\\infty \\frac{1}{x^2}dx = \\sum_{n=N+1}^{\\infty} \\left[\\int_{n}^{n+1} \\frac{1}{x^2}dx\\right]\n",
      "\\end{equation}\n",
      "\n",
      "Recordando que una integral se puede interpretar como el area bajo la curva, que las integrales anteriores son para intervalos unitarios y que $\\frac{1}{x^2}$ es una funci\u00f3n monotonamente decreciente entonces sabemos que $\\int_{n}^{n+1} \\frac{1}{x^2}dx < \\frac{1}{n^2}$\n",
      "\n",
      "por lo que tenemos la primer desigualdad:\n",
      "\n",
      "\\begin{equation}\n",
      "    \\int_{N+1}^\\infty \\frac{1}{x^2}dx = \\sum_{n=N+1}^{\\infty} \\left[\\int_{n}^{n+1} \\frac{1}{x^2}dx\\right] <\\sum_{n=N+1}^{\\infty} \\frac{1}{n^2}=T_N\n",
      "\\end{equation}"
     ]
    },
    {
     "cell_type": "markdown",
     "metadata": {},
     "source": [
      "Por otro lado, usando nuevamente el argumento de que la funci\u00f3n es decreciente sabemos que $\\frac{1}{n^2} < \\int_{n-1}^{n} \\frac{1}{x^2}dx $\n",
      "\n",
      "Por lo que \n",
      "\n",
      "\\begin{equation}\n",
      "    T_N=\\sum_{n=N+1}^{\\infty} \\frac{1}{n^2}< \\sum_{n=N+1}^{\\infty} \\left[\\int_{n-1}^{n} \\frac{1}{x^2}dx\\right] = \\int_{N}^\\infty \\frac{1}{x^2}dx = \\int_{N+1}^\\infty \\frac{1}{(x-1)^2}dx\n",
      "\\end{equation}"
     ]
    },
    {
     "cell_type": "markdown",
     "metadata": {},
     "source": [
      "Observaci\u00f3n: Nosotros podemos resolver estas integrales, de modo que al haber ya demostrado las desigualdades anteriores podemos afirmar que:\n",
      "\n",
      "\\begin{equation}\n",
      "    \\frac{1}{N+1} < T_N < \\frac{1}{N}\n",
      "\\end{equation}"
     ]
    },
    {
     "cell_type": "heading",
     "level": 1,
     "metadata": {},
     "source": [
      "[11]"
     ]
    },
    {
     "cell_type": "heading",
     "level": 4,
     "metadata": {},
     "source": [
      "Usa redondeo para abajo y arriba para calcular cotas para la parte inicial $S_N:=\u2211_{n=1}^N \\frac{1}{n^2}$."
     ]
    },
    {
     "cell_type": "code",
     "collapsed": false,
     "input": [
      "function parte_inicial(m::Int64) #esta funci\u00f3n calcula las cotas para la parte inicial dada una N\n",
      "    cota_men=0.0\n",
      "    cota_may=0.0\n",
      "    old=get_rounding(Float64)\n",
      "    set_rounding(Float64,RoundDown)\n",
      "    for n=1:m\n",
      "        cota_men+=1.0/n^2\n",
      "    end\n",
      "    set_rounding(Float64,RoundUp)\n",
      "    for n=1:m\n",
      "        cota_may+=1.0/n^2\n",
      "    end    \n",
      "    set_rounding(Float64,old)\n",
      "    {cota_men,cota_may}\n",
      "end"
     ],
     "language": "python",
     "metadata": {},
     "outputs": [
      {
       "metadata": {},
       "output_type": "pyout",
       "prompt_number": 226,
       "text": [
        "parte_inicial (generic function with 1 method)"
       ]
      }
     ],
     "prompt_number": 226
    },
    {
     "cell_type": "code",
     "collapsed": false,
     "input": [
      "a=parte_inicial(3) #las cotas son distintas entre ellas a partir de N=3\n",
      "println(a[1])\n",
      "println(a[2])"
     ],
     "language": "python",
     "metadata": {},
     "outputs": [
      {
       "output_type": "stream",
       "stream": "stdout",
       "text": [
        "1."
       ]
      },
      {
       "output_type": "stream",
       "stream": "stdout",
       "text": [
        "361111111111111\n",
        "1.3611111111111112\n"
       ]
      }
     ],
     "prompt_number": 227
    },
    {
     "cell_type": "markdown",
     "metadata": {},
     "source": [
      "Aprovechando la idea de la funci\u00f3n anterior, defino tambi\u00e9n cotas para $T_N$:"
     ]
    },
    {
     "cell_type": "code",
     "collapsed": false,
     "input": [
      "function parte_final(m::Int64) #esta funci\u00f3n calcula las cotas para la la cola T_N dada una N\n",
      "    abajo=0.0\n",
      "    arriba=0.0\n",
      "    \n",
      "    old=get_rounding(Float64)\n",
      "    set_rounding(Float64,RoundDown)\n",
      "    abajo=float64({1/(m+1)})[1] #float64(1/(m+1)) no funciona por alguna raz\u00f3n que desconozco\n",
      "    \n",
      "    set_rounding(Float64,RoundUp)\n",
      "    arriba=float64({1/m})[1] #float64(1/m) no funciona por alguna raz\u00f3n que desconozco\n",
      "    \n",
      "    set_rounding(Float64,old)    \n",
      "    {abajo,arriba}\n",
      "end\n",
      "a=parte_final(3)\n",
      "println(a[1])\n",
      "println(a[2])"
     ],
     "language": "python",
     "metadata": {},
     "outputs": [
      {
       "output_type": "stream",
       "stream": "stdout",
       "text": [
        "0.25"
       ]
      },
      {
       "output_type": "stream",
       "stream": "stdout",
       "text": [
        "\n",
        "0.33333333333333337\n"
       ]
      }
     ],
     "prompt_number": 228
    },
    {
     "cell_type": "heading",
     "level": 1,
     "metadata": {},
     "source": [
      "[12]"
     ]
    },
    {
     "cell_type": "heading",
     "level": 4,
     "metadata": {},
     "source": [
      "Utiliza tus dos \u00faltimos resultados para dar cotas rigurosas (es decir, garantizadas) para $S$."
     ]
    },
    {
     "cell_type": "code",
     "collapsed": false,
     "input": [
      "function intervalo(m::Int64) #esta funci\u00f3n da el intervalo donde garantizo que se encuentra la suma infinita S\n",
      "    minimo=0.0\n",
      "    maximo=0.0\n",
      "    \n",
      "    old=get_rounding(Float64)\n",
      "    set_rounding(Float64,RoundDown)\n",
      "    minimo=parte_inicial(m)[1]+parte_final(m)[1]\n",
      "    set_rounding(Float64,RoundUp)\n",
      "    maximo=parte_inicial(m)[2]+parte_final(m)[2]\n",
      "    set_rounding(Float64,old)\n",
      "    {minimo,maximo}\n",
      "end"
     ],
     "language": "python",
     "metadata": {},
     "outputs": [
      {
       "metadata": {},
       "output_type": "pyout",
       "prompt_number": 229,
       "text": [
        "intervalo (generic function with 1 method)"
       ]
      }
     ],
     "prompt_number": 229
    },
    {
     "cell_type": "code",
     "collapsed": false,
     "input": [
      "a=intervalo(10000000)\n",
      "s=\u03c0^2/6\n",
      "println(a[1])\n",
      "println(a[2])\n",
      "println(a[1]<s && s<a[2])"
     ],
     "language": "python",
     "metadata": {},
     "outputs": [
      {
       "output_type": "stream",
       "stream": "stdout",
       "text": [
        "1."
       ]
      },
      {
       "output_type": "stream",
       "stream": "stdout",
       "text": [
        "6449340657396743\n",
        "1.6449340679601252\n",
        "true\n"
       ]
      }
     ],
     "prompt_number": 230
    },
    {
     "cell_type": "heading",
     "level": 1,
     "metadata": {},
     "source": [
      "[13]"
     ]
    },
    {
     "cell_type": "code",
     "collapsed": false,
     "input": [
      "function intervalo_big(m::Int64) #esta funci\u00f3n da el intervalo donde garantizo que se encuentra la suma infinita S\n",
      "    cota_men=big(0.0)\n",
      "    cota_may=big(0.0)\n",
      "    #abajo=big(0.0)\n",
      "    #arriba=big(0.0)\n",
      "    minimo=big(0.0)\n",
      "    maximo=big(0.0)\n",
      "    \n",
      "    old=get_rounding(BigFloat)\n",
      "    \n",
      "    set_rounding(BigFloat,RoundDown)\n",
      "    for n=1:m\n",
      "        cota_men+=big(1.0)/n^2\n",
      "    end\n",
      "    minimo=cota_men+big(1.0)/(m+1)\n",
      "    \n",
      "    set_rounding(BigFloat,RoundUp)\n",
      "    for n=1:m\n",
      "        cota_may+=big(1.0)/n^2\n",
      "    end    \n",
      "    maximo=cota_may+big(1.0)/(m)\n",
      "    \n",
      "    set_rounding(BigFloat,old)\n",
      "    {minimo,maximo}\n",
      "end"
     ],
     "language": "python",
     "metadata": {},
     "outputs": [
      {
       "metadata": {},
       "output_type": "pyout",
       "prompt_number": 129,
       "text": [
        "intervalo_big (generic function with 1 method)"
       ]
      }
     ],
     "prompt_number": 129
    },
    {
     "cell_type": "code",
     "collapsed": false,
     "input": [
      "a=intervalo_big(100000)\n",
      "s=big(\u03c0)^2/6\n",
      "println(a[1])\n",
      "println(a[2])\n",
      "println(a[1]<s && s<a[2])"
     ],
     "language": "python",
     "metadata": {},
     "outputs": [
      {
       "output_type": "stream",
       "stream": "stdout",
       "text": [
        "1.644934066798227269795748603311691865647421330811550342589886233711542834074315e+00\n"
       ]
      },
      {
       "output_type": "stream",
       "stream": "stdout",
       "text": [
        "1.64493406689822626980574850331269185564752132981156034248988723370154293580028e+00\n",
        "true\n"
       ]
      }
     ],
     "prompt_number": 130
    },
    {
     "cell_type": "heading",
     "level": 1,
     "metadata": {},
     "source": [
      "[14]"
     ]
    },
    {
     "cell_type": "code",
     "collapsed": false,
     "input": [
      "function intervalo_back_big(m::Int64) #esta funci\u00f3n da el intervalo donde garantizo que se encuentra la suma infinita S\n",
      "    cota_men=big(0.0)\n",
      "    cota_may=big(0.0)\n",
      "    #abajo=big(0.0)\n",
      "    #arriba=big(0.0)\n",
      "    minimo=big(0.0)\n",
      "    maximo=big(0.0)\n",
      "    \n",
      "    old=get_rounding(BigFloat)\n",
      "    \n",
      "    set_rounding(BigFloat,RoundDown)\n",
      "    for n=1:m\n",
      "        cota_men+=big(1.0)/(m-n+1)^2\n",
      "    end\n",
      "    minimo=cota_men+big(1.0)/(m+1)\n",
      "    \n",
      "    set_rounding(BigFloat,RoundUp)\n",
      "    for n=1:m\n",
      "        cota_may+=big(1.0)/(m-n+1)^2\n",
      "    end    \n",
      "    maximo=cota_may+big(1.0)/(m)\n",
      "    \n",
      "    set_rounding(BigFloat,old)\n",
      "    {minimo,maximo}\n",
      "end"
     ],
     "language": "python",
     "metadata": {},
     "outputs": [
      {
       "metadata": {},
       "output_type": "pyout",
       "prompt_number": 127,
       "text": [
        "intervalo_back_big (generic function with 1 method)"
       ]
      }
     ],
     "prompt_number": 127
    },
    {
     "cell_type": "code",
     "collapsed": false,
     "input": [
      "b=intervalo_back_big(100000)\n",
      "s=big(\u03c0)^2/6\n",
      "println(b[1])\n",
      "println(b[2])\n",
      "println(b[1]<s && s<b[2])"
     ],
     "language": "python",
     "metadata": {},
     "outputs": [
      {
       "output_type": "stream",
       "stream": "stdout",
       "text": [
        "1.644934066798227269795748603311691865647421330811550342589886233711542834938415e+00\n"
       ]
      },
      {
       "output_type": "stream",
       "stream": "stdout",
       "text": [
        "1.644934066898226269805748503312691855647521329811560342489887233701542934937578e+00\n",
        "true\n"
       ]
      }
     ],
     "prompt_number": 164
    },
    {
     "cell_type": "code",
     "collapsed": false,
     "input": [
      "println(a[1]<b[1])\n",
      "println(a[2]>b[2])"
     ],
     "language": "python",
     "metadata": {},
     "outputs": [
      {
       "output_type": "stream",
       "stream": "stdout",
       "text": [
        "true\n"
       ]
      },
      {
       "output_type": "stream",
       "stream": "stdout",
       "text": [
        "true\n"
       ]
      }
     ],
     "prompt_number": 132
    },
    {
     "cell_type": "markdown",
     "metadata": {},
     "source": [
      "Es mejor sumar desde m hasta 1 que desde 1 hasta m. Es mejor porque el intervalo queda m\u00e1s peque\u00f1o y a\u00fan contiene la respuestam"
     ]
    },
    {
     "cell_type": "heading",
     "level": 1,
     "metadata": {},
     "source": [
      "[15]"
     ]
    },
    {
     "cell_type": "markdown",
     "metadata": {},
     "source": [
      "primero hice el c\u00e1lculo para $N=10000000$ (tomando el tiempo de c\u00f3mputo para comparar)"
     ]
    },
    {
     "cell_type": "code",
     "collapsed": false,
     "input": [
      "tic()\n",
      "b=intervalo_back_big(10000000)\n",
      "s=big(\u03c0)^2/6\n",
      "println(b[1])\n",
      "println(b[2])\n",
      "println(b[1]<s && s<b[2])\n",
      "lapso=toc();"
     ],
     "language": "python",
     "metadata": {},
     "outputs": [
      {
       "output_type": "stream",
       "stream": "stdout",
       "text": [
        "1.644934066848221436473248499879358532885615567873562723439843944689054989450723e+00\n"
       ]
      },
      {
       "output_type": "stream",
       "stream": "stdout",
       "text": [
        "1.644934066848231436472248499979358522885616567873462723449843943689055089450928e+00\n",
        "true\n",
        "elapsed time: 40.648833397 seconds\n"
       ]
      }
     ],
     "prompt_number": 216
    },
    {
     "cell_type": "code",
     "collapsed": false,
     "input": [
      "println(\"para tiempo de c\u00f3mputo de $lapso seg:\")\n",
      "old=get_rounding(Float64)\n",
      "set_rounding(Float64,RoundDown)\n",
      "pabajo=float64(b[1])\n",
      "set_rounding(Float64,RoundUp)\n",
      "parriba=float64(b[2])\n",
      "set_rounding(Float64,old)\n",
      "println(pabajo,\"    redondando pa abajo\")\n",
      "println(\u03c0^2/6, \"     valor 'exacto'\")\n",
      "println(float64((b[1]+b[2])/2),\"    valor medio\")\n",
      "println(parriba,\"    redondando pa abajo\")"
     ],
     "language": "python",
     "metadata": {},
     "outputs": [
      {
       "output_type": "stream",
       "stream": "stdout",
       "text": [
        "para tiempo de c\u00f3mputo de 40.648833397 seg:\n"
       ]
      },
      {
       "output_type": "stream",
       "stream": "stdout",
       "text": [
        "1.6449340668482215    redondando pa abajo\n",
        "1.644934066848226     valor 'exacto'\n",
        "1.6449340668482264    valor medio\n",
        "1.6449340668482315    redondando pa abajo\n"
       ]
      }
     ],
     "prompt_number": 217
    },
    {
     "cell_type": "markdown",
     "metadata": {},
     "source": [
      "Con lo que vemos que podemos aproximar muy bien el valor flotante de $\\frac{\u03c0^2}{6}$ tomando el promedio de los l\u00edmites calculados con presici\u00f3n BigFloat. Aunque para $N=10000000$ nos toma del orden de 40 segundos obtener este dato"
     ]
    },
    {
     "cell_type": "markdown",
     "metadata": {},
     "source": [
      "Veamos que obtenemos si bajamos el valor N"
     ]
    },
    {
     "cell_type": "code",
     "collapsed": false,
     "input": [
      "tic()\n",
      "b=intervalo_back_big(1000000)\n",
      "s=big(\u03c0)^2/6\n",
      "println(b[1])\n",
      "println(b[2])\n",
      "println(b[1]<s && s<b[2])\n",
      "lapso=toc();"
     ],
     "language": "python",
     "metadata": {},
     "outputs": [
      {
       "output_type": "stream",
       "stream": "stdout",
       "text": [
        "1.644934066847726437305747499980391854885617544062941295911747705561407902303541e+00\n"
       ]
      },
      {
       "output_type": "stream",
       "stream": "stdout",
       "text": [
        "1.644934066848726436305748499979391855885616544063941294911748705560407903303725e+00\n",
        "true\n",
        "elapsed time: 3.884120559 seconds\n"
       ]
      }
     ],
     "prompt_number": 224
    },
    {
     "cell_type": "code",
     "collapsed": false,
     "input": [
      "println(\"para tiempo de c\u00f3mputo de $lapso seg:\")\n",
      "old=get_rounding(Float64)\n",
      "set_rounding(Float64,RoundDown)\n",
      "pabajo=float64(b[1])\n",
      "set_rounding(Float64,RoundUp)\n",
      "parriba=float64(b[2])\n",
      "set_rounding(Float64,old)\n",
      "println(pabajo,\"    redondando pa abajo\")\n",
      "println(\u03c0^2/6, \"     valor 'exacto'\")\n",
      "println(float64((b[1]+b[2])/2),\"    valor medio\")\n",
      "println(parriba,\"    redondando pa abajo\")"
     ],
     "language": "python",
     "metadata": {},
     "outputs": [
      {
       "output_type": "stream",
       "stream": "stdout",
       "text": [
        "para tiempo de c\u00f3mputo de 3.884120559 seg:\n"
       ]
      },
      {
       "output_type": "stream",
       "stream": "stdout",
       "text": [
        "1.6449340668477264    redondando pa abajo\n",
        "1.644934066848226     valor 'exacto'\n",
        "1.6449340668482264    valor medio\n",
        "1.6449340668487265    redondando pa abajo\n"
       ]
      }
     ],
     "prompt_number": 225
    },
    {
     "cell_type": "markdown",
     "metadata": {},
     "source": [
      "Vemos que tanto la cota m\u00e1xima como la m\u00ednima se alejan fuertemente del valor, pero el promedio sigue manteniendose muy bien, por lo que podemos usar este valor como nuestra aprozimaci\u00f3n. Con la ventaja de que el tiempo de c\u00f3mputo es 10 veces menor"
     ]
    }
   ],
   "metadata": {}
  }
 ]
}