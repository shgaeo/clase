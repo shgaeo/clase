{
 "metadata": {
  "language": "Julia",
  "name": "",
  "signature": "sha256:8ca1b247f2886de18f3547bb99bd2fe93f0399799bb93799f9ff3072ee2becc9"
 },
 "nbformat": 3,
 "nbformat_minor": 0,
 "worksheets": [
  {
   "cells": [
    {
     "cell_type": "heading",
     "level": 5,
     "metadata": {},
     "source": [
      "Lista de cosas que me gustan de Julia (hasta ahora):"
     ]
    },
    {
     "cell_type": "markdown",
     "metadata": {},
     "source": [
      "1.- Modo de notebook con IN's y Out's tipo Mathematica\n",
      "\n",
      "2.- Identaci\u00f3n y c\u00f3digo de colores (...jeje)\n",
      "\n",
      "3.- Sistema retroactivo de github para paqueter\u00eda\n",
      "\n",
      "4.- OBVIAMENTE que es sofware libre (no como Mathematica (aunque ya hay licencia para correos @ciencias))\n"
     ]
    },
    {
     "cell_type": "heading",
     "level": 5,
     "metadata": {},
     "source": [
      "Lista de cosas que me parecen dif\u00edciles:"
     ]
    },
    {
     "cell_type": "markdown",
     "metadata": {},
     "source": [
      "1.- Me parece dif\u00edcil entender cu\u00e1ndo puedo abrir un notebook y que mantenga el c\u00f3digo de colores, a veces entro a IJulia y cuando abro un notebook ya no aparece con colores, tengo que cortar y pegar cada In para recuperar color.\n",
      "\n",
      "2.- Creo que ctrl copy y paste deber\u00eda servir con los In[], me parece tedioso usar los botones superiores para cortar y pegar. Adem\u00e1s no encuentro como seleccionar varios In a la vez\n",
      "\n",
      "3.- La instalaci\u00f3n de julia y de IJulia no fue exactamente sencilla"
     ]
    },
    {
     "cell_type": "code",
     "collapsed": false,
     "input": [],
     "language": "python",
     "metadata": {},
     "outputs": []
    }
   ],
   "metadata": {}
  }
 ]
}