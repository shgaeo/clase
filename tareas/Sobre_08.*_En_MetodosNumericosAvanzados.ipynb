{
 "cells": [
  {
   "cell_type": "markdown",
   "metadata": {
    "collapsed": false
   },
   "source": [
    "# Extensión de funciones a intervalos"
   ]
  },
  {
   "cell_type": "markdown",
   "metadata": {},
   "source": [
    "#[1]\n",
    "####Amplía tu módulo de intervalos para que incluya la extensión de las funciones estándres monótonas a intervalos. En el caso de las potencias, extiénde lo que ya hayas hecho para que incluya potencias reales. Incluye algunas pruebas en `pruebas.jl` que muestren que lo que has hecho funciona bien."
   ]
  },
  {
   "cell_type": "code",
   "execution_count": 2,
   "metadata": {
    "collapsed": false
   },
   "outputs": [
    {
     "data": {
      "text/plain": [
       "1"
      ]
     },
     "execution_count": 2,
     "metadata": {},
     "output_type": "execute_result"
    }
   ],
   "source": [
    "asdf=1"
   ]
  },
  {
   "cell_type": "code",
   "execution_count": 3,
   "metadata": {
    "collapsed": false,
    "scrolled": true
   },
   "outputs": [
    {
     "name": "stderr",
     "output_type": "stream",
     "text": [
      "INFO: Loading help data...\n"
     ]
    }
   ],
   "source": [
    "using Intervalos, PyPlot\n",
    "using Graficador # es un módulo que yo defini que incluye una función para graficar la acción de\n",
    "                    # evaluar una función en un Intervalo"
   ]
  },
  {
   "cell_type": "code",
   "execution_count": 4,
   "metadata": {
    "collapsed": false
   },
   "outputs": [
    {
     "data": {
      "text/html": [
       "3 methods for generic function <b>Intervalo</b>:<ul><li> Intervalo(a::<b>BigFloat</b>,b::<b>BigFloat</b>) at <a href=\"https://github.com/shgaeo/clase/tree/5bd27b9341289e9de44dd7d4fda849c475a530d9/e/MisModulos/Intervalos/src/Intervalos.jl#L15\" target=\"_blank\">/home/santiago/Documentos/Escuela-maestría/1er-semestre/Física-computacional/Clase/MisModulos/Intervalos/src/Intervalos.jl:15</a><li> Intervalo(a,b) at <a href=\"https://github.com/shgaeo/clase/tree/5bd27b9341289e9de44dd7d4fda849c475a530d9/e/MisModulos/Intervalos/src/Intervalos.jl#L30\" target=\"_blank\">/home/santiago/Documentos/Escuela-maestría/1er-semestre/Física-computacional/Clase/MisModulos/Intervalos/src/Intervalos.jl:30</a><li> Intervalo(a) at <a href=\"https://github.com/shgaeo/clase/tree/5bd27b9341289e9de44dd7d4fda849c475a530d9/e/MisModulos/Intervalos/src/Intervalos.jl#L32\" target=\"_blank\">/home/santiago/Documentos/Escuela-maestría/1er-semestre/Física-computacional/Clase/MisModulos/Intervalos/src/Intervalos.jl:32</a></ul>"
      ],
      "text/plain": [
       "# 3 methods for generic function \"Intervalo\":\n",
       "Intervalo(a::BigFloat,b::BigFloat) at /home/santiago/Documentos/Escuela-maestría/1er-semestre/Física-computacional/Clase/MisModulos/Intervalos/src/Intervalos.jl:15\n",
       "Intervalo(a,b) at /home/santiago/Documentos/Escuela-maestría/1er-semestre/Física-computacional/Clase/MisModulos/Intervalos/src/Intervalos.jl:30\n",
       "Intervalo(a) at /home/santiago/Documentos/Escuela-maestría/1er-semestre/Física-computacional/Clase/MisModulos/Intervalos/src/Intervalos.jl:32"
      ]
     },
     "execution_count": 4,
     "metadata": {},
     "output_type": "execute_result"
    }
   ],
   "source": [
    "methods(Intervalo)"
   ]
  },
  {
   "cell_type": "code",
   "execution_count": 5,
   "metadata": {
    "collapsed": false,
    "scrolled": true
   },
   "outputs": [
    {
     "data": {
      "text/plain": [
       "[0e+00,\n",
       "5e-01]"
      ]
     },
     "execution_count": 5,
     "metadata": {},
     "output_type": "execute_result"
    }
   ],
   "source": [
    "inter1=Intervalo(\"2\",\"2.5\")\n",
    "inter2=Intervalo(\"0\",\"0.5\")"
   ]
  },
  {
   "cell_type": "markdown",
   "metadata": {
    "collapsed": false
   },
   "source": [
    "####Lo siguiente era parte del código pero ahora es texto porque está incluido en el módulo Intervalos\n",
    "\n",
    "function redonUP(f::Function,x,y)\n",
    "    with_rounding(BigFloat,RoundUp) do \n",
    "        f(BigFloat(x),BigFloat(y)) \n",
    "    end\n",
    "end\n",
    "\n",
    "function redonDOWN(f::Function,x,y)\n",
    "    with_rounding(BigFloat,RoundDown) do \n",
    "        f(BigFloat(x),BigFloat(y))\n",
    "    end\n",
    "end\n",
    "\n",
    "function redonUP(f::Function,x)\n",
    "    with_rounding(BigFloat,RoundUp) do \n",
    "        f(BigFloat(x))\n",
    "    end\n",
    "end\n",
    "\n",
    "function redonDOWN(f::Function,x)\n",
    "    with_rounding(BigFloat,RoundDown) do \n",
    "        f(BigFloat(x))\n",
    "    end\n",
    "end\n",
    "\n",
    "\n",
    "import Base.exp\n",
    "import Base.log\n",
    "import Base.atan\n",
    "import Base.asin\n",
    "import Base.acos\n",
    "\n",
    "exp(x::Intervalo)=Intervalo(redonDOWN(exp,x.a),redonUP(exp,x.b))\n",
    "\n",
    "\n",
    "log(x::Intervalo)= x.a<0 ? error(\"Función log no acepta números negativos \\n\") : Intervalo(redonDOWN(log,x.a),redonUP(log,x.b))\n",
    "\n",
    "\n",
    "atan(x::Intervalo)=Intervalo(redonDOWN(atan,x.a),redonUP(atan,x.b))\n",
    "\n",
    "asin(x::Intervalo)=\n",
    "        x.a<-1||x.b>1 ? error(\"Función asin solo acepta números entre -1 y 1 \\n\") : Intervalo(redonDOWN(asin,x.a),redonUP(asin,x.b))\n",
    "\n",
    "acos(x::Intervalo)=\n",
    "        x.a<-1||x.b>1 ? error(\"Función acos solo acepta números entre -1 y 1 \\n\") : Intervalo(redonDOWN(acos,x.b),redonUP(acos,x.a))\n",
    "\n",
    "^(x::Intervalo,y)=exp(y*log(x))"
   ]
  },
  {
   "cell_type": "code",
   "execution_count": 6,
   "metadata": {
    "collapsed": false
   },
   "outputs": [],
   "source": [
    "#println(asin(inter1)) #este genera un error, como debería\n",
    "#println(acos(inter1)) #este genera un error, como debería"
   ]
  },
  {
   "cell_type": "markdown",
   "metadata": {},
   "source": [
    "Lo siguiente está incluido en el test.jl del módulo Intervalo\n",
    "\n",
    "Correlo estando en la carpeta de la Clase con:\n",
    "\n",
    "`julia> include(\"MisModulos/Intervalos/test/pruebas.jl\")`"
   ]
  },
  {
   "cell_type": "code",
   "execution_count": 7,
   "metadata": {
    "collapsed": false
   },
   "outputs": [],
   "source": [
    "using FactCheck"
   ]
  },
  {
   "cell_type": "code",
   "execution_count": 8,
   "metadata": {
    "collapsed": false,
    "scrolled": true
   },
   "outputs": [
    {
     "name": "stdout",
     "output_type": "stream",
     "text": [
      "Probando funciones sobre intervalos\n",
      "21 facts verified.\n"
     ]
    }
   ],
   "source": [
    "facts(\"Probando funciones sobre intervalos\")do\n",
    "    interv1=Intervalo(\"0.0\",\"0.5\")\n",
    "    @fact exp(BigFloat(1.0)) => exp(Intervalo(\"1.0\")).b\n",
    "    @fact exp(Intervalo(1)).a => less_than(exp(Intervalo(1)).b) #checo redondeo\n",
    "    @fact exp(interv1).a => 1.0\n",
    "    @fact exp(interv1).b => greater_than_or_equal(exp(interv1.b))\n",
    "    \n",
    "    @fact log(interv1).a => -inf(BigFloat)\n",
    "    @fact log(interv1).b => greater_than_or_equal(log(interv1.b))\n",
    "    @fact log(interv1).b => less_than(1.0)\n",
    "    \n",
    "    @fact atan(interv1).a => 0.0\n",
    "    @fact atan(interv1).b => greater_than_or_equal(atan(interv1.b))\n",
    "    @fact atan(Intervalo(inf(BigFloat))).a => π/BigFloat(2)\n",
    "    @fact atan(Intervalo(-inf(BigFloat))).b => π/BigFloat(-2)\n",
    "    \n",
    "    @fact asin(interv1).a => 0.0\n",
    "    @fact asin(interv1).b => greater_than_or_equal(asin(interv1.b))\n",
    "    @fact asin(Intervalo(1)).a => π/BigFloat(2)\n",
    "    @fact asin(Intervalo(-1)).b => π/BigFloat(-2)\n",
    "    \n",
    "    @fact acos(interv1).a => less_than_or_equal(acos(interv1.b))\n",
    "    @fact acos(interv1).b => nextfloat(π/BigFloat(2))\n",
    "    @fact acos(Intervalo(1)) => Intervalo(0,0)\n",
    "    @fact acos(Intervalo(-1)).a => π\n",
    "    \n",
    "    @fact (interv1^\"0.5\").a => 0.0 \n",
    "    @fact (interv1^3.1).b => greater_than_or_equal((interv1.b)^3.1) #si este manda error, falta incluir redondeo\n",
    "end;"
   ]
  },
  {
   "cell_type": "code",
   "execution_count": 9,
   "metadata": {
    "collapsed": false
   },
   "outputs": [
    {
     "name": "stdout",
     "output_type": "stream",
     "text": [
      "Probando tipo Intervalo\n",
      "8 facts verified.\n",
      "Probando operaciones entre intervalos\n",
      "13 facts verified.\n",
      "Probando funciones sobre intervalos\n",
      "21 facts verified.\n"
     ]
    }
   ],
   "source": [
    "include(\"../../MisModulos/Intervalos/test/pruebas.jl\");"
   ]
  },
  {
   "cell_type": "markdown",
   "metadata": {
    "collapsed": false
   },
   "source": [
    "#[2]\n",
    "#### ¿Cómo definirías la extensión a intervalos para funciones no monótonas? Repite [1] para este caso."
   ]
  },
  {
   "cell_type": "markdown",
   "metadata": {},
   "source": [
    "Antes de definir esto definiré una función que une intervalos que se intersectan:"
   ]
  },
  {
   "cell_type": "code",
   "execution_count": 70,
   "metadata": {
    "collapsed": false
   },
   "outputs": [
    {
     "data": {
      "text/plain": [
       "unir (generic function with 1 method)"
      ]
     },
     "execution_count": 70,
     "metadata": {},
     "output_type": "execute_result"
    }
   ],
   "source": [
    "unir(x::Intervalo,y::Intervalo) = (x.a<=y.b && y.a<=x.b) ? Intervalo(min(x.a,y.a),max(x.b,y.b)) : \n",
    "                                                                error(\"Deben ser intervalos que se intersectan\")"
   ]
  },
  {
   "cell_type": "markdown",
   "metadata": {},
   "source": [
    "Ahora sí continuo con el ejercicio"
   ]
  },
  {
   "cell_type": "code",
   "execution_count": 73,
   "metadata": {
    "collapsed": false
   },
   "outputs": [
    {
     "data": {
      "text/plain": [
       "sin (generic function with 12 methods)"
      ]
     },
     "execution_count": 73,
     "metadata": {},
     "output_type": "execute_result"
    }
   ],
   "source": [
    "import Base.sin\n",
    "\n",
    "function auxsin(alto::BigFloat,bajo::BigFloat,x)\n",
    "    if in(3*big(π)/2,Intervalo(bajo,alto)) && 1 in(big(π)/2,Intervalo(bajo,alto))\n",
    "        Intervalo(-1,1)\n",
    "    elseif in(big(π)/2,Intervalo(bajo,alto))\n",
    "        Intervalo( max( -1, min( redonDOWN(sin,x.a) , redonDOWN(sin,x.b) )) , 1)\n",
    "    elseif in(3*big(π)/2,Intervalo(bajo,alto))            \n",
    "        Intervalo(-1, min( 1, max( redonUP(sin,x.a) , redonUP(sin,x.b) )) )          \n",
    "    elseif alto<big(π)/2 || bajo>3*big(π)/2\n",
    "        Intervalo( redonDOWN(sin,x.a) , redonUP(sin,x.b) )\n",
    "    else #que debe ser el caso bajo>big(π)/2 && alto<3*big(π)/2\n",
    "        Intervalo( redonDOWN(sin,x.b) , redonUP(sin,x.a) )    \n",
    "    end\n",
    "end\n",
    "\n",
    "function sin(x::Intervalo)\n",
    "    pi\n",
    "    bajo1=redonDOWN(mod1,x.a,2*big(π))\n",
    "    alto1=redonUP(mod1,x.b,2*big(π))\n",
    "    if redonUP(-,x.b,x.a)>=2*big(π)\n",
    "        Intervalo(-1,1)\n",
    "    elseif bajo1<alto1\n",
    "        auxsin(alto1,bajo1,x)\n",
    "    else\n",
    "        unir(  auxsin(big(0.0),alto1,x) , auxsin(bajo1,2*big(π),x)  )\n",
    "    end\n",
    "end"
   ]
  },
  {
   "cell_type": "code",
   "execution_count": 83,
   "metadata": {
    "collapsed": false
   },
   "outputs": [
    {
     "name": "stdout",
     "output_type": "stream",
     "text": [
      "[-1e+00,\n",
      "6.188350221200386985717472187664044166402579843514055990492212362804784665884447e-01]\n",
      "-4.871745124605095265782282689687536568947127246693921415371707493055920394548128e-01\n",
      "6.188350221200386985717472187664044166402579843514055990492212362804784665884447e-01\n"
     ]
    }
   ],
   "source": [
    "asdf=Intervalo(\"22.5\",\"25.8\");\n",
    "println(sin(asdf))\n",
    "println(redonUP(sin,asdf.a))\n",
    "println(redonUP(sin,asdf.b))"
   ]
  },
  {
   "cell_type": "code",
   "execution_count": 84,
   "metadata": {
    "collapsed": false
   },
   "outputs": [
    {
     "data": {
      "image/png": "[encoded data removed]",
      "text/plain": [
       "Figure(PyObject <matplotlib.figure.Figure object at 0x7f929dec9490>)"
      ]
     },
     "metadata": {},
     "output_type": "display_data"
    },
    {
     "data": {
      "text/plain": [
       "1-element Array{Any,1}:\n",
       " PyObject <matplotlib.lines.Line2D object at 0x7f929dd21810>"
      ]
     },
     "execution_count": 84,
     "metadata": {},
     "output_type": "execute_result"
    }
   ],
   "source": [
    "x=-1:0.125:7\n",
    "y=sin(x)\n",
    "\n",
    "PyPlot.plot(x,y)\n",
    "PyPlot.plot(x,zeros(x))\n",
    "PyPlot.plot(float64(redonDOWN(mod1,asdf.a,2*π))*[1,1],[-1,1],\"black\")\n",
    "PyPlot.plot(float64(redonUP(mod1,asdf.b,2*π))*[1,1],[-1,1],\"blue\")"
   ]
  },
  {
   "cell_type": "code",
   "execution_count": null,
   "metadata": {
    "collapsed": true
   },
   "outputs": [],
   "source": []
  },
  {
   "cell_type": "markdown",
   "metadata": {},
   "source": [
    "#[3]\n",
    "#### La extensión natural del intervalo para $f(x)=x/(1+x^2)$ es $F(\\mathbf{x})=\\mathbf{x}/(1+\\mathbf{x}^2)$. ¿Cuál es la extensión natural del intervalo para $\\mathbf{x}=[1,2]$? ¿Cómo se compara con el rango $R(f;[1,2])$. Ilustra los resultados con una gráfica."
   ]
  },
  {
   "cell_type": "code",
   "execution_count": 8,
   "metadata": {
    "collapsed": false
   },
   "outputs": [
    {
     "data": {
      "text/plain": [
       "disper (generic function with 1 method)"
      ]
     },
     "execution_count": 8,
     "metadata": {},
     "output_type": "execute_result"
    }
   ],
   "source": [
    "disper(x)=x/(1+x^2)"
   ]
  },
  {
   "cell_type": "markdown",
   "metadata": {},
   "source": [
    "La extención natural es:"
   ]
  },
  {
   "cell_type": "code",
   "execution_count": 9,
   "metadata": {
    "collapsed": false
   },
   "outputs": [
    {
     "data": {
      "text/plain": [
       "[1.999999999999999999999999999999999999999999999999999999999999999999999999999983e-01,\n",
       "1e+00]"
      ]
     },
     "execution_count": 9,
     "metadata": {},
     "output_type": "execute_result"
    }
   ],
   "source": [
    "disper(Intervalo(1,2))"
   ]
  },
  {
   "cell_type": "markdown",
   "metadata": {},
   "source": [
    "Sin embargo el rango es $R(f;[1,2])=[0.5,0.4]$"
   ]
  },
  {
   "cell_type": "code",
   "execution_count": 10,
   "metadata": {
    "collapsed": false
   },
   "outputs": [
    {
     "data": {
      "text/plain": [
       "(0.5,0.4)"
      ]
     },
     "execution_count": 10,
     "metadata": {},
     "output_type": "execute_result"
    }
   ],
   "source": [
    "(disper(1),disper(2))"
   ]
  },
  {
   "cell_type": "code",
   "execution_count": 11,
   "metadata": {
    "collapsed": false,
    "scrolled": false
   },
   "outputs": [
    {
     "data": {
      "image/png": "[encoded data removed]",
      "text/plain": [
       "Figure(PyObject <matplotlib.figure.Figure object at 0x7f5a948a2850>)"
      ]
     },
     "metadata": {},
     "output_type": "display_data"
    },
    {
     "data": {
      "text/plain": [
       "1-element Array{Any,1}:\n",
       " PyObject <matplotlib.lines.Line2D object at 0x7f5ab80c7d50>"
      ]
     },
     "execution_count": 11,
     "metadata": {},
     "output_type": "execute_result"
    }
   ],
   "source": [
    "graficador(1,2,disper); #la función graficador está en el módulo Graficador en la carpeta MisModulos\n",
    "#las siguientes líneas son solo para hacer más claro que el rango está contenido en la extensión natural\n",
    "PyPlot.plot(0.2*[1,1],[disper(1),disper(2)], \"blue\", linewidth=2.0)\n",
    "PyPlot.plot([0.2,1],disper(1)*[1,1],\"blue\", linewidth=1.0, linestyle=\"--\")\n",
    "PyPlot.plot([0.2,2],disper(2)*[1,1],\"blue\", linewidth=1.0, linestyle=\"--\")"
   ]
  },
  {
   "cell_type": "markdown",
   "metadata": {
    "collapsed": true
   },
   "source": [
    "#[4]\n",
    "#### Demuestra que $f(x)=(sin(x)−x^2+1)cos(x)$ no tiene raíces en $x=[0,1/2]$. Ilustra que el argumento es correcto gráficamente."
   ]
  },
  {
   "cell_type": "code",
   "execution_count": 12,
   "metadata": {
    "collapsed": false
   },
   "outputs": [
    {
     "data": {
      "text/plain": [
       "func1 (generic function with 1 method)"
      ]
     },
     "execution_count": 12,
     "metadata": {},
     "output_type": "execute_result"
    }
   ],
   "source": [
    "func1(x)=(sin(x)-x^2+1)*cos(x)"
   ]
  },
  {
   "cell_type": "code",
   "execution_count": 13,
   "metadata": {
    "collapsed": false
   },
   "outputs": [],
   "source": [
    "#Tras definir sin y cos solo hay que hacer:\n",
    "#in(0.0,func1(Intervalo(0,0.5)))"
   ]
  },
  {
   "cell_type": "code",
   "execution_count": 14,
   "metadata": {
    "collapsed": true
   },
   "outputs": [],
   "source": [
    "#graficador(0,0.5,func1); "
   ]
  },
  {
   "cell_type": "markdown",
   "metadata": {},
   "source": [
    "# Rutina para encontrar raíces de una función"
   ]
  },
  {
   "cell_type": "markdown",
   "metadata": {
    "collapsed": true
   },
   "source": [
    "#[5]\n",
    "#### Escribe un código quer utiliza la propiedad de los ceros para encontrar los intervalos donde podría haber un cero."
   ]
  },
  {
   "cell_type": "markdown",
   "metadata": {},
   "source": [
    "Probemos por ejemplo con la función disper y el intervalo [-1,3]"
   ]
  },
  {
   "cell_type": "code",
   "execution_count": 120,
   "metadata": {
    "collapsed": false
   },
   "outputs": [
    {
     "data": {
      "text/plain": [
       "buscaPosiblesCeros (generic function with 1 method)"
      ]
     },
     "execution_count": 120,
     "metadata": {},
     "output_type": "execute_result"
    }
   ],
   "source": [
    "cerosin(f::Function,x::Intervalo)= in(0.0,f(x))\n",
    "\n",
    "function parteIntervalo(x::Intervalo)\n",
    "    a1=redonUP(/ , redonUP(+,x.a,x.b) , 2) #uso el redondeo para no dejar fuera números\n",
    "    b1=redonDOWN(/ , redonDOWN(+,x.a,x.b) , 2)\n",
    "    #[Intervalo(x.a,a1),Intervalo(b1,x.b)]\n",
    "    [Intervalo(x.a,a1),Intervalo(b1,x.b)]\n",
    "end\n",
    "\n",
    "function parteIntervalo3(x::Intervalo)\n",
    "    medio=parteIntervalo(x)\n",
    "    cuarto1=parteIntervalo(medio[1])[1]\n",
    "    cuarto3=parteIntervalo(medio[2])[2]\n",
    "    cuartoMedio= Intervalo( parteIntervalo(medio[1])[2].a  ,  parteIntervalo(medio[2])[1].b )\n",
    "    [cuarto1, cuartoMedio, cuarto3]\n",
    "end\n",
    "\n",
    "function ceros!(f::Function,x::Intervalo,v::Array{Intervalo,1})\n",
    "    presicion=2.0^-10\n",
    "    if cerosin(f,x)==false\n",
    "        #no hago nada si no hay ceros\n",
    "    else\n",
    "        #println(\"entró $x\")#descomenta para debugear :P\n",
    "        if x.b-x.a < presicion\n",
    "            #println(\"no\") #descomenta para debugear :P\n",
    "            #println(\"hay un cero en $x\")\n",
    "            push!(v,x)\n",
    "        else\n",
    "            #println(\"si\") #descomenta para debugear :P\n",
    "            parInt=parteIntervalo(x)\n",
    "            if parInt[1]==parInt[2] #este es un límite por si pongo una presición demasiado pequeña o algo así.\n",
    "                #println(\"iguales\") #descomenta para debugear :P\n",
    "                #println(\"hay un cero en $x\")\n",
    "                push!(v,x)\n",
    "                \n",
    "                # lo que hago ahora es preguntar si al dividir entre dos ambos intervalos contienen al cero:\n",
    "                # cerosin(f,1) = cerosin(f,2) = true. Si esto ocurre entonces\n",
    "                # divido intervalo entre \"3\" partes no iguales _ __ _ , si no entonces divide entre 2\n",
    "                # Implementé esto porque si no el resultado eran dos ceros, uno en [-a,0] y otro en [0, a]\n",
    "                \n",
    "            elseif cerosin(f,parInt[1])==true && cerosin(f,parInt[2])==true\n",
    "                #println(\"centro\") #descomenta para debugear :P\n",
    "                parInt3=parteIntervalo3(x)\n",
    "                ceros!(f,parInt3[1],v)\n",
    "                ceros!(f,parInt3[2],v)\n",
    "                ceros!(f,parInt3[3],v)\n",
    "            else\n",
    "                #println(\"sigue\") #descomenta para debugear :P\n",
    "                ceros!(f,parInt[1],v)\n",
    "                ceros!(f,parInt[2],v)\n",
    "            end\n",
    "        end\n",
    "    end\n",
    "end\n",
    "\n",
    "\n",
    "function buscaPosiblesCeros(f::Function,x::Intervalo) #esta es la función que utilizaré para buscar POSIBLES ceros\n",
    "    vector=Intervalo[]\n",
    "    ceros!(f,x,vector)\n",
    "    return vector #regresa un arreglo con todos los intervalos con posibles ceros\n",
    "end"
   ]
  },
  {
   "cell_type": "code",
   "execution_count": 121,
   "metadata": {
    "collapsed": true
   },
   "outputs": [],
   "source": [
    "inter3=Intervalo(\"-1.0\",\"3.0\")\n",
    "inter4=Intervalo(\"5.1\",\"6.01\");"
   ]
  },
  {
   "cell_type": "code",
   "execution_count": 124,
   "metadata": {
    "collapsed": false
   },
   "outputs": [
    {
     "data": {
      "text/plain": [
       "0-element Array{Intervalo,1}"
      ]
     },
     "execution_count": 124,
     "metadata": {},
     "output_type": "execute_result"
    }
   ],
   "source": [
    "buscaPosiblesCeros(disper,inter4) #si la función regresa arreglo vacío entonces no hay ceros en inter4"
   ]
  },
  {
   "cell_type": "code",
   "execution_count": 125,
   "metadata": {
    "collapsed": false
   },
   "outputs": [
    {
     "data": {
      "text/plain": [
       "1-element Array{Intervalo,1}:\n",
       " [-2.44140625e-04,\n",
       "2.44140625e-04]"
      ]
     },
     "execution_count": 125,
     "metadata": {},
     "output_type": "execute_result"
    }
   ],
   "source": [
    "buscaPosiblesCeros(disper,inter3)"
   ]
  },
  {
   "cell_type": "code",
   "execution_count": null,
   "metadata": {
    "collapsed": true
   },
   "outputs": [],
   "source": []
  },
  {
   "cell_type": "markdown",
   "metadata": {},
   "source": [
    "Podemos decir un poco más si incluímos información sobre los valores de la derivada en el(los) intervalo(s) obtenidos. Supongamos que un intervalo obtenido es $[a,b]$, si el intervalo que se obtiene de evaluar la derivada en el intervalo $f´([a,b])$ NO contiene al cero entonces sabemos que de existir un cero en el intervalo éste debe ser único.\n",
    "\n",
    "Hay dos maneras de proceder en este punto:\n",
    "    \n",
    "    Usar la derivada calculada a mano (ej [6])\n",
    "    \n",
    "    Usar el tipo que definimos en notebooks anteriores que calcula la derivada automáticamente (ej [7])\n",
    "\n",
    "En ambos casos solo podremos saber si la derivada NO se hace cero.\n",
    "Para obtener un beneficio de esto voy a definir un tipo composito en donde podamos guardar por separado los intervalos con derivada que incluya o no al cero:"
   ]
  },
  {
   "cell_type": "code",
   "execution_count": 126,
   "metadata": {
    "collapsed": true
   },
   "outputs": [],
   "source": [
    "type PosiblesCeros\n",
    "    unicos::Array{Intervalo,1} # la derivada NO incluye al cero\n",
    "    varios::Array{Intervalo,1} # nótese que un intervalo aquí no implica que de existir ceros en el intervalo deben ser\n",
    "    # varios, solo dice que pueden o no ser varios\n",
    "end"
   ]
  },
  {
   "cell_type": "markdown",
   "metadata": {
    "collapsed": true
   },
   "source": [
    "#[6]\n",
    "#### Extiende tu código para utilizar la derivada $f′$, dada a mano, para demostrar (cuando se puede) que el cero es único en el intervalo."
   ]
  },
  {
   "cell_type": "markdown",
   "metadata": {
    "collapsed": false
   },
   "source": [
    "En el caso particular de la función $f(x)=\\frac{x}{1+x^2}$ la derivada es: $f´(x)=\\frac{1 - x^2}{(1 + x^2)^2}$"
   ]
  },
  {
   "cell_type": "code",
   "execution_count": 127,
   "metadata": {
    "collapsed": false
   },
   "outputs": [
    {
     "data": {
      "text/plain": [
       "disperPrima (generic function with 1 method)"
      ]
     },
     "execution_count": 127,
     "metadata": {},
     "output_type": "execute_result"
    }
   ],
   "source": [
    "disperPrima(x)=(1 - x^2)/(1 + x^2)^2"
   ]
  },
  {
   "cell_type": "markdown",
   "metadata": {
    "collapsed": true
   },
   "source": [
    "Ahora modifico un poco las funciones antes definidas para saber si la derivada NO se hace cero en el intervalo de interes"
   ]
  },
  {
   "cell_type": "code",
   "execution_count": 128,
   "metadata": {
    "collapsed": false
   },
   "outputs": [
    {
     "data": {
      "text/plain": [
       "buscaCerosDisper (generic function with 1 method)"
      ]
     },
     "execution_count": 128,
     "metadata": {},
     "output_type": "execute_result"
    }
   ],
   "source": [
    "function buscaCerosDisper(x::Intervalo) #esta función solo sirve para funciones cuya derivada sea disperPrima\n",
    "    vectorposibles=PosiblesCeros( Intervalo[] , Intervalo[] )\n",
    "    vector=buscaPosiblesCeros(disper,x)\n",
    "    for i=1:length(vector)\n",
    "        if cerosin(disperPrima,vector[i])==false\n",
    "            push!(vectorposibles.unicos,vector[i])\n",
    "        else\n",
    "            push!(vectorposibles.varios,vector[i])\n",
    "        end\n",
    "    end\n",
    "    return vectorposibles\n",
    "end"
   ]
  },
  {
   "cell_type": "code",
   "execution_count": 129,
   "metadata": {
    "collapsed": false
   },
   "outputs": [
    {
     "data": {
      "text/plain": [
       "PosiblesCeros([],[])"
      ]
     },
     "execution_count": 129,
     "metadata": {},
     "output_type": "execute_result"
    }
   ],
   "source": [
    "buscaCerosDisper(inter4)"
   ]
  },
  {
   "cell_type": "code",
   "execution_count": 130,
   "metadata": {
    "collapsed": false
   },
   "outputs": [
    {
     "data": {
      "text/plain": [
       "PosiblesCeros([[-2.44140625e-04,\n",
       "2.44140625e-04]],[])"
      ]
     },
     "execution_count": 130,
     "metadata": {},
     "output_type": "execute_result"
    }
   ],
   "source": [
    "buscaCerosDisper(inter3)"
   ]
  },
  {
   "cell_type": "code",
   "execution_count": null,
   "metadata": {
    "collapsed": true
   },
   "outputs": [],
   "source": []
  },
  {
   "cell_type": "markdown",
   "metadata": {},
   "source": [
    "#[7]\n",
    "#### Utiliza la diferenciación automática del notebook 6 para que no tengas que especificar la derivada a mano."
   ]
  },
  {
   "cell_type": "code",
   "execution_count": 131,
   "metadata": {
    "collapsed": false
   },
   "outputs": [],
   "source": [
    "using AutoDif"
   ]
  },
  {
   "cell_type": "markdown",
   "metadata": {
    "collapsed": true
   },
   "source": [
    "Dado que al hacer 'diferenciación automática' se realizan más operaciones y dado que en el cálculo de intervalos más operaciones implican un intervalo resultante mayor, entonces usar esta diferenciación automática es menos eficiente que usar la derivada calculada a mano (exacta). Para ilustrarlo miremos la gráfica siguiente, en la cual usamos la derivada exacta y usamos cálculo con intervalos para saber cual es su extención natural. El intervalo resultante se representa con la línea vertical negra. Por otro lado usamos la diferenciación automática (más cálculo con intervalos) con el mismo fin. El intervalo resultante es representado por la línea roja."
   ]
  },
  {
   "cell_type": "code",
   "execution_count": 132,
   "metadata": {
    "collapsed": false
   },
   "outputs": [
    {
     "data": {
      "image/png": "[encoded data removed]",
      "text/plain": [
       "Figure(PyObject <matplotlib.figure.Figure object at 0x7f5a9481d590>)"
      ]
     },
     "metadata": {},
     "output_type": "display_data"
    }
   ],
   "source": [
    "a1=-0.5  #float64(fdsa[1].a)\n",
    "b1=0.5  #float64(fdsa[1].b)\n",
    "graficador(a1,b1,disperPrima)\n",
    "limites=Float64[disper(ValorDeriv(Intervalo(a1,b1))).deriv.a,disper(ValorDeriv(Intervalo(a1,b1))).deriv.b]\n",
    "PyPlot.plot(-abs(a1)*[1.4,1.4],limites,  \"red\", linewidth=2.0)\n",
    "PyPlot.xlim(min(-1,a1-1.2),max(0,b1+1))\n",
    "PyPlot.ylim(limites[1]-1,limites[2]+1);"
   ]
  },
  {
   "cell_type": "markdown",
   "metadata": {},
   "source": [
    "Es muy claro que usando la derivada exacta obtenemos intervalos más pequeños. Sin embargo, la ventaja de utilizar la diferenciación automática es justamente que es automática, es decir que no tenemos que calcular nosotros la derivada. En conclusión creo que para funciones sencillas nos conviene usar la idea del ejercicio [6].\n",
    "\n",
    "A continuación implemento el cálculo con el tipo ValorDeriv del módulo AutoDif."
   ]
  },
  {
   "cell_type": "code",
   "execution_count": 133,
   "metadata": {
    "collapsed": false
   },
   "outputs": [
    {
     "data": {
      "text/plain": [
       "buscaCerosAuto (generic function with 2 methods)"
      ]
     },
     "execution_count": 133,
     "metadata": {},
     "output_type": "execute_result"
    }
   ],
   "source": [
    "function buscaCerosAuto(f::Function,x::Intervalo) #esta función utiliza el tipo ValorDeriv definido en el módulo AutoDif\n",
    "    vectorposibles=PosiblesCeros( Intervalo[] , Intervalo[] )\n",
    "    derivada(x)=f(ValorDeriv(x)).deriv\n",
    "    vector=buscaPosiblesCeros(f,x)\n",
    "    for i=1:length(vector)\n",
    "        if cerosin(derivada,vector[i])==false\n",
    "            push!(vectorposibles.unicos,vector[i])\n",
    "        else\n",
    "            push!(vectorposibles.varios,vector[i])\n",
    "        end\n",
    "    end\n",
    "    return vectorposibles\n",
    "end"
   ]
  },
  {
   "cell_type": "code",
   "execution_count": 134,
   "metadata": {
    "collapsed": false
   },
   "outputs": [
    {
     "data": {
      "text/plain": [
       "PosiblesCeros([],[])"
      ]
     },
     "execution_count": 134,
     "metadata": {},
     "output_type": "execute_result"
    }
   ],
   "source": [
    "buscaCerosAuto(disper,inter4)"
   ]
  },
  {
   "cell_type": "code",
   "execution_count": 135,
   "metadata": {
    "collapsed": false
   },
   "outputs": [
    {
     "data": {
      "text/plain": [
       "PosiblesCeros([[-2.44140625e-04,\n",
       "2.44140625e-04]],[])"
      ]
     },
     "execution_count": 135,
     "metadata": {},
     "output_type": "execute_result"
    }
   ],
   "source": [
    "buscaCerosAuto(disper,inter3)"
   ]
  },
  {
   "cell_type": "code",
   "execution_count": null,
   "metadata": {
    "collapsed": false
   },
   "outputs": [],
   "source": []
  },
  {
   "cell_type": "markdown",
   "metadata": {},
   "source": [
    "# Un paso más"
   ]
  },
  {
   "cell_type": "markdown",
   "metadata": {},
   "source": [
    "Hasta ahora nuestras funciones nos regresan intervalos que se dividen en dos tipos:\n",
    "\n",
    "    Donde la función puede o no tomar el valor cero, pero en caso de que lo tome únicamente puede hacerlo una vez\n",
    "\n",
    "    Donde la función puede o no tomar el valor cero y puede o no tomarlo más de una vez\n",
    "    \n",
    "Para tratar de obtener un poco más de información notemos los siguientes cuatro casos:\n",
    "    \n",
    "- $1.\\;$ Si f evaluada en extremos no cambia de signo y la derivada no incluye cero en intervalo. Esto indica que en realidad no hay ceros en ese intervalo, por lo que habría que deshechar dicho intervalo.  \n",
    "- $2.\\;$ Si f evaluada en extremos no cambia de signo y la derivada incluye cero en intervalo. Esto indica que en el intervalo puede o no ( ¬¬ ) haber un cero de f.\n",
    "- $3.\\;$ Si f evaluada en extremos cambia de signo y la derivada no incluye cero en intervalo. Esto quiere decir que hay únicamente UN cero en el intervalo.\n",
    "- $4.\\;$ Si f evaluada en extremos cambia de signo y la derivada incluye cero en intervalo. Esto indica que en el intervalo hay al menos un cero (pero podría haber más).\n",
    "\n",
    "\n",
    "Sin embargo no es tan simple, ya que no podemos (¿debemos?) evaluar nuestra función en valores flotantes, sólo en intervalos, por lo que en los casos anteriores para distinguir los casos distintos de `f evaluada en extremos`, lo que debemos hacer es evaluarlos de la siguiente manera: Supongamos que el intervalo de interes es $x=[x.a,x.b]$, normalmente para evaluar en extremos haríamos $f(x.a)$ y $f(x.b)$, en lugar de esto lo que hacemos es:\n",
    "\n",
    "\\begin{align}\n",
    "    f(x.a) & \\rightarrow f(Intervalo(x.a)) \\\\\n",
    "    f(x.b) & \\rightarrow f(Intervalo(x.b))\n",
    "\\end{align}\n",
    "\n",
    "Ahora, si $f(Intervalo(x.a))$ y $f(Intervalo(x.b))$ resultan en un intervalos que NO contienen al cero, quiere decir que sabemos con certeza el signo de la función en los extremos del intervalo, por lo que podemos usar los 4 casos listados anteriormente.\n",
    "\n",
    "Si $f(Intervalo(x.a))$ o $f(Intervalo(x.b))$ resultan en intervalos que contienen al cero, entonces regresamos a los casos de los ejercicios [6] y [7], por lo que a los 4 casos anteriores añado 2 casos más:\n",
    "\n",
    "- $5.\\;$ Si $0\\in f(extremo)$ y la derivada NO incluye al cero (caso PosiblesCeros.unicos)\n",
    "- $6.\\;$ Si $0\\in f(extremo)$ y la derivada incluye al cero (caso PosiblesCeros.varios)\n",
    "\n",
    "Nótese que el caso 6 y el caso 2 dan la misma información.\n",
    "\n",
    "Para dividir estos nuevos casos defino un nuevo tipo composito que sea algo como:"
   ]
  },
  {
   "cell_type": "code",
   "execution_count": 159,
   "metadata": {
    "collapsed": true
   },
   "outputs": [],
   "source": [
    "type Ceros\n",
    "    posiblesUnicos::Array{Intervalo,1} # Para el caso 5\n",
    "    posiblesUnoOmas::Array{Intervalo,1} # Para el caso 2 y el caso 6\n",
    "    unicos::Array{Intervalo,1} # Para el caso 3\n",
    "    unoOmas::Array{Intervalo,1} # Para el caso 4\n",
    "end"
   ]
  },
  {
   "cell_type": "code",
   "execution_count": 226,
   "metadata": {
    "collapsed": false
   },
   "outputs": [
    {
     "data": {
      "text/plain": [
       "posiblesUnicos: []\n",
       "posiblesUnoOmas: []\n",
       "unicos: []\n",
       "unoOmas: []"
      ]
     },
     "execution_count": 226,
     "metadata": {},
     "output_type": "execute_result"
    }
   ],
   "source": [
    "import Base.show\n",
    "\n",
    "#para hacer más amigable este tipo, cambio la manera en que se despliega\n",
    "show(io::IO, a::Ceros) = print(io::IO, \"posiblesUnicos: $(a.posiblesUnicos)\n",
    "posiblesUnoOmas: $(a.posiblesUnoOmas)\n",
    "unicos: $(a.unicos)\n",
    "unoOmas: $(a.unoOmas)\")\n",
    "\n",
    "Ceros(Intervalo[],Intervalo[],Intervalo[],Intervalo[])"
   ]
  },
  {
   "cell_type": "markdown",
   "metadata": {},
   "source": [
    "En el caso particular de la función `disper` y el intervalo `inter3` esperaría que la función `buscaCeros` regrese algo como :\n",
    "\n",
    "    Ceros.posiblesUnicos = arreglo vacío\n",
    "    Ceros.posiblesUnoOmas = arreglo vacío\n",
    "    Ceros.unicos = el arreglo que obtuve en [7]\n",
    "    Ceros.unoOmas = arreglo vacío\n",
    "    \n",
    "Por último defino entonces la función `buscaCeros` (y un par de funciones auxiliares):"
   ]
  },
  {
   "cell_type": "code",
   "execution_count": 222,
   "metadata": {
    "collapsed": false
   },
   "outputs": [
    {
     "data": {
      "text/plain": [
       "buscaCeros (generic function with 1 method)"
      ]
     },
     "execution_count": 222,
     "metadata": {},
     "output_type": "execute_result"
    }
   ],
   "source": [
    "# Esta función me dice si puedo definir con certeza el signo de f en extremos\n",
    "function signosDefinidos(f::Function,x::Intervalo)\n",
    "    if cerosin(f,Intervalo(x.a)) || cerosin(f,Intervalo(x.b)) #nótese que evalúo en intervalos, no flotantes\n",
    "        return false\n",
    "    else\n",
    "        return true\n",
    "    end\n",
    "end\n",
    "\n",
    "# Esta me dice si f cambia o no de signo\n",
    "function cambiaSigno(f::Function,x::Intervalo)\n",
    "    if f(Intervalo(x.a)).a>0.0 && f(Intervalo(x.b)).a>0.0\n",
    "        return false\n",
    "    elseif f(Intervalo(x.a)).a<0.0 && f(Intervalo(x.b)).a<0.0\n",
    "        return false\n",
    "    else\n",
    "        return true\n",
    "    end\n",
    "end\n",
    "\n",
    "# Esta función separa en los casos 1-4 definidos arriba\n",
    "function separaCasos!(f::Function,deriv::Function,x::Intervalo,cer::Ceros)\n",
    "    if cambiaSigno(f,x) && cerosin(deriv,x)\n",
    "        push!(cer.unoOmas,x)  # Caso 4: f cambia de signo y derivada incluye cero\n",
    "    elseif cambiaSigno(f,x) \n",
    "        push!(cer.unicos,x)   # Caso 3: f cambia de signo y derivada NO incluye cero\n",
    "    elseif cerosin(deriv,x)\n",
    "        push!(cer.posiblesUnoOmas,x)   # Caso 2: f NO cambia de signo y derivada incluye cero\n",
    "    end\n",
    "end\n",
    "\n",
    "\n",
    "\n",
    "function buscaCeros(f::Function,x::Intervalo)\n",
    "    vectorceros=Ceros(Intervalo[],Intervalo[],Intervalo[],Intervalo[])\n",
    "    derivada(x)=f(ValorDeriv(x)).deriv\n",
    "    vector=buscaPosiblesCeros(f,x)\n",
    "    for i=1:length(vector)\n",
    "        if signosDefinidos(f,vector[i])\n",
    "            separaCasos!(f,derivada,vector[i],vectorceros)            \n",
    "        elseif cerosin(derivada,vector[i])\n",
    "            push!(vectorceros.posiblesUnoOmas,vector[i])\n",
    "        else\n",
    "            push!(vectorceros.posiblesUnicos,vector[i])\n",
    "        end\n",
    "    end\n",
    "    return vectorceros\n",
    "end"
   ]
  },
  {
   "cell_type": "code",
   "execution_count": 223,
   "metadata": {
    "collapsed": false
   },
   "outputs": [
    {
     "data": {
      "text/plain": [
       "posiblesUnicos: []\n",
       "posiblesUnoOmas: []\n",
       "unicos: []\n",
       "unoOmas: []"
      ]
     },
     "execution_count": 223,
     "metadata": {},
     "output_type": "execute_result"
    }
   ],
   "source": [
    "buscaCeros(disper,inter4)"
   ]
  },
  {
   "cell_type": "code",
   "execution_count": 224,
   "metadata": {
    "collapsed": false
   },
   "outputs": [
    {
     "data": {
      "text/plain": [
       "posiblesUnicos: []\n",
       "posiblesUnoOmas: []\n",
       "unicos: [[-2.44140625e-04,\n",
       "2.44140625e-04]]\n",
       "unoOmas: []"
      ]
     },
     "execution_count": 224,
     "metadata": {},
     "output_type": "execute_result"
    }
   ],
   "source": [
    "buscaCeros(disper,inter3)"
   ]
  },
  {
   "cell_type": "code",
   "execution_count": null,
   "metadata": {
    "collapsed": true
   },
   "outputs": [],
   "source": []
  }
 ],
 "metadata": {
  "kernelspec": {
   "display_name": "Julia 0.3.6",
   "language": "julia",
   "name": "julia 0.3"
  },
  "language_info": {
   "name": "julia",
   "version": "0.3.7"
  }
 },
 "nbformat": 4,
 "nbformat_minor": 0
}
