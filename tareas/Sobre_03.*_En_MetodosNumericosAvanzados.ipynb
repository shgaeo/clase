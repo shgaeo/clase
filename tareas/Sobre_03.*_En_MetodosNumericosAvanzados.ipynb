{
 "metadata": {
  "language": "Julia",
  "name": "",
  "signature": "sha256:b59bc0d4f5c2a4de2ce0e9aa6593645a1d74472b8086ef4001d41384399cbf42"
 },
 "nbformat": 3,
 "nbformat_minor": 0,
 "worksheets": [
  {
   "cells": [
    {
     "cell_type": "markdown",
     "metadata": {},
     "source": [
      "Este notebook es para hacer los ejercicios del \"03. Representacion de numeros en la computadora\""
     ]
    },
    {
     "cell_type": "heading",
     "level": 2,
     "metadata": {},
     "source": [
      "N\u00fameros Enteros"
     ]
    },
    {
     "cell_type": "heading",
     "level": 3,
     "metadata": {},
     "source": [
      "[1]"
     ]
    },
    {
     "cell_type": "markdown",
     "metadata": {},
     "source": [
      "n=314159=3x10\u2075 + 1x10\u2074 + 4x10\u00b3 + 1x10\u00b2 + 5x10\u00b9 + 9x10\u2070"
     ]
    },
    {
     "cell_type": "heading",
     "level": 3,
     "metadata": {},
     "source": [
      "[2]"
     ]
    },
    {
     "cell_type": "markdown",
     "metadata": {},
     "source": [
      "\u00bfcomo represento 50 en binario?\n",
      "\n",
      "log2(50)=5.643856189774724\n",
      "\n",
      "esto me dice que en la 5ta potencia hay un 1: $100000_2 = 2\u2075_{10} =32_{10}$\n",
      "\n",
      "Me faltan 18=50-32, log2(18)=4.169925001442312\n",
      "\n",
      "esto me dice que en la 4ta potencia hay un 1: $010000_2 = 2\u2074_{10}=16_{10}$\n",
      "\n",
      "Me faltan 2=18-16, log2(2)=1\n",
      "\n",
      "Por lo tanto $50_{10}=110010_2$ n\u00f3tese que el primer cero de la derecha es para la potencia cero"
     ]
    },
    {
     "cell_type": "code",
     "collapsed": false,
     "input": [
      "bin(50) #para comprobar"
     ],
     "language": "python",
     "metadata": {},
     "outputs": [
      {
       "metadata": {},
       "output_type": "pyout",
       "prompt_number": 1,
       "text": [
        "\"110010\""
       ]
      }
     ],
     "prompt_number": 1
    },
    {
     "cell_type": "code",
     "collapsed": false,
     "input": [
      "typeof(bin(50)) #los siguientes tres In[] son para ver como argumentar la funci\u00f3n bin_a_10 (m\u00e1s abajo)"
     ],
     "language": "python",
     "metadata": {},
     "outputs": [
      {
       "metadata": {},
       "output_type": "pyout",
       "prompt_number": 2,
       "text": [
        "ASCIIString (constructor with 2 methods)"
       ]
      }
     ],
     "prompt_number": 2
    },
    {
     "cell_type": "code",
     "collapsed": false,
     "input": [
      "methods(ASCIIString)"
     ],
     "language": "python",
     "metadata": {},
     "outputs": [
      {
       "html": [
        "2 methods for generic function <b>ASCIIString</b>:<ul><li> ASCIIString(data::<b>Array{Uint8,1}</b>)<li> ASCIIString(data)</ul>"
       ],
       "metadata": {},
       "output_type": "pyout",
       "prompt_number": 3,
       "text": [
        "# 2 methods for generic function \"ASCIIString\":\n",
        "ASCIIString(data::Array{Uint8,1})\n",
        "ASCIIString(data)"
       ]
      }
     ],
     "prompt_number": 3
    },
    {
     "cell_type": "code",
     "collapsed": false,
     "input": [
      "typeof(bin(5))==ASCIIString"
     ],
     "language": "python",
     "metadata": {},
     "outputs": [
      {
       "metadata": {},
       "output_type": "pyout",
       "prompt_number": 4,
       "text": [
        "true"
       ]
      }
     ],
     "prompt_number": 4
    },
    {
     "cell_type": "heading",
     "level": 3,
     "metadata": {},
     "source": [
      "[3]"
     ]
    },
    {
     "cell_type": "heading",
     "level": 4,
     "metadata": {},
     "source": [
      "(i)"
     ]
    },
    {
     "cell_type": "code",
     "collapsed": false,
     "input": [
      "function bin_a_10(y::ASCIIString) #esta funci\u00f3n toma una cadena de 1's y 0's y la transforma en un entero base 10\n",
      "    if y[1]=='-' #este if lo puse para incluir n\u00fameros negativos\n",
      "        x=y[2:length(y)]\n",
      "        b=-1\n",
      "    else\n",
      "        x=y\n",
      "        b=1\n",
      "    end\n",
      "    a=0\n",
      "    for i=0:length(x)-1\n",
      "        if x[i+1]!='0' && x[i+1]!='1'\n",
      "            error(\"Debe ser cadena de 0's y 1's\")\n",
      "        else\n",
      "            if x[i+1]=='1'\n",
      "                a=a+2^(length(x)-i-1)\n",
      "            end\n",
      "        end\n",
      "    end\n",
      "    b*a\n",
      "end"
     ],
     "language": "python",
     "metadata": {},
     "outputs": [
      {
       "metadata": {},
       "output_type": "pyout",
       "prompt_number": 5,
       "text": [
        "bin_a_10 (generic function with 1 method)"
       ]
      }
     ],
     "prompt_number": 5
    },
    {
     "cell_type": "code",
     "collapsed": false,
     "input": [
      "bin_a_10(\"-00000000000110010\") #notese que los ceros a la izq son irrelevantes"
     ],
     "language": "python",
     "metadata": {},
     "outputs": [
      {
       "metadata": {},
       "output_type": "pyout",
       "prompt_number": 6,
       "text": [
        "-50"
       ]
      }
     ],
     "prompt_number": 6
    },
    {
     "cell_type": "heading",
     "level": 4,
     "metadata": {},
     "source": [
      "(ii)"
     ]
    },
    {
     "cell_type": "code",
     "collapsed": false,
     "input": [
      "function diez_a_bin(m::Int) #esta funci\u00f3n toma un entero base 10 y lo convierte en cadena de caracteres (base 2)\n",
      "    n=abs(m)\n",
      "    if n==0\n",
      "        a=0\n",
      "    else\n",
      "        long=itrunc(log(2,n))\n",
      "        a=zeros(Int,long+1)\n",
      "        a[1]=1\n",
      "        b=n-2^long\n",
      "        while b>0\n",
      "            c=itrunc(log(2,b))\n",
      "            a[long-c+1]=1\n",
      "            b=b-2^c\n",
      "        end\n",
      "    end\n",
      "    \n",
      "    if abs(m)==m #este if es para incluir enteros negativos\n",
      "        join(a)\n",
      "    else\n",
      "        string('-',join(a))\n",
      "    end\n",
      "end"
     ],
     "language": "python",
     "metadata": {},
     "outputs": [
      {
       "metadata": {},
       "output_type": "pyout",
       "prompt_number": 7,
       "text": [
        "diez_a_bin (generic function with 1 method)"
       ]
      }
     ],
     "prompt_number": 7
    },
    {
     "cell_type": "code",
     "collapsed": false,
     "input": [
      "diez_a_bin(50)"
     ],
     "language": "python",
     "metadata": {},
     "outputs": [
      {
       "metadata": {},
       "output_type": "pyout",
       "prompt_number": 8,
       "text": [
        "\"110010\""
       ]
      }
     ],
     "prompt_number": 8
    },
    {
     "cell_type": "code",
     "collapsed": false,
     "input": [
      "n=-1586;\n",
      "bin(n)==diez_a_bin(n)"
     ],
     "language": "python",
     "metadata": {},
     "outputs": [
      {
       "metadata": {},
       "output_type": "pyout",
       "prompt_number": 9,
       "text": [
        "true"
       ]
      }
     ],
     "prompt_number": 9
    },
    {
     "cell_type": "code",
     "collapsed": false,
     "input": [],
     "language": "python",
     "metadata": {},
     "outputs": [],
     "prompt_number": 10
    },
    {
     "cell_type": "code",
     "collapsed": false,
     "input": [],
     "language": "python",
     "metadata": {},
     "outputs": [],
     "prompt_number": 11
    },
    {
     "cell_type": "heading",
     "level": 2,
     "metadata": {},
     "source": [
      "Numeros reales"
     ]
    },
    {
     "cell_type": "heading",
     "level": 3,
     "metadata": {},
     "source": [
      "[4]"
     ]
    },
    {
     "cell_type": "markdown",
     "metadata": {},
     "source": [
      "31.4159 = 3x10\u00b9 + 1x10\u2070 + 4x10\u207b\u00b9 + 1x10\u207b\u00b2 + 5x10\u207b\u00b3 + 9x10\u207b\u2074"
     ]
    },
    {
     "cell_type": "heading",
     "level": 3,
     "metadata": {},
     "source": [
      "[5]"
     ]
    },
    {
     "cell_type": "heading",
     "level": 4,
     "metadata": {},
     "source": [
      "(i)"
     ]
    },
    {
     "cell_type": "code",
     "collapsed": false,
     "input": [
      "#101.0101 = 1x2\u00b2 + 0x2\u00b9 + 1x2\u2070 + 0x2\u207b\u00b9 + 1x2\u207b\u00b2 + 0x2\u207b\u00b3 + 1x2\u207b\u2074\n",
      "1*2^2 + 0 + 1*2^0 + 0 + 1*2.0^-2 + 0 + 1*2.0^-4"
     ],
     "language": "python",
     "metadata": {},
     "outputs": [
      {
       "metadata": {},
       "output_type": "pyout",
       "prompt_number": 12,
       "text": [
        "5.3125"
       ]
      }
     ],
     "prompt_number": 12
    },
    {
     "cell_type": "heading",
     "level": 4,
     "metadata": {},
     "source": [
      "(ii)"
     ]
    },
    {
     "cell_type": "code",
     "collapsed": false,
     "input": [
      "function bin_a_10_con_punto(y::ASCIIString) #funci\u00f3n que transforma cadena binaria (con \"punto binario\") a base 10\n",
      "    if y[1]=='-' #este if es para incluir negativos\n",
      "        x=y[2:length(y)]\n",
      "        c=-1\n",
      "    else\n",
      "        x=y\n",
      "        c=1\n",
      "    end\n",
      "    b=search(x,'.')\n",
      "    if b==0 #esto es si no hay punto decimal en la cadena\n",
      "        error(\"Debe ser cadena de 0's , 1's y un punto decimal\")\n",
      "    elseif search(x,'.',b+1)!=0 #esto es si hay m\u00e1s de un punto en la cadena\n",
      "        error(\"Debe ser cadena de 0's , 1's y un punto decimal\")\n",
      "    else\n",
      "    a=0.0\n",
      "    for i=0:length(x)-1\n",
      "            if x[i+1]!='0' && x[i+1]!='1' && x[i+1]!='.' #esto es si hay caracteres distintos a 1, 0, '.'\n",
      "            error(\"Debe ser cadena de 0's , 1's y un punto decimal\")\n",
      "            elseif i+1<b[1] && x[i+1]=='1'     #si estamos antes del punto (parte entera)\n",
      "                a=a+2^(b[1]-i-2)\n",
      "            elseif i+1>b[1] && x[i+1]=='1'     #si estamos despu\u00e9s del punto\n",
      "                a=a+2.0^(b[1]-i-1)             #m\u00e1s abajo explico porque se le suma un uno a este exponente\n",
      "            end\n",
      "        end          \n",
      "    end\n",
      "    c*a\n",
      "end"
     ],
     "language": "python",
     "metadata": {},
     "outputs": [
      {
       "metadata": {},
       "output_type": "pyout",
       "prompt_number": 13,
       "text": [
        "bin_a_10_con_punto (generic function with 1 method)"
       ]
      }
     ],
     "prompt_number": 13
    },
    {
     "cell_type": "code",
     "collapsed": false,
     "input": [
      "bin_a_10_con_punto(\"0000101.0101000\")"
     ],
     "language": "python",
     "metadata": {},
     "outputs": [
      {
       "metadata": {},
       "output_type": "pyout",
       "prompt_number": 14,
       "text": [
        "5.3125"
       ]
      }
     ],
     "prompt_number": 14
    },
    {
     "cell_type": "heading",
     "level": 4,
     "metadata": {},
     "source": [
      "(iii)"
     ]
    },
    {
     "cell_type": "code",
     "collapsed": false,
     "input": [
      "function diez_a_bin_con_punto(x::Float64) #funci\u00f3n que transforma flotante a cadena de caracteres\n",
      "    if x==0.0\n",
      "        d=\"0.0\"\n",
      "    else\n",
      "        n=itrunc(abs(x)) #primero trato con la parte entera\n",
      "        if n==0\n",
      "            d=\"0.\"\n",
      "            m=53-itrunc(log2(abs(x))) #con esto la long de la cadena coincide con la longitud de la mantissa de 'bits'\n",
      "        else\n",
      "            d=string(diez_a_bin(n),\".\")\n",
      "            m=52-length(d)+2.0 #con esto la long de la cadena coincide con la longitud de la mantissa de 'bits'\n",
      "        end\n",
      "               \n",
      "        \n",
      "        b=abs(x)-itrunc(abs(x))     #ahora trato con la parte no entera\n",
      "        for c=1:m\n",
      "            if b-2.0^(-c)<0.0\n",
      "                d=string(d,\"0\")\n",
      "            else\n",
      "                d=string(d,\"1\")\n",
      "                b=b-2.0^(-c)\n",
      "            end\n",
      "        end\n",
      "    end\n",
      "    if abs(x)==x #este if es para incluir negativos\n",
      "        d\n",
      "    else\n",
      "        d=string('-',d)\n",
      "    end\n",
      "end"
     ],
     "language": "python",
     "metadata": {},
     "outputs": [
      {
       "metadata": {},
       "output_type": "pyout",
       "prompt_number": 15,
       "text": [
        "diez_a_bin_con_punto (generic function with 1 method)"
       ]
      }
     ],
     "prompt_number": 15
    },
    {
     "cell_type": "code",
     "collapsed": false,
     "input": [
      "x=-112.412 #una prueba\n",
      "println(diez_a_bin_con_punto(x))\n",
      "println(bin_a_10_con_punto(diez_a_bin_con_punto(x))) #para probar que son funciones inversas"
     ],
     "language": "python",
     "metadata": {},
     "outputs": [
      {
       "output_type": "stream",
       "stream": "stdout",
       "text": [
        "-1110000.0110100101111000110101001111110111110011101110\n"
       ]
      },
      {
       "output_type": "stream",
       "stream": "stdout",
       "text": [
        "-112.412\n"
       ]
      }
     ],
     "prompt_number": 16
    },
    {
     "cell_type": "code",
     "collapsed": false,
     "input": [
      "x=0.0 #una prueba\n",
      "println(diez_a_bin_con_punto(x))\n",
      "println(bin_a_10_con_punto(diez_a_bin_con_punto(x))) #para probar que son funciones inversas"
     ],
     "language": "python",
     "metadata": {},
     "outputs": [
      {
       "output_type": "stream",
       "stream": "stdout",
       "text": [
        "0.0\n"
       ]
      },
      {
       "output_type": "stream",
       "stream": "stdout",
       "text": [
        "0.0\n"
       ]
      }
     ],
     "prompt_number": 17
    },
    {
     "cell_type": "markdown",
     "metadata": {},
     "source": [
      "Para estar m\u00e1s seguro de que funciona bien, la quiero comparar con la funci\u00f3n bits, para lo cual\n",
      "\n",
      "solo basta pensar que bits pone la 'mantissa', veamos por ejemplo que\n",
      "\n",
      "bits(12.12)=\"0100000000101000001111010111000010100011110101110000101000111101\"\n",
      "\n",
      "el primer 0 es el signo, los siguientes 11 bits son el exponente, lo que queremos son los \u00faltimos 52 bits\n",
      "\n",
      "bits(12.12)[13:64]=\"1000001111010111000010100011110101110000101000111101\"\n",
      "\n",
      "si mi funci\u00f3n funciona deber\u00eda tener la misma cadena (menos el primer 1 y el punto)\n"
     ]
    },
    {
     "cell_type": "code",
     "collapsed": false,
     "input": [
      "function mantissa(x::Float64) #esta funci\u00f3n da la mantisa de diez_a_bin_con_punto (para poder comparara con la funcion bits)\n",
      "    if x==0.0\n",
      "        como_bits=repeat(\"0\",52) #Mi funci\u00f3n arroja \"0.0\" con x=0.0, pero quiero comparar con la funci\u00f3n bits\n",
      "    else\n",
      "        c=diez_a_bin_con_punto(x)\n",
      "        #println(c)\n",
      "        if c[1]=='-' #solo quito el signo de la cadena\n",
      "            a=c[2:length(c)]\n",
      "        else\n",
      "            a=c\n",
      "        end\n",
      "        if a[1]=='1' #si tiene parte entera, quito el primer 1 y el punto\n",
      "            b=search(a,'.')\n",
      "            como_bits=a[2:b-1]*a[b+1:length(a)]\n",
      "        else\n",
      "            b=search(a,'1') #si no tiene parte entera, solo voy hasta el primer uno y tomo lo que est\u00e1 a la derecha\n",
      "            como_bits=a[b+1:length(a)]\n",
      "        end\n",
      "    end\n",
      "    como_bits\n",
      "end"
     ],
     "language": "python",
     "metadata": {},
     "outputs": [
      {
       "metadata": {},
       "output_type": "pyout",
       "prompt_number": 187,
       "text": [
        "mantissa (generic function with 1 method)"
       ]
      }
     ],
     "prompt_number": 187
    },
    {
     "cell_type": "code",
     "collapsed": false,
     "input": [
      "a=54.987134\n",
      "println(mantissa(a))\n",
      "println(bits(a)[13:64])\n",
      "mantissa(a)==bits(a)[13:64] #n\u00f3tese que esto DEBE ser true para CUALQUIER FLOTANTE "
     ],
     "language": "python",
     "metadata": {},
     "outputs": [
      {
       "output_type": "stream",
       "stream": "stdout",
       "text": [
        "1011011111100101101001101000001010110110001010000100\n"
       ]
      },
      {
       "output_type": "stream",
       "stream": "stdout",
       "text": [
        "1011011111100101101001101000001010110110001010000100\n"
       ]
      },
      {
       "metadata": {},
       "output_type": "pyout",
       "prompt_number": 188,
       "text": [
        "true"
       ]
      }
     ],
     "prompt_number": 188
    },
    {
     "cell_type": "markdown",
     "metadata": {},
     "source": [
      "\u00a1Si funciona! :)"
     ]
    },
    {
     "cell_type": "markdown",
     "metadata": {},
     "source": [
      "En los siguientes renglones deduzco como la funci\u00f3n bits expresa las potencias: posici\u00f3n 2:12 de la cadena que arroja bits (solo por diversi\u00f3n)"
     ]
    },
    {
     "cell_type": "markdown",
     "metadata": {},
     "source": [
      "Yo se que la m\u00e1xima potencia de 2 en cualquier flotante (con parte entera) se obtiene truncando el logaritmo en base 2,\n",
      "por ejemplo para 643.0873, la m\u00e1xima potencia de 2 es:"
     ]
    },
    {
     "cell_type": "code",
     "collapsed": false,
     "input": [
      "itrunc(log2(643.0873))"
     ],
     "language": "python",
     "metadata": {},
     "outputs": [
      {
       "metadata": {},
       "output_type": "pyout",
       "prompt_number": 36,
       "text": [
        "9"
       ]
      }
     ],
     "prompt_number": 36
    },
    {
     "cell_type": "markdown",
     "metadata": {},
     "source": [
      "Ya que $2^9=512 < 643.0873$"
     ]
    },
    {
     "cell_type": "markdown",
     "metadata": {},
     "source": [
      "Se entonces que bits(643.0873)[2:12] debe ser $9_{2}$ m\u00e1s un offset. Este offset es el que quiero encontrar"
     ]
    },
    {
     "cell_type": "markdown",
     "metadata": {},
     "source": [
      "Si el flotante no tiene parte entera, entonces 2^{itrunc(log2(x))-1} es la m\u00e1xima potencia de dos que 'cabe' en x, es decir:"
     ]
    },
    {
     "cell_type": "code",
     "collapsed": false,
     "input": [
      "x=0.345987234 #flotante sin parte entera\n",
      "println(2.0^(itrunc(log2(x)))<x)\n",
      "println(2.0^(itrunc(log2(x))-1)<x)\n",
      "print(2.0^(itrunc(log2(x))-1))"
     ],
     "language": "python",
     "metadata": {},
     "outputs": [
      {
       "output_type": "stream",
       "stream": "stdout",
       "text": [
        "false\n"
       ]
      },
      {
       "output_type": "stream",
       "stream": "stdout",
       "text": [
        "true\n",
        "0.25"
       ]
      }
     ],
     "prompt_number": 161
    },
    {
     "cell_type": "code",
     "collapsed": false,
     "input": [
      "function para_potencia(x::Float64) #esta funci\u00f3n debe arrojar el offset de la potencia en la funci\u00f3n bits\n",
      "    if itrunc(x)==0\n",
      "        bin_a_10(bits(x)[2:12])-itrunc(log2(abs(x)))+1\n",
      "    else\n",
      "        bin_a_10(bits(x)[2:12])-itrunc(log2(abs(x)))\n",
      "    end\n",
      "end"
     ],
     "language": "python",
     "metadata": {},
     "outputs": [
      {
       "metadata": {},
       "output_type": "pyout",
       "prompt_number": 166,
       "text": [
        "para_potencia (generic function with 1 method)"
       ]
      }
     ],
     "prompt_number": 166
    },
    {
     "cell_type": "markdown",
     "metadata": {},
     "source": [
      "Ahora pruebo para un conjunto arbitrario de flotantes"
     ]
    },
    {
     "cell_type": "code",
     "collapsed": false,
     "input": [
      "a=10\n",
      "b=zeros(a)\n",
      "for i=1:a\n",
      "    b[i]=rand()/rand() #lo hago as\u00ed para que tambi\u00e9n haya flotantes mayores que 1\n",
      "    println(para_potencia(b[i]))\n",
      "end\n",
      "#b #por si quieres ver el vector b"
     ],
     "language": "python",
     "metadata": {},
     "outputs": [
      {
       "output_type": "stream",
       "stream": "stdout",
       "text": [
        "1023\n"
       ]
      },
      {
       "output_type": "stream",
       "stream": "stdout",
       "text": [
        "1023\n",
        "1023\n",
        "1023\n",
        "1023\n",
        "1023\n",
        "1023\n",
        "1023\n",
        "1023\n",
        "1023\n"
       ]
      }
     ],
     "prompt_number": 206
    },
    {
     "cell_type": "markdown",
     "metadata": {},
     "source": [
      "De modo que el offset es $1023=2^{10}-1$"
     ]
    },
    {
     "cell_type": "code",
     "collapsed": false,
     "input": [],
     "language": "python",
     "metadata": {},
     "outputs": []
    },
    {
     "cell_type": "heading",
     "level": 4,
     "metadata": {},
     "source": [
      "[6]"
     ]
    },
    {
     "cell_type": "code",
     "collapsed": false,
     "input": [
      "x=0.1 \n",
      "println(diez_a_bin_con_punto(x))\n",
      "println(bin_a_10_con_punto(diez_a_bin_con_punto(x)))"
     ],
     "language": "python",
     "metadata": {},
     "outputs": [
      {
       "output_type": "stream",
       "stream": "stdout",
       "text": [
        "0.00011001100110011001100110011001100110011001100110011010\n"
       ]
      },
      {
       "output_type": "stream",
       "stream": "stdout",
       "text": [
        "0.1\n"
       ]
      }
     ],
     "prompt_number": 21
    },
    {
     "cell_type": "markdown",
     "metadata": {},
     "source": [
      "lo que noto es que es (salvo por ceros a la izq) una suceci\u00f3n de 1100"
     ]
    },
    {
     "cell_type": "code",
     "collapsed": false,
     "input": [
      "println(bin_a_10_con_punto(\"0.0001100\"))\n",
      "println(bin_a_10_con_punto(\"0.0001\"))"
     ],
     "language": "python",
     "metadata": {},
     "outputs": [
      {
       "output_type": "stream",
       "stream": "stdout",
       "text": [
        "0.0"
       ]
      },
      {
       "output_type": "stream",
       "stream": "stdout",
       "text": [
        "9375\n",
        "0.0625\n"
       ]
      }
     ],
     "prompt_number": 216
    },
    {
     "cell_type": "code",
     "collapsed": false,
     "input": [
      "println(diez_a_bin_con_punto(0.1))\n",
      "println(diez_a_bin_con_punto(0.125))"
     ],
     "language": "python",
     "metadata": {},
     "outputs": [
      {
       "output_type": "stream",
       "stream": "stdout",
       "text": [
        "0.00011001100110011001100110011001100110011001100110011010\n"
       ]
      },
      {
       "output_type": "stream",
       "stream": "stdout",
       "text": [
        "0.00100000000000000000000000000000000000000000000000000000\n"
       ]
      }
     ],
     "prompt_number": 217
    },
    {
     "cell_type": "code",
     "collapsed": false,
     "input": [],
     "language": "python",
     "metadata": {},
     "outputs": [],
     "prompt_number": 218
    },
    {
     "cell_type": "heading",
     "level": 2,
     "metadata": {},
     "source": [
      "La representaci\u00f3n \"punto flotante\""
     ]
    },
    {
     "cell_type": "code",
     "collapsed": false,
     "input": [
      "# este In[] es para mostrar lo que hace la funci\u00f3n bits a distintos elementos (tanto enteros como flotantes)\n",
      "lista1=[1/2, 1/4, 0.1, 0.2, 0.4, 3.14159, 31.4159];\n",
      "lista2=[1,  2, -2];\n",
      "lista3=[1.0, 2.0, -2.0]\n",
      "println(typeof(lista1))\n",
      "println(typeof(lista2))\n",
      "println(typeof(lista3))\n",
      "#bits(lista1[3])\n",
      "#bits(lista2[3])\n",
      "bits(lista3[1]) "
     ],
     "language": "python",
     "metadata": {},
     "outputs": [
      {
       "output_type": "stream",
       "stream": "stdout",
       "text": [
        "Array{"
       ]
      },
      {
       "output_type": "stream",
       "stream": "stdout",
       "text": [
        "Float64,1}\n",
        "Array{Int64,1}\n",
        "Array{Float64,1}\n"
       ]
      },
      {
       "metadata": {},
       "output_type": "pyout",
       "prompt_number": 227,
       "text": [
        "\"0011111111110000000000000000000000000000000000000000000000000000\""
       ]
      }
     ],
     "prompt_number": 227
    },
    {
     "cell_type": "code",
     "collapsed": false,
     "input": [],
     "language": "python",
     "metadata": {},
     "outputs": [],
     "prompt_number": 228
    },
    {
     "cell_type": "markdown",
     "metadata": {},
     "source": [
      "Criterio para la funci\u00f3n bits:\n",
      "\n",
      "posici\u00f3n 1 = signo\n",
      "\n",
      "posici\u00f3n 2-12 = (m\u00e1xima potencia de dos + $(2^{10} -1))_2$\n",
      "\n",
      "posici\u00f3n 13-64 = el n\u00famero binario que resulta de transformar el n\u00famero original menos 2^m\u00e1xima potencia de dos = mantissa"
     ]
    },
    {
     "cell_type": "code",
     "collapsed": false,
     "input": [
      "function diez_a_bin(y::Float64) #hice una funci\u00f3n que imita a la funci\u00f3n bits\n",
      "    if y==0.0\n",
      "        join(zeros(Int,64))\n",
      "    else\n",
      "        if y<0 #signo\n",
      "            a=\"1\"\n",
      "        else\n",
      "            a=\"0\";\n",
      "        end\n",
      "        x=abs(y)\n",
      "        \n",
      "        if itrunc(x)==0 #potencia\n",
      "            b=diez_a_bin(1023+itrunc(log2(x))-1)\n",
      "        else\n",
      "            b=diez_a_bin(1023+itrunc(log2(x)))\n",
      "        end\n",
      "        if length(b)!=11\n",
      "            b=join(zeros(Int,11-length(b)))*b\n",
      "        end\n",
      "        \n",
      "        c=mantissa(x) #mantissa\n",
      "        \n",
      "        a*b*c\n",
      "    end\n",
      "end"
     ],
     "language": "python",
     "metadata": {},
     "outputs": [
      {
       "metadata": {},
       "output_type": "pyout",
       "prompt_number": 189,
       "text": [
        "diez_a_bin (generic function with 2 methods)"
       ]
      }
     ],
     "prompt_number": 189
    },
    {
     "cell_type": "markdown",
     "metadata": {},
     "source": [
      "Notese que ahora la funci\u00f3n diez_a_bin tiene dos m\u00e9todos, uno con argumento entero (que imita la funci\u00f3n \"bin\") y otro con argumento flotante (que imita la funci\u00f3n \"bits\")"
     ]
    },
    {
     "cell_type": "code",
     "collapsed": false,
     "input": [
      "methods(diez_a_bin)"
     ],
     "language": "python",
     "metadata": {},
     "outputs": [
      {
       "html": [
        "2 methods for generic function <b>diez_a_bin</b>:<ul><li> diez_a_bin(m::<b>Int64</b>) at In[7]:2<li> diez_a_bin(y::<b>Float64</b>) at In[189]:2</ul>"
       ],
       "metadata": {},
       "output_type": "pyout",
       "prompt_number": 194,
       "text": [
        "# 2 methods for generic function \"diez_a_bin\":\n",
        "diez_a_bin(m::Int64) at In[7]:2\n",
        "diez_a_bin(y::Float64) at In[189]:2"
       ]
      }
     ],
     "prompt_number": 194
    },
    {
     "cell_type": "code",
     "collapsed": false,
     "input": [
      "x=-1897432.5234;\n",
      "println(diez_a_bin(x))\n",
      "println(bits(x))\n",
      "diez_a_bin(x)==bits(x)"
     ],
     "language": "python",
     "metadata": {},
     "outputs": [
      {
       "output_type": "stream",
       "stream": "stdout",
       "text": [
        "1100000100111100111100111101100010000101111111011000101011011011\n"
       ]
      },
      {
       "output_type": "stream",
       "stream": "stdout",
       "text": [
        "1100000100111100111100111101100010000101111111011000101011011011\n"
       ]
      },
      {
       "metadata": {},
       "output_type": "pyout",
       "prompt_number": 193,
       "text": [
        "true"
       ]
      }
     ],
     "prompt_number": 193
    },
    {
     "cell_type": "code",
     "collapsed": false,
     "input": [],
     "language": "python",
     "metadata": {},
     "outputs": []
    }
   ],
   "metadata": {}
  }
 ]
}