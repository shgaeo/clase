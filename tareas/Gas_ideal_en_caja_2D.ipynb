{
 "metadata": {
  "language": "Julia",
  "name": "",
  "signature": "sha256:7bcf09958803a8f076c48b9b10b6c7ca319b2e5c48103a27ca75a0754cbedea0"
 },
 "nbformat": 3,
 "nbformat_minor": 0,
 "worksheets": [
  {
   "cells": [
    {
     "cell_type": "code",
     "collapsed": false,
     "input": [],
     "language": "python",
     "metadata": {},
     "outputs": [],
     "prompt_number": 2
    },
    {
     "cell_type": "heading",
     "level": 4,
     "metadata": {},
     "source": [
      "Este notebook es para la tarea 6 del curso:"
     ]
    },
    {
     "cell_type": "markdown",
     "metadata": {},
     "source": [
      "    \n",
      "\n",
      "Haz un gas ideal:\n",
      "\n",
      "- Part\u00edculas en 2D (x y v que son vectores con 2 entradas)\n",
      "- Hacer una funci\u00f3n que genere al azar una part\u00edcula\n",
      "- Hacer una funci\u00f3n que agregue una part\u00edcula al Gas (cuidar que el n\u00famero de part\u00edculas se actualice)\n",
      "- Hacer una funci\u00f3n que genere un gas\n",
      "- Mover el gas: actualizar todas las part\u00edculas y hacer algo en las fronteras (de preferencia, colisiones el\u00e1sticas con vectores)\n",
      "- [Para empezar: colisiones inel\u00e1sticas: si se sale, se queda donde est\u00e1; y/o condiciones peri\u00f3dicas: si se sale, se regresa del otro lado]\n",
      "\n"
     ]
    },
    {
     "cell_type": "code",
     "collapsed": false,
     "input": [
      "type Particula #defino el tipo part\u00edcula\n",
      "    pos::Vector{Float64}\n",
      "    vel::Vector{Float64}\n",
      "    \n",
      "    Particula(pos::Vector{Float64},vel::Vector{Float64})=\n",
      "    length(pos)!=2 || length(vel)!=2 ? error(\"Deben ser part\u00edculas en 2D\") : new(pos,vel) #\u00fanicamente vectores con 2 entradas\n",
      "end\n",
      "\n",
      "Particula(pos::Vector,vel::Vector)=Particula(float64(pos),float64(vel))"
     ],
     "language": "python",
     "metadata": {},
     "outputs": [
      {
       "metadata": {},
       "output_type": "pyout",
       "prompt_number": 3,
       "text": [
        "Particula (constructor with 2 methods)"
       ]
      }
     ],
     "prompt_number": 3
    },
    {
     "cell_type": "code",
     "collapsed": false,
     "input": [
      "part1=Particula([\"1\",\"3\"],[2,1])"
     ],
     "language": "python",
     "metadata": {},
     "outputs": [
      {
       "metadata": {},
       "output_type": "pyout",
       "prompt_number": 4,
       "text": [
        "Particula([1.0,3.0],[2.0,1.0])"
       ]
      }
     ],
     "prompt_number": 4
    },
    {
     "cell_type": "code",
     "collapsed": false,
     "input": [
      "type Gas #ahora defino el tipo gas (que consta de varias part\u00edculas)\n",
      "    n::Int64\n",
      "    particulas::Vector{Particula}\n",
      "    \n",
      "    Gas(n::Int64,particulas::Vector{Particula})=\n",
      "    (length(particulas)!=n ? error(\"n es el n\u00famero de part\u00edculas\") : new(n::Int64,particulas::Vector{Particula}))\n",
      "end\n",
      "\n",
      "Gas(particulas::Vector{Particula})=Gas(length(particulas),particulas)"
     ],
     "language": "python",
     "metadata": {},
     "outputs": [
      {
       "metadata": {},
       "output_type": "pyout",
       "prompt_number": 5,
       "text": [
        "Gas (constructor with 2 methods)"
       ]
      }
     ],
     "prompt_number": 5
    },
    {
     "cell_type": "code",
     "collapsed": false,
     "input": [
      "gas1=Gas([part1,part1])"
     ],
     "language": "python",
     "metadata": {},
     "outputs": [
      {
       "metadata": {},
       "output_type": "pyout",
       "prompt_number": 50,
       "text": [
        "Gas(2,[Particula([1.0,3.0],[2.0,1.0]),Particula([1.0,3.0],[2.0,1.0])])"
       ]
      }
     ],
     "prompt_number": 50
    },
    {
     "cell_type": "code",
     "collapsed": false,
     "input": [],
     "language": "python",
     "metadata": {},
     "outputs": [],
     "prompt_number": 7
    },
    {
     "cell_type": "heading",
     "level": 4,
     "metadata": {},
     "source": [
      "Ahora creo una funci\u00f3n que genere una part\u00edcula con posici\u00f3n y velocidad aleatoria\n",
      "(posici\u00f3n $\\in (0,1)$ y velocidad $\\in (-1,1)$)"
     ]
    },
    {
     "cell_type": "code",
     "collapsed": false,
     "input": [
      "unoMenosUno()=1-2rand();\n",
      "partic_aleat()=Particula([rand(),rand()],[unoMenosUno(),unoMenosUno()])"
     ],
     "language": "python",
     "metadata": {},
     "outputs": [
      {
       "metadata": {},
       "output_type": "pyout",
       "prompt_number": 32,
       "text": [
        "partic_aleat (generic function with 1 method)"
       ]
      }
     ],
     "prompt_number": 32
    },
    {
     "cell_type": "code",
     "collapsed": false,
     "input": [
      "part2=partic_aleat()"
     ],
     "language": "python",
     "metadata": {},
     "outputs": [
      {
       "metadata": {},
       "output_type": "pyout",
       "prompt_number": 47,
       "text": [
        "Particula([0.191293,0.138892],[-0.430146,0.890562])"
       ]
      }
     ],
     "prompt_number": 47
    },
    {
     "cell_type": "heading",
     "level": 4,
     "metadata": {},
     "source": [
      "Ahora creo una funci\u00f3n que agregue una part\u00edcula a Gas"
     ]
    },
    {
     "cell_type": "code",
     "collapsed": false,
     "input": [
      "function agregaParticula!(g::Gas,p::Particula)\n",
      "    push!(g.particulas,p)\n",
      "    g.n+=1\n",
      "    g\n",
      "end "
     ],
     "language": "python",
     "metadata": {},
     "outputs": [
      {
       "metadata": {},
       "output_type": "pyout",
       "prompt_number": 48,
       "text": [
        "agregaParticula! (generic function with 1 method)"
       ]
      }
     ],
     "prompt_number": 48
    },
    {
     "cell_type": "code",
     "collapsed": false,
     "input": [
      "println(gas1)\n",
      "agregaParticula!(gas1,part2)\n",
      "gas1"
     ],
     "language": "python",
     "metadata": {},
     "outputs": [
      {
       "output_type": "stream",
       "stream": "stdout",
       "text": [
        "Gas("
       ]
      },
      {
       "output_type": "stream",
       "stream": "stdout",
       "text": [
        "2,[Particula([1.0,3.0],[2.0,1.0]),Particula([1.0,3.0],[2.0,1.0])])\n"
       ]
      },
      {
       "metadata": {},
       "output_type": "pyout",
       "prompt_number": 51,
       "text": [
        "Gas(3,[Particula([1.0,3.0],[2.0,1.0]),Particula([1.0,3.0],[2.0,1.0]),Particula([0.191293,0.138892],[-0.430146,0.890562])])"
       ]
      }
     ],
     "prompt_number": 51
    },
    {
     "cell_type": "code",
     "collapsed": false,
     "input": [],
     "language": "python",
     "metadata": {},
     "outputs": [],
     "prompt_number": 12
    },
    {
     "cell_type": "heading",
     "level": 4,
     "metadata": {},
     "source": [
      "Creo una funci\u00f3n que genere un gas (con valores aleatorios para las velocidades y posiciones de cada part\u00edcula)"
     ]
    },
    {
     "cell_type": "code",
     "collapsed": false,
     "input": [
      "function generaGas(n::Int64) #funci\u00f3n que genera un gas con n part\u00edculas aleatorias\n",
      "    gas=Gas(Particula[])\n",
      "    for i=1:n\n",
      "        agregaParticula!(gas,partic_aleat())\n",
      "    end\n",
      "    gas\n",
      "end"
     ],
     "language": "python",
     "metadata": {},
     "outputs": [
      {
       "metadata": {},
       "output_type": "pyout",
       "prompt_number": 52,
       "text": [
        "generaGas (generic function with 1 method)"
       ]
      }
     ],
     "prompt_number": 52
    },
    {
     "cell_type": "code",
     "collapsed": false,
     "input": [
      "gas2=generaGas(4)"
     ],
     "language": "python",
     "metadata": {},
     "outputs": [
      {
       "metadata": {},
       "output_type": "pyout",
       "prompt_number": 53,
       "text": [
        "Gas(4,[Particula([0.96595,0.223811],[0.0467351,0.592859]),Particula([0.18143,0.0755274],[0.485464,-0.166756]),Particula([0.387101,0.74469],[0.987032,0.0594902]),Particula([0.562406,0.640034],[-0.994212,0.985215])])"
       ]
      }
     ],
     "prompt_number": 53
    },
    {
     "cell_type": "heading",
     "level": 4,
     "metadata": {},
     "source": [
      "Lo siguiente que quiero hacer es crear una funci\u00f3n para mover el gas, pero para 'ver' este movimiento primero voy a hacer una funci\u00f3n que grafique un gas"
     ]
    },
    {
     "cell_type": "code",
     "collapsed": false,
     "input": [
      "using PyPlot;\n",
      "#PyPlot.ion()\n",
      "\n",
      "function graficaGas(g::Gas)\n",
      "    #primero tengo que crear dos arreglos, uno que sea las x's y otro que se las y's\n",
      "    equis=Float64[]\n",
      "    ye=Float64[]\n",
      "    for i=1:g.n\n",
      "        push!(equis,(g.particulas[i]).pos[1])\n",
      "        push!(ye,(g.particulas[i]).pos[2])\n",
      "    end\n",
      "    \n",
      "    PyPlot.plot(equis,ye,\"bo\")\n",
      "    PyPlot.xlim(0.0,1.0)\n",
      "    PyPlot.ylim(0.0,1.0)\n",
      "    for i=1:g.n #comenta o descomenta estos tres renglones si quieres que tengan n\u00fameros los puntos\n",
      "        PyPlot.annotate(\"$i\",xy=[equis[i]+0.02;ye[i]+0.02])\n",
      "    end\n",
      "    \n",
      "end"
     ],
     "language": "python",
     "metadata": {},
     "outputs": [
      {
       "metadata": {},
       "output_type": "pyout",
       "prompt_number": 54,
       "text": [
        "graficaGas (generic function with 1 method)"
       ]
      }
     ],
     "prompt_number": 54
    },
    {
     "cell_type": "code",
     "collapsed": false,
     "input": [
      "pygui(false);\n",
      "gas3=generaGas(10);\n",
      "graficaGas(gas3)"
     ],
     "language": "python",
     "metadata": {},
     "outputs": [
      {
       "metadata": {},
       "output_type": "display_data",
       "png": "[encoded data removed]",
       "text": [
        "Figure(PyObject <matplotlib.figure.Figure object at 0x7f6df4650fd0>)"
       ]
      }
     ],
     "prompt_number": 69
    },
    {
     "cell_type": "heading",
     "level": 4,
     "metadata": {},
     "source": [
      "Ahora s\u00ed creo una funci\u00f3n que mueva el gas en un paso \u03b4t que das como argumento"
     ]
    },
    {
     "cell_type": "heading",
     "level": 4,
     "metadata": {},
     "source": [
      "Primero el caso `PERI\u00d3DICO` (las part\u00edculas salen del otro lado de la pared sin modificar su velocidad)"
     ]
    },
    {
     "cell_type": "code",
     "collapsed": false,
     "input": [
      "function mover_periodico!(g::Gas,\u03b4t::Float64)\n",
      "    for i=1:g.n\n",
      "        for k=1:2\n",
      "            (g.particulas[i]).pos[k]=mod1((g.particulas[i]).pos[k] + \u03b4t*(g.particulas[i]).vel[k],1)\n",
      "        end\n",
      "    end\n",
      "end"
     ],
     "language": "python",
     "metadata": {},
     "outputs": [
      {
       "metadata": {},
       "output_type": "pyout",
       "prompt_number": 76,
       "text": [
        "mover_periodico! (generic function with 1 method)"
       ]
      }
     ],
     "prompt_number": 76
    },
    {
     "cell_type": "code",
     "collapsed": false,
     "input": [
      "n=20 #n\u00famero de part\u00edculas\n",
      "pasos=20 #n\u00famero de pasos \u03b4t\n",
      "\n",
      "gas4=generaGas(n);\n",
      "pygui(true) #esto es para permitir la gr\u00e1fica sea 'interactiva' (no se bien que signifique eso pero en este caso\n",
      "                #particular permite que se vean varios plot en la misma figura)\n",
      "for i=1:pasos\n",
      "    PyPlot.clf() #este comando 'limpia' la gr\u00e1fica, si lo comentas se ven las trayectorias de las part\u00edculas\n",
      "    graficaGas(gas4)\n",
      "    #PyPlot.draw()\n",
      "    #PyPlot.show() \n",
      "        #estos dos ultimos no son necesarios\n",
      "    sleep(0.5)\n",
      "    mover_periodico!(gas4,2.0^-5)\n",
      "end    "
     ],
     "language": "python",
     "metadata": {},
     "outputs": [],
     "prompt_number": 91
    },
    {
     "cell_type": "heading",
     "level": 4,
     "metadata": {},
     "source": [
      "Ahora el caso totalmente `INEL\u00c1STICO` (las particulas se 'pegan' a la pared al llegar)"
     ]
    },
    {
     "cell_type": "code",
     "collapsed": false,
     "input": [
      "function mover_inelastico!(g::Gas,\u03b4t::Float64)\n",
      "    for i=1:g.n\n",
      "        for k=1:2\n",
      "            temp=(g.particulas[i]).pos[k] + \u03b4t*(g.particulas[i]).vel[k]\n",
      "            if temp>1\n",
      "                (g.particulas[i]).pos[k]=1\n",
      "                (g.particulas[i]).vel=[0.0,0.0]\n",
      "            elseif temp<0\n",
      "                (g.particulas[i]).pos[k]=0\n",
      "                (g.particulas[i]).vel=[0.0,0.0]\n",
      "            else\n",
      "                (g.particulas[i]).pos[k]=temp\n",
      "            end\n",
      "        end\n",
      "    end\n",
      "end"
     ],
     "language": "python",
     "metadata": {},
     "outputs": [
      {
       "metadata": {},
       "output_type": "pyout",
       "prompt_number": 101,
       "text": [
        "mover_inelastico! (generic function with 1 method)"
       ]
      }
     ],
     "prompt_number": 101
    },
    {
     "cell_type": "code",
     "collapsed": false,
     "input": [
      "n=20 #n\u00famero de part\u00edculas\n",
      "pasos=20 #n\u00famero de pasos \u03b4t\n",
      "\n",
      "gas4=generaGas(n);\n",
      "pygui(true) #esto es para permitir la gr\u00e1fica sea 'interactiva' (no se bien que signifique eso pero en este caso\n",
      "                #particular permite que se vean varios plot en la misma figura)\n",
      "for i=1:pasos\n",
      "    PyPlot.clf() #este comando 'limpia' la gr\u00e1fica, si lo comentas se ven las trayectorias de las part\u00edculas\n",
      "    graficaGas(gas4)\n",
      "    #PyPlot.draw()\n",
      "    #PyPlot.show() \n",
      "        #estos dos ultimos no son necesarios\n",
      "    sleep(0.5)\n",
      "    mover_inelastico!(gas4,2.0^-5)\n",
      "end    "
     ],
     "language": "python",
     "metadata": {},
     "outputs": [],
     "prompt_number": 102
    },
    {
     "cell_type": "heading",
     "level": 4,
     "metadata": {},
     "source": [
      "Finalmente el caso totalmente `EL\u00c1STICO` (las particulas se 'rebotan' con la pared manteniendo la magnitud de su velocidad)"
     ]
    },
    {
     "cell_type": "code",
     "collapsed": false,
     "input": [
      "function mover_elastico!(g::Gas,\u03b4t::Float64)\n",
      "    for i=1:g.n\n",
      "        for k=1:2\n",
      "            temp=(g.particulas[i]).pos[k] + \u03b4t*(g.particulas[i]).vel[k]\n",
      "            if temp<0 || temp>1\n",
      "                (g.particulas[i]).pos[k]=mod1(-temp,1)\n",
      "                (g.particulas[i]).vel[k]=-(g.particulas[i]).vel[k]\n",
      "            else\n",
      "                (g.particulas[i]).pos[k]=temp\n",
      "            end \n",
      "        end\n",
      "    end\n",
      "end"
     ],
     "language": "python",
     "metadata": {},
     "outputs": [
      {
       "metadata": {},
       "output_type": "pyout",
       "prompt_number": 112,
       "text": [
        "mover_elastico! (generic function with 1 method)"
       ]
      }
     ],
     "prompt_number": 112
    },
    {
     "cell_type": "code",
     "collapsed": false,
     "input": [
      "n=5 #n\u00famero de part\u00edculas\n",
      "pasos=20 #n\u00famero de pasos \u03b4t\n",
      "\n",
      "gas4=generaGas(n);\n",
      "pygui(true) #esto es para permitir la gr\u00e1fica sea 'interactiva' (no se bien que signifique eso pero en este caso\n",
      "                #particular permite que se vean varios plot en la misma figura)\n",
      "for i=1:pasos\n",
      "    PyPlot.clf() #este comando 'limpia' la gr\u00e1fica, si lo comentas se ven las trayectorias de las part\u00edculas\n",
      "    graficaGas(gas4)\n",
      "    #PyPlot.draw()\n",
      "    #PyPlot.show() \n",
      "        #estos dos ultimos no son necesarios\n",
      "    sleep(0.5)\n",
      "    mover_elastico!(gas4,2.0^-5)\n",
      "end    "
     ],
     "language": "python",
     "metadata": {},
     "outputs": [],
     "prompt_number": 142
    },
    {
     "cell_type": "code",
     "collapsed": false,
     "input": [],
     "language": "python",
     "metadata": {},
     "outputs": [],
     "prompt_number": 80
    },
    {
     "cell_type": "code",
     "collapsed": false,
     "input": [],
     "language": "python",
     "metadata": {},
     "outputs": []
    }
   ],
   "metadata": {}
  }
 ]
}