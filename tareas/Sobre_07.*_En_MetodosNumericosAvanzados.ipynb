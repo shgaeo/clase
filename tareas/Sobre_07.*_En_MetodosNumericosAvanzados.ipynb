{
 "metadata": {
  "language": "Julia",
  "name": "",
  "signature": "sha256:f3b761dd7314989da9b722326fdb77026954f3a8c3420a8f7bc568d6af251efd"
 },
 "nbformat": 3,
 "nbformat_minor": 0,
 "worksheets": [
  {
   "cells": [
    {
     "cell_type": "code",
     "collapsed": false,
     "input": [],
     "language": "python",
     "metadata": {},
     "outputs": [],
     "prompt_number": 2
    },
    {
     "cell_type": "heading",
     "level": 1,
     "metadata": {},
     "source": [
      "[1]"
     ]
    },
    {
     "cell_type": "heading",
     "level": 4,
     "metadata": {},
     "source": [
      "(i) Define un tipo comp\u00f3sito de Julia `Intervalo` para representar un intervalo de dos n\u00fameros reales, que incluya redondeo dirigido. Por el momento supongamos que todos los elementos ser\u00e1n de tipo BigFloat.\n",
      "\n",
      "Para ello, deber\u00e1s definir constructores que acepten cadenas y/o n\u00fameros."
     ]
    },
    {
     "cell_type": "code",
     "collapsed": false,
     "input": [
      "type Intervalo\n",
      "    a::BigFloat\n",
      "    b::BigFloat\n",
      "    \n",
      "    Intervalo(a::BigFloat,b::BigFloat) = ( a>=b ? new(b,a) : new(a,b))\n",
      "end\n",
      "\n",
      "function redonUP(x)\n",
      "    with_rounding(BigFloat,RoundUp) do \n",
      "        BigFloat(x) \n",
      "    end\n",
      "end\n",
      "\n",
      "function redonDOWN(x)\n",
      "    with_rounding(BigFloat,RoundDown) do \n",
      "        BigFloat(x) \n",
      "    end\n",
      "end\n",
      "\n",
      "Intervalo(a,b)=Intervalo(redonDOWN(a),redonUP(b)) #Con esta definici\u00f3n puedo usar como argumento cadenas de caracteres\n",
      "                                                    # tomando en cuenta el redondeo\n",
      "Intervalo(a)=Intervalo(a,a)"
     ],
     "language": "python",
     "metadata": {},
     "outputs": [
      {
       "output_type": "stream",
       "stream": "stderr",
       "text": [
        "Warning: imported binding for Intervalo overwritten in module Main\n"
       ]
      },
      {
       "metadata": {},
       "output_type": "pyout",
       "prompt_number": 61,
       "text": [
        "Intervalo (constructor with 3 methods)"
       ]
      }
     ],
     "prompt_number": 61
    },
    {
     "cell_type": "code",
     "collapsed": false,
     "input": [
      "methods(Intervalo)"
     ],
     "language": "python",
     "metadata": {},
     "outputs": [
      {
       "html": [
        "3 methods for generic function <b>Intervalo</b>:<ul><li> Intervalo(a::<b>BigFloat</b>,b::<b>BigFloat</b>) at In[7]:5<li> Intervalo(a,b) at In[7]:20<li> Intervalo(a) at In[7]:22</ul>"
       ],
       "metadata": {},
       "output_type": "pyout",
       "prompt_number": 8,
       "text": [
        "# 3 methods for generic function \"Intervalo\":\n",
        "Intervalo(a::BigFloat,b::BigFloat) at In[7]:5\n",
        "Intervalo(a,b) at In[7]:20\n",
        "Intervalo(a) at In[7]:22"
       ]
      }
     ],
     "prompt_number": 8
    },
    {
     "cell_type": "code",
     "collapsed": false,
     "input": [
      "Intervalo(\"0.1\",\"0.1\")"
     ],
     "language": "python",
     "metadata": {},
     "outputs": [
      {
       "metadata": {},
       "output_type": "pyout",
       "prompt_number": 16,
       "text": [
        "Intervalo(9.999999999999999999999999999999999999999999999999999999999999999999999999999914e-02 with 256 bits of precision,1.000000000000000000000000000000000000000000000000000000000000000000000000000002e-01 with 256 bits of precision)"
       ]
      }
     ],
     "prompt_number": 16
    },
    {
     "cell_type": "code",
     "collapsed": false,
     "input": [
      "import Base.show\n",
      "show(io::IO, a::Intervalo) = print(io::IO, \"[$(a.a),\n",
      "$(a.b)]\")\n",
      "Intervalo(\"0.1\",\"0.1\")"
     ],
     "language": "python",
     "metadata": {},
     "outputs": [
      {
       "metadata": {},
       "output_type": "pyout",
       "prompt_number": 23,
       "text": [
        "[9.999999999999999999999999999999999999999999999999999999999999999999999999999914e-02,\n",
        "1.000000000000000000000000000000000000000000000000000000000000000000000000000002e-01]"
       ]
      }
     ],
     "prompt_number": 23
    },
    {
     "cell_type": "heading",
     "level": 4,
     "metadata": {},
     "source": [
      "(ii) Implementa las operaciones b\u00e1sicas sobre intervalos."
     ]
    },
    {
     "cell_type": "markdown",
     "metadata": {},
     "source": [
      "Para implementar operaciones que incluyan el redondeo, hay que notar lo siguiente:\n",
      "\n",
      "En la definici\u00f3n de la suma de BigFloat's de Julia hay un redondeo por default, para mostrarlo observemos el siguiente ejemplo:"
     ]
    },
    {
     "cell_type": "code",
     "collapsed": false,
     "input": [
      "println(redonDOWN(\"0.2\"))\n",
      "println(redonDOWN(\"1.0\"))\n",
      "println(redonDOWN(redonDOWN(\"1.0\")+redonDOWN(\"0.2\")))\n",
      "println(redonDOWN(\"1.2\"))"
     ],
     "language": "python",
     "metadata": {},
     "outputs": [
      {
       "output_type": "stream",
       "stream": "stdout",
       "text": [
        "1.999999999999999999999999999999999999999999999999999999999999999999999999999983e-01\n"
       ]
      },
      {
       "output_type": "stream",
       "stream": "stdout",
       "text": [
        "1e+00\n",
        "1.200000000000000000000000000000000000000000000000000000000000000000000000000007e+00\n",
        "1.19999999999999999999999999999999999999999999999999999999999999999999999999999e+00\n"
       ]
      }
     ],
     "prompt_number": 63
    },
    {
     "cell_type": "markdown",
     "metadata": {},
     "source": [
      "Nosotros sabemos que la suma de $1.0_\\mathbb{R} + 0.2_\\mathbb{R} =1.2_\\mathbb{R}$ de los cuales solo $1.0_\\mathbb{R}$ tiene representaci\u00f3n 'exacta' como flotante (sub\u00edndice $\\mathbb{R}$ es para indicar que es el n\u00famero real). Con lo anterior vemos que aunque `redonDOWN`(\"$0.2$\")$<0.2_\\mathbb{R}$  y que `redonDOWN`(\"$1.0$\")$=1_\\mathbb{R}$ la suma \n",
      "\n",
      "`redonDOWN`(\"$0.2$\")$+$ `redonDOWN`(\"$1.0$\")$>1.2_\\mathbb{R}$. \n",
      "\n",
      "Lo que necesitamos para que la suma sea menor (o igual) que $1.2_\\mathbb{R}$ es obligar a usar el redondeo deseado al momento de realizar la suma:"
     ]
    },
    {
     "cell_type": "code",
     "collapsed": false,
     "input": [
      "with_rounding(BigFloat,RoundDown) do \n",
      "    redonDOWN(\"1.0\")+redonDOWN(\"0.2\")\n",
      "end"
     ],
     "language": "python",
     "metadata": {},
     "outputs": [
      {
       "metadata": {},
       "output_type": "pyout",
       "prompt_number": 67,
       "text": [
        "1.19999999999999999999999999999999999999999999999999999999999999999999999999999e+00 with 256 bits of precision"
       ]
      }
     ],
     "prompt_number": 67
    },
    {
     "cell_type": "markdown",
     "metadata": {},
     "source": [
      "Que es justamente `redonDOWN`(\"$1.2$\")\n",
      "\n",
      "Para asegurarnos que esto ocurra con todas las operaciones entre intervalos, voy a incluir en la definici\u00f3n las siguientes funciones:"
     ]
    },
    {
     "cell_type": "code",
     "collapsed": false,
     "input": [
      "function redonUP(f::Function,x,y)\n",
      "    with_rounding(BigFloat,RoundUp) do \n",
      "        f(BigFloat(x),BigFloat(y))\n",
      "    end\n",
      "end\n",
      "\n",
      "function redonDOWN(f::Function,x,y)\n",
      "    with_rounding(BigFloat,RoundDown) do \n",
      "        f(BigFloat(x),BigFloat(y))\n",
      "    end\n",
      "end"
     ],
     "language": "python",
     "metadata": {},
     "outputs": [
      {
       "metadata": {},
       "output_type": "pyout",
       "prompt_number": 43,
       "text": [
        "redonDOWN (generic function with 2 methods)"
       ]
      }
     ],
     "prompt_number": 43
    },
    {
     "cell_type": "heading",
     "level": 5,
     "metadata": {},
     "source": [
      "Ahora s\u00ed podemos implementar el c\u00f3digo:"
     ]
    },
    {
     "cell_type": "heading",
     "level": 4,
     "metadata": {},
     "source": [
      "(iii) Limpia tu c\u00f3digo para reducir la repetici\u00f3n de c\u00f3digo, al sacar cada vez c\u00f3digo en com\u00fan a una funci\u00f3n por separado."
     ]
    },
    {
     "cell_type": "code",
     "collapsed": false,
     "input": [
      "function definidor!(f::Function)  #funci\u00f3n que define operaciones entre intervalos\n",
      "    if f!=^\n",
      "        f(x::Intervalo,y::Intervalo) = (f==/ && y.a<0.0 && y.b>0.0) ? error(\"El intervalo divisor no puede contener al cero\") :\n",
      "            Intervalo(min(redonDOWN(f,x.a,y.a),redonDOWN(f,x.b,y.b),redonDOWN(f,x.a,y.b),redonDOWN(f,x.b,y.a),\n",
      "                redonUP(f,x.a,y.a),redonUP(f,x.b,y.b),redonUP(f,x.a,y.b),redonUP(f,x.b,y.a)),\n",
      "            max(redonDOWN(f,x.a,y.a),redonDOWN(f,x.b,y.b),redonDOWN(f,x.a,y.b),redonDOWN(f,x.b,y.a),\n",
      "                redonUP(f,x.a,y.a),redonUP(f,x.b,y.b),redonUP(f,x.a,y.b),redonUP(f,x.b,y.a)))\n",
      "        f(x::Intervalo,y::Number) = (f==/ && (redonDOWN(y)==0.0 || redonUP(y)==0.0)) ?\n",
      "            error(\"No puedo dividir un intervalo entre cero\") :\n",
      "            f(x,Intervalo(y))\n",
      "        f(x::Intervalo,y::ASCIIString) = (f==/ && (redonDOWN(y)==0.0 || redonUP(y)==0.0)) ?\n",
      "            error(\"No puedo dividir un intervalo entre cero\") :\n",
      "            f(x,Intervalo(y))\n",
      "        f(y::Number,x::Intervalo) = (f==/ && x.a<0.0 && x.b>0.0) ? error(\"El intervalo divisor no puede contener al cero\") :\n",
      "            f(Intervalo(y),x)\n",
      "        f(y::ASCIIString,x::Intervalo) = (f==/ && x.a<0.0 && x.b>0.0) ? error(\"El intervalo divisor no puede contener al cero\") :\n",
      "            f(Intervalo(y),x)\n",
      "     else\n",
      "        f(x::Intervalo,y::Integer)= y<0 ? \"1\"/f(x,-y) :\n",
      "            (y==0 ? Intervalo(\"1\") :\n",
      "            (x.a<0.0 && x.b>0.0 ? Intervalo(min(0.0,redonDOWN(f,x.a,y),redonDOWN(f,x.b,y)),max(redonDOWN(f,x.a,y),redonDOWN(f,x.b,y))) :\n",
      "            Intervalo(min(redonDOWN(f,x.a,y),redonDOWN(f,x.b,y)),max(redonDOWN(f,x.a,y),redonDOWN(f,x.b,y)))))       \n",
      "    end\n",
      "end"
     ],
     "language": "python",
     "metadata": {},
     "outputs": [
      {
       "metadata": {},
       "output_type": "pyout",
       "prompt_number": 39,
       "text": [
        "definidor! (generic function with 1 method)"
       ]
      }
     ],
     "prompt_number": 39
    },
    {
     "cell_type": "code",
     "collapsed": false,
     "input": [
      "definidor!(+)\n",
      "definidor!(-)\n",
      "definidor!(*)\n",
      "definidor!(/)\n",
      "definidor!(^)\n",
      "==(x::Intervalo,y::Intervalo) = (x.a==y.a && x.b==y.b) ? true : false"
     ],
     "language": "python",
     "metadata": {},
     "outputs": [
      {
       "metadata": {},
       "output_type": "pyout",
       "prompt_number": 41,
       "text": [
        "== (generic function with 81 methods)"
       ]
      }
     ],
     "prompt_number": 41
    },
    {
     "cell_type": "code",
     "collapsed": false,
     "input": [
      "min(2,1,-2,\n",
      "3,3,121,1)"
     ],
     "language": "python",
     "metadata": {},
     "outputs": [
      {
       "metadata": {},
       "output_type": "pyout",
       "prompt_number": 38,
       "text": [
        "-2"
       ]
      }
     ],
     "prompt_number": 38
    },
    {
     "cell_type": "markdown",
     "metadata": {},
     "source": [
      "Algunas pruebas:"
     ]
    },
    {
     "cell_type": "code",
     "collapsed": false,
     "input": [
      "a=Intervalo(1,\"1.0\")\n",
      "b=Intervalo(\"0.2\",\"0.4\")\n",
      "c=1//3\n",
      "println(\"a+b=\",a+b)\n",
      "println(\"c+a=\",c+a)\n",
      "println(\"b-a=\",b-a)\n",
      "println(\"a-c=\",a-c)\n",
      "println(\"a*b=\",a*b)\n",
      "println(\"a*c=\",a*c)\n",
      "println(\"a/b=\",a/b)\n",
      "println(\"a/c=\",a/c)\n",
      "println(\"a^2=\",a^2)\n",
      "println(\"b^-1=\",b^-1)"
     ],
     "language": "python",
     "metadata": {},
     "outputs": [
      {
       "output_type": "stream",
       "stream": "stdout",
       "text": [
        "a+b=[1.19999999999999999999999999999999999999999999999999999999999999999999999999999e+00,\n",
        "1.400000000000000000000000000000000000000000000000000000000000000000000000000014e+00]"
       ]
      },
      {
       "output_type": "stream",
       "stream": "stdout",
       "text": [
        "\n",
        "c+a=[1.333333333333333333333333333333333333333333333333333333333333333333333333333322e+00,\n",
        "1.333333333333333333333333333333333333333333333333333333333333333333333333333339e+00]\n",
        "b-a=[-8.000000000000000000000000000000000000000000000000000000000000000000000000000017e-01,\n",
        "-5.999999999999999999999999999999999999999999999999999999999999999999999999999948e-01]\n",
        "a-c=[6.666666666666666666666666666666666666666666666666666666666666666666666666666609e-01,\n",
        "6.666666666666666666666666666666666666666666666666666666666666666666666666666695e-01]\n",
        "a*b=[1.999999999999999999999999999999999999999999999999999999999999999999999999999983e-01,\n",
        "4.000000000000000000000000000000000000000000000000000000000000000000000000000009e-01]\n",
        "a*c=[3.333333333333333333333333333333333333333333333333333333333333333333333333333305e-01,\n",
        "3.333333333333333333333333333333333333333333333333333333333333333333333333333348e-01]\n",
        "a/b=[2.499999999999999999999999999999999999999999999999999999999999999999999999999965e+00,\n",
        "5.000000000000000000000000000000000000000000000000000000000000000000000000000069e+00]\n",
        "a/c=[2.999999999999999999999999999999999999999999999999999999999999999999999999999965e+00,\n",
        "3.000000000000000000000000000000000000000000000000000000000000000000000000000035e+00]\n",
        "a^2=[1e+00,\n",
        "1e+00]\n",
        "b^-1=[2.499999999999999999999999999999999999999999999999999999999999999999999999999965e+00,\n",
        "5.000000000000000000000000000000000000000000000000000000000000000000000000000069e+00]\n"
       ]
      }
     ],
     "prompt_number": 329
    },
    {
     "cell_type": "code",
     "collapsed": false,
     "input": [
      "a=Intervalo(\"-1.0\",\"3.0\")\n",
      "b=Intervalo(\"12\",\"13\")\n",
      "c=\"4\"                      #Las constantes a, b, c pueden definirse con o sin comillas\n",
      "println(\"a+b=\",a+b)\n",
      "println(\"c+a=\",c+a)\n",
      "println(\"b-a=\",b-a)\n",
      "println(\"a-c=\",a-c)\n",
      "println(\"a*b=\",a*b)\n",
      "println(\"a*c=\",a*c)\n",
      "println(\"a/b=\",a/b)\n",
      "println(\"a/c=\",a/c)\n",
      "println(\"a^2=\",a^2)\n",
      "println(\"b^-1=\",b^-1)"
     ],
     "language": "python",
     "metadata": {},
     "outputs": [
      {
       "output_type": "stream",
       "stream": "stdout",
       "text": [
        "a+b=[1.1e+01,\n",
        "1.6e+01]"
       ]
      },
      {
       "output_type": "stream",
       "stream": "stdout",
       "text": [
        "\n",
        "c+a=[3e+00,\n",
        "7e+00]\n",
        "b-a=[9e+00,\n",
        "1.4e+01]\n",
        "a-c=[-5e+00,\n",
        "-1e+00]\n",
        "a*b=[-1.3e+01,\n",
        "3.9e+01]\n",
        "a*c=[-4e+00,\n",
        "1.2e+01]\n",
        "a/b=[-8.333333333333333333333333333333333333333333333333333333333333333333333333333369e-02,\n",
        "2.5e-01]\n",
        "a/c=[-2.5e-01,\n",
        "7.5e-01]\n",
        "a^2=[0e+00,\n",
        "9e+00]\n",
        "b^-1=[7.692307692307692307692307692307692307692307692307692307692307692307692307692216e-02,\n",
        "8.333333333333333333333333333333333333333333333333333333333333333333333333333369e-02]\n"
       ]
      }
     ],
     "prompt_number": 331
    },
    {
     "cell_type": "code",
     "collapsed": false,
     "input": [
      "Intervalo(\"2.5\",5)==Intervalo(2.5,5.0)"
     ],
     "language": "python",
     "metadata": {},
     "outputs": [
      {
       "metadata": {},
       "output_type": "pyout",
       "prompt_number": 14,
       "text": [
        "true"
       ]
      }
     ],
     "prompt_number": 14
    },
    {
     "cell_type": "code",
     "collapsed": false,
     "input": [
      "Intervalo(0.0,0.1)==Intervalo(0.0,\"0.1\")"
     ],
     "language": "python",
     "metadata": {},
     "outputs": [
      {
       "metadata": {},
       "output_type": "pyout",
       "prompt_number": 15,
       "text": [
        "false"
       ]
      }
     ],
     "prompt_number": 15
    },
    {
     "cell_type": "heading",
     "level": 1,
     "metadata": {},
     "source": [
      "[2]"
     ]
    },
    {
     "cell_type": "heading",
     "level": 4,
     "metadata": {},
     "source": [
      "Haz un m\u00f3dulo de Julia llamado `Intervalos` en un archivo `intervalos.jl`, que contiene todas las definiciones anteriores"
     ]
    },
    {
     "cell_type": "markdown",
     "metadata": {},
     "source": [
      "Para agregar la carpeta de MisModulos a LOAD_PATH de modo que module busque en esa carpeta hago\n",
      "\n",
      "`push!(LOAD_PATH, \"/home/santiago/Documentos/Escuela-maestr\u00eda/1er-semestre/F\u00edsica-computacional/Clase/MisModulos\")`\n",
      "\n",
      "Para no tener que hacer esto cada vez, lo que hice fue crear el archivo `~/.juliarc.jl` que contiene la instrucci\u00f3n anterior, de modo que ahora LOAD_PATH siempre contendr\u00e1 esta opci\u00f3n de b\u00fasqueda"
     ]
    },
    {
     "cell_type": "code",
     "collapsed": false,
     "input": [
      "Intervalo"
     ],
     "language": "python",
     "metadata": {},
     "outputs": [
      {
       "ename": "LoadError",
       "evalue": "Intervalo not defined\nwhile loading In[1], in expression starting on line 1",
       "output_type": "pyerr",
       "traceback": [
        "Intervalo not defined\nwhile loading In[1], in expression starting on line 1",
        ""
       ]
      }
     ],
     "prompt_number": 1
    },
    {
     "cell_type": "code",
     "collapsed": false,
     "input": [
      "using Intervalos"
     ],
     "language": "python",
     "metadata": {},
     "outputs": [],
     "prompt_number": 2
    },
    {
     "cell_type": "code",
     "collapsed": false,
     "input": [
      "Intervalo"
     ],
     "language": "python",
     "metadata": {},
     "outputs": [
      {
       "metadata": {},
       "output_type": "pyout",
       "prompt_number": 3,
       "text": [
        "Intervalo (constructor with 3 methods)"
       ]
      }
     ],
     "prompt_number": 3
    },
    {
     "cell_type": "code",
     "collapsed": false,
     "input": [
      "Intervalo(2)+Intervalo(\"10\")"
     ],
     "language": "python",
     "metadata": {},
     "outputs": [
      {
       "metadata": {},
       "output_type": "pyout",
       "prompt_number": 4,
       "text": [
        "[1.2e+01,\n",
        "1.2e+01]"
       ]
      }
     ],
     "prompt_number": 4
    },
    {
     "cell_type": "code",
     "collapsed": false,
     "input": [],
     "language": "python",
     "metadata": {},
     "outputs": [],
     "prompt_number": 7
    },
    {
     "cell_type": "heading",
     "level": 1,
     "metadata": {},
     "source": [
      "[3]"
     ]
    },
    {
     "cell_type": "heading",
     "level": 4,
     "metadata": {},
     "source": [
      "(i) Escribe tests (\"pruebas\") usando FactCheck.jl."
     ]
    },
    {
     "cell_type": "code",
     "collapsed": false,
     "input": [
      "using Intervalos,FactCheck"
     ],
     "language": "python",
     "metadata": {},
     "outputs": [],
     "prompt_number": 5
    },
    {
     "cell_type": "code",
     "collapsed": false,
     "input": [
      "facts(\"Probando tipo Intervalo\") do\n",
      "    interv1=Intervalo(-1.0,4.0)\n",
      "    @fact typeof(interv1.a) => BigFloat \n",
      "    @fact interv1 => Intervalo(\"-1.0\",4) #verifico que convierta cadena de caracteres\n",
      "    interv2=Intervalo(\"0.1\",10//3)\n",
      "    numero1=with_rounding(BigFloat,RoundDown) do\n",
      "            BigFloat(\"0.1\")\n",
      "        end\n",
      "    numero2=with_rounding(BigFloat,RoundUp) do\n",
      "            BigFloat(10//3)\n",
      "        end\n",
      "    @fact interv2.a => numero1 #verifico que haga bien el redondeo\n",
      "    @fact interv2.b => numero2 #verifico que haga bien el redondeo\n",
      "    @fact Intervalo(\"0.2\",\"0.2\").a => less_than(Intervalo(\"0.2\",\"0.2\").b) #verifico que haga bien el redondeo\n",
      "end\n",
      "\n",
      "facts(\"Probando operaciones entre intervalos\")do\n",
      "    interv1=Intervalo(\"-1.0\",\"3.0\")\n",
      "    interv2=Intervalo(\"12\",\"13\")\n",
      "    @fact interv1+interv2 => Intervalo(\"11\",\"16\") #verifico operaciones entre intervalos \"enteros\"\n",
      "    @fact interv1-interv2 => Intervalo(\"-14\",\"-9\")\n",
      "    @fact interv1*interv2 => Intervalo(\"-13\",\"39\")\n",
      "    @fact interv1/interv2 => Intervalo(-1//12,3//12)\n",
      "    numero1=4\n",
      "    @fact interv1+numero1 => Intervalo(\"3\",\"7\") #verifico operaciones entre intervalos y n\u00fameros\n",
      "    @fact interv1-numero1 => Intervalo(\"-5\",\"-1\")\n",
      "    @fact interv1*numero1 => Intervalo(\"-4\",\"12\")\n",
      "    @fact interv2/numero1 => Intervalo(\"3\",13//4)\n",
      "    @fact numero1/interv2 => Intervalo(4//13,4//12)\n",
      "    @fact interv1^numero1 => Intervalo(\"0\",\"81\")\n",
      "    @fact interv2^-1 => 1/interv2\n",
      "    interv3=Intervalo(\"1\",\"4\")\n",
      "    interv4=Intervalo(\"0.2\",\"3\")\n",
      "    numero2=with_rounding(BigFloat,RoundDown) do\n",
      "            BigFloat(\"1.2\")\n",
      "        end\n",
      "    numero3=10//3\n",
      "    numero4=with_rounding(BigFloat,RoundUp) do\n",
      "            BigFloat(2//3)\n",
      "        end\n",
      "    @fact (interv3+interv4).a => less_than_or_equal(numero2) #pruebo redondeo en operaciones\n",
      "    @fact (interv3-numero3).b => greater_than_or_equal(numero4)    \n",
      "end\n"
     ],
     "language": "python",
     "metadata": {},
     "outputs": [
      {
       "output_type": "stream",
       "stream": "stdout",
       "text": [
        "Probando tipo Intervalo\n",
        "5 facts verified.\n"
       ]
      },
      {
       "output_type": "stream",
       "stream": "stdout",
       "text": [
        "Probando operaciones entre intervalos\n",
        "13 facts verified.\n"
       ]
      },
      {
       "metadata": {},
       "output_type": "pyout",
       "prompt_number": 6,
       "text": [
        "delayed_handler (generic function with 4 methods)"
       ]
      }
     ],
     "prompt_number": 6
    },
    {
     "cell_type": "code",
     "collapsed": false,
     "input": [],
     "language": "python",
     "metadata": {},
     "outputs": []
    }
   ],
   "metadata": {}
  }
 ]
}