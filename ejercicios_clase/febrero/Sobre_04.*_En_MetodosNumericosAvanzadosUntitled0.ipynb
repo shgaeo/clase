{
 "metadata": {
  "language": "Julia",
  "name": "",
  "signature": "sha256:1bea5254c082402b0cf3ffdb1d0c817a27938eb25eef21f8c494d6b809eb28cc"
 },
 "nbformat": 3,
 "nbformat_minor": 0,
 "worksheets": [
  {
   "cells": [
    {
     "cell_type": "code",
     "collapsed": false,
     "input": [
      "include(\"../../funciones.jl\");"
     ],
     "language": "python",
     "metadata": {},
     "outputs": [],
     "prompt_number": 582
    },
    {
     "cell_type": "heading",
     "level": 1,
     "metadata": {},
     "source": [
      "Ejercicio 1"
     ]
    },
    {
     "cell_type": "markdown",
     "metadata": {},
     "source": [
      "En el caso en que $\u03b2=2,\\; p=2,\\; e_{min}=\u22121\\; y\\; e_{max}=2 $, entonces la mantissa solo puede ser (ya sin el primer 1)\n",
      "\n",
      "{00, 01, 10, 11}, es decir que hay $\u03b2^{\\,p} =4$ posibles combinaciones. Y estas combinaciones pueden ir acompa\u00f1adas de una\n",
      "\n",
      "potencia que puede ser -1, 0, 1, 2. Por lo que hay \n",
      "\n",
      "$2(e_{max}-e_{min}+1)\u03b2^{\\,p}+1=33$ n\u00fameros normales en el conjunto (se multiplica por dos por el signo y se suma 1 para incluir al 0.0)\n",
      "\n",
      "Estos n\u00fameros son los siguientes:\n",
      "\n",
      "{0.100,0.101,0.110,0.111,\n",
      "\n",
      "1.00,1.01,1.10,1.11,\n",
      "\n",
      "10.0,10.1,11.0,11.1,\n",
      "\n",
      "100,101,110,111}  m\u00e1s sus respectivos negativos m\u00e1s el 0.0\n",
      "\n",
      "Que en base 10 corresponden a:"
     ]
    },
    {
     "cell_type": "code",
     "collapsed": false,
     "input": [
      "a={\"0.100\",\"0.101\",\"0.110\",\"0.111\",\"1.00\",\"1.01\",\"1.10\",\"1.11\",\"10.0\",\"10.1\",\"11.0\",\"11.1\",\"100.\",\"101.\",\"110.\",\"111.\"}\n",
      "b=zeros(length(a))\n",
      "for i=1:length(a)\n",
      "    b[i]=bin_a_10_con_punto(a[i])\n",
      "end\n",
      "b"
     ],
     "language": "python",
     "metadata": {},
     "outputs": [
      {
       "metadata": {},
       "output_type": "pyout",
       "prompt_number": 28,
       "text": [
        "16-element Array{Float64,1}:\n",
        " 0.5  \n",
        " 0.625\n",
        " 0.75 \n",
        " 0.875\n",
        " 1.0  \n",
        " 1.25 \n",
        " 1.5  \n",
        " 1.75 \n",
        " 2.0  \n",
        " 2.5  \n",
        " 3.0  \n",
        " 3.5  \n",
        " 4.0  \n",
        " 5.0  \n",
        " 6.0  \n",
        " 7.0  "
       ]
      }
     ],
     "prompt_number": 28
    },
    {
     "cell_type": "markdown",
     "metadata": {},
     "source": [
      "Si cambiamos la base cambia la cantidad de n\u00fameros normales disponibles:"
     ]
    },
    {
     "cell_type": "code",
     "collapsed": false,
     "input": [
      "\u03b2=3; p=2; e_min=-1; e_max=2 \n",
      "2(e_max-e_min+1)\u03b2^p + 1"
     ],
     "language": "python",
     "metadata": {},
     "outputs": [
      {
       "metadata": {},
       "output_type": "pyout",
       "prompt_number": 33,
       "text": [
        "73"
       ]
      }
     ],
     "prompt_number": 33
    },
    {
     "cell_type": "code",
     "collapsed": false,
     "input": [
      "\u03b2=4;\n",
      "2(e_max-e_min+1)\u03b2^p + 1"
     ],
     "language": "python",
     "metadata": {},
     "outputs": [
      {
       "metadata": {},
       "output_type": "pyout",
       "prompt_number": 35,
       "text": [
        "129"
       ]
      }
     ],
     "prompt_number": 35
    },
    {
     "cell_type": "markdown",
     "metadata": {},
     "source": [
      "Distancia a cero:"
     ]
    },
    {
     "cell_type": "code",
     "collapsed": false,
     "input": [
      "\u03b2=2.0; p=2; e_min=-1; e_max=2 \n",
      "\u03b2^e_min"
     ],
     "language": "python",
     "metadata": {},
     "outputs": [
      {
       "metadata": {},
       "output_type": "pyout",
       "prompt_number": 197,
       "text": [
        "0.5"
       ]
      }
     ],
     "prompt_number": 197
    },
    {
     "cell_type": "markdown",
     "metadata": {},
     "source": [
      "Distancia entre numeros normales:"
     ]
    },
    {
     "cell_type": "markdown",
     "metadata": {},
     "source": [
      "Analizando el conjunto b definido arriba, vemos que para mismas potencias, la distancia entre valores concecutivos es la misma, pero esta distancia cambia al pasar de una potencia a otra. Es decir que no estan uniformemente distribuidos."
     ]
    },
    {
     "cell_type": "code",
     "collapsed": false,
     "input": [
      "function distancia_normales(e::Int64,p::Int64) #esta funci\u00f3n pide la potencia de 2 'e' y la long de la mantissa 'p'\n",
      "    #y te devuelve la distancia entre numeros normales concecutivos para esa potencia\n",
      "    if p-1-e >= 0\n",
      "        a=\"0.\"*repeat(\"0\",p-1-e)*\"1\" #donde e es la potencia de \u03b2\n",
      "    else\n",
      "        a=\"1\"*repeat(\"0\",e-p)*\".0\"\n",
      "    end\n",
      "    bin_a_10_con_punto(a)\n",
      "end"
     ],
     "language": "python",
     "metadata": {},
     "outputs": [
      {
       "metadata": {},
       "output_type": "pyout",
       "prompt_number": 39,
       "text": [
        "distancia_normales (generic function with 1 method)"
       ]
      }
     ],
     "prompt_number": 39
    },
    {
     "cell_type": "code",
     "collapsed": false,
     "input": [
      "\u03b2=2.0; p=2; e_min=-1; e_max=2 \n",
      "for e=e_min:e_max #con esta iteraci\u00f3n conozco las distancias para el caso p=2; e_min=-1; e_max=2\n",
      "    println(distancia_normales(e,2))\n",
      "end"
     ],
     "language": "python",
     "metadata": {},
     "outputs": [
      {
       "output_type": "stream",
       "stream": "stdout",
       "text": [
        "0.125"
       ]
      },
      {
       "output_type": "stream",
       "stream": "stdout",
       "text": [
        "\n",
        "0.25\n",
        "0.5\n",
        "1.0\n"
       ]
      }
     ],
     "prompt_number": 199
    },
    {
     "cell_type": "code",
     "collapsed": false,
     "input": [],
     "language": "python",
     "metadata": {},
     "outputs": [],
     "prompt_number": 205
    },
    {
     "cell_type": "heading",
     "level": 5,
     "metadata": {},
     "source": [
      "Ahora doy las expresiones generales:"
     ]
    },
    {
     "cell_type": "markdown",
     "metadata": {},
     "source": [
      "\u00bfde cu\u00e1ntos n\u00fameros normales consiste el conjunto?"
     ]
    },
    {
     "cell_type": "code",
     "collapsed": false,
     "input": [
      "2(e_max-e_min+1)*(\u03b2^p)+1 #expresi\u00f3n para cualquier \u03b2 "
     ],
     "language": "python",
     "metadata": {},
     "outputs": [],
     "prompt_number": 31
    },
    {
     "cell_type": "markdown",
     "metadata": {},
     "source": [
      "\u00bfEst\u00e1n uniformemente distribuidos los n\u00fameros normales?"
     ]
    },
    {
     "cell_type": "markdown",
     "metadata": {},
     "source": [
      "No, no lo est\u00e1n. La distancia entre ellos depende de la potencia de \u03b2. Arriba se define la funci\u00f3n distancia_normales que tiene como argumentos la potencia de 2 'e' y la long de la mantissa 'p' y te devuelve la distancia entre numeros concecutivos"
     ]
    },
    {
     "cell_type": "markdown",
     "metadata": {},
     "source": [
      "\u00bfCu\u00e1l es la distancia entre el 0 y el primer n\u00famero positivo distinto de cero?"
     ]
    },
    {
     "cell_type": "code",
     "collapsed": false,
     "input": [
      "\u03b2^e_min #expresi\u00f3n para cualquier \u03b2"
     ],
     "language": "python",
     "metadata": {},
     "outputs": []
    },
    {
     "cell_type": "code",
     "collapsed": false,
     "input": [],
     "language": "python",
     "metadata": {},
     "outputs": []
    },
    {
     "cell_type": "markdown",
     "metadata": {},
     "source": [
      "En el caso particular de Float64, tenemos los siguientes valores (n\u00fameros normales):"
     ]
    },
    {
     "cell_type": "code",
     "collapsed": false,
     "input": [
      "\u03b2=2.0; p=52; e_min=-1022; e_max=1023\n",
      "println(\"N\u00fameros disponibles:\")\n",
      "println(2(e_max-e_min)*(\u03b2^p)+1)\n",
      "println(\"Distancia entre 0 y primer n\u00famero positivo\")\n",
      "println(\u03b2^e_min)\n",
      "e=10; #cualquier valor entre e_min y e_max\n",
      "println(\"distancia entre concecutivos, por ejemplo para e=$e\")\n",
      "println(distancia_normales(e,p))\n",
      "\n"
     ],
     "language": "python",
     "metadata": {},
     "outputs": [
      {
       "output_type": "stream",
       "stream": "stdout",
       "text": [
        "N\u00fameros disponibles:\n"
       ]
      },
      {
       "output_type": "stream",
       "stream": "stdout",
       "text": [
        "1.8419722475945329e19\n",
        "Distancia entre 0 y primer n\u00famero positivo\n",
        "2.2250738585072014e-308\n",
        "distancia entre concecutivos, por ejemplo para e=10\n",
        "2.2737367544323206e-13\n"
       ]
      }
     ],
     "prompt_number": 227
    },
    {
     "cell_type": "code",
     "collapsed": false,
     "input": [],
     "language": "python",
     "metadata": {},
     "outputs": [],
     "prompt_number": 164
    },
    {
     "cell_type": "heading",
     "level": 1,
     "metadata": {},
     "source": [
      "Ejercicio 2"
     ]
    },
    {
     "cell_type": "markdown",
     "metadata": {},
     "source": [
      "\u00bfC\u00f3mo se representa al x=0 en el conjunto anterior?"
     ]
    },
    {
     "cell_type": "markdown",
     "metadata": {},
     "source": [
      "El problema de x=0 es que no puede incluirse en el conjunto con 'bit escondido'. Lo que hace la computadora es hacer un caso particular para esto"
     ]
    },
    {
     "cell_type": "markdown",
     "metadata": {},
     "source": [
      "\u00bfFunciona la regla del bit escondido para una base \u03b2>2?"
     ]
    },
    {
     "cell_type": "markdown",
     "metadata": {},
     "source": [
      "Claramente no funciona, ya que el bit escondido podr\u00eda tener el valor 1,2,...."
     ]
    },
    {
     "cell_type": "code",
     "collapsed": false,
     "input": [],
     "language": "python",
     "metadata": {},
     "outputs": [],
     "prompt_number": 249
    },
    {
     "cell_type": "code",
     "collapsed": false,
     "input": [],
     "language": "python",
     "metadata": {},
     "outputs": [],
     "prompt_number": 16
    },
    {
     "cell_type": "code",
     "collapsed": false,
     "input": [],
     "language": "python",
     "metadata": {},
     "outputs": [],
     "prompt_number": 17
    },
    {
     "cell_type": "heading",
     "level": 1,
     "metadata": {},
     "source": [
      "Ejercicio 3"
     ]
    },
    {
     "cell_type": "heading",
     "level": 6,
     "metadata": {},
     "source": [
      "En el ejemplo de juguete anterior (\u03b2=2, p=2, e_min=\u22121 y e_max=2) enumera los posibles n\u00fameros subnormales.  "
     ]
    },
    {
     "cell_type": "markdown",
     "metadata": {},
     "source": [
      "\n",
      "La idea es tomar el conjunto de n\u00fameros m\u00e1s peque\u00f1os que ten\u00edamos (con e=emin) y quitar el bit escondido.\n",
      "\n",
      "Los posibles son:\n",
      "\"0.001\",\"0.010\",\"0.011\" m\u00e1s obviamente el cero \"0.000\", que equivalen a los siguientes en base 10:"
     ]
    },
    {
     "cell_type": "code",
     "collapsed": false,
     "input": [
      "\u03b2=2.0; p=2; e_min=-1; e_max=2;\n",
      "a={\"0.000\",\"0.001\",\"0.010\",\"0.011\"}\n",
      "c=zeros(length(a))\n",
      "for i=1:length(a)\n",
      "    c[i]=bin_a_10_con_punto(a[i])\n",
      "end\n",
      "c"
     ],
     "language": "python",
     "metadata": {},
     "outputs": [
      {
       "metadata": {},
       "output_type": "pyout",
       "prompt_number": 262,
       "text": [
        "4-element Array{Float64,1}:\n",
        " 0.0  \n",
        " 0.125\n",
        " 0.25 \n",
        " 0.375"
       ]
      }
     ],
     "prompt_number": 262
    },
    {
     "cell_type": "markdown",
     "metadata": {},
     "source": [
      "Notese que son 2^p-1 (menos uno por el cero) numeros subnormales"
     ]
    },
    {
     "cell_type": "heading",
     "level": 6,
     "metadata": {},
     "source": [
      "\u00bfC\u00f3mo cambia la distancia de 0 al n\u00famero positivo m\u00e1s pr\u00f3ximo?"
     ]
    },
    {
     "cell_type": "markdown",
     "metadata": {},
     "source": [
      "Antes era \u03b2^e_min, ahora es \u03b2^(e_min-p)"
     ]
    },
    {
     "cell_type": "code",
     "collapsed": false,
     "input": [
      "\u03b2^(e_min-p)"
     ],
     "language": "python",
     "metadata": {},
     "outputs": [
      {
       "metadata": {},
       "output_type": "pyout",
       "prompt_number": 271,
       "text": [
        "0.125"
       ]
      }
     ],
     "prompt_number": 271
    },
    {
     "cell_type": "code",
     "collapsed": false,
     "input": [
      "#para el caso Float64 \n",
      "\u03b2=2.0; p=52; e_min=-1022; e_max=1023;\n",
      "println(bits(2.0^(e_min-p))) \n",
      "println(bits(2.0^-1074))"
     ],
     "language": "python",
     "metadata": {},
     "outputs": [
      {
       "output_type": "stream",
       "stream": "stdout",
       "text": [
        "0000000000000000000000000000000000000000000000000000000000000001\n"
       ]
      },
      {
       "output_type": "stream",
       "stream": "stdout",
       "text": [
        "0000000000000000000000000000000000000000000000000000000000000001\n"
       ]
      }
     ],
     "prompt_number": 165
    },
    {
     "cell_type": "heading",
     "level": 6,
     "metadata": {},
     "source": [
      "\u00bfEl espaciamiento entre los n\u00fameros subnormales, es uniforme?"
     ]
    },
    {
     "cell_type": "markdown",
     "metadata": {},
     "source": [
      "S\u00ed es uniforme, avanzas en pasos de \u03b2^(e_min-p)"
     ]
    },
    {
     "cell_type": "code",
     "collapsed": false,
     "input": [
      "\u03b2=2.0; p=2; e_min=-1; e_max=2;\n",
      "for i=1:2^p-1\n",
      "    println(diez_a_bin_con_punto(i*\u03b2^(e_min-p))[1:5])\n",
      "end"
     ],
     "language": "python",
     "metadata": {},
     "outputs": [
      {
       "output_type": "stream",
       "stream": "stdout",
       "text": [
        "0.001\n"
       ]
      },
      {
       "output_type": "stream",
       "stream": "stdout",
       "text": [
        "0.010\n",
        "0.011\n"
       ]
      }
     ],
     "prompt_number": 288
    },
    {
     "cell_type": "code",
     "collapsed": false,
     "input": [],
     "language": "python",
     "metadata": {},
     "outputs": []
    },
    {
     "cell_type": "heading",
     "level": 1,
     "metadata": {},
     "source": [
      "Ejercicio 4"
     ]
    },
    {
     "cell_type": "heading",
     "level": 6,
     "metadata": {},
     "source": [
      "\u00bfQu\u00e9 expresiones definen a $N_{min}$ y $N_{max}$, los n\u00fameros de punto flotante (positivos) m\u00ednimo y m\u00e1ximo? Obt\u00e9n los resultados para los n\u00fameros normales y los subnormales."
     ]
    },
    {
     "cell_type": "markdown",
     "metadata": {},
     "source": [
      "Para el m\u00ednimo, ya di las expresiones arriba\n",
      "\n",
      "Para normales:"
     ]
    },
    {
     "cell_type": "code",
     "collapsed": false,
     "input": [
      "#para el caso Float64\n",
      "\u03b2=2.0; p=52; e_min=-1022; e_max=1023;\n",
      "println(\u03b2^(e_min))#El +1 va porque en la manera de expresar los numeros en bits, el n\u00famero m\u00e1s peque\u00f1o\n",
      "                                #deber\u00eda expresarse con puros ceros, pero ese es el cero\n",
      "bits(\u03b2^(e_min))[1:13] #aqu\u00ed el resto de la cadena son ceros, n\u00f3tese que el 1 est\u00e1 en la 12ava posici\u00f3n\n",
      "                            #lo que indica que siguen siendo n\u00fameros normales"
     ],
     "language": "python",
     "metadata": {},
     "outputs": [
      {
       "output_type": "stream",
       "stream": "stdout",
       "text": [
        "2."
       ]
      },
      {
       "output_type": "stream",
       "stream": "stdout",
       "text": [
        "2250738585072014e-308\n"
       ]
      },
      {
       "metadata": {},
       "output_type": "pyout",
       "prompt_number": 167,
       "text": [
        "\"0000000000010\""
       ]
      }
     ],
     "prompt_number": 167
    },
    {
     "cell_type": "markdown",
     "metadata": {},
     "source": [
      "Y para subnormales"
     ]
    },
    {
     "cell_type": "code",
     "collapsed": false,
     "input": [
      "println(\u03b2^(e_min-p))\n",
      "bits(\u03b2^(e_min-p))"
     ],
     "language": "python",
     "metadata": {},
     "outputs": [
      {
       "output_type": "stream",
       "stream": "stdout",
       "text": [
        "5."
       ]
      },
      {
       "output_type": "stream",
       "stream": "stdout",
       "text": [
        "0e-324\n"
       ]
      },
      {
       "metadata": {},
       "output_type": "pyout",
       "prompt_number": 166,
       "text": [
        "\"0000000000000000000000000000000000000000000000000000000000000001\""
       ]
      }
     ],
     "prompt_number": 166
    },
    {
     "cell_type": "markdown",
     "metadata": {},
     "source": [
      "Para el m\u00e1ximo de los normales"
     ]
    },
    {
     "cell_type": "code",
     "collapsed": false,
     "input": [
      "\u03b2=2.0; p=52; e_min=-1022; e_max=1023;\n",
      "a=0.0 #con esto genero el n\u00famero m\u00e1s grande antes de Inf\n",
      "for i=0:p\n",
      "    a=a+\u03b2^(e_max-i)\n",
      "end\n",
      "println(bits(Inf), \"\\ este es Inf\")\n",
      "println(bits(a), \"\\ este es el anterior a Inf\")\n",
      "nextfloat(a)==Inf"
     ],
     "language": "python",
     "metadata": {},
     "outputs": [
      {
       "output_type": "stream",
       "stream": "stdout",
       "text": [
        "0111111111110000000000000000000000000000000000000000000000000000 este es Inf"
       ]
      },
      {
       "output_type": "stream",
       "stream": "stdout",
       "text": [
        "\n",
        "0111111111101111111111111111111111111111111111111111111111111111 este es el anterior a Inf\n"
       ]
      },
      {
       "metadata": {},
       "output_type": "pyout",
       "prompt_number": 168,
       "text": [
        "true"
       ]
      }
     ],
     "prompt_number": 168
    },
    {
     "cell_type": "code",
     "collapsed": false,
     "input": [
      "println(a+2.0^(1023-53)) #si le sumo un n\u00famero suficientemente grande (que no sea cero comparado con a) da Inf"
     ],
     "language": "python",
     "metadata": {},
     "outputs": [
      {
       "output_type": "stream",
       "stream": "stdout",
       "text": [
        "Inf\n"
       ]
      }
     ],
     "prompt_number": 104
    },
    {
     "cell_type": "code",
     "collapsed": true,
     "input": [
      "#n\u00f3tese que si le sumo un n\u00famero m\u00e1s peque\u00f1o no lo 'nota'\n",
      "a+2.0^(1023-54)==a"
     ],
     "language": "python",
     "metadata": {},
     "outputs": [
      {
       "metadata": {},
       "output_type": "pyout",
       "prompt_number": 105,
       "text": [
        "true"
       ]
      }
     ],
     "prompt_number": 105
    },
    {
     "cell_type": "code",
     "collapsed": false,
     "input": [],
     "language": "python",
     "metadata": {},
     "outputs": [],
     "prompt_number": 60
    },
    {
     "cell_type": "markdown",
     "metadata": {},
     "source": [
      "Para el m\u00e1ximo de los subnormales"
     ]
    },
    {
     "cell_type": "code",
     "collapsed": false,
     "input": [
      "#A partir de \u00b12.0^-1022 se usan n\u00famero anormales, ya que de no ser as\u00ed, la representaci\u00f3n en bits de \u00b12.0^-1023\n",
      "#deber\u00eda ser puros ceros (con o sin el primer 1 dependiendo del signo)\n",
      "println(bits(\u03b2^(e_min-1))[1:13]) #este es subnormal (aunque no es el m\u00e1ximo subnormal)\n",
      "println(bits(\u03b2^(e_min))[1:13]) #este es normal"
     ],
     "language": "python",
     "metadata": {},
     "outputs": [
      {
       "output_type": "stream",
       "stream": "stdout",
       "text": [
        "0000000000001\n"
       ]
      },
      {
       "output_type": "stream",
       "stream": "stdout",
       "text": [
        "0000000000010\n"
       ]
      }
     ],
     "prompt_number": 176
    },
    {
     "cell_type": "code",
     "collapsed": false,
     "input": [
      "#para generar el m\u00e1ximo subnormal:\n",
      "a=0.0 #con esto genero el n\u00famero m\u00e1s grande antes de Inf\n",
      "for i=0:p\n",
      "    a=a+\u03b2^(e_min-1-i)\n",
      "end\n",
      "println(bits(\u03b2^(e_min)), \"\\ este es el m\u00ednimo normal\")\n",
      "println(bits(a), \"\\ este es el m\u00e1ximo subnormal\")\n",
      "nextfloat(a)==\u03b2^(e_min)"
     ],
     "language": "python",
     "metadata": {},
     "outputs": [
      {
       "output_type": "stream",
       "stream": "stdout",
       "text": [
        "0000000000010000000000000000000000000000000000000000000000000000 este es el m\u00ednimo normal"
       ]
      },
      {
       "output_type": "stream",
       "stream": "stdout",
       "text": [
        "\n",
        "0000000000001111111111111111111111111111111111111111111111111111 este es el m\u00e1ximo subnormal\n"
       ]
      },
      {
       "metadata": {},
       "output_type": "pyout",
       "prompt_number": 180,
       "text": [
        "true"
       ]
      }
     ],
     "prompt_number": 180
    },
    {
     "cell_type": "code",
     "collapsed": false,
     "input": [
      "a"
     ],
     "language": "python",
     "metadata": {},
     "outputs": [
      {
       "metadata": {},
       "output_type": "pyout",
       "prompt_number": 181,
       "text": [
        "2.225073858507201e-308"
       ]
      }
     ],
     "prompt_number": 181
    },
    {
     "cell_type": "heading",
     "level": 1,
     "metadata": {},
     "source": [
      "Ejercicio 5"
     ]
    },
    {
     "cell_type": "markdown",
     "metadata": {},
     "source": [
      "- $x=$ `Inf`"
     ]
    },
    {
     "cell_type": "markdown",
     "metadata": {},
     "source": [
      "Inf es el m\u00e1ximo n\u00famero FLOTANTE disponible, cualquier n\u00famero FLOTANTE mayor que $2.0^{1024}$ se representa con Inf (o menor que $-2^{1024}$ con -Inf).\n",
      "\n",
      "N\u00f3tese que para representar $2.0^{1024}$ con bits se necesitan los once unos del exponente, de modo que\n",
      "\n",
      "bits($\\pm$Inf)$=\\,^1_0\\; 11111111111$ (y $52$ ceros)          \n",
      "\n",
      "N\u00f3tese que los valores que tienden a infinito tambi\u00e9n se representan con Inf, por ejemplo $1/0$"
     ]
    },
    {
     "cell_type": "markdown",
     "metadata": {},
     "source": [
      "- $x=$ `NaN`"
     ]
    },
    {
     "cell_type": "markdown",
     "metadata": {},
     "source": [
      "NaN es tambi\u00e9n un n\u00famero flotante, pero es un n\u00famero flotante que representa 'indeterminaci\u00f3n'\n",
      "\n",
      "Algunos ejemplos son $0/0$, Inf$-$Inf, Inf$/$Inf\n",
      "\n",
      "La manera de representarlo en bits es \n",
      "\n",
      "bits(NaN)$= 1\\; 11111111111\\; 1$(y $51$ ceros)"
     ]
    },
    {
     "cell_type": "markdown",
     "metadata": {},
     "source": [
      "- Un n\u00famero $x>0$ normal"
     ]
    },
    {
     "cell_type": "markdown",
     "metadata": {},
     "source": [
      "Cualquier n\u00famero menor que $2.0^{1024}$ y mayor o igual que $2.0^{-1022}=2.2250738585072014e-308$ es un n\u00famero normal positivo.\n",
      "\n",
      "La regla en bits para reconocerlo es que tenga al menos un '$1$' y un '$0$' en los once bits que representan el exponente.\n",
      "\n",
      "Estos n\u00fameros incluyen la regla del bit escondido "
     ]
    },
    {
     "cell_type": "markdown",
     "metadata": {},
     "source": [
      "- Un m\u00famero $x$ subnormal"
     ]
    },
    {
     "cell_type": "markdown",
     "metadata": {},
     "source": [
      "Cualquier n\u00famero cuyo valor absoluto sea menor (sin incluirlo) que $2.0^{-1022}=2.2250738585072014e-308$ y mayor o igual que $2.0^{-1074}=5.0e-324$ es un n\u00famero subnormal.\n",
      "\n",
      "La regla en bits para reconocerlo es que todos los bits del exponente sean ceros:\n",
      "\n",
      "bits(subnormal)$=\\, ^1_0 \\; 00000000000$ (cadena de $52$ ceros y unos)"
     ]
    },
    {
     "cell_type": "markdown",
     "metadata": {},
     "source": [
      "- $x=0.0$ y $x=-0.0$"
     ]
    },
    {
     "cell_type": "markdown",
     "metadata": {},
     "source": [
      "Son la representaci\u00f3n de los n\u00fameros cuyo valor absoluto es menor que $2.0^{-1074}=5.0e-324$"
     ]
    },
    {
     "cell_type": "heading",
     "level": 6,
     "metadata": {},
     "source": [
      "A continuaci\u00f3n pongo una funci\u00f3n que toma una cadena de 64 caracteres (unos y ceros) y pasa de la representaci\u00f3n en bits a la representaci\u00f3n en base 10"
     ]
    },
    {
     "cell_type": "code",
     "collapsed": false,
     "input": [
      "function bits_a_10(y::ASCIIString) #Hice una funci\u00f3n para regresar de representaci\u00f3n bits a flotante\n",
      "    if length(y)!=64\n",
      "        error(\"Debe ser una cadena de flotantes tipo bits (64 caracteres 1's y 0's)\")\n",
      "    else\n",
      "        \n",
      "            #primero empecemos con los normales\n",
      "        e=bin_a_10(y[2:12])-1023\n",
      "        if e>=0 && e<=52\n",
      "            cad=\"1\"*y[13:end]\n",
      "            bin_a_10_con_punto(cad[1:e+1]*\".\"*cad[e+2:end])\n",
      "        elseif e>52 && e<1024 #con e=1024 bin_a_10_con_punto arroja Inf, pero necesito diferenciar con NaN\n",
      "            cad=\"1\"*y[13:end]\n",
      "            bin_a_10_con_punto(cad*repeat(\"0\",e-52)*\".\")\n",
      "        \n",
      "            \n",
      "            #luego los casos especiales Inf y NaN\n",
      "        elseif e==1024\n",
      "            if y[13]=='0'\n",
      "                Inf\n",
      "            else\n",
      "                NaN\n",
      "            end\n",
      "        \n",
      "            \n",
      "            #Y finalmente los subnormales\n",
      "        elseif e<0 && e>-1023\n",
      "            cad=\"0.\"*repeat(\"0\",-1-e)*\"1\"*y[13:end]\n",
      "            bin_a_10_con_punto(cad)\n",
      "        elseif e==-1023\n",
      "            cad=\"0.\"*repeat(\"0\",-1-e)*y[13:end]\n",
      "            bin_a_10_con_punto(cad)\n",
      "        end\n",
      "        \n",
      "    end\n",
      "end"
     ],
     "language": "python",
     "metadata": {},
     "outputs": [
      {
       "metadata": {},
       "output_type": "pyout",
       "prompt_number": 207,
       "text": [
        "bits_a_10 (generic function with 1 method)"
       ]
      }
     ],
     "prompt_number": 207
    },
    {
     "cell_type": "code",
     "collapsed": false,
     "input": [],
     "language": "python",
     "metadata": {},
     "outputs": [],
     "prompt_number": 211
    },
    {
     "cell_type": "code",
     "collapsed": false,
     "input": [],
     "language": "python",
     "metadata": {},
     "outputs": [],
     "prompt_number": 212
    },
    {
     "cell_type": "heading",
     "level": 1,
     "metadata": {},
     "source": [
      "Ejercicio 6"
     ]
    },
    {
     "cell_type": "markdown",
     "metadata": {},
     "source": [
      "- Dado que los n\u00fameros de punto flotante son *finitos*, construye la representaci\u00f3n decimal de dos n\u00fameros normales de punto flotante consecutivos, y dos subnormales consecutivos."
     ]
    },
    {
     "cell_type": "code",
     "collapsed": false,
     "input": [
      "#Tomemos como ejemplo para los normales el n\u00famero \u03c0:\n",
      "println(bits(1.0*\u03c0))\n",
      "#El siguiente tedr\u00eda que ser representado por la cadena:\n",
      "println(\"0100000000001001001000011111101101010100010001000010110100011001\")"
     ],
     "language": "python",
     "metadata": {},
     "outputs": [
      {
       "output_type": "stream",
       "stream": "stdout",
       "text": [
        "0100000000001001001000011111101101010100010001000010110100011000\n"
       ]
      },
      {
       "output_type": "stream",
       "stream": "stdout",
       "text": [
        "0100000000001001001000011111101101010100010001000010110100011001\n"
       ]
      }
     ],
     "prompt_number": 220
    },
    {
     "cell_type": "code",
     "collapsed": false,
     "input": [
      "an=bits_a_10(bits(1\u03c0))\n",
      "bn=bits_a_10(\"0100000000001001001000011111101101010100010001000010110100011001\")\n",
      "println(an)\n",
      "println(bn)"
     ],
     "language": "python",
     "metadata": {},
     "outputs": [
      {
       "output_type": "stream",
       "stream": "stdout",
       "text": [
        "3."
       ]
      },
      {
       "output_type": "stream",
       "stream": "stdout",
       "text": [
        "141592653589793\n",
        "3.1415926535897936\n"
       ]
      }
     ],
     "prompt_number": 221
    },
    {
     "cell_type": "code",
     "collapsed": false,
     "input": [
      "#Ahora tomemos un subnormal...digamos 1.370891423123e-312\n",
      "println(bits(1.370891423123e-312))\n",
      "#El siguiente tedr\u00eda que ser representado por la cadena:\n",
      "println(\"0000000000000000000000000100000010011010100101110100100111111001\")"
     ],
     "language": "python",
     "metadata": {},
     "outputs": [
      {
       "output_type": "stream",
       "stream": "stdout",
       "text": [
        "0000000000000000000000000100000010011010100101110100100111111000\n"
       ]
      },
      {
       "output_type": "stream",
       "stream": "stdout",
       "text": [
        "0000000000000000000000000100000010011010100101110100100111111001\n"
       ]
      }
     ],
     "prompt_number": 222
    },
    {
     "cell_type": "code",
     "collapsed": false,
     "input": [
      "as=bits_a_10(bits(1.370891423123e-312))\n",
      "bs=bits_a_10(\"0000000000000000000000000100000010011010100101110100100111111001\")\n",
      "println(as)\n",
      "println(bs)"
     ],
     "language": "python",
     "metadata": {},
     "outputs": [
      {
       "output_type": "stream",
       "stream": "stdout",
       "text": [
        "1."
       ]
      },
      {
       "output_type": "stream",
       "stream": "stdout",
       "text": [
        "370891423124e-312\n",
        "1.37089142313e-312\n"
       ]
      }
     ],
     "prompt_number": 223
    },
    {
     "cell_type": "code",
     "collapsed": false,
     "input": [],
     "language": "python",
     "metadata": {},
     "outputs": [],
     "prompt_number": 224
    },
    {
     "cell_type": "markdown",
     "metadata": {},
     "source": [
      "- \u00bfCu\u00e1l es la representaci\u00f3n binaria del promedio de esos dos n\u00fameros? \u00bfQu\u00e9 obtienes a partir de tus programas?"
     ]
    },
    {
     "cell_type": "code",
     "collapsed": false,
     "input": [
      "#La representaci\u00f3n binaria del promedio es la misma que del n\u00famero menor\n",
      "println(\"normales\")\n",
      "println(bits((an+bn)/2))\n",
      "println(bits(an))\n",
      "println(\"subnormales\")\n",
      "println(bits((as+bs)/2))\n",
      "println(bits(as))"
     ],
     "language": "python",
     "metadata": {},
     "outputs": [
      {
       "output_type": "stream",
       "stream": "stdout",
       "text": [
        "normales\n"
       ]
      },
      {
       "output_type": "stream",
       "stream": "stdout",
       "text": [
        "0100000000001001001000011111101101010100010001000010110100011000\n",
        "0100000000001001001000011111101101010100010001000010110100011000\n",
        "subnormales\n",
        "0000000000000000000000000100000010011010100101110100100111111000\n",
        "0000000000000000000000000100000010011010100101110100100111111000\n"
       ]
      }
     ],
     "prompt_number": 225
    },
    {
     "cell_type": "code",
     "collapsed": false,
     "input": [
      "#con mi programa de binario con punto decimal obtengo lo mismo\n",
      "println(\"normales\")\n",
      "println(diez_a_bin_con_punto((an+bn)/2)==diez_a_bin_con_punto(an))\n",
      "println(\"subnormales\")\n",
      "println(diez_a_bin_con_punto((as+bs)/2)==diez_a_bin_con_punto(as))"
     ],
     "language": "python",
     "metadata": {},
     "outputs": [
      {
       "output_type": "stream",
       "stream": "stdout",
       "text": [
        "normales\n"
       ]
      },
      {
       "output_type": "stream",
       "stream": "stdout",
       "text": [
        "true\n",
        "subnormales\n",
        "true\n"
       ]
      }
     ],
     "prompt_number": 226
    },
    {
     "cell_type": "code",
     "collapsed": false,
     "input": [],
     "language": "python",
     "metadata": {},
     "outputs": []
    },
    {
     "cell_type": "markdown",
     "metadata": {},
     "source": [
      "- \u00bfCu\u00e1l es la representaci\u00f3n binaria de la diferencia?"
     ]
    },
    {
     "cell_type": "code",
     "collapsed": false,
     "input": [
      "#la representaci\u00f3n de la resta coincide con el paso entre normales para la potencia correspondiente, en el caso de \u03c0 dicha\n",
      "#potencia es 1\n",
      "println(bits(distancia_normales(1,52))) #funci\u00f3n definida arriba\n",
      "println(bits(bn-an))"
     ],
     "language": "python",
     "metadata": {},
     "outputs": [
      {
       "output_type": "stream",
       "stream": "stdout",
       "text": [
        "0011110011000000000000000000000000000000000000000000000000000000\n"
       ]
      },
      {
       "output_type": "stream",
       "stream": "stdout",
       "text": [
        "0011110011000000000000000000000000000000000000000000000000000000\n"
       ]
      }
     ],
     "prompt_number": 207
    },
    {
     "cell_type": "code",
     "collapsed": false,
     "input": [
      "#la representaci\u00f3n de la resta en el caso de los subnormales coincide con el menor subnormal, que es tambi\u00e9n el paso entre\n",
      "#todos los subnormales\n",
      "\u03b2=2.0; p=52; e_min=-1022; e_max=1023;\n",
      "println(bits(\u03b2^(e_min-p)))\n",
      "println(bits(bs-as))"
     ],
     "language": "python",
     "metadata": {},
     "outputs": [
      {
       "output_type": "stream",
       "stream": "stdout",
       "text": [
        "0000000000000000000000000000000000000000000000000000000000000001\n"
       ]
      },
      {
       "output_type": "stream",
       "stream": "stdout",
       "text": [
        "0000000000000000000000000000000000000000000000000000000000000001\n"
       ]
      }
     ],
     "prompt_number": 208
    },
    {
     "cell_type": "code",
     "collapsed": false,
     "input": [
      "#con mi programa de binario con punto decimal obtengo lo mismo\n",
      "println(\"normales\")\n",
      "println(diez_a_bin_con_punto(bn-an)==diez_a_bin_con_punto(distancia_normales(1,52)))\n",
      "println(\"subnormales\")\n",
      "println(diez_a_bin_con_punto(bs-as)==diez_a_bin_con_punto(\u03b2^(e_min-p)))"
     ],
     "language": "python",
     "metadata": {},
     "outputs": [
      {
       "output_type": "stream",
       "stream": "stdout",
       "text": [
        "normales\n"
       ]
      },
      {
       "output_type": "stream",
       "stream": "stdout",
       "text": [
        "true\n",
        "subnormales\n",
        "true\n"
       ]
      }
     ],
     "prompt_number": 210
    },
    {
     "cell_type": "code",
     "collapsed": false,
     "input": [],
     "language": "python",
     "metadata": {},
     "outputs": [],
     "prompt_number": 211
    },
    {
     "cell_type": "code",
     "collapsed": true,
     "input": [],
     "language": "python",
     "metadata": {},
     "outputs": [],
     "prompt_number": 125
    },
    {
     "cell_type": "heading",
     "level": 1,
     "metadata": {},
     "source": [
      "Ejercicio 7"
     ]
    },
    {
     "cell_type": "code",
     "collapsed": false,
     "input": [
      "#Es claro que escribir la funci\u00f3n como uno se imaginar\u00eda no da resultado:\n",
      "function polinomio(x,y)\n",
      "    333.75(y^6)+(x^2)*(11(x^2)*(y^2)-(y^6)-121(y^4)-2)+5.5(y^8)+x/(2y)\n",
      "end\n",
      "println(polinomio(77617.0,33096.0))\n",
      "#N\u00f3tese adem\u00e1s que no da el mismo resultado con enteros\n",
      "polinomio(77617,33096)"
     ],
     "language": "python",
     "metadata": {},
     "outputs": [
      {
       "output_type": "stream",
       "stream": "stdout",
       "text": [
        "-1"
       ]
      },
      {
       "output_type": "stream",
       "stream": "stdout",
       "text": [
        ".1805916207174113e21\n"
       ]
      },
      {
       "metadata": {},
       "output_type": "pyout",
       "prompt_number": 22,
       "text": [
        "1.64176022256015e21"
       ]
      }
     ],
     "prompt_number": 22
    },
    {
     "cell_type": "markdown",
     "metadata": {},
     "source": [
      "El problema est\u00e1 en que hay t\u00e9rminos de la funci\u00f3n con valores muy distintos (con exponenentes de $10^{36}$, $10^{29}$, $10^{10}$ y $10^{0}$), los cuales se suman y restan de modo que varios de ellos son despreciados"
     ]
    },
    {
     "cell_type": "code",
     "collapsed": false,
     "input": [
      "#Una manera de resolver esto es aumentar al m\u00e1ximo la cantidad de bits con que se opera\n",
      "#Aunque me imagino que existen ejemplos en los que 256 bits no son suficientes\n",
      "function polinomio(a,b)\n",
      "    x=big(a)\n",
      "    y=big(b)\n",
      "    float64(333.75(y^6)+(x^2)*(11(x^2)*(y^2)-(y^6)-121(y^4)-2)+5.5(y^8)+x/(2y)) #o podemos quedarnos en 256bits si quitamos float64\n",
      "end\n",
      "println(polinomio(77617.0,33096.0))\n",
      "#y da lo mismo con enteros\n",
      "println(polinomio(77617,33096))"
     ],
     "language": "python",
     "metadata": {},
     "outputs": [
      {
       "output_type": "stream",
       "stream": "stdout",
       "text": [
        "-0."
       ]
      },
      {
       "output_type": "stream",
       "stream": "stdout",
       "text": [
        "8273960599468214\n",
        "-0.8273960599468214\n"
       ]
      }
     ],
     "prompt_number": 60
    },
    {
     "cell_type": "code",
     "collapsed": false,
     "input": [],
     "language": "python",
     "metadata": {},
     "outputs": [],
     "prompt_number": 1
    },
    {
     "cell_type": "code",
     "collapsed": false,
     "input": [],
     "language": "python",
     "metadata": {},
     "outputs": [],
     "prompt_number": 54
    },
    {
     "cell_type": "code",
     "collapsed": false,
     "input": [],
     "language": "python",
     "metadata": {},
     "outputs": [],
     "prompt_number": 56
    },
    {
     "cell_type": "heading",
     "level": 1,
     "metadata": {},
     "source": [
      "Ejercicio 8"
     ]
    },
    {
     "cell_type": "markdown",
     "metadata": {},
     "source": [
      "Notemos primero que desde el punto de vista algebr\u00e1ico f(x)=g(x). Generemos pues los datos:"
     ]
    },
    {
     "cell_type": "code",
     "collapsed": false,
     "input": [
      "function pol_f(x)\n",
      "    (1-x)^6\n",
      "end"
     ],
     "language": "python",
     "metadata": {},
     "outputs": [
      {
       "metadata": {},
       "output_type": "pyout",
       "prompt_number": 1,
       "text": [
        "pol_f (generic function with 1 method)"
       ]
      }
     ],
     "prompt_number": 1
    },
    {
     "cell_type": "code",
     "collapsed": false,
     "input": [
      "function pol_g(x)\n",
      "    (x^6)-6(x^5)+15(x^4)-20(x^3)+15(x^2)-6(x^1)+1\n",
      "end"
     ],
     "language": "python",
     "metadata": {},
     "outputs": [
      {
       "metadata": {},
       "output_type": "pyout",
       "prompt_number": 2,
       "text": [
        "pol_g (generic function with 1 method)"
       ]
      }
     ],
     "prompt_number": 2
    },
    {
     "cell_type": "code",
     "collapsed": false,
     "input": [
      "n=10 #n\u00fameros de datos\n",
      "dat_f=zeros(n);\n",
      "dat_g=zeros(n); #tambien funciona con dat_g=similar(dat_f)\n",
      "for x=1:n\n",
      "    step=0.995+0.01*x/n\n",
      "    dat_f[x]=pol_f(step)\n",
      "    dat_g[x]=pol_g(step)\n",
      "end"
     ],
     "language": "python",
     "metadata": {},
     "outputs": [],
     "prompt_number": 9
    },
    {
     "cell_type": "code",
     "collapsed": false,
     "input": [
      "dat_f==dat_g #prob\u00e9 para varios valores de n (desde 10 hasta 100000000) y funcion\u00f3"
     ],
     "language": "python",
     "metadata": {},
     "outputs": [
      {
       "metadata": {},
       "output_type": "pyout",
       "prompt_number": 10,
       "text": [
        "false"
       ]
      }
     ],
     "prompt_number": 10
    },
    {
     "cell_type": "markdown",
     "metadata": {},
     "source": [
      "De modo que las funciones no son 'iguales'"
     ]
    },
    {
     "cell_type": "code",
     "collapsed": false,
     "input": [],
     "language": "python",
     "metadata": {},
     "outputs": []
    },
    {
     "cell_type": "code",
     "collapsed": false,
     "input": [],
     "language": "python",
     "metadata": {},
     "outputs": []
    },
    {
     "cell_type": "heading",
     "level": 1,
     "metadata": {},
     "source": [
      "Ejercicio 9"
     ]
    },
    {
     "cell_type": "markdown",
     "metadata": {},
     "source": [
      "Es mala idea ya que para representar 0.1 o 0.01 en binario necesitas una cadena infinita de 1's y 0's, de modo que es muy probable estar 'cargando' redondeos mientras se van realizando los c\u00e1lculos. Lo mejor es dar pasos que sean alg\u00fan exponente de dos, por ejemplo $0.5, 0.25, 0.125, ...,2^{-10}=0.0009765625,$ etc..."
     ]
    },
    {
     "cell_type": "code",
     "collapsed": false,
     "input": [],
     "language": "python",
     "metadata": {},
     "outputs": []
    }
   ],
   "metadata": {}
  }
 ]
}