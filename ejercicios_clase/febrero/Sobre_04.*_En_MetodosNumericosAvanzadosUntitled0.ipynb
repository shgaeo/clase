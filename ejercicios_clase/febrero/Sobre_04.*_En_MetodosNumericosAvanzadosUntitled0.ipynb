{
 "metadata": {
  "language": "Julia",
  "name": "",
  "signature": "sha256:88d76f89bc54087b2846912f49a95346181f03ea1ac4feb7899b6ed9100f5348"
 },
 "nbformat": 3,
 "nbformat_minor": 0,
 "worksheets": [
  {
   "cells": [
    {
     "cell_type": "heading",
     "level": 3,
     "metadata": {},
     "source": [
      "Funciones para notebook:"
     ]
    },
    {
     "cell_type": "code",
     "collapsed": false,
     "input": [
      "function bin_a_10_con_punto(y::ASCIIString) #funci\u00f3n que transforma cadena binaria (con \"punto binario\") a base 10\n",
      "    if y[1]=='-' #este if es para incluir negativos\n",
      "        x=y[2:length(y)]\n",
      "        c=-1\n",
      "    else\n",
      "        x=y\n",
      "        c=1\n",
      "    end\n",
      "    b=search(x,'.')\n",
      "    if b==0 #esto es si no hay punto decimal en la cadena\n",
      "        error(\"Debe ser cadena de 0's , 1's y un punto decimal\")\n",
      "    elseif search(x,'.',b+1)!=0 #esto es si hay m\u00e1s de un punto en la cadena\n",
      "        error(\"Debe ser cadena de 0's , 1's y un punto decimal\")\n",
      "    else\n",
      "    a=0.0\n",
      "    for i=0:length(x)-1\n",
      "            if x[i+1]!='0' && x[i+1]!='1' && x[i+1]!='.' #esto es si hay caracteres distintos a 1, 0, '.'\n",
      "            error(\"Debe ser cadena de 0's , 1's y un punto decimal\")\n",
      "            elseif i+1<b[1] && x[i+1]=='1'     #si estamos antes del punto (parte entera)\n",
      "                a=a+2^(b[1]-i-2)\n",
      "            elseif i+1>b[1] && x[i+1]=='1'     #si estamos despu\u00e9s del punto\n",
      "                a=a+2.0^(b[1]-i-1)             #m\u00e1s abajo explico porque se le suma un uno a este exponente\n",
      "            end\n",
      "        end          \n",
      "    end\n",
      "    c*a\n",
      "end"
     ],
     "language": "python",
     "metadata": {},
     "outputs": [
      {
       "metadata": {},
       "output_type": "pyout",
       "prompt_number": 18,
       "text": [
        "bin_a_10_con_punto (generic function with 1 method)"
       ]
      }
     ],
     "prompt_number": 18
    },
    {
     "cell_type": "code",
     "collapsed": false,
     "input": [
      "function bin_a_10(y::ASCIIString) #esta funci\u00f3n toma una cadena de 1's y 0's y la transforma en un entero base 10\n",
      "    if y[1]=='-' #este if lo puse para incluir n\u00fameros negativos\n",
      "        x=y[2:length(y)]\n",
      "        b=-1\n",
      "    else\n",
      "        x=y\n",
      "        b=1\n",
      "    end\n",
      "    a=0\n",
      "    for i=0:length(x)-1\n",
      "        if x[i+1]!='0' && x[i+1]!='1'\n",
      "            error(\"Debe ser cadena de 0's y 1's\")\n",
      "        else\n",
      "            if x[i+1]=='1'\n",
      "                a=a+2^(length(x)-i-1)\n",
      "            end\n",
      "        end\n",
      "    end\n",
      "    b*a\n",
      "end"
     ],
     "language": "python",
     "metadata": {},
     "outputs": [
      {
       "metadata": {},
       "output_type": "pyout",
       "prompt_number": 37,
       "text": [
        "bin_a_10 (generic function with 1 method)"
       ]
      }
     ],
     "prompt_number": 37
    },
    {
     "cell_type": "code",
     "collapsed": false,
     "input": [
      "function diez_a_bin(m::Int) #esta funci\u00f3n toma un entero base 10 y lo convierte en cadena de caracteres (base 2)\n",
      "    n=abs(m)\n",
      "    if n==0\n",
      "        a=0\n",
      "    else\n",
      "        long=itrunc(log(2,n))\n",
      "        a=zeros(Int,long+1)\n",
      "        a[1]=1\n",
      "        b=n-2^long\n",
      "        while b>0\n",
      "            c=itrunc(log(2,b))\n",
      "            a[long-c+1]=1\n",
      "            b=b-2^c\n",
      "        end\n",
      "    end\n",
      "    \n",
      "    if abs(m)==m #este if es para incluir enteros negativos\n",
      "        join(a)\n",
      "    else\n",
      "        string('-',join(a))\n",
      "    end\n",
      "end"
     ],
     "language": "python",
     "metadata": {},
     "outputs": [
      {
       "metadata": {},
       "output_type": "pyout",
       "prompt_number": 51,
       "text": [
        "diez_a_bin (generic function with 1 method)"
       ]
      }
     ],
     "prompt_number": 51
    },
    {
     "cell_type": "code",
     "collapsed": false,
     "input": [
      "function diez_a_bin_con_punto(x::Float64) #funci\u00f3n que transforma flotante a cadena de caracteres\n",
      "    if x==0.0\n",
      "        d=\"0.0\"\n",
      "    else\n",
      "        n=itrunc(abs(x)) #primero trato con la parte entera\n",
      "        if n==0\n",
      "            d=\"0.\"\n",
      "            m=53-itrunc(log2(abs(x))) #con esto la long de la cadena coincide con la longitud de la mantissa de 'bits'\n",
      "        else\n",
      "            d=string(diez_a_bin(n),\".\")\n",
      "            m=52-length(d)+2.0 #con esto la long de la cadena coincide con la longitud de la mantissa de 'bits'\n",
      "        end\n",
      "               \n",
      "        \n",
      "        b=abs(x)-itrunc(abs(x))     #ahora trato con la parte no entera\n",
      "        for c=1:m\n",
      "            if b-2.0^(-c)<0.0\n",
      "                d=string(d,\"0\")\n",
      "            else\n",
      "                d=string(d,\"1\")\n",
      "                b=b-2.0^(-c)\n",
      "            end\n",
      "        end\n",
      "    end\n",
      "    if abs(x)==x #este if es para incluir negativos\n",
      "        d\n",
      "    else\n",
      "        d=string('-',d)\n",
      "    end\n",
      "end"
     ],
     "language": "python",
     "metadata": {},
     "outputs": [
      {
       "metadata": {},
       "output_type": "pyout",
       "prompt_number": 283,
       "text": [
        "diez_a_bin_con_punto (generic function with 1 method)"
       ]
      }
     ],
     "prompt_number": 283
    },
    {
     "cell_type": "code",
     "collapsed": false,
     "input": [],
     "language": "python",
     "metadata": {},
     "outputs": []
    },
    {
     "cell_type": "heading",
     "level": 1,
     "metadata": {},
     "source": [
      "Ejercicio 1"
     ]
    },
    {
     "cell_type": "markdown",
     "metadata": {},
     "source": [
      "En el caso en que $\u03b2=2,\\; p=2,\\; e_{min}=\u22121\\; y\\; e_{max}=2 $, entonces la mantissa solo puede ser (ya sin el primer 1)\n",
      "\n",
      "{00, 01, 10, 11}, es decir que hay $\u03b2^{\\,p} =4$ posibles combinaciones. Y estas combinaciones pueden ir acompa\u00f1adas de una\n",
      "\n",
      "potencia que puede ser -1, 0, 1, 2. Por lo que hay \n",
      "\n",
      "$2(e_{max}-e_{min}+1)\u03b2^{\\,p}+1=33$ n\u00fameros normales en el conjunto (se multiplica por dos por el signo y se suma 1 para incluir al 0.0)\n",
      "\n",
      "Estos n\u00fameros son los siguientes:\n",
      "\n",
      "{0.100,0.101,0.110,0.111,\n",
      "\n",
      "1.00,1.01,1.10,1.11,\n",
      "\n",
      "10.0,10.1,11.0,11.1,\n",
      "\n",
      "100,101,110,111}  m\u00e1s sus respectivos negativos m\u00e1s el 0.0\n",
      "\n",
      "Que en base 10 corresponden a:"
     ]
    },
    {
     "cell_type": "code",
     "collapsed": false,
     "input": [
      "a={\"0.100\",\"0.101\",\"0.110\",\"0.111\",\"1.00\",\"1.01\",\"1.10\",\"1.11\",\"10.0\",\"10.1\",\"11.0\",\"11.1\",\"100.\",\"101.\",\"110.\",\"111.\"}\n",
      "b=zeros(length(a))\n",
      "for i=1:length(a)\n",
      "    b[i]=bin_a_10_con_punto(a[i])\n",
      "end\n",
      "b"
     ],
     "language": "python",
     "metadata": {},
     "outputs": [
      {
       "metadata": {},
       "output_type": "pyout",
       "prompt_number": 28,
       "text": [
        "16-element Array{Float64,1}:\n",
        " 0.5  \n",
        " 0.625\n",
        " 0.75 \n",
        " 0.875\n",
        " 1.0  \n",
        " 1.25 \n",
        " 1.5  \n",
        " 1.75 \n",
        " 2.0  \n",
        " 2.5  \n",
        " 3.0  \n",
        " 3.5  \n",
        " 4.0  \n",
        " 5.0  \n",
        " 6.0  \n",
        " 7.0  "
       ]
      }
     ],
     "prompt_number": 28
    },
    {
     "cell_type": "markdown",
     "metadata": {},
     "source": [
      "Si cambiamos la base cambia la cantidad de n\u00fameros normales disponibles:"
     ]
    },
    {
     "cell_type": "code",
     "collapsed": false,
     "input": [
      "\u03b2=3; p=2; e_min=-1; e_max=2 \n",
      "2(e_max-e_min+1)\u03b2^p + 1"
     ],
     "language": "python",
     "metadata": {},
     "outputs": [
      {
       "metadata": {},
       "output_type": "pyout",
       "prompt_number": 33,
       "text": [
        "73"
       ]
      }
     ],
     "prompt_number": 33
    },
    {
     "cell_type": "code",
     "collapsed": false,
     "input": [
      "\u03b2=4;\n",
      "2(e_max-e_min+1)\u03b2^p + 1"
     ],
     "language": "python",
     "metadata": {},
     "outputs": [
      {
       "metadata": {},
       "output_type": "pyout",
       "prompt_number": 35,
       "text": [
        "129"
       ]
      }
     ],
     "prompt_number": 35
    },
    {
     "cell_type": "markdown",
     "metadata": {},
     "source": [
      "Distancia a cero:"
     ]
    },
    {
     "cell_type": "code",
     "collapsed": false,
     "input": [
      "\u03b2=2.0; p=2; e_min=-1; e_max=2 \n",
      "\u03b2^e_min"
     ],
     "language": "python",
     "metadata": {},
     "outputs": [
      {
       "metadata": {},
       "output_type": "pyout",
       "prompt_number": 60,
       "text": [
        "0.5"
       ]
      }
     ],
     "prompt_number": 60
    },
    {
     "cell_type": "markdown",
     "metadata": {},
     "source": [
      "Distancia entre numeros normales:"
     ]
    },
    {
     "cell_type": "markdown",
     "metadata": {},
     "source": [
      "Analizando el conjunto b definido arriba, vemos que para mismas potencias, la distancia entre valores concecutivos es la misma, pero esta distancia cambia al pasar de una potencia a otra. Es decir que no estan uniformemente distribuidos."
     ]
    },
    {
     "cell_type": "code",
     "collapsed": false,
     "input": [
      "function distancia_normales(e::Int64,p::Int64) #esta funci\u00f3n pide la potencia de 2 'e' y la long de la mantissa 'p'\n",
      "    #y te devuelve la distancia entre numeros normales concecutivos para esa potencia\n",
      "    if p-1-e >= 0\n",
      "        a=\"0.\"*repeat(\"0\",p-1-e)*\"1\" #donde e es la potencia de \u03b2\n",
      "    else\n",
      "        a=\"1\"*repeat(\"0\",e-p)*\".0\"\n",
      "    end\n",
      "    bin_a_10_con_punto(a)\n",
      "end"
     ],
     "language": "python",
     "metadata": {},
     "outputs": [
      {
       "metadata": {},
       "output_type": "pyout",
       "prompt_number": 23,
       "text": [
        "distancia_normales (generic function with 1 method)"
       ]
      }
     ],
     "prompt_number": 23
    },
    {
     "cell_type": "code",
     "collapsed": false,
     "input": [
      "for e=e_min:e_max #con esta iteraci\u00f3n conozco las distancias para el caso p=2; e_min=-1; e_max=2\n",
      "    println(distancia_normales(e,2))\n",
      "end"
     ],
     "language": "python",
     "metadata": {},
     "outputs": [
      {
       "output_type": "stream",
       "stream": "stdout",
       "text": [
        "0.125"
       ]
      },
      {
       "output_type": "stream",
       "stream": "stdout",
       "text": [
        "\n",
        "0.25\n",
        "0.5\n",
        "1.0\n"
       ]
      }
     ],
     "prompt_number": 25
    },
    {
     "cell_type": "heading",
     "level": 5,
     "metadata": {},
     "source": [
      "Ahora doy las expresiones generales:"
     ]
    },
    {
     "cell_type": "markdown",
     "metadata": {},
     "source": [
      "\u00bfde cu\u00e1ntos n\u00fameros normales consiste el conjunto?"
     ]
    },
    {
     "cell_type": "code",
     "collapsed": false,
     "input": [
      "2(e_max-e_min+1)*(\u03b2^p)+1 #expresi\u00f3n para cualquier \u03b2 "
     ],
     "language": "python",
     "metadata": {},
     "outputs": [],
     "prompt_number": 31
    },
    {
     "cell_type": "markdown",
     "metadata": {},
     "source": [
      "\u00bfEst\u00e1n uniformemente distribuidos los n\u00fameros normales?"
     ]
    },
    {
     "cell_type": "markdown",
     "metadata": {},
     "source": [
      "No, no lo est\u00e1n. La distancia entre ellos depende de la potencia de \u03b2. Arriba se define la funci\u00f3n distancia_normales que tiene como argumentos la potencia de 2 'e' y la long de la mantissa 'p' y te devuelve la distancia entre numeros concecutivos"
     ]
    },
    {
     "cell_type": "markdown",
     "metadata": {},
     "source": [
      "\u00bfCu\u00e1l es la distancia entre el 0 y el primer n\u00famero positivo distinto de cero?"
     ]
    },
    {
     "cell_type": "code",
     "collapsed": false,
     "input": [
      "\u03b2^e_min #expresi\u00f3n para cualquier \u03b2"
     ],
     "language": "python",
     "metadata": {},
     "outputs": []
    },
    {
     "cell_type": "code",
     "collapsed": false,
     "input": [],
     "language": "python",
     "metadata": {},
     "outputs": []
    },
    {
     "cell_type": "markdown",
     "metadata": {},
     "source": [
      "En el caso particular de Float64, tenemos los siguientes valores:"
     ]
    },
    {
     "cell_type": "code",
     "collapsed": false,
     "input": [
      "\u03b2=2.0; p=52; e_min=-1023; e_max=1023\n",
      "println(\"N\u00fameros disponibles:\")\n",
      "println(2(e_max-e_min+1)*(\u03b2^p)+1)\n",
      "println(\"Distancia entre 0 y primer n\u00famero positivo\")\n",
      "println(\u03b2^e_min)\n",
      "e=10;\n",
      "println(\"distancia entre concecutivos, por ejemplo para e=$e\")\n",
      "println(distancia_normales(e,p))\n",
      "\n"
     ],
     "language": "python",
     "metadata": {},
     "outputs": [
      {
       "output_type": "stream",
       "stream": "stdout",
       "text": [
        "N\u00fameros disponibles:\n"
       ]
      },
      {
       "output_type": "stream",
       "stream": "stdout",
       "text": [
        "1.843773687445481e19\n",
        "Distancia entre 0 y primer n\u00famero positivo\n",
        "1.1125369292536007e-308\n",
        "distancia entre concecutivos, por ejemplo para e=10\n",
        "2.2737367544323206e-13\n"
       ]
      }
     ],
     "prompt_number": 277
    },
    {
     "cell_type": "code",
     "collapsed": false,
     "input": [],
     "language": "python",
     "metadata": {},
     "outputs": []
    },
    {
     "cell_type": "heading",
     "level": 1,
     "metadata": {},
     "source": [
      "Ejercicio 2"
     ]
    },
    {
     "cell_type": "markdown",
     "metadata": {},
     "source": [
      "\u00bfC\u00f3mo se representa al x=0 en el conjunto anterior?"
     ]
    },
    {
     "cell_type": "markdown",
     "metadata": {},
     "source": [
      "El problema de x=0 es que no puede incluirse en el conjunto con 'bit escondido'. Lo que hace la computadora es hacer un caso particular para esto"
     ]
    },
    {
     "cell_type": "markdown",
     "metadata": {},
     "source": [
      "\u00bfFunciona la regla del bit escondido para una base \u03b2>3?"
     ]
    },
    {
     "cell_type": "markdown",
     "metadata": {},
     "source": [
      "Claramente no funciona, ya que el bit escondido podr\u00eda tener el valor 1,2,...."
     ]
    },
    {
     "cell_type": "code",
     "collapsed": false,
     "input": [
      "#Ya entend\u00ed, a partir de \u00b12.0^-1022 se usan n\u00famero anormales, ya que de no ser as\u00ed, la representaci\u00f3n en bits de \u00b12.0^-1023\n",
      "#deber\u00eda ser puros ceros (con o sin el primer 1 dependiendo del signo)\n",
      "println(bits(2.0^-1023)[1:13])\n",
      "println(bits(-2.0^-1022)[1:13])"
     ],
     "language": "python",
     "metadata": {},
     "outputs": [
      {
       "output_type": "stream",
       "stream": "stdout",
       "text": [
        "0000000000001\n"
       ]
      },
      {
       "output_type": "stream",
       "stream": "stdout",
       "text": [
        "1000000000010\n"
       ]
      }
     ],
     "prompt_number": 166
    },
    {
     "cell_type": "code",
     "collapsed": false,
     "input": [],
     "language": "python",
     "metadata": {},
     "outputs": [],
     "prompt_number": 249
    },
    {
     "cell_type": "code",
     "collapsed": false,
     "input": [
      "a=0 #con esto genero el n\u00famero m\u00e1s grande antes de Inf\n",
      "for i=0:52\n",
      "    a=a+2.0^(1023-i)\n",
      "end\n",
      "bits(a)"
     ],
     "language": "python",
     "metadata": {},
     "outputs": [
      {
       "metadata": {},
       "output_type": "pyout",
       "prompt_number": 243,
       "text": [
        "\"0111111111101111111111111111111111111111111111111111111111111111\""
       ]
      }
     ],
     "prompt_number": 243
    },
    {
     "cell_type": "code",
     "collapsed": false,
     "input": [
      "a+2.0^(1023-53)"
     ],
     "language": "python",
     "metadata": {},
     "outputs": [
      {
       "metadata": {},
       "output_type": "pyout",
       "prompt_number": 244,
       "text": [
        "Inf"
       ]
      }
     ],
     "prompt_number": 244
    },
    {
     "cell_type": "code",
     "collapsed": false,
     "input": [
      "a+2.0^(1023-54)==a"
     ],
     "language": "python",
     "metadata": {},
     "outputs": [
      {
       "metadata": {},
       "output_type": "pyout",
       "prompt_number": 248,
       "text": [
        "true"
       ]
      }
     ],
     "prompt_number": 248
    },
    {
     "cell_type": "heading",
     "level": 1,
     "metadata": {},
     "source": [
      "Ejercicio 3"
     ]
    },
    {
     "cell_type": "heading",
     "level": 6,
     "metadata": {},
     "source": [
      "En el ejemplo de juguete anterior (\u03b2=2, p=2, e_min=\u22121 y e_max=2) enumera los posibles n\u00fameros subnormales.  "
     ]
    },
    {
     "cell_type": "markdown",
     "metadata": {},
     "source": [
      "\n",
      "La idea es tomar el conjunto de n\u00fameros m\u00e1s peque\u00f1os que ten\u00edamos (con e=emin) y quitar el bit escondido.\n",
      "\n",
      "Los posibles son:\n",
      "\"0.001\",\"0.010\",\"0.011\" m\u00e1s obviamente el cero \"0.000\", que equivalen a los siguientes en base 10:"
     ]
    },
    {
     "cell_type": "code",
     "collapsed": false,
     "input": [
      "\u03b2=2.0; p=2; e_min=-1; e_max=2;\n",
      "a={\"0.000\",\"0.001\",\"0.010\",\"0.011\"}\n",
      "c=zeros(length(a))\n",
      "for i=1:length(a)\n",
      "    c[i]=bin_a_10_con_punto(a[i])\n",
      "end\n",
      "c"
     ],
     "language": "python",
     "metadata": {},
     "outputs": [
      {
       "metadata": {},
       "output_type": "pyout",
       "prompt_number": 262,
       "text": [
        "4-element Array{Float64,1}:\n",
        " 0.0  \n",
        " 0.125\n",
        " 0.25 \n",
        " 0.375"
       ]
      }
     ],
     "prompt_number": 262
    },
    {
     "cell_type": "markdown",
     "metadata": {},
     "source": [
      "Notese que son 2^p-1 (menos uno por el cero) numeros subnormales"
     ]
    },
    {
     "cell_type": "heading",
     "level": 6,
     "metadata": {},
     "source": [
      "\u00bfC\u00f3mo cambia la distancia de 0 al n\u00famero positivo m\u00e1s pr\u00f3ximo?"
     ]
    },
    {
     "cell_type": "markdown",
     "metadata": {},
     "source": [
      "Antes era \u03b2^e_min, ahora es \u03b2^(e_min-p)"
     ]
    },
    {
     "cell_type": "code",
     "collapsed": false,
     "input": [
      "\u03b2^(e_min-p)"
     ],
     "language": "python",
     "metadata": {},
     "outputs": [
      {
       "metadata": {},
       "output_type": "pyout",
       "prompt_number": 271,
       "text": [
        "0.125"
       ]
      }
     ],
     "prompt_number": 271
    },
    {
     "cell_type": "code",
     "collapsed": false,
     "input": [
      "#para el caso Float64 \n",
      "\u03b2=2.0; p=52; e_min=-1023; e_max=1023;\n",
      "println(bits(2.0^(e_min-p+1)))\n",
      "println(bits(2.0^-1074))"
     ],
     "language": "python",
     "metadata": {},
     "outputs": [
      {
       "output_type": "stream",
       "stream": "stdout",
       "text": [
        "0000000000000000000000000000000000000000000000000000000000000001\n"
       ]
      },
      {
       "output_type": "stream",
       "stream": "stdout",
       "text": [
        "0000000000000000000000000000000000000000000000000000000000000001\n"
       ]
      }
     ],
     "prompt_number": 289
    },
    {
     "cell_type": "heading",
     "level": 6,
     "metadata": {},
     "source": [
      "\u00bfEl espaciamiento entre los n\u00fameros subnormales, es uniforme?"
     ]
    },
    {
     "cell_type": "markdown",
     "metadata": {},
     "source": [
      "S\u00ed es uniforme, avanzas en pasos de \u03b2^(e_min-p)"
     ]
    },
    {
     "cell_type": "code",
     "collapsed": false,
     "input": [
      "\u03b2=2.0; p=2; e_min=-1; e_max=2;\n",
      "for i=1:2^p-1\n",
      "    println(diez_a_bin_con_punto(i*\u03b2^(e_min-p))[1:5])\n",
      "end"
     ],
     "language": "python",
     "metadata": {},
     "outputs": [
      {
       "output_type": "stream",
       "stream": "stdout",
       "text": [
        "0.001\n"
       ]
      },
      {
       "output_type": "stream",
       "stream": "stdout",
       "text": [
        "0.010\n",
        "0.011\n"
       ]
      }
     ],
     "prompt_number": 288
    },
    {
     "cell_type": "code",
     "collapsed": false,
     "input": [],
     "language": "python",
     "metadata": {},
     "outputs": []
    },
    {
     "cell_type": "heading",
     "level": 1,
     "metadata": {},
     "source": [
      "Ejercicio 4"
     ]
    },
    {
     "cell_type": "heading",
     "level": 6,
     "metadata": {},
     "source": [
      "\u00bfQu\u00e9 expresiones definen a $N_{min}$ y $N_{max}$, los n\u00fameros de punto flotante (positivos) m\u00ednimo y m\u00e1ximo? Obt\u00e9n los resultados para los n\u00fameros normales y los subnormales."
     ]
    },
    {
     "cell_type": "code",
     "collapsed": false,
     "input": [
      "#para el caso Float64\n",
      "\u03b2=2.0; p=52; e_min=-1023; e_max=1023;"
     ],
     "language": "python",
     "metadata": {},
     "outputs": []
    },
    {
     "cell_type": "code",
     "collapsed": false,
     "input": [],
     "language": "python",
     "metadata": {},
     "outputs": []
    },
    {
     "cell_type": "code",
     "collapsed": false,
     "input": [],
     "language": "python",
     "metadata": {},
     "outputs": []
    },
    {
     "cell_type": "code",
     "collapsed": false,
     "input": [],
     "language": "python",
     "metadata": {},
     "outputs": []
    },
    {
     "cell_type": "code",
     "collapsed": false,
     "input": [],
     "language": "python",
     "metadata": {},
     "outputs": []
    },
    {
     "cell_type": "code",
     "collapsed": false,
     "input": [],
     "language": "python",
     "metadata": {},
     "outputs": []
    },
    {
     "cell_type": "code",
     "collapsed": false,
     "input": [
      "bin_a_10(repeat(\"1\",11))-2^10+1 #el menos uno es por"
     ],
     "language": "python",
     "metadata": {},
     "outputs": [
      {
       "metadata": {},
       "output_type": "pyout",
       "prompt_number": 100,
       "text": [
        "1024"
       ]
      }
     ],
     "prompt_number": 100
    },
    {
     "cell_type": "code",
     "collapsed": false,
     "input": [
      "bin_a_10(repeat(\"0\",11))-2^10+1"
     ],
     "language": "python",
     "metadata": {},
     "outputs": [
      {
       "metadata": {},
       "output_type": "pyout",
       "prompt_number": 45,
       "text": [
        "-1023"
       ]
      }
     ],
     "prompt_number": 45
    },
    {
     "cell_type": "code",
     "collapsed": false,
     "input": [
      "bits(2.0^1023)"
     ],
     "language": "python",
     "metadata": {},
     "outputs": [
      {
       "metadata": {},
       "output_type": "pyout",
       "prompt_number": 88,
       "text": [
        "\"0111111111100000000000000000000000000000000000000000000000000000\""
       ]
      }
     ],
     "prompt_number": 88
    },
    {
     "cell_type": "code",
     "collapsed": false,
     "input": [
      "2.0^1023"
     ],
     "language": "python",
     "metadata": {},
     "outputs": [
      {
       "metadata": {},
       "output_type": "pyout",
       "prompt_number": 143,
       "text": [
        "8.98846567431158e307"
       ]
      }
     ],
     "prompt_number": 143
    },
    {
     "cell_type": "code",
     "collapsed": false,
     "input": [
      "2.0^-1023"
     ],
     "language": "python",
     "metadata": {},
     "outputs": [
      {
       "metadata": {},
       "output_type": "pyout",
       "prompt_number": 145,
       "text": [
        "1.1125369292536007e-308"
       ]
      }
     ],
     "prompt_number": 145
    },
    {
     "cell_type": "code",
     "collapsed": false,
     "input": [
      "bits(ans)"
     ],
     "language": "python",
     "metadata": {},
     "outputs": [
      {
       "metadata": {},
       "output_type": "pyout",
       "prompt_number": 130,
       "text": [
        "\"0000000000000000000000000000000000000000000000000000000000000010\""
       ]
      }
     ],
     "prompt_number": 130
    },
    {
     "cell_type": "code",
     "collapsed": false,
     "input": [
      "println(bits(2.0^1024))\n",
      "println(bits(2.0^1023))"
     ],
     "language": "python",
     "metadata": {},
     "outputs": [
      {
       "output_type": "stream",
       "stream": "stdout",
       "text": [
        "0111111111110000000000000000000000000000000000000000000000000000\n"
       ]
      },
      {
       "output_type": "stream",
       "stream": "stdout",
       "text": [
        "0111111111100000000000000000000000000000000000000000000000000000\n"
       ]
      }
     ],
     "prompt_number": 109
    },
    {
     "cell_type": "code",
     "collapsed": false,
     "input": [
      "length(diez_a_bin(2^11-1))"
     ],
     "language": "python",
     "metadata": {},
     "outputs": [
      {
       "metadata": {},
       "output_type": "pyout",
       "prompt_number": 105,
       "text": [
        "11"
       ]
      }
     ],
     "prompt_number": 105
    },
    {
     "cell_type": "code",
     "collapsed": false,
     "input": [
      "2^11-1"
     ],
     "language": "python",
     "metadata": {},
     "outputs": [
      {
       "metadata": {},
       "output_type": "pyout",
       "prompt_number": 106,
       "text": [
        "2047"
       ]
      }
     ],
     "prompt_number": 106
    },
    {
     "cell_type": "code",
     "collapsed": false,
     "input": [
      "ans-1024"
     ],
     "language": "python",
     "metadata": {},
     "outputs": [
      {
       "metadata": {},
       "output_type": "pyout",
       "prompt_number": 107,
       "text": [
        "1023"
       ]
      }
     ],
     "prompt_number": 107
    },
    {
     "cell_type": "code",
     "collapsed": false,
     "input": [
      "2^10-1"
     ],
     "language": "python",
     "metadata": {},
     "outputs": [
      {
       "metadata": {},
       "output_type": "pyout",
       "prompt_number": 108,
       "text": [
        "1023"
       ]
      }
     ],
     "prompt_number": 108
    },
    {
     "cell_type": "code",
     "collapsed": false,
     "input": [],
     "language": "python",
     "metadata": {},
     "outputs": []
    }
   ],
   "metadata": {}
  }
 ]
}