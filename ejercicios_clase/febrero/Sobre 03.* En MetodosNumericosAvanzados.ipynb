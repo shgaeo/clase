{
 "metadata": {
  "language": "Julia",
  "name": "",
  "signature": "sha256:769a640c37275d9e7a671a3620356aa49234e5aca0eb3bdf10b58cc886e67c4a"
 },
 "nbformat": 3,
 "nbformat_minor": 0,
 "worksheets": [
  {
   "cells": [
    {
     "cell_type": "markdown",
     "metadata": {},
     "source": [
      "Este notebook es para hacer los ejercicios del \"03. Representacion de numeros en la computadora\""
     ]
    },
    {
     "cell_type": "heading",
     "level": 2,
     "metadata": {},
     "source": [
      "N\u00fameros Enteros"
     ]
    },
    {
     "cell_type": "code",
     "collapsed": false,
     "input": [
      "#\u00bfcomo represento 50 en binario?\n",
      "log(2,50)"
     ],
     "language": "python",
     "metadata": {},
     "outputs": [
      {
       "metadata": {},
       "output_type": "pyout",
       "prompt_number": 1,
       "text": [
        "5.643856189774724"
       ]
      }
     ],
     "prompt_number": 1
    },
    {
     "cell_type": "code",
     "collapsed": false,
     "input": [
      "#esto me dice que en la 5ta potencia hay un 1\n",
      "#10000_2 = 2\u2075_10\n",
      "2^5"
     ],
     "language": "python",
     "metadata": {},
     "outputs": [
      {
       "metadata": {},
       "output_type": "pyout",
       "prompt_number": 12,
       "text": [
        "32"
       ]
      }
     ],
     "prompt_number": 12
    },
    {
     "cell_type": "code",
     "collapsed": false,
     "input": [
      "#Me faltan 18=50-32\n",
      "log(2,18)"
     ],
     "language": "python",
     "metadata": {},
     "outputs": [
      {
       "metadata": {},
       "output_type": "pyout",
       "prompt_number": 14,
       "text": [
        "4.169925001442312"
       ]
      }
     ],
     "prompt_number": 14
    },
    {
     "cell_type": "code",
     "collapsed": false,
     "input": [
      "#esto me dice que en la 4ta potencia hay un 1\n",
      "#01000_2 = 2\u2074_10\n",
      "2^4"
     ],
     "language": "python",
     "metadata": {},
     "outputs": [
      {
       "metadata": {},
       "output_type": "pyout",
       "prompt_number": 15,
       "text": [
        "16"
       ]
      }
     ],
     "prompt_number": 15
    },
    {
     "cell_type": "code",
     "collapsed": false,
     "input": [
      "# me faltan 2=18-16\n",
      "log(2,2)"
     ],
     "language": "python",
     "metadata": {},
     "outputs": [
      {
       "metadata": {},
       "output_type": "pyout",
       "prompt_number": 16,
       "text": [
        "1.0"
       ]
      }
     ],
     "prompt_number": 16
    },
    {
     "cell_type": "code",
     "collapsed": false,
     "input": [
      "#por lo tanto 50_10 es\n",
      "#110010 en base 2, notese el primer cero que es para la potencia cero"
     ],
     "language": "python",
     "metadata": {},
     "outputs": [],
     "prompt_number": 18
    },
    {
     "cell_type": "code",
     "collapsed": false,
     "input": [
      "bin(50)"
     ],
     "language": "python",
     "metadata": {},
     "outputs": [
      {
       "metadata": {},
       "output_type": "pyout",
       "prompt_number": 21,
       "text": [
        "\"110010\""
       ]
      }
     ],
     "prompt_number": 21
    },
    {
     "cell_type": "code",
     "collapsed": false,
     "input": [
      "typeof(bin(50))"
     ],
     "language": "python",
     "metadata": {},
     "outputs": [
      {
       "metadata": {},
       "output_type": "pyout",
       "prompt_number": 22,
       "text": [
        "ASCIIString (constructor with 2 methods)"
       ]
      }
     ],
     "prompt_number": 22
    },
    {
     "cell_type": "code",
     "collapsed": false,
     "input": [
      "methods(ans)"
     ],
     "language": "python",
     "metadata": {},
     "outputs": [
      {
       "html": [
        "2 methods for generic function <b>ASCIIString</b>:<ul><li> ASCIIString(data::<b>Array{Uint8,1}</b>)<li> ASCIIString(data)</ul>"
       ],
       "metadata": {},
       "output_type": "pyout",
       "prompt_number": 23,
       "text": [
        "# 2 methods for generic function \"ASCIIString\":\n",
        "ASCIIString(data::Array{Uint8,1})\n",
        "ASCIIString(data)"
       ]
      }
     ],
     "prompt_number": 23
    },
    {
     "cell_type": "code",
     "collapsed": false,
     "input": [
      "typeof(bin(5))==ASCIIString(Array{Uint8,1})"
     ],
     "language": "python",
     "metadata": {},
     "outputs": [
      {
       "ename": "LoadError",
       "evalue": "`convert` has no method matching convert(::Type{Array{Uint8,1}}, ::Type{Array{Uint8,1}})\nyou may have intended to import Base.convert\nwhile loading In[27], in expression starting on line 1",
       "output_type": "pyerr",
       "traceback": [
        "`convert` has no method matching convert(::Type{Array{Uint8,1}}, ::Type{Array{Uint8,1}})\nyou may have intended to import Base.convert\nwhile loading In[27], in expression starting on line 1",
        "",
        " in ASCIIString at no file"
       ]
      }
     ],
     "prompt_number": 27
    },
    {
     "cell_type": "code",
     "collapsed": false,
     "input": [
      "function bin_a_10(x::ASCIIString)\n",
      "    a=0\n",
      "    for i=0:length(x)-1\n",
      "        if x[i+1]!='0' && x[i+1]!='1'\n",
      "            error(\"Debe ser cadena de 0's y 1's\")\n",
      "        else\n",
      "            if x[i+1]=='1'\n",
      "                a=a+2^(length(x)-i-1)\n",
      "            end\n",
      "        end\n",
      "    end\n",
      "    a\n",
      "end"
     ],
     "language": "python",
     "metadata": {},
     "outputs": [
      {
       "metadata": {},
       "output_type": "pyout",
       "prompt_number": 101,
       "text": [
        "bin_a_10 (generic function with 1 method)"
       ]
      }
     ],
     "prompt_number": 101
    },
    {
     "cell_type": "code",
     "collapsed": false,
     "input": [
      "bin_a_10(\"00000000000110010\")"
     ],
     "language": "python",
     "metadata": {},
     "outputs": [
      {
       "metadata": {},
       "output_type": "pyout",
       "prompt_number": 102,
       "text": [
        "50"
       ]
      }
     ],
     "prompt_number": 102
    },
    {
     "cell_type": "code",
     "collapsed": false,
     "input": [],
     "language": "python",
     "metadata": {},
     "outputs": [],
     "prompt_number": 240
    },
    {
     "cell_type": "code",
     "collapsed": false,
     "input": [
      "function diez_a_bin(n::Int)\n",
      "    if n==0\n",
      "        a=0\n",
      "    elseif n>0\n",
      "        long=itrunc(log(2,n))\n",
      "        a=zeros(Int,long+1)\n",
      "        a[1]=1\n",
      "        b=n-2^long\n",
      "        while b>0\n",
      "            c=itrunc(log(2,b))\n",
      "            a[long-c+1]=1\n",
      "            b=b-2^c\n",
      "        end\n",
      "    else\n",
      "        error(\"Solo enteros positivos o cero\")\n",
      "    end\n",
      "    join(a)\n",
      "end"
     ],
     "language": "python",
     "metadata": {},
     "outputs": [
      {
       "metadata": {},
       "output_type": "pyout",
       "prompt_number": 3,
       "text": [
        "diez_a_bin (generic function with 1 method)"
       ]
      }
     ],
     "prompt_number": 3
    },
    {
     "cell_type": "code",
     "collapsed": false,
     "input": [
      "diez_a_bin(50)"
     ],
     "language": "python",
     "metadata": {},
     "outputs": [
      {
       "metadata": {},
       "output_type": "pyout",
       "prompt_number": 18,
       "text": [
        "\"110010\""
       ]
      }
     ],
     "prompt_number": 18
    },
    {
     "cell_type": "code",
     "collapsed": false,
     "input": [
      "n=50;\n",
      "bin(n)==diez_a_bin(n)"
     ],
     "language": "python",
     "metadata": {},
     "outputs": [
      {
       "metadata": {},
       "output_type": "pyout",
       "prompt_number": 4,
       "text": [
        "true"
       ]
      }
     ],
     "prompt_number": 4
    },
    {
     "cell_type": "code",
     "collapsed": false,
     "input": [],
     "language": "python",
     "metadata": {},
     "outputs": [],
     "prompt_number": 5
    },
    {
     "cell_type": "code",
     "collapsed": false,
     "input": [],
     "language": "python",
     "metadata": {},
     "outputs": [],
     "prompt_number": 21
    },
    {
     "cell_type": "heading",
     "level": 2,
     "metadata": {},
     "source": [
      "Numeros reales"
     ]
    },
    {
     "cell_type": "markdown",
     "metadata": {},
     "source": [
      "31.4159 = 3x10\u00b9 + 1x10\u2070 + 4x10\u207b\u00b9 + 1x10\u207b\u00b2 + 5x10\u207b\u00b3 + 9x10\u207b\u2074"
     ]
    },
    {
     "cell_type": "code",
     "collapsed": false,
     "input": [
      "#101.0101 = 1x2\u00b2 + 0x2\u00b9 + 1x2\u2070 + 0x2\u207b\u00b9 + 1x2\u207b\u00b2 + 0x2\u207b\u00b3 + 1x2\u207b\u2074\n",
      "1*2^2 + 0 + 1*2^0 + 0 + 1*2.0^-2 + 0 + 1*2.0^-4"
     ],
     "language": "python",
     "metadata": {},
     "outputs": [
      {
       "metadata": {},
       "output_type": "pyout",
       "prompt_number": 25,
       "text": [
        "5.3125"
       ]
      }
     ],
     "prompt_number": 25
    },
    {
     "cell_type": "code",
     "collapsed": false,
     "input": [
      "function bin_a_10_con_punto(x::ASCIIString)\n",
      "    b=search(x,\".\")\n",
      "    if length(b)==0\n",
      "        error(\"Debe ser cadena de 0's , 1's y un punto decimal\")\n",
      "    elseif length(search(x,\".\",b[1]+1))==1\n",
      "        error(\"Debe ser cadena de 0's , 1's y un punto decimal\")\n",
      "    else\n",
      "    a=0\n",
      "    for i=0:length(x)-1\n",
      "        if x[i+1]!='0' && x[i+1]!='1' && x[i+1]!='.'\n",
      "            error(\"Debe ser cadena de 0's , 1's y un punto decimal\")\n",
      "            elseif i+1<b[1] && x[i+1]=='1'     \n",
      "                a=a+2^(b[1]-i-2)\n",
      "            elseif i+1>b[1] && x[i+1]=='1'\n",
      "                a=a+2.0^(b[1]-i-1)\n",
      "            end\n",
      "        end          \n",
      "    end\n",
      "    a\n",
      "end"
     ],
     "language": "python",
     "metadata": {},
     "outputs": [
      {
       "metadata": {},
       "output_type": "pyout",
       "prompt_number": 15,
       "text": [
        "bin_a_10_con_punto (generic function with 1 method)"
       ]
      }
     ],
     "prompt_number": 15
    },
    {
     "cell_type": "code",
     "collapsed": false,
     "input": [
      "bin_a_10_con_punto(\"0000101.0101000\")"
     ],
     "language": "python",
     "metadata": {},
     "outputs": [
      {
       "metadata": {},
       "output_type": "pyout",
       "prompt_number": 6,
       "text": [
        "5.3125"
       ]
      }
     ],
     "prompt_number": 6
    },
    {
     "cell_type": "code",
     "collapsed": false,
     "input": [],
     "language": "python",
     "metadata": {},
     "outputs": []
    },
    {
     "cell_type": "code",
     "collapsed": false,
     "input": [
      "function diez_a_bin_con_punto(x::Float64)\n",
      "    if x==0.0\n",
      "        a=\"0.0\"\n",
      "    else\n",
      "        n=itrunc(abs(x))\n",
      "        if n==0\n",
      "            a=0\n",
      "        else\n",
      "            long=itrunc(log(2,n))\n",
      "            a=zeros(Int,long+1)\n",
      "            a[1]=1\n",
      "            b=n-2^long\n",
      "            while b>0\n",
      "                c=itrunc(log(2,b))\n",
      "                a[long-c+1]=1\n",
      "                b=b-2^c\n",
      "            end\n",
      "        end\n",
      "        d=string(join(a),\".\")\n",
      "        b=abs(x)-itrunc(abs(x))\n",
      "        \n",
      "        m=40\n",
      "        for c=1:m\n",
      "            if b-2.0^(-c)<0.0\n",
      "                d=string(d,\"0\")\n",
      "            else\n",
      "                d=string(d,\"1\")\n",
      "                b=b-2.0^(-c)\n",
      "            end\n",
      "        end\n",
      "    end\n",
      "    d\n",
      "end"
     ],
     "language": "python",
     "metadata": {},
     "outputs": [
      {
       "metadata": {},
       "output_type": "pyout",
       "prompt_number": 83,
       "text": [
        "diez_a_bin_con_punto (generic function with 1 method)"
       ]
      }
     ],
     "prompt_number": 83
    },
    {
     "cell_type": "code",
     "collapsed": false,
     "input": [
      "x=12.12\n",
      "println(diez_a_bin_con_punto(x))\n",
      "println(diez_a_bin(itrunc(x)))"
     ],
     "language": "python",
     "metadata": {},
     "outputs": [
      {
       "output_type": "stream",
       "stream": "stdout",
       "text": [
        "1100.0001111010111000010100011110101110000101\n"
       ]
      },
      {
       "output_type": "stream",
       "stream": "stdout",
       "text": [
        "1100\n"
       ]
      }
     ],
     "prompt_number": 84
    },
    {
     "cell_type": "code",
     "collapsed": false,
     "input": [
      "bin_a_10_con_punto(\"1100.0001111010111000010100011110101110000101\")"
     ],
     "language": "python",
     "metadata": {},
     "outputs": [
      {
       "metadata": {},
       "output_type": "pyout",
       "prompt_number": 85,
       "text": [
        "12.11999999999989"
       ]
      }
     ],
     "prompt_number": 85
    },
    {
     "cell_type": "code",
     "collapsed": false,
     "input": [
      "x=0.1\n",
      "println(diez_a_bin_con_punto(x))\n",
      "println(bin_a_10_con_punto(diez_a_bin_con_punto(x)))"
     ],
     "language": "python",
     "metadata": {},
     "outputs": [
      {
       "output_type": "stream",
       "stream": "stdout",
       "text": [
        "0.0001100110011001100110011001100110011001\n"
       ]
      },
      {
       "output_type": "stream",
       "stream": "stdout",
       "text": [
        "0.0999999999994543\n"
       ]
      }
     ],
     "prompt_number": 88
    },
    {
     "cell_type": "code",
     "collapsed": false,
     "input": [],
     "language": "python",
     "metadata": {},
     "outputs": []
    },
    {
     "cell_type": "heading",
     "level": 2,
     "metadata": {},
     "source": [
      "La representaci\u00f3n \"punto flotante\""
     ]
    },
    {
     "cell_type": "markdown",
     "metadata": {},
     "source": [
      "Criterio para flotantes binarios:\n",
      "posici\u00f3n 1 = signo\n",
      "posici\u00f3n 2-12 = (m\u00e1xima potencia de dos + (2^10 -1))_2\n",
      "posici\u00f3n 13-64 = el n\u00famero binario que resulta de transformar el n\u00famero original menos 2^m\u00e1xima potencia de dos"
     ]
    },
    {
     "cell_type": "code",
     "collapsed": false,
     "input": [
      "function diez_a_bin(x::Float64)\n",
      "    if x==0.0\n",
      "        join(zeros(Int,64))\n",
      "    else\n",
      "        if x<0\n",
      "            a=\"1\"\n",
      "        else\n",
      "            a=\"0\";\n",
      "        end\n",
      "        x=abs(x)\n",
      "        b=diez_a_bin(1023+itrunc(log2(x)))\n",
      "        if length(b)!=11\n",
      "            b=join(zeros(Int,11-length(b)))*b\n",
      "        end\n",
      "        c=diez_a_bin(itrunc((2^(52-itrunc(log2(x)))*(x-2^(itrunc(log2(x)))))))\n",
      "        if length(c)!=52\n",
      "        c=join(zeros(Int,52-length(c)))*c\n",
      "        end\n",
      "        a*b*c\n",
      "    end\n",
      "end"
     ],
     "language": "python",
     "metadata": {},
     "outputs": [
      {
       "metadata": {},
       "output_type": "pyout",
       "prompt_number": 23,
       "text": [
        "diez_a_bin (generic function with 2 methods)"
       ]
      }
     ],
     "prompt_number": 23
    },
    {
     "cell_type": "code",
     "collapsed": false,
     "input": [
      "x=-1897432.0;\n",
      "println(diez_a_bin(x))\n",
      "println(bits(x))"
     ],
     "language": "python",
     "metadata": {},
     "outputs": [
      {
       "output_type": "stream",
       "stream": "stdout",
       "text": [
        "1100000100111100111100111101100000000000000000000000000000000000\n"
       ]
      },
      {
       "output_type": "stream",
       "stream": "stdout",
       "text": [
        "1100000100111100111100111101100000000000000000000000000000000000\n"
       ]
      }
     ],
     "prompt_number": 75
    },
    {
     "cell_type": "code",
     "collapsed": false,
     "input": [],
     "language": "python",
     "metadata": {},
     "outputs": []
    },
    {
     "cell_type": "code",
     "collapsed": false,
     "input": [],
     "language": "python",
     "metadata": {},
     "outputs": []
    },
    {
     "cell_type": "code",
     "collapsed": false,
     "input": [
      "using Interact, Color, Reactive"
     ],
     "language": "python",
     "metadata": {},
     "outputs": [],
     "prompt_number": 93
    },
    {
     "cell_type": "code",
     "collapsed": false,
     "input": [
      "@manipulate for r = 0:.05:1, g = 0:.05:1, b = 0:.05:1\n",
      "    html(string(\"<div style='color:#\", hex(RGB(r,g,b)), \"'>Color me concise</div>\"))\n",
      "end\n"
     ],
     "language": "python",
     "metadata": {},
     "outputs": [
      {
       "html": [],
       "metadata": {},
       "output_type": "display_data",
       "text": [
        "Slider{Float64}([Input{Float64}] 0.5,\"r\",0.5,0.0:0.05:1.0)"
       ]
      },
      {
       "html": [],
       "metadata": {},
       "output_type": "display_data",
       "text": [
        "Slider{Float64}([Input{Float64}] 0.5,\"g\",0.5,0.0:0.05:1.0)"
       ]
      },
      {
       "html": [],
       "metadata": {},
       "output_type": "display_data",
       "text": [
        "Slider{Float64}([Input{Float64}] 0.5,\"b\",0.5,0.0:0.05:1.0)"
       ]
      },
      {
       "html": [],
       "metadata": {},
       "output_type": "pyout",
       "prompt_number": 94,
       "text": [
        "HTML(\"\",\"<div style='color:#808080'>Color me concise</div>\")"
       ]
      }
     ],
     "prompt_number": 94
    },
    {
     "cell_type": "code",
     "collapsed": false,
     "input": [
      "r = slider(0:0.01:1, label=\"R\")\n",
      "g = slider(0:0.01:1, label=\"G\")\n",
      "b = slider(0:0.01:1, label=\"B\")\n",
      "map(display, [r,g,b]);\n",
      "color = @lift RGB(r, g, b)"
     ],
     "language": "python",
     "metadata": {},
     "outputs": [
      {
       "html": [],
       "metadata": {},
       "output_type": "display_data",
       "text": [
        "Slider{Float64}([Input{Float64}] 0.5,\"R\",0.5,0.0:0.01:1.0)"
       ]
      },
      {
       "html": [],
       "metadata": {},
       "output_type": "display_data",
       "text": [
        "Slider{Float64}([Input{Float64}] 0.5,\"G\",0.5,0.0:0.01:1.0)"
       ]
      },
      {
       "html": [],
       "metadata": {},
       "output_type": "display_data",
       "text": [
        "Slider{Float64}([Input{Float64}] 0.5,\"B\",0.5,0.0:0.01:1.0)"
       ]
      },
      {
       "output_type": "stream",
       "stream": "stderr",
       "text": [
        "Warning: imported binding for color overwritten in module Main\n"
       ]
      },
      {
       "metadata": {
        "comm_id": "43f58510-5394-46df-b911-4e3b08612d1e",
        "reactive": true
       },
       "output_type": "pyout",
       "prompt_number": 97,
       "svg": [
        "<?xml version\"1.0\" encoding=\"UTF-8\"?>\n",
        "<!DOCTYPE svg PUBLIC \"-//W3C//DTD SVG 1.1//EN\"\n",
        " \"http://www.w3.org/Graphics/SVG/1.1/DTD/svg11.dtd\">\n",
        "<svg xmlns=\"http://www.w3.org/2000/svg\" version=\"1.1\"\n",
        "     width=\"25mm\" height=\"25mm\" viewBox=\"0 0 1 1\">\n",
        "     <rect width=\"1\" height=\"1\"\n",
        "           fill=\"#808080\" stroke=\"none\"/>\n",
        "</svg>\n"
       ],
       "text": [
        "RGB{Float64}(0.5,0.5,0.5)"
       ]
      }
     ],
     "prompt_number": 97
    },
    {
     "cell_type": "code",
     "collapsed": false,
     "input": [
      "@lift html(string(\"<div style='color:#\", hex(color), \"'>Hello, World!</div>\"))"
     ],
     "language": "python",
     "metadata": {},
     "outputs": [
      {
       "html": [],
       "metadata": {},
       "output_type": "pyout",
       "prompt_number": 98,
       "text": [
        "HTML(\"\",\"<div style='color:#00FFFF'>Hello, World!</div>\")"
       ]
      }
     ],
     "prompt_number": 98
    },
    {
     "cell_type": "code",
     "collapsed": false,
     "input": [
      "s = slider(0:0.01:1, label=\"Slider X:\")\n",
      "lift(x -> RGB(x, 0.5, 0.5), signal(s))\n"
     ],
     "language": "python",
     "metadata": {},
     "outputs": [
      {
       "metadata": {
        "comm_id": "ffade6e3-849a-4c9a-bc99-7911ec57b774",
        "reactive": true
       },
       "output_type": "pyout",
       "prompt_number": 100,
       "svg": [
        "<?xml version\"1.0\" encoding=\"UTF-8\"?>\n",
        "<!DOCTYPE svg PUBLIC \"-//W3C//DTD SVG 1.1//EN\"\n",
        " \"http://www.w3.org/Graphics/SVG/1.1/DTD/svg11.dtd\">\n",
        "<svg xmlns=\"http://www.w3.org/2000/svg\" version=\"1.1\"\n",
        "     width=\"25mm\" height=\"25mm\" viewBox=\"0 0 1 1\">\n",
        "     <rect width=\"1\" height=\"1\"\n",
        "           fill=\"#808080\" stroke=\"none\"/>\n",
        "</svg>\n"
       ],
       "text": [
        "RGB{Float64}(0.5,0.5,0.5)"
       ]
      }
     ],
     "prompt_number": 100
    },
    {
     "cell_type": "code",
     "collapsed": false,
     "input": [],
     "language": "python",
     "metadata": {},
     "outputs": []
    }
   ],
   "metadata": {}
  }
 ]
}