{
 "metadata": {
  "language": "Julia",
  "name": "",
  "signature": "sha256:62fed864377358832dbcc1412db2d15d971bac40a74583db72204b2bd82808c4"
 },
 "nbformat": 3,
 "nbformat_minor": 0,
 "worksheets": [
  {
   "cells": [
    {
     "cell_type": "heading",
     "level": 3,
     "metadata": {},
     "source": [
      "Introduccion a la Programacion con Julia"
     ]
    },
    {
     "cell_type": "code",
     "collapsed": false,
     "input": [],
     "language": "python",
     "metadata": {},
     "outputs": []
    }
   ],
   "metadata": {}
  }
 ]
}