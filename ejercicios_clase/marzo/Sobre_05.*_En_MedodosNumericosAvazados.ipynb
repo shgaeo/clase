{
 "cells": [
  {
   "cell_type": "code",
   "execution_count": 1,
   "metadata": {
    "collapsed": false
   },
   "outputs": [],
   "source": [
    "include(\"../../funciones.jl\");"
   ]
  },
  {
   "cell_type": "markdown",
   "metadata": {},
   "source": [
    "# [1] (i)"
   ]
  },
  {
   "cell_type": "markdown",
   "metadata": {},
   "source": [
    "#### Si tuviéramos un número real positivo x (es decir, con precisión infinita), ¿cómo podríamos encontrar △(x) y ▽(x)?"
   ]
  },
  {
   "cell_type": "markdown",
   "metadata": {},
   "source": [
    "Si tenemos un número real $R$, entonces su representación en binario es una cadena infinita de $0$'s y $1$'s. \n",
    "\n",
    "Como los Flot64 tienen solo 52 bits de mantissa entonces lo que hacemos cortar la cadena hasta el $52^{avo}$ bit (teniendo cuidado de si estamos en normales o subnormales) y nos fijamos en el siguiente. Si es cero dejamos la cadena igual, si es uno sumamos un $1$ al $52^{avo}$ bit (esto equivale a sumar el mínimo paso para la potencia de $R$)"
   ]
  },
  {
   "cell_type": "markdown",
   "metadata": {},
   "source": [
    "# [1] (ii)"
   ]
  },
  {
   "cell_type": "markdown",
   "metadata": {},
   "source": [
    "#### Encuentra △(0.1) y ▽(0.1) para aritmética flotante de IEEE."
   ]
  },
  {
   "cell_type": "markdown",
   "metadata": {},
   "source": [
    "Si tenemos $0.1$ en binario es: $0.1100 1100 ...$ infinitas veces, como podemos tomar solo 52 elementos de mantissa para float64 (más bit escondido) entonces tomamos hasta un bit más, si es 1 redondeamos hacia arriba, si es 0 lo dejamos como está (redondeo hacia abajo):\n",
    "\n",
    "\\begin{align}\n",
    "0.1_{10}= 0.0001\\; | \\;10011001100110011001&10011001100110011001100110011001 \\; |\\; 100 ..._2 \\\\\n",
    "\\uparrow \\,man&tissa\\, de\\, 52 \\, bits\\uparrow\n",
    "\\end{align}\n",
    "\n",
    "Para representar los redondeos hacia arriba o hacia abajo:"
   ]
  },
  {
   "cell_type": "code",
   "execution_count": 3,
   "metadata": {
    "collapsed": false
   },
   "outputs": [
    {
     "name": "stdout",
     "output_type": "stream",
     "text": [
      "0.1\n",
      "0.09999999999999999\n"
     ]
    }
   ],
   "source": [
    "Δ_01=\"0.00011001100110011001100110011001100110011001100110011010\"\n",
    "∇_01=\"0.00011001100110011001100110011001100110011001100110011001\"\n",
    "#usando mi programa:\n",
    "println(bin_a_10_con_punto(Δ_01))\n",
    "println(bin_a_10_con_punto(∇_01))"
   ]
  },
  {
   "cell_type": "markdown",
   "metadata": {},
   "source": [
    "#### ¿En cuánto difieren?"
   ]
  },
  {
   "cell_type": "code",
   "execution_count": 4,
   "metadata": {
    "collapsed": false
   },
   "outputs": [
    {
     "name": "stdout",
     "output_type": "stream",
     "text": [
      "1.3877787807814457e-17\n",
      "1.3877787807814457e-17\n"
     ]
    }
   ],
   "source": [
    "println(bin_a_10_con_punto(Δ_01)-bin_a_10_con_punto(∇_01))\n",
    "# lo cual corresponde al paso mínimo para normales con exponente -4, como lo calcula la función\n",
    "println(distancia_normales(-4,52)) "
   ]
  },
  {
   "cell_type": "markdown",
   "metadata": {},
   "source": [
    "#### ¿Qué podemos decir sobre el error de redondeo?"
   ]
  },
  {
   "cell_type": "markdown",
   "metadata": {},
   "source": [
    "Podemos decir que es del orden del paso mínimo del flotante dado"
   ]
  },
  {
   "cell_type": "markdown",
   "metadata": {},
   "source": [
    "Nótese que el bit siguiente al $52^{avo}$ es uno por lo que el redondeo 'nearest' redondea hacia arriba"
   ]
  },
  {
   "cell_type": "markdown",
   "metadata": {},
   "source": [
    "# [2]"
   ]
  },
  {
   "cell_type": "markdown",
   "metadata": {},
   "source": [
    "#### Para $x=1.1$"
   ]
  },
  {
   "cell_type": "code",
   "execution_count": 7,
   "metadata": {
    "collapsed": false
   },
   "outputs": [],
   "source": []
  },
  {
   "cell_type": "code",
   "execution_count": 8,
   "metadata": {
    "collapsed": false
   },
   "outputs": [
    {
     "name": "stdout",
     "output_type": "stream",
     "text": [
      "1.1(redondeo hacia arriba)\n",
      "1.0999999999999999(redondeo hacia abajo)\n",
      "la diferencia es\n",
      "2.220446049250313e-16\n",
      "que corresponde al mínimo paso para exponente 0\n",
      "2.220446049250313e-16\n"
     ]
    }
   ],
   "source": [
    "Δ_11=\"1.0001100110011001100110011001100110011001100110011010\"\n",
    "∇_11=\"1.0001100110011001100110011001100110011001100110011001\"\n",
    "#usando mi programa:\n",
    "println(bin_a_10_con_punto(Δ_11), \"(redondeo hacia arriba)\")\n",
    "println(bin_a_10_con_punto(∇_11), \"(redondeo hacia abajo)\")\n",
    "println(\"la diferencia es\")\n",
    "println(bin_a_10_con_punto(Δ_11)-bin_a_10_con_punto(∇_11))\n",
    "e=0;\n",
    "println(\"que corresponde al mínimo paso para exponente $e\")\n",
    "println(distancia_normales(e,52)) "
   ]
  },
  {
   "cell_type": "markdown",
   "metadata": {},
   "source": [
    "El redondeo `nearest` redondea hacia arriba para $1.1$"
   ]
  },
  {
   "cell_type": "markdown",
   "metadata": {},
   "source": [
    "#### Para $x=10.1$"
   ]
  },
  {
   "cell_type": "code",
   "execution_count": 9,
   "metadata": {
    "collapsed": false
   },
   "outputs": [
    {
     "name": "stdout",
     "output_type": "stream",
     "text": [
      "10.100000000000001(redondeo hacia arriba)\n",
      "10.1(redondeo hacia abajo)\n",
      "la diferencia es: 1.7763568394002505e-15\n",
      "que corresponde al mínimo paso para exponente 3\n",
      "1.7763568394002505e-15\n"
     ]
    }
   ],
   "source": [
    "Δ_101=\"1010.0001100110011001100110011001100110011001100110100\"\n",
    "∇_101=\"1010.0001100110011001100110011001100110011001100110011\"\n",
    "#usando mi programa:\n",
    "println(bin_a_10_con_punto(Δ_101), \"(redondeo hacia arriba)\")\n",
    "println(bin_a_10_con_punto(∇_101), \"(redondeo hacia abajo)\")\n",
    "println(\"la diferencia es: \",bin_a_10_con_punto(Δ_101)-bin_a_10_con_punto(∇_101))\n",
    "e=3;\n",
    "println(\"que corresponde al mínimo paso para exponente $e\")\n",
    "println(distancia_normales(e,52)) "
   ]
  },
  {
   "cell_type": "markdown",
   "metadata": {},
   "source": [
    "El redondeo `nearest` redondea hacia abajo para $10.1$"
   ]
  },
  {
   "cell_type": "markdown",
   "metadata": {},
   "source": [
    "# [3]"
   ]
  },
  {
   "cell_type": "markdown",
   "metadata": {},
   "source": [
    "#### ¿Qué pasa con △(x) y ▽(x) si $x \\in F ^*$?"
   ]
  },
  {
   "cell_type": "markdown",
   "metadata": {},
   "source": [
    "Si $x \\in F^*$ entonces basta ver de nuevo la definición de $△(x)$ y $▽(x)$ para darnos cuenta de que $△(x)=▽(x)=x$"
   ]
  },
  {
   "cell_type": "markdown",
   "metadata": {},
   "source": [
    "# [4]"
   ]
  },
  {
   "cell_type": "markdown",
   "metadata": {},
   "source": [
    "#### ¿Cuál es la relación entre △(−x) y ▽(x)?"
   ]
  },
  {
   "cell_type": "markdown",
   "metadata": {},
   "source": [
    "$△(-x)$ y $▽(x)$ tienen la misma representación en binario excepto por el primer bit que representa el signo. Ambos redondeos se acercan al cero de la misma manera."
   ]
  },
  {
   "cell_type": "markdown",
   "metadata": {},
   "source": [
    "# [5]"
   ]
  },
  {
   "cell_type": "markdown",
   "metadata": {},
   "source": [
    "#### Encuentra unos ejemplos de pares de números $x,y \\in F$ tal que $x⊕y∉F$. (Aquí, $F$ denota a los flotantes de doble precisión de IEEE, y $⊕$ es alguna operación aritmética entre $x$ y $y$.)"
   ]
  },
  {
   "cell_type": "code",
   "execution_count": 11,
   "metadata": {
    "collapsed": false
   },
   "outputs": [
    {
     "data": {
      "text/plain": [
       "Inf"
      ]
     },
     "execution_count": 11,
     "metadata": {},
     "output_type": "execute_result"
    }
   ],
   "source": [
    "#dado que F no inluye ±∞ un ejemplo sería\n",
    "1/0"
   ]
  },
  {
   "cell_type": "code",
   "execution_count": 12,
   "metadata": {
    "collapsed": false
   },
   "outputs": [
    {
     "data": {
      "text/plain": [
       "4.503599627370496e15"
      ]
     },
     "execution_count": 12,
     "metadata": {},
     "output_type": "execute_result"
    }
   ],
   "source": [
    "#Otro ejemplo es:\n",
    "(2.0^-1)+(2.0^52)\n",
    "#Ya que el resultado debía ser: 4503599627370496.5 , pero este número no pertenece a F (Float64 \n",
    "#no tiene suficientes bits para representarlo, de modo que lo redondea). Obviamente 2.0^-1 y 2.0^52 sí pertenecen a F"
   ]
  },
  {
   "cell_type": "code",
   "execution_count": 13,
   "metadata": {
    "collapsed": false
   },
   "outputs": [
    {
     "data": {
      "text/plain": [
       "2.2517998136852485e15"
      ]
     },
     "execution_count": 13,
     "metadata": {},
     "output_type": "execute_result"
    }
   ],
   "source": [
    "#Notese que\n",
    "(2.0^-1)+(2.0^51)\n",
    "#Sí pertenece a F"
   ]
  },
  {
   "cell_type": "markdown",
   "metadata": {},
   "source": [
    "# [6]"
   ]
  },
  {
   "cell_type": "markdown",
   "metadata": {},
   "source": [
    "#### ¿Qué podemos hacer al respecto?"
   ]
  },
  {
   "cell_type": "markdown",
   "metadata": {},
   "source": [
    "Una opción es aumentar la presición, por ejemplo usar BigFloat:"
   ]
  },
  {
   "cell_type": "code",
   "execution_count": 14,
   "metadata": {
    "collapsed": false
   },
   "outputs": [
    {
     "data": {
      "text/plain": [
       "4.5035996273704965e+15 with 256 bits of precision"
      ]
     },
     "execution_count": 14,
     "metadata": {},
     "output_type": "execute_result"
    }
   ],
   "source": [
    "(big(2.0)^-1)+(2.0^52)\n",
    "#Sí da la respuesta correcta (y le sobran varios bits de presición)"
   ]
  },
  {
   "cell_type": "markdown",
   "metadata": {},
   "source": [
    "# [7]"
   ]
  },
  {
   "cell_type": "markdown",
   "metadata": {},
   "source": [
    "#### En los reales tenemos que, si se cumple x+y=x+y′, entonces y=y′. ¿Se cumple esto entre los números de punto flotante? Si tu respuesta es no, da un ejemplo."
   ]
  },
  {
   "cell_type": "markdown",
   "metadata": {},
   "source": [
    "NO se cumple, ejemplo:"
   ]
  },
  {
   "cell_type": "code",
   "execution_count": 15,
   "metadata": {
    "collapsed": false
   },
   "outputs": [
    {
     "name": "stdout",
     "output_type": "stream",
     "text": [
      "true\n",
      "false\n"
     ]
    }
   ],
   "source": [
    "x=2.0^300\n",
    "y=2.0^50\n",
    "z=2.0^10\n",
    "println(x+y==x+z)\n",
    "println(y==z)"
   ]
  },
  {
   "cell_type": "markdown",
   "metadata": {},
   "source": [
    "# [8]"
   ]
  },
  {
   "cell_type": "markdown",
   "metadata": {},
   "source": [
    "#### Analiza el caso de iterar el mapeo $f:[0,1]→[0,1]$ dado por $f(x)=3x$ mod $1$, con la condición inicial $x_0=\\frac{1}{10}$:"
   ]
  },
  {
   "cell_type": "markdown",
   "metadata": {},
   "source": [
    "#### [Nota: mod $1$ quiere decir que sólo consideramos la parte fraccionaria entre $0$ y $1$ de la respuesta en cada paso.]"
   ]
  },
  {
   "cell_type": "markdown",
   "metadata": {},
   "source": [
    "#### 1. ¿Qué pasa analíticamente?"
   ]
  },
  {
   "cell_type": "markdown",
   "metadata": {},
   "source": [
    "Analíticamente lo que ocurre es lo siguiente:\n",
    "\n",
    "$x_0=\\frac{1}{10} \\rightarrow \\frac{3}{10} \\rightarrow \\frac{9}{10} \\rightarrow (\\frac{27}{10}_{mod1}=)\\frac{7}{10} \\rightarrow (\\frac{21}{10}_{mod1}=)\\frac{1}{10}=x_0 $\n",
    "\n",
    "por lo que nos mantenemos entre los valores $[\\frac{1}{10} ,\\frac{3}{10} ,\\frac{9}{10} ,\\frac{7}{10}]$ \n",
    "\n",
    "dando vueltas cada 4 iteraciones"
   ]
  },
  {
   "cell_type": "markdown",
   "metadata": {},
   "source": [
    "#### 2. ¿Qué pasa numéricamente?"
   ]
  },
  {
   "cell_type": "code",
   "execution_count": 16,
   "metadata": {
    "collapsed": false
   },
   "outputs": [
    {
     "data": {
      "text/plain": [
       "false"
      ]
     },
     "execution_count": 16,
     "metadata": {},
     "output_type": "execute_result"
    }
   ],
   "source": [
    "#Nótese que de entrada que si usamos flotantes:\n",
    "0.1==mod1(0.1,1)\n",
    "#Pero veamos si después de 4 iteraciones recuperamos el valor mod(0.1,1)"
   ]
  },
  {
   "cell_type": "code",
   "execution_count": 3,
   "metadata": {
    "collapsed": false
   },
   "outputs": [
    {
     "data": {
      "text/plain": [
       "mapeo_01 (generic function with 1 method)"
      ]
     },
     "execution_count": 3,
     "metadata": {},
     "output_type": "execute_result"
    }
   ],
   "source": [
    "function mapeo_01(x,n::Int64)\n",
    "    tipo=typeof(x)\n",
    "    if tipo==Rational{Int64}\n",
    "        limite=40  #esto es debido a que 3^40 se sale del rango de Int64\n",
    "    elseif tipo==Float64\n",
    "        limite=647 #esto es debido a que 3.0^647 es igual a Inf\n",
    "    else\n",
    "        error(\"primer argumento debe ser flotante o racional\")\n",
    "    end\n",
    "    if n>=limite\n",
    "        error(\"n debe ser menor que $limite para $tipo\")\n",
    "    elseif n<=0\n",
    "        error(\"n debe ser mayor que cero\")\n",
    "    end\n",
    "    \n",
    "    z=1\n",
    "    println(mod1(x,1))\n",
    "    for i=1:n\n",
    "        z=mod1(3^i*x,1)\n",
    "        println(z)\n",
    "        if z==mod1(x,1) # esto es solo para probar que con racionales funciona bien\n",
    "            println(\"Se repeite en iteración número $i\")\n",
    "        end            \n",
    "    end\n",
    "end"
   ]
  },
  {
   "cell_type": "code",
   "execution_count": 63,
   "metadata": {
    "collapsed": false
   },
   "outputs": [
    {
     "name": "stdout",
     "output_type": "stream",
     "text": [
      "0.10000000000000009\n",
      "0.30000000000000004\n",
      "0.8999999999999999\n",
      "0.7000000000000002\n",
      "0.09999999999999964\n"
     ]
    }
   ],
   "source": [
    "mapeo_01(1/10,4)"
   ]
  },
  {
   "cell_type": "markdown",
   "metadata": {},
   "source": [
    "Claramente no recupramos el valor si usamos flotantes\n",
    "¿Servirá si usamos 'racionales'?"
   ]
  },
  {
   "cell_type": "code",
   "execution_count": 64,
   "metadata": {
    "collapsed": false
   },
   "outputs": [
    {
     "name": "stdout",
     "output_type": "stream",
     "text": [
      "1//10\n",
      "3//10\n",
      "9//10\n",
      "7//10\n",
      "1//10\n",
      "Se repeite en iteración número 4\n"
     ]
    }
   ],
   "source": [
    "mapeo_01(1//10,4)"
   ]
  },
  {
   "cell_type": "markdown",
   "metadata": {},
   "source": [
    "Sí funciona =)"
   ]
  },
  {
   "cell_type": "code",
   "execution_count": 65,
   "metadata": {
    "collapsed": false
   },
   "outputs": [
    {
     "data": {
      "text/plain": [
       "Inf"
      ]
     },
     "execution_count": 65,
     "metadata": {},
     "output_type": "execute_result"
    }
   ],
   "source": [
    "3.0^647"
   ]
  },
  {
   "cell_type": "markdown",
   "metadata": {},
   "source": [
    "#### 3. ¿Qué pasa si consideras una condición inicial x0 arbitraria?"
   ]
  },
  {
   "cell_type": "code",
   "execution_count": 7,
   "metadata": {
    "collapsed": false
   },
   "outputs": [
    {
     "data": {
      "text/plain": [
       "mapeo_01_sin_print (generic function with 1 method)"
      ]
     },
     "execution_count": 7,
     "metadata": {},
     "output_type": "execute_result"
    }
   ],
   "source": [
    "function mapeo_01_sin_print(x) #Hice una función muy parecida a la anterior pero que tiene como objetivo obtener el \n",
    "                                    #número de iteraciones necesarias para regresar al valor inicial x0\n",
    "    tipo=typeof(x)\n",
    "    if tipo==Rational{Int64}\n",
    "        limite=40  #esto es debido a que 3^40 se sale del rango de Int64\n",
    "    elseif tipo==Float64\n",
    "        limite=647 #esto es debido a que 3.0^647 es igual a Inf\n",
    "    else\n",
    "        error(\"primer argumento debe ser flotante o racional\")\n",
    "    end\n",
    "    \n",
    "    z=1\n",
    "    println(mod1(x,1))\n",
    "    for i=1:limite\n",
    "        z=mod1(3^i*x,1)\n",
    "        if z==mod1(x,1)\n",
    "            println(\"Se repeite en iteración número $i\")\n",
    "            return\n",
    "        end            \n",
    "    end\n",
    "    println(\"Los $limite números son distintos\")\n",
    "end"
   ]
  },
  {
   "cell_type": "markdown",
   "metadata": {},
   "source": [
    "Si es arbitrario entonces va a generar un conjunto grande de números entre $0$ y $1$ que son todos distintos entre ellos."
   ]
  },
  {
   "cell_type": "code",
   "execution_count": 4,
   "metadata": {
    "collapsed": false
   },
   "outputs": [
    {
     "name": "stdout",
     "output_type": "stream",
     "text": [
      "0.9981898448823328\n",
      "Los 647 números son distintos\n",
      "0.5307652799144511\n",
      "Los 647 números son distintos\n",
      "0.33321510247027075\n",
      "Los 647 números son distintos\n",
      "0.7512031889755064\n",
      "Los 647 números son distintos\n",
      "0.07789417958008515\n",
      "Los 647 números son distintos\n"
     ]
    }
   ],
   "source": [
    "for i=1:5\n",
    "    mapeo_01_sin_print(rand())\n",
    "end"
   ]
  },
  {
   "cell_type": "markdown",
   "metadata": {},
   "source": [
    "Excepto para casos particulares, como varios racionales:"
   ]
  },
  {
   "cell_type": "code",
   "execution_count": 8,
   "metadata": {
    "collapsed": false
   },
   "outputs": [
    {
     "name": "stdout",
     "output_type": "stream",
     "text": [
      "1//4\n",
      "Se repeite en iteración número 2\n",
      "1//5\n",
      "Se repeite en iteración número 4\n",
      "1//32\n",
      "Se repeite en iteración número 8\n",
      "1//17\n",
      "Se repeite en iteración número 16\n",
      "1//3\n",
      "Los 40 números son distintos\n"
     ]
    }
   ],
   "source": [
    "mapeo_01_sin_print(1//4)\n",
    "mapeo_01_sin_print(1//5)\n",
    "mapeo_01_sin_print(1//32)\n",
    "mapeo_01_sin_print(1//17)\n",
    "mapeo_01_sin_print(1//3) # no todos los racionales, por ejemplo 1//3 se queda en 1 siempre por lo que nunca regresa a 1//3"
   ]
  },
  {
   "cell_type": "markdown",
   "metadata": {},
   "source": [
    "Y para algunos flotantes:"
   ]
  },
  {
   "cell_type": "code",
   "execution_count": 32,
   "metadata": {
    "collapsed": false
   },
   "outputs": [
    {
     "name": "stdout",
     "output_type": "stream",
     "text": [
      "0.5\n",
      "Se repeite en iteración número 1\n",
      "0.25\n",
      "Se repeite en iteración número 2\n",
      "0.125\n",
      "Se repeite en iteración número 2\n",
      "0.03125\n",
      "Se repeite en iteración número 8\n",
      "0.015625\n",
      "Se repeite en iteración número 16\n",
      "0.0078125\n",
      "Se repeite en iteración número 32\n",
      "0.00390625\n",
      "Los 647 números son distintos\n"
     ]
    }
   ],
   "source": [
    "mapeo_01_sin_print(2.0^-1)\n",
    "mapeo_01_sin_print(2.0^-2)\n",
    "mapeo_01_sin_print(2.0^-3)\n",
    "mapeo_01_sin_print(2.0^-5)\n",
    "mapeo_01_sin_print(2.0^-6)\n",
    "mapeo_01_sin_print(2.0^-7)\n",
    "mapeo_01_sin_print(2.0^-8) #pero no todos los flotantes tipo 2.0^-n"
   ]
  },
  {
   "cell_type": "markdown",
   "metadata": {},
   "source": [
    "# [9]"
   ]
  },
  {
   "cell_type": "markdown",
   "metadata": {},
   "source": [
    "#### Calcula $S$ numéricamente de manera ingenua.  \\begin{equation} S=\\sum_{n=1}^{\\infty} \\frac{1}{n^2} = \\frac{\\pi^2}{6} \\end{equation}"
   ]
  },
  {
   "cell_type": "markdown",
   "metadata": {},
   "source": [
    "podríamos tratar de calcularla directamente, aunque vale la pena notar que el primer término de la serie es $1$, y que al sumar $1 + \\frac{1}{(10^8)^2}$ obtenemos nuevamente $1$, de modo que no es necesario sumar hasta valores mayores que este"
   ]
  },
  {
   "cell_type": "code",
   "execution_count": 85,
   "metadata": {
    "collapsed": false
   },
   "outputs": [
    {
     "data": {
      "text/plain": [
       "1.644934057834575"
      ]
     },
     "execution_count": 85,
     "metadata": {},
     "output_type": "execute_result"
    }
   ],
   "source": [
    "s=0\n",
    "for n=1:(10^8-1)\n",
    "    s+=1.0/n^2\n",
    "end\n",
    "s"
   ]
  },
  {
   "cell_type": "code",
   "execution_count": 92,
   "metadata": {
    "collapsed": false
   },
   "outputs": [
    {
     "name": "stdout",
     "output_type": "stream",
     "text": [
      "1.6449340668482264\n"
     ]
    },
    {
     "data": {
      "text/plain": [
       "9.013651380840315e-9"
      ]
     },
     "execution_count": 92,
     "metadata": {},
     "output_type": "execute_result"
    }
   ],
   "source": [
    "#por otro lado\n",
    "println(π^2/6)\n",
    "#Por lo que el valor de la serie difiere en\n",
    "π^2/6-s"
   ]
  },
  {
   "cell_type": "markdown",
   "metadata": {},
   "source": [
    "# [10]"
   ]
  },
  {
   "cell_type": "markdown",
   "metadata": {},
   "source": [
    "#### Sea la cola de la suma $T_N:=∑_{n=N+1}^∞ \\frac{1}{n^2}$. Utiliza un argumento geométrico para mostrar que  \\begin{equation} \\int_{N+1}^\\infty \\frac{1}{x^2}dx < T_N < \\int_{N+1}^\\infty \\frac{1}{(x-1)^2}dx \\end{equation}"
   ]
  },
  {
   "cell_type": "markdown",
   "metadata": {},
   "source": [
    "Partimos entonces de separar la integral de la izq en pasos unitarios:\n",
    "\n",
    "\\begin{equation}\n",
    "    \\int_{N+1}^\\infty \\frac{1}{x^2}dx = \\sum_{n=N+1}^{\\infty} \\left[\\int_{n}^{n+1} \\frac{1}{x^2}dx\\right]\n",
    "\\end{equation}\n",
    "\n",
    "Recordando que una integral se puede interpretar como el area bajo la curva, que las integrales anteriores son para intervalos unitarios y que $\\frac{1}{x^2}$ es una función monotonamente decreciente entonces sabemos que $\\int_{n}^{n+1} \\frac{1}{x^2}dx < \\frac{1}{n^2}$\n",
    "\n",
    "por lo que tenemos la primer desigualdad:\n",
    "\n",
    "\\begin{equation}\n",
    "    \\int_{N+1}^\\infty \\frac{1}{x^2}dx = \\sum_{n=N+1}^{\\infty} \\left[\\int_{n}^{n+1} \\frac{1}{x^2}dx\\right] <\\sum_{n=N+1}^{\\infty} \\frac{1}{n^2}=T_N\n",
    "\\end{equation}"
   ]
  },
  {
   "cell_type": "markdown",
   "metadata": {},
   "source": [
    "Por otro lado, usando nuevamente el argumento de que la función es decreciente sabemos que $\\frac{1}{n^2} < \\int_{n-1}^{n} \\frac{1}{x^2}dx $\n",
    "\n",
    "Por lo que \n",
    "\n",
    "\\begin{equation}\n",
    "    T_N=\\sum_{n=N+1}^{\\infty} \\frac{1}{n^2}< \\sum_{n=N+1}^{\\infty} \\left[\\int_{n-1}^{n} \\frac{1}{x^2}dx\\right] = \\int_{N}^\\infty \\frac{1}{x^2}dx = \\int_{N+1}^\\infty \\frac{1}{(x-1)^2}dx\n",
    "\\end{equation}"
   ]
  },
  {
   "cell_type": "markdown",
   "metadata": {},
   "source": [
    "Observación: Nosotros podemos resolver estas integrales, de modo que al haber ya demostrado las desigualdades anteriores podemos afirmar que:\n",
    "\n",
    "\\begin{equation}\n",
    "    \\frac{1}{N+1} < T_N < \\frac{1}{N}\n",
    "\\end{equation}"
   ]
  },
  {
   "cell_type": "markdown",
   "metadata": {},
   "source": [
    "# [11]"
   ]
  },
  {
   "cell_type": "markdown",
   "metadata": {},
   "source": [
    "#### Usa redondeo para abajo y arriba para calcular cotas para la parte inicial $S_N:=∑_{n=1}^N \\frac{1}{n^2}$."
   ]
  },
  {
   "cell_type": "code",
   "execution_count": 226,
   "metadata": {
    "collapsed": false
   },
   "outputs": [
    {
     "data": {
      "text/plain": [
       "parte_inicial (generic function with 1 method)"
      ]
     },
     "execution_count": 226,
     "metadata": {},
     "output_type": "execute_result"
    }
   ],
   "source": [
    "function parte_inicial(m::Int64) #esta función calcula las cotas para la parte inicial dada una N\n",
    "    cota_men=0.0\n",
    "    cota_may=0.0\n",
    "    old=get_rounding(Float64)\n",
    "    set_rounding(Float64,RoundDown)\n",
    "    for n=1:m\n",
    "        cota_men+=1.0/n^2\n",
    "    end\n",
    "    set_rounding(Float64,RoundUp)\n",
    "    for n=1:m\n",
    "        cota_may+=1.0/n^2\n",
    "    end    \n",
    "    set_rounding(Float64,old)\n",
    "    {cota_men,cota_may}\n",
    "end"
   ]
  },
  {
   "cell_type": "code",
   "execution_count": 227,
   "metadata": {
    "collapsed": false
   },
   "outputs": [
    {
     "name": "stdout",
     "output_type": "stream",
     "text": [
      "1.361111111111111\n",
      "1.3611111111111112\n"
     ]
    }
   ],
   "source": [
    "a=parte_inicial(3) #las cotas son distintas entre ellas a partir de N=3\n",
    "println(a[1])\n",
    "println(a[2])"
   ]
  },
  {
   "cell_type": "markdown",
   "metadata": {},
   "source": [
    "Aprovechando la idea de la función anterior, defino también cotas para $T_N$:"
   ]
  },
  {
   "cell_type": "code",
   "execution_count": 228,
   "metadata": {
    "collapsed": false
   },
   "outputs": [
    {
     "name": "stdout",
     "output_type": "stream",
     "text": [
      "0.25\n",
      "0.33333333333333337\n"
     ]
    }
   ],
   "source": [
    "function parte_final(m::Int64) #esta función calcula las cotas para la la cola T_N dada una N\n",
    "    abajo=0.0\n",
    "    arriba=0.0\n",
    "    \n",
    "    old=get_rounding(Float64)\n",
    "    set_rounding(Float64,RoundDown)\n",
    "    abajo=float64({1/(m+1)})[1] #float64(1/(m+1)) no funciona por alguna razón que desconozco\n",
    "    \n",
    "    set_rounding(Float64,RoundUp)\n",
    "    arriba=float64({1/m})[1] #float64(1/m) no funciona por alguna razón que desconozco\n",
    "    \n",
    "    set_rounding(Float64,old)    \n",
    "    {abajo,arriba}\n",
    "end\n",
    "a=parte_final(3)\n",
    "println(a[1])\n",
    "println(a[2])"
   ]
  },
  {
   "cell_type": "markdown",
   "metadata": {},
   "source": [
    "# [12]"
   ]
  },
  {
   "cell_type": "markdown",
   "metadata": {},
   "source": [
    "#### Utiliza tus dos últimos resultados para dar cotas rigurosas (es decir, garantizadas) para $S$."
   ]
  },
  {
   "cell_type": "code",
   "execution_count": 229,
   "metadata": {
    "collapsed": false
   },
   "outputs": [
    {
     "data": {
      "text/plain": [
       "intervalo (generic function with 1 method)"
      ]
     },
     "execution_count": 229,
     "metadata": {},
     "output_type": "execute_result"
    }
   ],
   "source": [
    "function intervalo(m::Int64) #esta función da el intervalo donde garantizo que se encuentra la suma infinita S\n",
    "    minimo=0.0\n",
    "    maximo=0.0\n",
    "    \n",
    "    old=get_rounding(Float64)\n",
    "    set_rounding(Float64,RoundDown)\n",
    "    minimo=parte_inicial(m)[1]+parte_final(m)[1]\n",
    "    set_rounding(Float64,RoundUp)\n",
    "    maximo=parte_inicial(m)[2]+parte_final(m)[2]\n",
    "    set_rounding(Float64,old)\n",
    "    {minimo,maximo}\n",
    "end"
   ]
  },
  {
   "cell_type": "code",
   "execution_count": 230,
   "metadata": {
    "collapsed": false
   },
   "outputs": [
    {
     "name": "stdout",
     "output_type": "stream",
     "text": [
      "1.6449340657396743\n",
      "1.6449340679601252\n",
      "true\n"
     ]
    }
   ],
   "source": [
    "a=intervalo(10000000)\n",
    "s=π^2/6\n",
    "println(a[1])\n",
    "println(a[2])\n",
    "println(a[1]<s && s<a[2])"
   ]
  },
  {
   "cell_type": "markdown",
   "metadata": {},
   "source": [
    "# [13]"
   ]
  },
  {
   "cell_type": "code",
   "execution_count": 129,
   "metadata": {
    "collapsed": false
   },
   "outputs": [
    {
     "data": {
      "text/plain": [
       "intervalo_big (generic function with 1 method)"
      ]
     },
     "execution_count": 129,
     "metadata": {},
     "output_type": "execute_result"
    }
   ],
   "source": [
    "function intervalo_big(m::Int64) #esta función da el intervalo donde garantizo que se encuentra la suma infinita S\n",
    "    cota_men=big(0.0)\n",
    "    cota_may=big(0.0)\n",
    "    #abajo=big(0.0)\n",
    "    #arriba=big(0.0)\n",
    "    minimo=big(0.0)\n",
    "    maximo=big(0.0)\n",
    "    \n",
    "    old=get_rounding(BigFloat)\n",
    "    \n",
    "    set_rounding(BigFloat,RoundDown)\n",
    "    for n=1:m\n",
    "        cota_men+=big(1.0)/n^2\n",
    "    end\n",
    "    minimo=cota_men+big(1.0)/(m+1)\n",
    "    \n",
    "    set_rounding(BigFloat,RoundUp)\n",
    "    for n=1:m\n",
    "        cota_may+=big(1.0)/n^2\n",
    "    end    \n",
    "    maximo=cota_may+big(1.0)/(m)\n",
    "    \n",
    "    set_rounding(BigFloat,old)\n",
    "    {minimo,maximo}\n",
    "end"
   ]
  },
  {
   "cell_type": "code",
   "execution_count": 130,
   "metadata": {
    "collapsed": false
   },
   "outputs": [
    {
     "name": "stdout",
     "output_type": "stream",
     "text": [
      "1.644934066798227269795748603311691865647421330811550342589886233711542834074315e+00\n",
      "1.64493406689822626980574850331269185564752132981156034248988723370154293580028e+00\n",
      "true\n"
     ]
    }
   ],
   "source": [
    "a=intervalo_big(100000)\n",
    "s=big(π)^2/6\n",
    "println(a[1])\n",
    "println(a[2])\n",
    "println(a[1]<s && s<a[2])"
   ]
  },
  {
   "cell_type": "markdown",
   "metadata": {},
   "source": [
    "# [14]"
   ]
  },
  {
   "cell_type": "code",
   "execution_count": 127,
   "metadata": {
    "collapsed": false
   },
   "outputs": [
    {
     "data": {
      "text/plain": [
       "intervalo_back_big (generic function with 1 method)"
      ]
     },
     "execution_count": 127,
     "metadata": {},
     "output_type": "execute_result"
    }
   ],
   "source": [
    "function intervalo_back_big(m::Int64) #esta función da el intervalo donde garantizo que se encuentra la suma infinita S\n",
    "    cota_men=big(0.0)\n",
    "    cota_may=big(0.0)\n",
    "    #abajo=big(0.0)\n",
    "    #arriba=big(0.0)\n",
    "    minimo=big(0.0)\n",
    "    maximo=big(0.0)\n",
    "    \n",
    "    old=get_rounding(BigFloat)\n",
    "    \n",
    "    set_rounding(BigFloat,RoundDown)\n",
    "    for n=1:m\n",
    "        cota_men+=big(1.0)/(m-n+1)^2\n",
    "    end\n",
    "    minimo=cota_men+big(1.0)/(m+1)\n",
    "    \n",
    "    set_rounding(BigFloat,RoundUp)\n",
    "    for n=1:m\n",
    "        cota_may+=big(1.0)/(m-n+1)^2\n",
    "    end    \n",
    "    maximo=cota_may+big(1.0)/(m)\n",
    "    \n",
    "    set_rounding(BigFloat,old)\n",
    "    {minimo,maximo}\n",
    "end"
   ]
  },
  {
   "cell_type": "code",
   "execution_count": 164,
   "metadata": {
    "collapsed": false
   },
   "outputs": [
    {
     "name": "stdout",
     "output_type": "stream",
     "text": [
      "1.644934066798227269795748603311691865647421330811550342589886233711542834938415e+00\n",
      "1.644934066898226269805748503312691855647521329811560342489887233701542934937578e+00\n",
      "true\n"
     ]
    }
   ],
   "source": [
    "b=intervalo_back_big(100000)\n",
    "s=big(π)^2/6\n",
    "println(b[1])\n",
    "println(b[2])\n",
    "println(b[1]<s && s<b[2])"
   ]
  },
  {
   "cell_type": "code",
   "execution_count": 132,
   "metadata": {
    "collapsed": false
   },
   "outputs": [
    {
     "name": "stdout",
     "output_type": "stream",
     "text": [
      "true\n",
      "true\n"
     ]
    }
   ],
   "source": [
    "println(a[1]<b[1])\n",
    "println(a[2]>b[2])"
   ]
  },
  {
   "cell_type": "markdown",
   "metadata": {},
   "source": [
    "Es mejor sumar desde m hasta 1 que desde 1 hasta m. Es mejor porque el intervalo queda más pequeño y aún contiene la respuestam"
   ]
  },
  {
   "cell_type": "markdown",
   "metadata": {},
   "source": [
    "# [15]"
   ]
  },
  {
   "cell_type": "markdown",
   "metadata": {},
   "source": [
    "primero hice el cálculo para $N=10000000$ (tomando el tiempo de cómputo para comparar)"
   ]
  },
  {
   "cell_type": "code",
   "execution_count": 216,
   "metadata": {
    "collapsed": false
   },
   "outputs": [
    {
     "name": "stdout",
     "output_type": "stream",
     "text": [
      "1.644934066848221436473248499879358532885615567873562723439843944689054989450723e+00\n",
      "1.644934066848231436472248499979358522885616567873462723449843943689055089450928e+00\n",
      "true\n",
      "elapsed time: 40.648833397 seconds\n"
     ]
    }
   ],
   "source": [
    "tic()\n",
    "b=intervalo_back_big(10000000)\n",
    "s=big(π)^2/6\n",
    "println(b[1])\n",
    "println(b[2])\n",
    "println(b[1]<s && s<b[2])\n",
    "lapso=toc();"
   ]
  },
  {
   "cell_type": "code",
   "execution_count": 217,
   "metadata": {
    "collapsed": false
   },
   "outputs": [
    {
     "name": "stdout",
     "output_type": "stream",
     "text": [
      "para tiempo de cómputo de 40.648833397 seg:\n",
      "1.6449340668482215    redondando pa abajo\n",
      "1.644934066848226     valor 'exacto'\n",
      "1.6449340668482264    valor medio\n",
      "1.6449340668482315    redondando pa abajo\n"
     ]
    }
   ],
   "source": [
    "println(\"para tiempo de cómputo de $lapso seg:\")\n",
    "old=get_rounding(Float64)\n",
    "set_rounding(Float64,RoundDown)\n",
    "pabajo=float64(b[1])\n",
    "set_rounding(Float64,RoundUp)\n",
    "parriba=float64(b[2])\n",
    "set_rounding(Float64,old)\n",
    "println(pabajo,\"    redondando pa abajo\")\n",
    "println(π^2/6, \"     valor 'exacto'\")\n",
    "println(float64((b[1]+b[2])/2),\"    valor medio\")\n",
    "println(parriba,\"    redondando pa abajo\")"
   ]
  },
  {
   "cell_type": "markdown",
   "metadata": {},
   "source": [
    "Con lo que vemos que podemos aproximar muy bien el valor flotante de $\\frac{π^2}{6}$ tomando el promedio de los límites calculados con presición BigFloat. Aunque para $N=10000000$ nos toma del orden de 40 segundos obtener este dato"
   ]
  },
  {
   "cell_type": "markdown",
   "metadata": {},
   "source": [
    "Veamos que obtenemos si bajamos el valor N"
   ]
  },
  {
   "cell_type": "code",
   "execution_count": 224,
   "metadata": {
    "collapsed": false
   },
   "outputs": [
    {
     "name": "stdout",
     "output_type": "stream",
     "text": [
      "1.644934066847726437305747499980391854885617544062941295911747705561407902303541e+00\n",
      "1.644934066848726436305748499979391855885616544063941294911748705560407903303725e+00\n",
      "true\n",
      "elapsed time: 3.884120559 seconds\n"
     ]
    }
   ],
   "source": [
    "tic()\n",
    "b=intervalo_back_big(1000000)\n",
    "s=big(π)^2/6\n",
    "println(b[1])\n",
    "println(b[2])\n",
    "println(b[1]<s && s<b[2])\n",
    "lapso=toc();"
   ]
  },
  {
   "cell_type": "code",
   "execution_count": 225,
   "metadata": {
    "collapsed": false
   },
   "outputs": [
    {
     "name": "stdout",
     "output_type": "stream",
     "text": [
      "para tiempo de cómputo de 3.884120559 seg:\n",
      "1.6449340668477264    redondando pa abajo\n",
      "1.644934066848226     valor 'exacto'\n",
      "1.6449340668482264    valor medio\n",
      "1.6449340668487265    redondando pa abajo\n"
     ]
    }
   ],
   "source": [
    "println(\"para tiempo de cómputo de $lapso seg:\")\n",
    "old=get_rounding(Float64)\n",
    "set_rounding(Float64,RoundDown)\n",
    "pabajo=float64(b[1])\n",
    "set_rounding(Float64,RoundUp)\n",
    "parriba=float64(b[2])\n",
    "set_rounding(Float64,old)\n",
    "println(pabajo,\"    redondando pa abajo\")\n",
    "println(π^2/6, \"     valor 'exacto'\")\n",
    "println(float64((b[1]+b[2])/2),\"    valor medio\")\n",
    "println(parriba,\"    redondando pa abajo\")"
   ]
  },
  {
   "cell_type": "markdown",
   "metadata": {},
   "source": [
    "Vemos que tanto la cota máxima como la mínima se alejan fuertemente del valor, pero el promedio sigue manteniendose muy bien, por lo que podemos usar este valor como nuestra aprozimación. Con la ventaja de que el tiempo de cómputo es 10 veces menor"
   ]
  }
 ],
 "metadata": {},
 "nbformat": 4,
 "nbformat_minor": 0
}
