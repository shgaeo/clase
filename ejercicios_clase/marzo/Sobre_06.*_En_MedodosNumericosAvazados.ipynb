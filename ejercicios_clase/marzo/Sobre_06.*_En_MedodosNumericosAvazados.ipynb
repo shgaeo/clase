{
 "metadata": {
  "language": "Julia",
  "name": "",
  "signature": "sha256:5e32e1a9df7f59d2ce017f9682d69686c3e61f22e7f59d18d20258913b850615"
 },
 "nbformat": 3,
 "nbformat_minor": 0,
 "worksheets": [
  {
   "cells": [
    {
     "cell_type": "code",
     "collapsed": false,
     "input": [],
     "language": "python",
     "metadata": {},
     "outputs": [],
     "prompt_number": 3
    },
    {
     "cell_type": "heading",
     "level": 1,
     "metadata": {},
     "source": [
      "[1]"
     ]
    },
    {
     "cell_type": "heading",
     "level": 4,
     "metadata": {},
     "source": [
      "(i) \u00bfC\u00f3mo representar\u00edas a una part\u00edcula en 1D con posici\u00f3n, velocidad y masa en Julia?"
     ]
    },
    {
     "cell_type": "markdown",
     "metadata": {},
     "source": [
      "Lo representar\u00eda con un vector, donde la primer entrada fuera la posici\u00f3n, la segunda la velocidad y la tercera la masa"
     ]
    },
    {
     "cell_type": "code",
     "collapsed": false,
     "input": [
      "x=[0.0,2.0,100.0] #part\u00edcula en pos=0, con vel=2 y masa=100"
     ],
     "language": "python",
     "metadata": {},
     "outputs": [
      {
       "metadata": {},
       "output_type": "pyout",
       "prompt_number": 67,
       "text": [
        "3-element Array{Float64,1}:\n",
        "   0.0\n",
        "   2.0\n",
        " 100.0"
       ]
      }
     ],
     "prompt_number": 67
    },
    {
     "cell_type": "heading",
     "level": 4,
     "metadata": {},
     "source": [
      "(ii) \u00bfC\u00f3mo mover\u00edas la part\u00edcula en un paso \u03b4t?"
     ]
    },
    {
     "cell_type": "markdown",
     "metadata": {},
     "source": [
      "x+[\u03b4pos,\u03b4vel,\u03b4mas]"
     ]
    },
    {
     "cell_type": "heading",
     "level": 4,
     "metadata": {},
     "source": [
      "(iii) \u00bfSi necesitas otra part\u00edcula con las mismas propiedades, qu\u00e9 har\u00edas?"
     ]
    },
    {
     "cell_type": "code",
     "collapsed": false,
     "input": [
      "y=similar(x)"
     ],
     "language": "python",
     "metadata": {},
     "outputs": [
      {
       "metadata": {},
       "output_type": "pyout",
       "prompt_number": 65,
       "text": [
        "3-element Array{Float64,1}:\n",
        " 9.24131e-317\n",
        " 9.23109e-317\n",
        " 9.23109e-317"
       ]
      }
     ],
     "prompt_number": 65
    },
    {
     "cell_type": "heading",
     "level": 4,
     "metadata": {},
     "source": [
      "(iv) Para N tales part\u00edculas, \u00bfqu\u00e9 podr\u00edas hacer?"
     ]
    },
    {
     "cell_type": "code",
     "collapsed": false,
     "input": [
      "#podr\u00eda hacer un arreglo en donde la primer entrada sea el n\u00famero de particula y la segunda la propiedad\n",
      "N=5\n",
      "z=zeros(N,length(x)) #y luego rellenar los espacios con los valores requeridos"
     ],
     "language": "python",
     "metadata": {},
     "outputs": [
      {
       "metadata": {},
       "output_type": "pyout",
       "prompt_number": 69,
       "text": [
        "5x3 Array{Float64,2}:\n",
        " 0.0  0.0  0.0\n",
        " 0.0  0.0  0.0\n",
        " 0.0  0.0  0.0\n",
        " 0.0  0.0  0.0\n",
        " 0.0  0.0  0.0"
       ]
      }
     ],
     "prompt_number": 69
    },
    {
     "cell_type": "code",
     "collapsed": false,
     "input": [
      "z[1,2]"
     ],
     "language": "python",
     "metadata": {},
     "outputs": [
      {
       "metadata": {},
       "output_type": "pyout",
       "prompt_number": 70,
       "text": [
        "0.0"
       ]
      }
     ],
     "prompt_number": 70
    },
    {
     "cell_type": "heading",
     "level": 1,
     "metadata": {},
     "source": [
      "[2]"
     ]
    },
    {
     "cell_type": "heading",
     "level": 4,
     "metadata": {},
     "source": [
      "Define un tipo que se llama `Particula`, que tiene variables para la posici\u00f3n, velocidad y masa en una dimensi\u00f3n."
     ]
    },
    {
     "cell_type": "code",
     "collapsed": false,
     "input": [
      "type Particula\n",
      "    pos::Float64\n",
      "    vel::Float64\n",
      "    masa::Float64\n",
      "end"
     ],
     "language": "python",
     "metadata": {},
     "outputs": [],
     "prompt_number": 49
    },
    {
     "cell_type": "code",
     "collapsed": false,
     "input": [
      "Particula(1,2,33,3)"
     ],
     "language": "python",
     "metadata": {},
     "outputs": [
      {
       "ename": "LoadError",
       "evalue": "`Particula` has no method matching Particula(::Int64, ::Int64, ::Int64, ::Int64)\nwhile loading In[50], in expression starting on line 1",
       "output_type": "pyerr",
       "traceback": [
        "`Particula` has no method matching Particula(::Int64, ::Int64, ::Int64, ::Int64)\nwhile loading In[50], in expression starting on line 1",
        ""
       ]
      }
     ],
     "prompt_number": 50
    },
    {
     "cell_type": "heading",
     "level": 1,
     "metadata": {},
     "source": [
      "[3]"
     ]
    },
    {
     "cell_type": "heading",
     "level": 4,
     "metadata": {},
     "source": [
      "Experimenta para ver c\u00f3mo crear un objeto de tipo `Particula`. [Pista: piensa en funciones]"
     ]
    },
    {
     "cell_type": "markdown",
     "metadata": {},
     "source": [
      "Lo siguiente es para conocer un poco `type`"
     ]
    },
    {
     "cell_type": "code",
     "collapsed": false,
     "input": [
      "methods(Particula)"
     ],
     "language": "python",
     "metadata": {},
     "outputs": [
      {
       "html": [
        "2 methods for generic function <b>Particula</b>:<ul><li> Particula(pos::<b>Float64</b>,vel::<b>Float64</b>,masa::<b>Float64</b>)<li> Particula(pos,vel,masa)</ul>"
       ],
       "metadata": {},
       "output_type": "pyout",
       "prompt_number": 51,
       "text": [
        "# 2 methods for generic function \"Particula\":\n",
        "Particula(pos::Float64,vel::Float64,masa::Float64)\n",
        "Particula(pos,vel,masa)"
       ]
      }
     ],
     "prompt_number": 51
    },
    {
     "cell_type": "code",
     "collapsed": false,
     "input": [
      "part1=Particula(0.0,2.0,100.0)"
     ],
     "language": "python",
     "metadata": {},
     "outputs": [
      {
       "metadata": {},
       "output_type": "pyout",
       "prompt_number": 82,
       "text": [
        "Particula(0.0,2.0,100.0)"
       ]
      }
     ],
     "prompt_number": 82
    },
    {
     "cell_type": "code",
     "collapsed": false,
     "input": [
      "names(part1)"
     ],
     "language": "python",
     "metadata": {},
     "outputs": [
      {
       "metadata": {},
       "output_type": "pyout",
       "prompt_number": 8,
       "text": [
        "3-element Array{Symbol,1}:\n",
        " :pos \n",
        " :vel \n",
        " :masa"
       ]
      }
     ],
     "prompt_number": 8
    },
    {
     "cell_type": "code",
     "collapsed": false,
     "input": [
      "typeof(part1)"
     ],
     "language": "python",
     "metadata": {},
     "outputs": [
      {
       "metadata": {},
       "output_type": "pyout",
       "prompt_number": 9,
       "text": [
        "Particula (constructor with 2 methods)"
       ]
      }
     ],
     "prompt_number": 9
    },
    {
     "cell_type": "code",
     "collapsed": false,
     "input": [
      "println(part1.pos)\n",
      "println(part1.vel)\n",
      "println(part1.masa)"
     ],
     "language": "python",
     "metadata": {},
     "outputs": [
      {
       "output_type": "stream",
       "stream": "stdout",
       "text": [
        "0.0"
       ]
      },
      {
       "output_type": "stream",
       "stream": "stdout",
       "text": [
        "\n",
        "2.0\n",
        "100.0\n"
       ]
      }
     ],
     "prompt_number": 10
    },
    {
     "cell_type": "code",
     "collapsed": false,
     "input": [
      "part1.pos=10*part1.vel\n",
      "println(part1.pos)\n",
      "println(part1.vel)\n",
      "println(part1.masa)"
     ],
     "language": "python",
     "metadata": {},
     "outputs": [
      {
       "output_type": "stream",
       "stream": "stdout",
       "text": [
        "20"
       ]
      },
      {
       "output_type": "stream",
       "stream": "stdout",
       "text": [
        ".0\n",
        "2.0\n",
        "100.0\n"
       ]
      }
     ],
     "prompt_number": 11
    },
    {
     "cell_type": "heading",
     "level": 1,
     "metadata": {},
     "source": [
      "[4]"
     ]
    },
    {
     "cell_type": "heading",
     "level": 4,
     "metadata": {},
     "source": [
      "\u00bfC\u00f3mo podemos definir una funci\u00f3n `mover` que mueve la part\u00edcula en un paso de tiempo `\u03b4t`? [Pista: Para especificar que un objeto t es de tipo `MiTipo`, usamos la sintaxis `t::MiTipo`.]"
     ]
    },
    {
     "cell_type": "code",
     "collapsed": false,
     "input": [
      "function mover!(x::Particula,\u03b4t::Float64) #el ! es porque cambia el valor del argumento (consejo julia)\n",
      "    x.pos+=\u03b4t*x.vel #estoy pensando que la part\u00edcula est\u00e1 libre de aceleraci\u00f3n.\n",
      "    x\n",
      "end"
     ],
     "language": "python",
     "metadata": {},
     "outputs": [
      {
       "metadata": {},
       "output_type": "pyout",
       "prompt_number": 80,
       "text": [
        "mover! (generic function with 1 method)"
       ]
      }
     ],
     "prompt_number": 80
    },
    {
     "cell_type": "code",
     "collapsed": false,
     "input": [
      "println(part1)\n",
      "mover!(part1,10.0)"
     ],
     "language": "python",
     "metadata": {},
     "outputs": [
      {
       "output_type": "stream",
       "stream": "stdout",
       "text": [
        "Particula("
       ]
      },
      {
       "output_type": "stream",
       "stream": "stdout",
       "text": [
        "0.0,2.0,100.0)\n"
       ]
      },
      {
       "metadata": {},
       "output_type": "pyout",
       "prompt_number": 83,
       "text": [
        "Particula(20.0,2.0,100.0)"
       ]
      }
     ],
     "prompt_number": 83
    },
    {
     "cell_type": "heading",
     "level": 1,
     "metadata": {},
     "source": [
      "[5]"
     ]
    },
    {
     "cell_type": "code",
     "collapsed": false,
     "input": [
      "type Gas #El objeto gas representa N part\u00edculas, de modo que 'pos', 'vel' y 'masa' son vectores de tama\u00f1o N\n",
      "            #en los cuales misma posici\u00f3n indica misma part\u00edcula\n",
      "    pos::Array{Float64,1}\n",
      "    vel::Array{Float64,1}\n",
      "    masa::Array{Float64,1}\n",
      "    \n",
      "    #la parte siguiente es para asegurar que el tama\u00f1o de 'pos', 'vel' y 'masa' sea el mismo.\n",
      "    #La idea la saqu\u00e9 de internet en donde usan el 'ternary operator', en este caso podr\u00eda escribirse as\u00ed\n",
      "    #Gas(pos,vel,masa)= (length(pos)!=length(vel) || length(vel)!=length(masa) ?\n",
      "    #                    error(\"Deben ser tres arreglos del mismo tama\u00f1o\") : new(pos,vel,masa))\n",
      "    Gas(pos,vel,masa)=      \n",
      "    if length(pos)!=length(vel) || length(vel)!=length(masa)\n",
      "        error(\"Deben ser tres arreglos del mismo tama\u00f1o\")\n",
      "    else\n",
      "        new(pos,vel,masa)\n",
      "    end\n",
      "end    "
     ],
     "language": "python",
     "metadata": {},
     "outputs": [
      {
       "ename": "LoadError",
       "evalue": "syntax: expected assignment after \"const\"\nwhile loading In[112], in expression starting on line 4",
       "output_type": "pyerr",
       "traceback": [
        "syntax: expected assignment after \"const\"\nwhile loading In[112], in expression starting on line 4",
        ""
       ]
      }
     ],
     "prompt_number": 112
    },
    {
     "cell_type": "code",
     "collapsed": false,
     "input": [
      "partgas=Gas([1,23,4],[2,5],[3,9])"
     ],
     "language": "python",
     "metadata": {},
     "outputs": [
      {
       "ename": "LoadError",
       "evalue": "Deben ser tres arreglos del mismo tama\u00f1o\nwhile loading In[45], in expression starting on line 1",
       "output_type": "pyerr",
       "traceback": [
        "Deben ser tres arreglos del mismo tama\u00f1o\nwhile loading In[45], in expression starting on line 1",
        "",
        " in Gas at In[39]:11"
       ]
      }
     ],
     "prompt_number": 45
    },
    {
     "cell_type": "code",
     "collapsed": false,
     "input": [
      "partgas=Gas([1,2],[2,5],[3,9])"
     ],
     "language": "python",
     "metadata": {},
     "outputs": [
      {
       "metadata": {},
       "output_type": "pyout",
       "prompt_number": 89,
       "text": [
        "Gas([1.0,2.0],[2.0,5.0],[3.0,9.0])"
       ]
      }
     ],
     "prompt_number": 89
    },
    {
     "cell_type": "code",
     "collapsed": false,
     "input": [
      "function mover!(x::Gas,\u03b4t::Float64) #el ! es porque cambia el valor del argumento (consejo julia)\n",
      "    for n=1:length(x.pos) #estoy pensando que las part\u00edculas est\u00e1n libres de aceleraci\u00f3n.\n",
      "        x.pos[n]+=\u03b4t*x.vel[n]\n",
      "    end\n",
      "    x\n",
      "end"
     ],
     "language": "python",
     "metadata": {},
     "outputs": [
      {
       "metadata": {},
       "output_type": "pyout",
       "prompt_number": 90,
       "text": [
        "mover! (generic function with 2 methods)"
       ]
      }
     ],
     "prompt_number": 90
    },
    {
     "cell_type": "code",
     "collapsed": false,
     "input": [
      "methods(mover!)"
     ],
     "language": "python",
     "metadata": {},
     "outputs": [
      {
       "html": [
        "2 methods for generic function <b>mover!</b>:<ul><li> mover!(x::<b>Particula</b>,\u03b4t::<b>Float64</b>) at In[80]:2<li> mover!(x::<b>Gas</b>,\u03b4t::<b>Float64</b>) at In[90]:2</ul>"
       ],
       "metadata": {},
       "output_type": "pyout",
       "prompt_number": 91,
       "text": [
        "# 2 methods for generic function \"mover!\":\n",
        "mover!(x::Particula,\u03b4t::Float64) at In[80]:2\n",
        "mover!(x::Gas,\u03b4t::Float64) at In[90]:2"
       ]
      }
     ],
     "prompt_number": 91
    },
    {
     "cell_type": "code",
     "collapsed": false,
     "input": [
      "println(partgas)\n",
      "mover!(partgas,10.0)"
     ],
     "language": "python",
     "metadata": {},
     "outputs": [
      {
       "output_type": "stream",
       "stream": "stdout",
       "text": [
        "Gas("
       ]
      },
      {
       "output_type": "stream",
       "stream": "stdout",
       "text": [
        "[1.0,2.0],[2.0,5.0],[3.0,9.0])\n"
       ]
      },
      {
       "metadata": {},
       "output_type": "pyout",
       "prompt_number": 92,
       "text": [
        "Gas([21.0,52.0],[2.0,5.0],[3.0,9.0])"
       ]
      }
     ],
     "prompt_number": 92
    },
    {
     "cell_type": "code",
     "collapsed": false,
     "input": [
      "partgas"
     ],
     "language": "python",
     "metadata": {},
     "outputs": [
      {
       "metadata": {},
       "output_type": "pyout",
       "prompt_number": 93,
       "text": [
        "Gas([21.0,52.0],[2.0,5.0],[3.0,9.0])"
       ]
      }
     ],
     "prompt_number": 93
    },
    {
     "cell_type": "heading",
     "level": 1,
     "metadata": {},
     "source": [
      "[6]"
     ]
    },
    {
     "cell_type": "heading",
     "level": 4,
     "metadata": {},
     "source": [
      "(i)"
     ]
    },
    {
     "cell_type": "code",
     "collapsed": false,
     "input": [
      "type Barra\n",
      "    barra1::Float64\n",
      "    barra2::Float64\n",
      "end\n",
      "\n",
      "Barra(barra1)= ( isconst(symbol(\"barra1\"))==true ? Barra(barra1,0) : Barra(barra1,1.0))\n",
      "#esto no funciona, no tiene sentido siempre da (x,1)"
     ],
     "language": "python",
     "metadata": {},
     "outputs": [
      {
       "metadata": {},
       "output_type": "pyout",
       "prompt_number": 12,
       "text": [
        "Barra (constructor with 3 methods)"
       ]
      }
     ],
     "prompt_number": 12
    },
    {
     "cell_type": "code",
     "collapsed": false,
     "input": [
      "const co=0.0 \n",
      "Barra(co) #tampoco sirve con Barra(1),Barra(\u03c0)"
     ],
     "language": "python",
     "metadata": {},
     "outputs": [
      {
       "metadata": {},
       "output_type": "pyout",
       "prompt_number": 17,
       "text": [
        "Barra(0.0,1.0)"
       ]
      }
     ],
     "prompt_number": 17
    },
    {
     "cell_type": "code",
     "collapsed": false,
     "input": [
      "function +(x::Barra,y::Barra) #defino la suma\n",
      "    z=Barra(0.0,0.0)\n",
      "    z.barra1=x.barra1+y.barra1\n",
      "    z.barra2=x.barra2+y.barra2\n",
      "    z\n",
      "end\n",
      "\n",
      "function -(x::Barra,y::Barra) #defino la resta\n",
      "    z=Barra(0.0,0.0)\n",
      "    z.barra1=x.barra1-y.barra1\n",
      "    z.barra2=x.barra2-y.barra2\n",
      "    z\n",
      "end\n",
      "\n",
      "function *(x::Barra,y::Barra) #defino producto\n",
      "    z=Barra(0.0,0.0)\n",
      "    z.barra1=x.barra1*y.barra1\n",
      "    z.barra2=x.barra1*y.barra2+x.barra2*y.barra1\n",
      "    z\n",
      "end\n",
      "\n",
      "function /(x::Barra,y::Barra) #defino divisi\u00f3n\n",
      "    z=Barra(0.0,0.0)\n",
      "    z.barra1=x.barra1/y.barra1\n",
      "    z.barra2=(x.barra2*y.barra1-x.barra1*y.barra2)/y.barra1^2\n",
      "    z\n",
      "end\n",
      "\n",
      "function ^(x::Barra,y::Float64) #defino potencia para flotantes\n",
      "    z=Barra(0.0,0.0)\n",
      "    z.barra1=x.barra1^y\n",
      "    z.barra2=y*x.barra1^(y-1)*x.barra2\n",
      "    z\n",
      "end\n",
      "function ^(x::Barra,y::Int64) #defino potencia para enteros\n",
      "    x^float64(y)\n",
      "end\n",
      "function ^(x::Barra,y::Rational{Int64}) #defino potencia para racionales\n",
      "    x^float64(y)\n",
      "end\n",
      ";"
     ],
     "language": "python",
     "metadata": {},
     "outputs": [],
     "prompt_number": 15
    },
    {
     "cell_type": "code",
     "collapsed": false,
     "input": [
      "a=Barra(1,1)\n",
      "b=Barra(2,3)\n",
      "println(a+b)\n",
      "println(a-b)\n",
      "println(a*b)\n",
      "println(a/b)\n",
      "println(b^2)"
     ],
     "language": "python",
     "metadata": {},
     "outputs": [
      {
       "output_type": "stream",
       "stream": "stdout",
       "text": [
        "Barra("
       ]
      },
      {
       "output_type": "stream",
       "stream": "stdout",
       "text": [
        "3.0,4.0)\n",
        "Barra(-1.0,-2.0)\n",
        "Barra(2.0,5.0)\n",
        "Barra(0.5,-0.25)\n",
        "Barra(4.0,12.0)\n"
       ]
      }
     ],
     "prompt_number": 16
    },
    {
     "cell_type": "code",
     "collapsed": false,
     "input": [],
     "language": "python",
     "metadata": {},
     "outputs": []
    },
    {
     "cell_type": "code",
     "collapsed": false,
     "input": [],
     "language": "python",
     "metadata": {},
     "outputs": []
    },
    {
     "cell_type": "code",
     "collapsed": false,
     "input": [
      "x=10\n",
      "typeof(x)"
     ],
     "language": "python",
     "metadata": {},
     "outputs": [
      {
       "metadata": {},
       "output_type": "pyout",
       "prompt_number": 76,
       "text": [
        "Int64"
       ]
      }
     ],
     "prompt_number": 76
    },
    {
     "cell_type": "code",
     "collapsed": false,
     "input": [
      "typeof(10)"
     ],
     "language": "python",
     "metadata": {},
     "outputs": [
      {
       "metadata": {},
       "output_type": "pyout",
       "prompt_number": 77,
       "text": [
        "Int64"
       ]
      }
     ],
     "prompt_number": 77
    },
    {
     "cell_type": "code",
     "collapsed": false,
     "input": [
      "const"
     ],
     "language": "python",
     "metadata": {},
     "outputs": [
      {
       "ename": "LoadError",
       "evalue": "syntax: incomplete: premature end of input\nwhile loading In[95], in expression starting on line 1",
       "output_type": "pyerr",
       "traceback": [
        "syntax: incomplete: premature end of input\nwhile loading In[95], in expression starting on line 1",
        ""
       ]
      }
     ],
     "prompt_number": 95
    },
    {
     "cell_type": "code",
     "collapsed": false,
     "input": [
      "isconst(names(part1)[1])"
     ],
     "language": "python",
     "metadata": {},
     "outputs": [
      {
       "metadata": {},
       "output_type": "pyout",
       "prompt_number": 102,
       "text": [
        "false"
       ]
      }
     ],
     "prompt_number": 102
    },
    {
     "cell_type": "code",
     "collapsed": false,
     "input": [
      "isconst(\u03c0)"
     ],
     "language": "python",
     "metadata": {},
     "outputs": [
      {
       "ename": "LoadError",
       "evalue": "`isconst` has no method matching isconst(::MathConst{:\u03c0})\nwhile loading In[122], in expression starting on line 1",
       "output_type": "pyerr",
       "traceback": [
        "`isconst` has no method matching isconst(::MathConst{:\u03c0})\nwhile loading In[122], in expression starting on line 1",
        ""
       ]
      }
     ],
     "prompt_number": 122
    },
    {
     "cell_type": "code",
     "collapsed": false,
     "input": [],
     "language": "python",
     "metadata": {},
     "outputs": [
      {
       "metadata": {},
       "output_type": "pyout",
       "prompt_number": 54,
       "text": [
        "0.0"
       ]
      }
     ],
     "prompt_number": 54
    },
    {
     "cell_type": "code",
     "collapsed": false,
     "input": [
      "f=co\n",
      "println(isconst(symbol(\"co\")))\n",
      "println(isconst(symbol(string(co))))"
     ],
     "language": "python",
     "metadata": {},
     "outputs": [
      {
       "output_type": "stream",
       "stream": "stdout",
       "text": [
        "true\n"
       ]
      },
      {
       "output_type": "stream",
       "stream": "stdout",
       "text": [
        "false\n"
       ]
      }
     ],
     "prompt_number": 55
    },
    {
     "cell_type": "code",
     "collapsed": false,
     "input": [
      "names(c)"
     ],
     "language": "python",
     "metadata": {},
     "outputs": [
      {
       "metadata": {},
       "output_type": "pyout",
       "prompt_number": 22,
       "text": [
        "0-element Array{Any,1}"
       ]
      }
     ],
     "prompt_number": 22
    },
    {
     "cell_type": "code",
     "collapsed": false,
     "input": [
      "f=1"
     ],
     "language": "python",
     "metadata": {},
     "outputs": [
      {
       "metadata": {},
       "output_type": "pyout",
       "prompt_number": 56,
       "text": [
        "1"
       ]
      }
     ],
     "prompt_number": 56
    },
    {
     "cell_type": "code",
     "collapsed": false,
     "input": [
      "baba=Barra(co,f)"
     ],
     "language": "python",
     "metadata": {},
     "outputs": [
      {
       "metadata": {},
       "output_type": "pyout",
       "prompt_number": 58,
       "text": [
        "Barra(0.0,1.0)"
       ]
      }
     ],
     "prompt_number": 58
    },
    {
     "cell_type": "code",
     "collapsed": false,
     "input": [
      "isconst(\"baba.barra1\")"
     ],
     "language": "python",
     "metadata": {},
     "outputs": [
      {
       "ename": "LoadError",
       "evalue": "`isconst` has no method matching isconst(::ASCIIString)\nwhile loading In[61], in expression starting on line 1",
       "output_type": "pyerr",
       "traceback": [
        "`isconst` has no method matching isconst(::ASCIIString)\nwhile loading In[61], in expression starting on line 1",
        ""
       ]
      }
     ],
     "prompt_number": 61
    },
    {
     "cell_type": "code",
     "collapsed": false,
     "input": [
      "typeof(Barra(co,1).barra1)"
     ],
     "language": "python",
     "metadata": {},
     "outputs": [
      {
       "metadata": {},
       "output_type": "pyout",
       "prompt_number": 66,
       "text": [
        "Float64"
       ]
      }
     ],
     "prompt_number": 66
    },
    {
     "cell_type": "code",
     "collapsed": false,
     "input": [
      "isconst(names(Barra)[2])"
     ],
     "language": "python",
     "metadata": {},
     "outputs": [
      {
       "metadata": {},
       "output_type": "pyout",
       "prompt_number": 71,
       "text": [
        "false"
       ]
      }
     ],
     "prompt_number": 71
    },
    {
     "cell_type": "code",
     "collapsed": false,
     "input": [
      "const baba.barra1=1"
     ],
     "language": "python",
     "metadata": {},
     "outputs": [
      {
       "ename": "LoadError",
       "evalue": "syntax: expected identifier after \"const\"\nwhile loading In[73], in expression starting on line 1",
       "output_type": "pyerr",
       "traceback": [
        "syntax: expected identifier after \"const\"\nwhile loading In[73], in expression starting on line 1",
        ""
       ]
      }
     ],
     "prompt_number": 73
    },
    {
     "cell_type": "code",
     "collapsed": false,
     "input": [],
     "language": "python",
     "metadata": {},
     "outputs": []
    }
   ],
   "metadata": {}
  }
 ]
}