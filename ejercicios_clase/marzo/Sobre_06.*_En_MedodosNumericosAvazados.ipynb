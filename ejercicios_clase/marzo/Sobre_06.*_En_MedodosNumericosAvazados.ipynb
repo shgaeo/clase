{
 "cells": [
  {
   "cell_type": "code",
   "execution_count": 2,
   "metadata": {
    "collapsed": false
   },
   "outputs": [],
   "source": []
  },
  {
   "cell_type": "markdown",
   "metadata": {},
   "source": [
    "# [1]"
   ]
  },
  {
   "cell_type": "markdown",
   "metadata": {},
   "source": [
    "#### (i) ¿Cómo representarías a una partícula en 1D con posición, velocidad y masa en Julia?"
   ]
  },
  {
   "cell_type": "markdown",
   "metadata": {},
   "source": [
    "Lo representaría con un vector, donde la primer entrada fuera la posición, la segunda la velocidad y la tercera la masa"
   ]
  },
  {
   "cell_type": "code",
   "execution_count": 4,
   "metadata": {
    "collapsed": false
   },
   "outputs": [
    {
     "data": {
      "text/plain": [
       "3-element Array{Float64,1}:\n",
       "   0.0\n",
       "   2.0\n",
       " 100.0"
      ]
     },
     "execution_count": 4,
     "metadata": {},
     "output_type": "execute_result"
    }
   ],
   "source": [
    "x=[0.0,2.0,100.0] #partícula en pos=0, con vel=2 y masa=100"
   ]
  },
  {
   "cell_type": "markdown",
   "metadata": {},
   "source": [
    "#### (ii) ¿Cómo moverías la partícula en un paso δt?"
   ]
  },
  {
   "cell_type": "markdown",
   "metadata": {},
   "source": [
    "x+[δpos,δvel,δmas]"
   ]
  },
  {
   "cell_type": "markdown",
   "metadata": {},
   "source": [
    "#### (iii) ¿Si necesitas otra partícula con las mismas propiedades, qué harías?"
   ]
  },
  {
   "cell_type": "code",
   "execution_count": 5,
   "metadata": {
    "collapsed": false
   },
   "outputs": [
    {
     "data": {
      "text/plain": [
       "3-element Array{Float64,1}:\n",
       " 8.67726e-317\n",
       " 8.67571e-317\n",
       " 8.67571e-317"
      ]
     },
     "execution_count": 5,
     "metadata": {},
     "output_type": "execute_result"
    }
   ],
   "source": [
    "y=similar(x)"
   ]
  },
  {
   "cell_type": "markdown",
   "metadata": {},
   "source": [
    "#### (iv) Para N tales partículas, ¿qué podrías hacer?"
   ]
  },
  {
   "cell_type": "code",
   "execution_count": 6,
   "metadata": {
    "collapsed": false
   },
   "outputs": [
    {
     "data": {
      "text/plain": [
       "5x3 Array{Float64,2}:\n",
       " 0.0  0.0  0.0\n",
       " 0.0  0.0  0.0\n",
       " 0.0  0.0  0.0\n",
       " 0.0  0.0  0.0\n",
       " 0.0  0.0  0.0"
      ]
     },
     "execution_count": 6,
     "metadata": {},
     "output_type": "execute_result"
    }
   ],
   "source": [
    "#podría hacer un arreglo en donde la primer entrada sea el número de particula y la segunda la propiedad\n",
    "N=5\n",
    "z=zeros(N,length(x)) "
   ]
  },
  {
   "cell_type": "code",
   "execution_count": 7,
   "metadata": {
    "collapsed": false
   },
   "outputs": [
    {
     "data": {
      "text/plain": [
       "0-element Array{Array{Float64,1},1}"
      ]
     },
     "execution_count": 7,
     "metadata": {},
     "output_type": "execute_result"
    }
   ],
   "source": [
    "#O mejor aún podría crear un vector cuyas entradas fueran del tipo arreglo\n",
    "z=Array{Float64,1}[]"
   ]
  },
  {
   "cell_type": "code",
   "execution_count": 8,
   "metadata": {
    "collapsed": false
   },
   "outputs": [
    {
     "data": {
      "text/plain": [
       "5-element Array{Array{Float64,1},1}:\n",
       " [7.7275e-316,8.67515e-317,8.67565e-317] \n",
       " [7.59147e-316,3.0735e-316,3.0735e-316]  \n",
       " [9.43519e-317,8.67039e-317,8.67565e-317]\n",
       " [3.34865e-316,3.34864e-316,3.34864e-316]\n",
       " [9.43519e-317,8.67039e-317,8.67565e-317]"
      ]
     },
     "execution_count": 8,
     "metadata": {},
     "output_type": "execute_result"
    }
   ],
   "source": [
    "#Y agregar las N partículas:\n",
    "N=5\n",
    "for i=1:N\n",
    "    push!(z,similar(x))\n",
    "end\n",
    "z"
   ]
  },
  {
   "cell_type": "markdown",
   "metadata": {},
   "source": [
    "# [2]"
   ]
  },
  {
   "cell_type": "markdown",
   "metadata": {},
   "source": [
    "#### Define un tipo que se llama `Particula`, que tiene variables para la posición, velocidad y masa en una dimensión."
   ]
  },
  {
   "cell_type": "code",
   "execution_count": 9,
   "metadata": {
    "collapsed": false
   },
   "outputs": [],
   "source": [
    "type Particula\n",
    "    pos::Float64\n",
    "    vel::Float64\n",
    "    masa::Float64\n",
    "end"
   ]
  },
  {
   "cell_type": "code",
   "execution_count": 10,
   "metadata": {
    "collapsed": false
   },
   "outputs": [
    {
     "ename": "LoadError",
     "evalue": "`Particula` has no method matching Particula(::Int64, ::Int64, ::Int64, ::Int64)\nwhile loading In[10], in expression starting on line 1",
     "output_type": "error",
     "traceback": [
      "`Particula` has no method matching Particula(::Int64, ::Int64, ::Int64, ::Int64)\nwhile loading In[10], in expression starting on line 1",
      ""
     ]
    }
   ],
   "source": [
    "Particula(1,2,33,3)"
   ]
  },
  {
   "cell_type": "markdown",
   "metadata": {},
   "source": [
    "# [3]"
   ]
  },
  {
   "cell_type": "markdown",
   "metadata": {},
   "source": [
    "#### Experimenta para ver cómo crear un objeto de tipo `Particula`. [Pista: piensa en funciones]"
   ]
  },
  {
   "cell_type": "markdown",
   "metadata": {},
   "source": [
    "Lo siguiente es para conocer un poco `type`"
   ]
  },
  {
   "cell_type": "code",
   "execution_count": 28,
   "metadata": {
    "collapsed": false
   },
   "outputs": [
    {
     "data": {
      "text/html": [
       "2 methods for generic function <b>Particula</b>:<ul><li> Particula(pos::<b>Float64</b>,vel::<b>Float64</b>,masa::<b>Float64</b>)<li> Particula(pos,vel,masa)</ul>"
      ],
      "text/plain": [
       "# 2 methods for generic function \"Particula\":\n",
       "Particula(pos::Float64,vel::Float64,masa::Float64)\n",
       "Particula(pos,vel,masa)"
      ]
     },
     "execution_count": 28,
     "metadata": {},
     "output_type": "execute_result"
    }
   ],
   "source": [
    "methods(Particula)"
   ]
  },
  {
   "cell_type": "code",
   "execution_count": 11,
   "metadata": {
    "collapsed": false
   },
   "outputs": [
    {
     "data": {
      "text/plain": [
       "Particula(0.0,2.0,100.0)"
      ]
     },
     "execution_count": 11,
     "metadata": {},
     "output_type": "execute_result"
    }
   ],
   "source": [
    "part1=Particula(0.0,2.0,100.0)"
   ]
  },
  {
   "cell_type": "code",
   "execution_count": 12,
   "metadata": {
    "collapsed": false
   },
   "outputs": [
    {
     "data": {
      "text/plain": [
       "3-element Array{Symbol,1}:\n",
       " :pos \n",
       " :vel \n",
       " :masa"
      ]
     },
     "execution_count": 12,
     "metadata": {},
     "output_type": "execute_result"
    }
   ],
   "source": [
    "names(part1)"
   ]
  },
  {
   "cell_type": "code",
   "execution_count": 13,
   "metadata": {
    "collapsed": false
   },
   "outputs": [
    {
     "data": {
      "text/plain": [
       "Particula (constructor with 2 methods)"
      ]
     },
     "execution_count": 13,
     "metadata": {},
     "output_type": "execute_result"
    }
   ],
   "source": [
    "typeof(part1)"
   ]
  },
  {
   "cell_type": "code",
   "execution_count": 14,
   "metadata": {
    "collapsed": false
   },
   "outputs": [
    {
     "name": "stdout",
     "output_type": "stream",
     "text": [
      "0.0\n",
      "2.0\n",
      "100.0\n"
     ]
    }
   ],
   "source": [
    "println(part1.pos)\n",
    "println(part1.vel)\n",
    "println(part1.masa)"
   ]
  },
  {
   "cell_type": "code",
   "execution_count": 15,
   "metadata": {
    "collapsed": false
   },
   "outputs": [
    {
     "name": "stdout",
     "output_type": "stream",
     "text": [
      "20.0\n",
      "2.0\n",
      "100.0\n"
     ]
    }
   ],
   "source": [
    "part1.pos=10*part1.vel\n",
    "println(part1.pos)\n",
    "println(part1.vel)\n",
    "println(part1.masa)"
   ]
  },
  {
   "cell_type": "markdown",
   "metadata": {},
   "source": [
    "# [4]"
   ]
  },
  {
   "cell_type": "markdown",
   "metadata": {},
   "source": [
    "#### ¿Cómo podemos definir una función `mover` que mueve la partícula en un paso de tiempo `δt`? [Pista: Para especificar que un objeto t es de tipo `MiTipo`, usamos la sintaxis `t::MiTipo`.]"
   ]
  },
  {
   "cell_type": "code",
   "execution_count": 16,
   "metadata": {
    "collapsed": false
   },
   "outputs": [
    {
     "data": {
      "text/plain": [
       "mover! (generic function with 1 method)"
      ]
     },
     "execution_count": 16,
     "metadata": {},
     "output_type": "execute_result"
    }
   ],
   "source": [
    "function mover!(x::Particula,δt::Float64) #el ! es porque cambia el valor del argumento (consejo julia)\n",
    "    x.pos+=δt*x.vel #estoy pensando que la partícula está libre de aceleración.\n",
    "    x\n",
    "end"
   ]
  },
  {
   "cell_type": "code",
   "execution_count": 17,
   "metadata": {
    "collapsed": false
   },
   "outputs": [
    {
     "name": "stdout",
     "output_type": "stream",
     "text": [
      "Particula(20.0,2.0,100.0)\n"
     ]
    },
    {
     "data": {
      "text/plain": [
       "Particula(40.0,2.0,100.0)"
      ]
     },
     "execution_count": 17,
     "metadata": {},
     "output_type": "execute_result"
    }
   ],
   "source": [
    "println(part1)\n",
    "mover!(part1,10.0)"
   ]
  },
  {
   "cell_type": "markdown",
   "metadata": {},
   "source": [
    "# [5]"
   ]
  },
  {
   "cell_type": "markdown",
   "metadata": {},
   "source": [
    "El que sigue era la primera opción que yo hice, pero me dijeron que era mejor hacer lo que pongo después"
   ]
  },
  {
   "cell_type": "markdown",
   "metadata": {},
   "source": [
    "type Gas #El objeto gas representa N partículas, de modo que 'pos', 'vel' y 'masa' son vectores de tamaño N\n",
    "            #en los cuales misma posición indica misma partícula\n",
    "    pos::Array{Float64,1}\n",
    "    vel::Array{Float64,1}\n",
    "    masa::Array{Float64,1}\n",
    "    \n",
    "    #la parte siguiente es para asegurar que el tamaño de 'pos', 'vel' y 'masa' sea el mismo.\n",
    "    #La idea la saqué de internet en donde usan el 'ternary operator', en este caso podría escribirse así\n",
    "    #Gas(pos,vel,masa)= (length(pos)!=length(vel) || length(vel)!=length(masa) ?\n",
    "    #                    error(\"Deben ser tres arreglos del mismo tamaño\") : new(pos,vel,masa))\n",
    "    Gas(pos,vel,masa)=      \n",
    "    if length(pos)!=length(vel) || length(vel)!=length(masa)\n",
    "        error(\"Deben ser tres arreglos del mismo tamaño\")\n",
    "    else\n",
    "        new(pos,vel,masa)\n",
    "    end\n",
    "end    "
   ]
  },
  {
   "cell_type": "code",
   "execution_count": 18,
   "metadata": {
    "collapsed": false
   },
   "outputs": [],
   "source": [
    "type Gas #El objeto gas representa N partículas, de modo que la primer entrada es el número de partículas y \n",
    "            #la segunda entrada es un vector cuyas entradas son elementos tipo Particula\n",
    "    n::Int64\n",
    "    particulas::Vector{Particula}\n",
    "    \n",
    "    #la parte siguiente es para asegurar que el n coincide con el tamaño del vector\n",
    "    #La idea la saqué de internet en donde usan el 'ternary operator' a ? b : c (if a then b, else c)\n",
    "    Gas(n::Int64,particulas::Vector{Particula})=\n",
    "    (length(particulas)!=n ? error(\"n es el número de partículas\") : new(n::Int64,particulas::Vector{Particula}))\n",
    "end    "
   ]
  },
  {
   "cell_type": "code",
   "execution_count": 19,
   "metadata": {
    "collapsed": false
   },
   "outputs": [
    {
     "ename": "LoadError",
     "evalue": "n es el número de partículas\nwhile loading In[19], in expression starting on line 1",
     "output_type": "error",
     "traceback": [
      "n es el número de partículas\nwhile loading In[19], in expression starting on line 1",
      "",
      " in Gas at In[18]:8"
     ]
    }
   ],
   "source": [
    "partgas=Gas(3,[part1,part1])"
   ]
  },
  {
   "cell_type": "code",
   "execution_count": 20,
   "metadata": {
    "collapsed": false
   },
   "outputs": [
    {
     "data": {
      "text/plain": [
       "Gas(2,[Particula(0.0,2.0,100.0),Particula(10.0,1.0,100.0)])"
      ]
     },
     "execution_count": 20,
     "metadata": {},
     "output_type": "execute_result"
    }
   ],
   "source": [
    "part1=Particula(0.0,2.0,100.0)\n",
    "part2=Particula(10.0,1.0,100.0)\n",
    "partgas=Gas(2,[part1,part2])"
   ]
  },
  {
   "cell_type": "code",
   "execution_count": 21,
   "metadata": {
    "collapsed": false
   },
   "outputs": [
    {
     "data": {
      "text/plain": [
       "Gas (constructor with 2 methods)"
      ]
     },
     "execution_count": 21,
     "metadata": {},
     "output_type": "execute_result"
    }
   ],
   "source": [
    "#ahora defino Gas para unicamente un arreglo\n",
    "Gas(particulas::Vector{Particula})=Gas(length(particulas),particulas)"
   ]
  },
  {
   "cell_type": "code",
   "execution_count": 22,
   "metadata": {
    "collapsed": false
   },
   "outputs": [
    {
     "data": {
      "text/html": [
       "2 methods for generic function <b>Gas</b>:<ul><li> Gas(n::<b>Int64</b>,particulas::<b>Array{Particula,1}</b>) at In[18]:8<li> Gas(particulas::<b>Array{Particula,1}</b>) at In[21]:2</ul>"
      ],
      "text/plain": [
       "# 2 methods for generic function \"Gas\":\n",
       "Gas(n::Int64,particulas::Array{Particula,1}) at In[18]:8\n",
       "Gas(particulas::Array{Particula,1}) at In[21]:2"
      ]
     },
     "execution_count": 22,
     "metadata": {},
     "output_type": "execute_result"
    }
   ],
   "source": [
    "methods(Gas)"
   ]
  },
  {
   "cell_type": "code",
   "execution_count": 23,
   "metadata": {
    "collapsed": false
   },
   "outputs": [
    {
     "data": {
      "text/plain": [
       "mover! (generic function with 2 methods)"
      ]
     },
     "execution_count": 23,
     "metadata": {},
     "output_type": "execute_result"
    }
   ],
   "source": [
    "function mover!(x::Gas,δt::Float64) #el ! es porque cambia el valor del argumento (consejo julia)\n",
    "    for n=1:x.n #estoy pensando que las partículas están libres de aceleración.\n",
    "        mover!(x.particulas[n],δt)\n",
    "    end\n",
    "    x\n",
    "end"
   ]
  },
  {
   "cell_type": "code",
   "execution_count": 24,
   "metadata": {
    "collapsed": false
   },
   "outputs": [
    {
     "data": {
      "text/html": [
       "2 methods for generic function <b>mover!</b>:<ul><li> mover!(x::<b>Particula</b>,δt::<b>Float64</b>) at In[16]:2<li> mover!(x::<b>Gas</b>,δt::<b>Float64</b>) at In[23]:2</ul>"
      ],
      "text/plain": [
       "# 2 methods for generic function \"mover!\":\n",
       "mover!(x::Particula,δt::Float64) at In[16]:2\n",
       "mover!(x::Gas,δt::Float64) at In[23]:2"
      ]
     },
     "execution_count": 24,
     "metadata": {},
     "output_type": "execute_result"
    }
   ],
   "source": [
    "methods(mover!)"
   ]
  },
  {
   "cell_type": "code",
   "execution_count": 25,
   "metadata": {
    "collapsed": false
   },
   "outputs": [
    {
     "name": "stdout",
     "output_type": "stream",
     "text": [
      "Gas(2,[Particula(0.0,2.0,100.0),Particula(10.0,1.0,100.0)])\n"
     ]
    },
    {
     "data": {
      "text/plain": [
       "Gas(2,[Particula(20.0,2.0,100.0),Particula(20.0,1.0,100.0)])"
      ]
     },
     "execution_count": 25,
     "metadata": {},
     "output_type": "execute_result"
    }
   ],
   "source": [
    "println(partgas)\n",
    "mover!(partgas,10.0)"
   ]
  },
  {
   "cell_type": "code",
   "execution_count": 26,
   "metadata": {
    "collapsed": false
   },
   "outputs": [
    {
     "data": {
      "text/plain": [
       "Gas(2,[Particula(20.0,2.0,100.0),Particula(20.0,1.0,100.0)])"
      ]
     },
     "execution_count": 26,
     "metadata": {},
     "output_type": "execute_result"
    }
   ],
   "source": [
    "partgas"
   ]
  },
  {
   "cell_type": "markdown",
   "metadata": {},
   "source": [
    "# [6]"
   ]
  },
  {
   "cell_type": "markdown",
   "metadata": {},
   "source": [
    "#### (i)"
   ]
  },
  {
   "cell_type": "code",
   "execution_count": 37,
   "metadata": {
    "collapsed": false
   },
   "outputs": [
    {
     "data": {
      "text/plain": [
       "Barra (constructor with 3 methods)"
      ]
     },
     "execution_count": 37,
     "metadata": {},
     "output_type": "execute_result"
    }
   ],
   "source": [
    "type Barra\n",
    "    barra1::Float64\n",
    "    barra2::Float64\n",
    "end\n",
    "\n",
    "Barra(barra1)= Barra(barra1,1.0)"
   ]
  },
  {
   "cell_type": "code",
   "execution_count": 38,
   "metadata": {
    "collapsed": false
   },
   "outputs": [],
   "source": [
    "function +(x::Barra,y::Barra) #defino la suma entre barras\n",
    "    z=Barra(0.0,0.0)\n",
    "    z.barra1=x.barra1+y.barra1\n",
    "    z.barra2=x.barra2+y.barra2\n",
    "    z\n",
    "end\n",
    "\n",
    "function +(x::Number,y::Barra) #defino la suma número + barra\n",
    "    Barra(x,0.0)+y\n",
    "end\n",
    "function +(y::Barra,x::Number) #defino la suma barra + número\n",
    "    x+y\n",
    "end\n",
    "\n",
    "function -(x::Barra,y::Barra) #defino la resta\n",
    "    z=Barra(0.0,0.0)\n",
    "    z.barra1=x.barra1-y.barra1\n",
    "    z.barra2=x.barra2-y.barra2\n",
    "    z\n",
    "end\n",
    "\n",
    "function -(x::Number,y::Barra) #defino la resta número - barra\n",
    "    Barra(x,0.0)-y\n",
    "end\n",
    "function -(y::Barra,x::Number) #defino la suma barra - número\n",
    "    y-Barra(x,0.0)\n",
    "end\n",
    "\n",
    "function *(x::Barra,y::Barra) #defino producto entre barras\n",
    "    z=Barra(0.0,0.0)\n",
    "    z.barra1=x.barra1*y.barra1\n",
    "    z.barra2=x.barra1*y.barra2+x.barra2*y.barra1\n",
    "    z\n",
    "end\n",
    "\n",
    "function *(x::Number,y::Barra) #defino producto barra por número\n",
    "    Barra(x,0.0)*y\n",
    "end\n",
    "function *(y::Barra,x::Number) #defino producto barra por número\n",
    "    x*y\n",
    "end\n",
    "\n",
    "function /(x::Barra,y::Barra) #defino división\n",
    "    z=Barra(0.0,0.0)\n",
    "    z.barra1=x.barra1/y.barra1\n",
    "    z.barra2=(x.barra2*y.barra1-x.barra1*y.barra2)/y.barra1^2\n",
    "    z\n",
    "end\n",
    "\n",
    "function ^(x::Barra,y::Float64) #defino potencia para flotantes\n",
    "    z=Barra(0.0,0.0)\n",
    "    z.barra1=x.barra1^y\n",
    "    z.barra2=y*x.barra1^(y-1)*x.barra2\n",
    "    z\n",
    "end\n",
    "function ^(x::Barra,y::Int64) #defino potencia para enteros\n",
    "    x^float64(y)\n",
    "end\n",
    "function ^(x::Barra,y::Rational{Int64}) #defino potencia para racionales\n",
    "    x^float64(y)\n",
    "end\n",
    ";"
   ]
  },
  {
   "cell_type": "code",
   "execution_count": 39,
   "metadata": {
    "collapsed": false
   },
   "outputs": [
    {
     "name": "stdout",
     "output_type": "stream",
     "text": [
      "Barra(3.0,4.0)\n",
      "Barra(-1.0,-2.0)\n",
      "Barra(2.0,5.0)\n",
      "Barra(0.5,-0.25)\n",
      "Barra(4.0,12.0)\n"
     ]
    }
   ],
   "source": [
    "a=Barra(1,1)\n",
    "b=Barra(2,3)\n",
    "println(a+b)\n",
    "println(a-b)\n",
    "println(a*b)\n",
    "println(a/b)\n",
    "println(b^2)"
   ]
  },
  {
   "cell_type": "code",
   "execution_count": 26,
   "metadata": {
    "collapsed": false
   },
   "outputs": [],
   "source": []
  },
  {
   "cell_type": "markdown",
   "metadata": {},
   "source": [
    "#### (ii)"
   ]
  },
  {
   "cell_type": "markdown",
   "metadata": {},
   "source": [
    "#### Define un polinomio $p(x)$ cuya variable independiente es $x$."
   ]
  },
  {
   "cell_type": "code",
   "execution_count": 27,
   "metadata": {
    "collapsed": false
   },
   "outputs": [
    {
     "data": {
      "text/plain": [
       "polinomio (generic function with 1 method)"
      ]
     },
     "execution_count": 27,
     "metadata": {},
     "output_type": "execute_result"
    }
   ],
   "source": [
    "function polinomio(x)\n",
    "    (x^4) + 2*(x^3) - 2*(x^2) + 2*(x) - 3\n",
    "end"
   ]
  },
  {
   "cell_type": "markdown",
   "metadata": {},
   "source": [
    "#### Evalúa el polinomio en $\\bar x$ (variable independiente $x$), en $x0=0$."
   ]
  },
  {
   "cell_type": "code",
   "execution_count": 28,
   "metadata": {
    "collapsed": false
   },
   "outputs": [
    {
     "data": {
      "text/plain": [
       "Barra(-3.0,2.0)"
      ]
     },
     "execution_count": 28,
     "metadata": {},
     "output_type": "execute_result"
    }
   ],
   "source": [
    "x=0.0\n",
    "polinomio(Barra(x))"
   ]
  },
  {
   "cell_type": "markdown",
   "metadata": {},
   "source": [
    "#### ¿Qué interpretación tiene el valor obtenido para $d_x$?"
   ]
  },
  {
   "cell_type": "code",
   "execution_count": 29,
   "metadata": {
    "collapsed": false
   },
   "outputs": [
    {
     "data": {
      "text/plain": [
       "polinomio_der (generic function with 1 method)"
      ]
     },
     "execution_count": 29,
     "metadata": {},
     "output_type": "execute_result"
    }
   ],
   "source": [
    "#me parece que el valor obtenido para d_x es la derivada del polinomio evaluada en x\n",
    "function polinomio_der(x)\n",
    "    4*(x^3) + 6*(x^2) - 4*(x) + 2\n",
    "end"
   ]
  },
  {
   "cell_type": "code",
   "execution_count": 30,
   "metadata": {
    "collapsed": false
   },
   "outputs": [
    {
     "name": "stdout",
     "output_type": "stream",
     "text": [
      "2.0\n",
      "2.0\n"
     ]
    }
   ],
   "source": [
    "x=0.0\n",
    "println(polinomio_der(x))\n",
    "println(polinomio(Barra(x)).barra2)"
   ]
  },
  {
   "cell_type": "markdown",
   "metadata": {},
   "source": [
    "#### ¿Y si en lugar de un polinomio utilizas un cociente de polinomios $r(\\bar x)=p(\\bar x)/q(\\bar x)$?"
   ]
  },
  {
   "cell_type": "markdown",
   "metadata": {},
   "source": [
    "Primero lo voy a a hacer por separado:"
   ]
  },
  {
   "cell_type": "code",
   "execution_count": 31,
   "metadata": {
    "collapsed": false
   },
   "outputs": [
    {
     "data": {
      "text/plain": [
       "Barra(-1.0,1.0)"
      ]
     },
     "execution_count": 31,
     "metadata": {},
     "output_type": "execute_result"
    }
   ],
   "source": [
    "function pol_q(x)\n",
    "    x+3\n",
    "end\n",
    "x=0.0\n",
    "polinomio(Barra(x))/pol_q(Barra(x))"
   ]
  },
  {
   "cell_type": "markdown",
   "metadata": {},
   "source": [
    "Ahora lo voy a hacer con una función:"
   ]
  },
  {
   "cell_type": "code",
   "execution_count": 32,
   "metadata": {
    "collapsed": false
   },
   "outputs": [
    {
     "data": {
      "text/plain": [
       "Barra(-1.0,1.0)"
      ]
     },
     "execution_count": 32,
     "metadata": {},
     "output_type": "execute_result"
    }
   ],
   "source": [
    "function pol_r(x)\n",
    "    ((x^4) + 2*(x^3) - 2*(x^2) + 2*(x) - 3)/(x+3)\n",
    "end\n",
    "x=0.0\n",
    "pol_r(Barra(x))"
   ]
  },
  {
   "cell_type": "markdown",
   "metadata": {},
   "source": [
    "Por lo tanto es consistente, notemos además que el primer polinomio se puede escribir como:\n",
    "\n",
    "\\begin{equation}\n",
    "    p(x)=x^4 + 2x^3 - 2x^2 + 2x - 3 = (x^2 +1)(x+3 ) (x -1) \n",
    "\\end{equation}\n",
    "\n",
    "Por lo que el cociente de \n",
    "\\begin{equation}\n",
    "r(x)=p(x)/q(x) = (x^2 +1)(x -1)= x^3-x^2+x-1\n",
    "\\end{equation}\n",
    "\n",
    "De modo que su derivada es \n",
    "\\begin{equation}\n",
    "r'(x)=3x^2-2x+1\n",
    "\\end{equation}"
   ]
  },
  {
   "cell_type": "code",
   "execution_count": 33,
   "metadata": {
    "collapsed": false
   },
   "outputs": [],
   "source": [
    "function pol_r_der(x)\n",
    "    3*(x^2) - 2*(x) + 1\n",
    "end;"
   ]
  },
  {
   "cell_type": "code",
   "execution_count": 34,
   "metadata": {
    "collapsed": false
   },
   "outputs": [
    {
     "name": "stdout",
     "output_type": "stream",
     "text": [
      "2.0\n",
      "2.0\n"
     ]
    }
   ],
   "source": [
    "x=1.0\n",
    "println(pol_r(Barra(x)).barra2)\n",
    "println(pol_r_der(x))"
   ]
  },
  {
   "cell_type": "markdown",
   "metadata": {},
   "source": [
    "Por lo que para el cociente de polinomios se sigue cumpliendo que $d_x$ es la derivada evaluada en $x$"
   ]
  },
  {
   "cell_type": "markdown",
   "metadata": {},
   "source": [
    "#### (iii)"
   ]
  },
  {
   "cell_type": "markdown",
   "metadata": {},
   "source": [
    "#### Pensando en la interpretación que le diste a $d_x$, cómo definirías la acción sobre $\\bar{x}$ de las siguientes funciones:"
   ]
  },
  {
   "cell_type": "markdown",
   "metadata": {},
   "source": [
    "- exp($\\bar x$)\n",
    "- log($\\bar x$)\n",
    "- sin($\\bar x$)\n",
    "- cos($\\bar x$)\n",
    "- tan($\\bar x$)"
   ]
  },
  {
   "cell_type": "code",
   "execution_count": 40,
   "metadata": {
    "collapsed": false
   },
   "outputs": [],
   "source": [
    "import Base.exp #no se porqué pero para agregar otro método a estas funciones tenía que importarlas\n",
    "import Base.log\n",
    "import Base.sin\n",
    "import Base.cos\n",
    "import Base.tan\n",
    "\n",
    "\n",
    "function exp(x::Barra)\n",
    "    z=Barra(0.0,0.0)\n",
    "    z.barra1=exp(x.barra1)\n",
    "    z.barra2=exp(x.barra1)*x.barra2 #la derivada de exp es ella misma\n",
    "    z\n",
    "end\n",
    "\n",
    "function log(x::Barra)\n",
    "    z=Barra(0.0,0.0)\n",
    "    z.barra1=log(x.barra1)\n",
    "    z.barra2=(1/(x.barra1))*x.barra2 #la derivada de log(x) es 1/x\n",
    "    z\n",
    "end\n",
    "\n",
    "function sin(x::Barra)\n",
    "    z=Barra(0.0,0.0)\n",
    "    z.barra1=sin(x.barra1)\n",
    "    z.barra2=cos(x.barra1)*x.barra2 #la derivada de sin(x) es cos(x)\n",
    "    z\n",
    "end\n",
    "\n",
    "function cos(x::Barra)\n",
    "    z=Barra(0.0,0.0)\n",
    "    z.barra1=cos(x.barra1)\n",
    "    z.barra2=-sin(x.barra1)*x.barra2 #la derivada de cos(x) es -sin(x)\n",
    "    z\n",
    "end\n",
    "\n",
    "function tan(x::Barra)\n",
    "    z=Barra(0.0,0.0)\n",
    "    z.barra1=tan(x.barra1)\n",
    "    z.barra2=(1/(cos(x.barra1))^2)*x.barra2 #la derivada de tan(x) es 1/(cos(x))^2\n",
    "    z\n",
    "end;"
   ]
  },
  {
   "cell_type": "code",
   "execution_count": 41,
   "metadata": {
    "collapsed": false
   },
   "outputs": [
    {
     "name": "stdout",
     "output_type": "stream",
     "text": [
      "Barra(2.718281828459045,2.718281828459045)\n",
      "Barra(0.0,1.0)\n",
      "Barra(0.8414709848078965,0.5403023058681398)\n",
      "Barra(0.5403023058681398,-0.8414709848078965)\n",
      "Barra(1.5574077246549023,3.425518820814759)\n"
     ]
    }
   ],
   "source": [
    "x=Barra(1)\n",
    "println(exp(x))\n",
    "println(log(x))\n",
    "println(sin(x))\n",
    "println(cos(x))\n",
    "println(tan(x))"
   ]
  },
  {
   "cell_type": "code",
   "execution_count": 42,
   "metadata": {
    "collapsed": false
   },
   "outputs": [
    {
     "data": {
      "text/plain": [
       "Barra(2.0,1.0)"
      ]
     },
     "execution_count": 42,
     "metadata": {},
     "output_type": "execute_result"
    }
   ],
   "source": [
    "x = Barra(2.0)"
   ]
  },
  {
   "cell_type": "code",
   "execution_count": 43,
   "metadata": {
    "collapsed": false
   },
   "outputs": [
    {
     "data": {
      "text/plain": [
       "Barra(-0.5440211108893698,-5.873500703535167)"
      ]
     },
     "execution_count": 43,
     "metadata": {},
     "output_type": "execute_result"
    }
   ],
   "source": [
    "sin(x^2 + 3*x)"
   ]
  },
  {
   "cell_type": "code",
   "execution_count": 44,
   "metadata": {
    "collapsed": false
   },
   "outputs": [
    {
     "data": {
      "text/plain": [
       "Barra(-0.5175807674647733,-5.025568985012155)"
      ]
     },
     "execution_count": 44,
     "metadata": {},
     "output_type": "execute_result"
    }
   ],
   "source": [
    "sin(sin(x^2 + 3x))"
   ]
  },
  {
   "cell_type": "markdown",
   "metadata": {},
   "source": [
    "#### (iv)"
   ]
  },
  {
   "cell_type": "markdown",
   "metadata": {},
   "source": [
    "#### ¿Cómo podemos definir las cosas en Julia de tal manera que $\\bar v + c$, y las demás posibles operaciones entre una variable compósita y un flotante $c$, tengan sentido?"
   ]
  },
  {
   "cell_type": "markdown",
   "metadata": {},
   "source": [
    "Lo que hice al definir las operaciones más arriba fue convertir $c$ en $\\bar c = (c,0)$ y luego hacer las operaciones"
   ]
  },
  {
   "cell_type": "markdown",
   "metadata": {},
   "source": [
    "# [7]"
   ]
  },
  {
   "cell_type": "markdown",
   "metadata": {},
   "source": [
    "#### En el resto del curso, trataremos con aritmética de intervalos. En este nuevo tipo de aritmética, ocupamos intervalos $[a,b]$ de la recta real, que es el conjunto  \\begin{equation}     [a,b]:= \\{ x:a\\leq x \\leq b \\} \\end{equation}"
   ]
  },
  {
   "cell_type": "markdown",
   "metadata": {},
   "source": [
    "#### (i) Define un tipo composito para representar un intervalo de dos números reales."
   ]
  },
  {
   "cell_type": "code",
   "execution_count": 20,
   "metadata": {
    "collapsed": false
   },
   "outputs": [
    {
     "data": {
      "text/plain": [
       "Interval (constructor with 2 methods)"
      ]
     },
     "execution_count": 20,
     "metadata": {},
     "output_type": "execute_result"
    }
   ],
   "source": [
    "type Interval\n",
    "    a::Float64\n",
    "    b::Float64\n",
    "    \n",
    "    Interval(a::Float64,b::Float64) = ( a>=b ? new(b,a) : new(a,b))\n",
    "end\n",
    "\n",
    "Interval(a,b)=Interval(float64(a),float64(a))"
   ]
  },
  {
   "cell_type": "code",
   "execution_count": 21,
   "metadata": {
    "collapsed": false
   },
   "outputs": [
    {
     "data": {
      "text/html": [
       "2 methods for generic function <b>Interval</b>:<ul><li> Interval(a::<b>Float64</b>,b::<b>Float64</b>) at In[20]:5<li> Interval(a,b) at In[20]:8</ul>"
      ],
      "text/plain": [
       "# 2 methods for generic function \"Interval\":\n",
       "Interval(a::Float64,b::Float64) at In[20]:5\n",
       "Interval(a,b) at In[20]:8"
      ]
     },
     "execution_count": 21,
     "metadata": {},
     "output_type": "execute_result"
    }
   ],
   "source": [
    "methods(Interval)"
   ]
  },
  {
   "cell_type": "code",
   "execution_count": 22,
   "metadata": {
    "collapsed": false
   },
   "outputs": [
    {
     "data": {
      "text/plain": [
       "Interval(11.0,11.0)"
      ]
     },
     "execution_count": 22,
     "metadata": {},
     "output_type": "execute_result"
    }
   ],
   "source": [
    "Interval(11,2)"
   ]
  },
  {
   "cell_type": "code",
   "execution_count": 23,
   "metadata": {
    "collapsed": false
   },
   "outputs": [
    {
     "data": {
      "text/plain": [
       "Interval(0.1,0.1)"
      ]
     },
     "execution_count": 23,
     "metadata": {},
     "output_type": "execute_result"
    }
   ],
   "source": [
    "Interval(\"0.1\",1)"
   ]
  },
  {
   "cell_type": "markdown",
   "metadata": {},
   "source": [
    "#### (ii) ¿Cómo podríamos tener operaciones sensatas sobre los intervalos? La idea básica es que el resultado de la operación sobre dos intervalos contenga los valores posibles resultantes de operar con los miembros de los dos intervalos respectivos."
   ]
  },
  {
   "cell_type": "markdown",
   "metadata": {},
   "source": [
    "Solo tenemos que operar con los extremos de los intervalos, teniendo cuidado de algunos casos particulares, como por ejemplo si el intervalo contiene cero no podemos dividir entre ese intervalo. "
   ]
  },
  {
   "cell_type": "markdown",
   "metadata": {},
   "source": [
    "#### (iii) Implementa estas operaciones, sin tomar en cuenta cuestiones de redondeo."
   ]
  },
  {
   "cell_type": "code",
   "execution_count": 39,
   "metadata": {
    "collapsed": false
   },
   "outputs": [
    {
     "data": {
      "text/plain": [
       "^ (generic function with 49 methods)"
      ]
     },
     "execution_count": 39,
     "metadata": {},
     "output_type": "execute_result"
    }
   ],
   "source": [
    "function +(x::Interval,y::Interval) #defino suma entre intervalos\n",
    "    z=Interval(0.0,1.0)\n",
    "    z.a=x.a+y.a\n",
    "    z.b=x.b+y.b\n",
    "    z\n",
    "end\n",
    "\n",
    "function +(x::Number,y::Interval) #defino suma entre números e intervalos\n",
    "    z=Interval(0.0,1.0)\n",
    "    z.a=x+y.a\n",
    "    z.b=x+y.b\n",
    "    z\n",
    "end\n",
    "function +(y::Interval,x::Number) \n",
    "    x+y\n",
    "end\n",
    "    \n",
    "function -(x::Interval,y::Interval) #defino suma entre intervalos\n",
    "    z=Interval(0.0,1.0)\n",
    "    z.a=x.a-y.b\n",
    "    z.b=x.b-y.a\n",
    "    z\n",
    "end\n",
    "\n",
    "function -(x::Number,y::Interval) #defino resta entre números e intervalos\n",
    "    z=Interval(0.0,1.0)\n",
    "    z.a=x-y.b\n",
    "    z.b=x-y.a\n",
    "    z\n",
    "end\n",
    "function -(y::Interval,x::Number) \n",
    "    z=Interval(0.0,1.0)\n",
    "    z.a=y.a-x\n",
    "    z.b=y.b-x\n",
    "    z\n",
    "end\n",
    "\n",
    "function *(x::Interval,y::Interval) #defino producto entre intervalos\n",
    "    z=Interval(0.0,1.0)\n",
    "    z.a=min(x.a*y.a,x.a*y.b,x.b*y.a,x.b*y.b)\n",
    "    z.b=max(x.a*y.a,x.a*y.b,x.b*y.a,x.b*y.b)\n",
    "    z\n",
    "end\n",
    "\n",
    "function *(x::Number,y::Interval) #defino producto entre número e intervalo\n",
    "    z=Interval(0.0,1.0)\n",
    "    z.a=min(x*y.a,x*y.b)\n",
    "    z.b=max(x*y.a,x*y.b)\n",
    "    z\n",
    "end\n",
    "function *(y::Interval,x::Number)\n",
    "    x*y\n",
    "end\n",
    "\n",
    "function /(x::Interval,y::Interval) #defino división entre intervalos\n",
    "    if y.a<0.0&&y.b>0\n",
    "        error(\"el intervalo divisor no puede contener al cero\")\n",
    "    else\n",
    "        z=Interval(0.0,1.0)\n",
    "        z.a=min(x.a/y.a,x.a/y.b,x.b/y.a,x.b/y.b)\n",
    "        z.b=max(x.a/y.a,x.a/y.b,x.b/y.a,x.b/y.b)\n",
    "        z\n",
    "    end\n",
    "end\n",
    "\n",
    "function /(x::Number,y::Interval) #defino división entre número e intervalo\n",
    "    if y.a<0.0&&y.b>0\n",
    "        error(\"el intervalo divisor no puede contener al cero\")\n",
    "    else\n",
    "        z=Interval(0.0,1.0)\n",
    "        z.a=min(x/y.a,x/y.b)\n",
    "        z.b=max(x/y.a,x/y.b)\n",
    "        z\n",
    "    end\n",
    "end\n",
    "function /(y::Interval,x::Number)\n",
    "    if float64(x)==0.0\n",
    "        error(\"no puedo dividir un intervalo entre cero\")\n",
    "    else\n",
    "        z=Interval(0.0,1.0)\n",
    "        z.a=min(y.a/x,y.b/x)\n",
    "        z.b=max(y.a/x,y.b/x)\n",
    "        z\n",
    "    end\n",
    "end\n",
    "\n",
    "function ^(y::Interval,x::Integer) #defino potencia intervalo^entero\n",
    "    z=Interval(0.0,1.0)\n",
    "    if y.a<0.0&&y.b>0&&x<0\n",
    "        error(\"el intervalo no puede contener al cero con exponentes negativos\")\n",
    "    elseif y.a<0.0&&y.b>0&&x!=0\n",
    "        z.a=min(0,y.a^x,y.b^x)\n",
    "    else\n",
    "        z.a=min(y.a^x,y.b^x)\n",
    "    end\n",
    "    z.b=max(y.a^x,y.b^x)\n",
    "    z\n",
    "end\n",
    "        "
   ]
  },
  {
   "cell_type": "code",
   "execution_count": 40,
   "metadata": {
    "collapsed": false
   },
   "outputs": [
    {
     "name": "stdout",
     "output_type": "stream",
     "text": [
      "a+b=Interval(11.0,16.0)\n",
      "c+a=Interval(3.0,7.0)\n",
      "b-a=Interval(9.0,14.0)\n",
      "a-c=Interval(-5.0,-1.0)\n",
      "a*b=Interval(-13.0,39.0)\n",
      "a*c=Interval(-4.0,12.0)\n",
      "a/b=Interval(-0.08333333333333333,0.25)\n",
      "a/c=Interval(-0.25,0.75)\n",
      "a^2=Interval(0.0,9.0)\n",
      "b^-1=Interval(0.07692307692307693,0.08333333333333333)\n"
     ]
    }
   ],
   "source": [
    "a=Interval(-1,3)\n",
    "b=Interval(12,13)\n",
    "c=4\n",
    "println(\"a+b=\",a+b)\n",
    "println(\"c+a=\",c+a)\n",
    "println(\"b-a=\",b-a)\n",
    "println(\"a-c=\",a-c)\n",
    "println(\"a*b=\",a*b)\n",
    "println(\"a*c=\",a*c)\n",
    "println(\"a/b=\",a/b)\n",
    "println(\"a/c=\",a/c)\n",
    "println(\"a^2=\",a^2)\n",
    "println(\"b^-1=\",b^-1)"
   ]
  },
  {
   "cell_type": "markdown",
   "metadata": {},
   "source": [
    "#### (iv) ¿Cómo nos puede ayudar el redondeo? Impleméntalo."
   ]
  },
  {
   "cell_type": "markdown",
   "metadata": {},
   "source": [
    "Nos puede ayudar para asegurar que el número REAL se encuentra dentro del intervalo de Flotantes."
   ]
  },
  {
   "cell_type": "code",
   "execution_count": 41,
   "metadata": {
    "collapsed": false
   },
   "outputs": [],
   "source": [
    "old=get_rounding(Float64)\n",
    "\n",
    "function +(x::Interval,y::Interval) #defino suma entre intervalos\n",
    "    z=Interval(0.0,1.0)\n",
    "    set_rounding(Float64,RoundDown)\n",
    "    z.a=x.a+y.a\n",
    "    set_rounding(Float64,RoundUp)\n",
    "    z.b=x.b+y.b\n",
    "    z\n",
    "end\n",
    "\n",
    "function +(x::Number,y::Interval) #defino suma entre números e intervalos\n",
    "    z=Interval(0.0,1.0)\n",
    "    set_rounding(Float64,RoundDown)\n",
    "    z.a=x+y.a\n",
    "    set_rounding(Float64,RoundUp)\n",
    "    z.b=x+y.b\n",
    "    z\n",
    "end\n",
    "function +(y::Interval,x::Number) \n",
    "    x+y\n",
    "end\n",
    "    \n",
    "function -(x::Interval,y::Interval) #defino suma entre intervalos\n",
    "    z=Interval(0.0,1.0)\n",
    "    set_rounding(Float64,RoundDown)\n",
    "    z.a=x.a-y.b\n",
    "    set_rounding(Float64,RoundUp)\n",
    "    z.b=x.b-y.a\n",
    "    z\n",
    "end\n",
    "\n",
    "function -(x::Number,y::Interval) #defino resta entre números e intervalos\n",
    "    z=Interval(0.0,1.0)\n",
    "    set_rounding(Float64,RoundDown)\n",
    "    z.a=x-y.b\n",
    "    set_rounding(Float64,RoundUp)\n",
    "    z.b=x-y.a\n",
    "    z\n",
    "end\n",
    "function -(y::Interval,x::Number) \n",
    "    z=Interval(0.0,1.0)\n",
    "    set_rounding(Float64,RoundDown)\n",
    "    z.a=y.a-x\n",
    "    set_rounding(Float64,RoundUp)\n",
    "    z.b=y.b-x\n",
    "    z\n",
    "end\n",
    "\n",
    "function *(x::Interval,y::Interval) #defino producto entre intervalos\n",
    "    z=Interval(0.0,1.0)\n",
    "    set_rounding(Float64,RoundDown)\n",
    "    z.a=min(x.a*y.a,x.a*y.b,x.b*y.a,x.b*y.b)\n",
    "    set_rounding(Float64,RoundUp)\n",
    "    z.b=max(x.a*y.a,x.a*y.b,x.b*y.a,x.b*y.b)\n",
    "    z\n",
    "end\n",
    "\n",
    "function *(x::Number,y::Interval) #defino producto entre número e intervalo\n",
    "    z=Interval(0.0,1.0)\n",
    "    set_rounding(Float64,RoundDown)\n",
    "    z.a=min(x*y.a,x*y.b)\n",
    "    set_rounding(Float64,RoundUp)\n",
    "    z.b=max(x*y.a,x*y.b)\n",
    "    z\n",
    "end\n",
    "function *(y::Interval,x::Number)\n",
    "    x*y\n",
    "end\n",
    "\n",
    "function /(x::Interval,y::Interval) #defino división entre intervalos\n",
    "    if y.a<0.0&&y.b>0\n",
    "        error(\"el intervalo divisor no puede contener al cero\")\n",
    "    else\n",
    "        z=Interval(0.0,1.0)\n",
    "        set_rounding(Float64,RoundDown)\n",
    "        z.a=min(x.a/y.a,x.a/y.b,x.b/y.a,x.b/y.b)\n",
    "        set_rounding(Float64,RoundUp)\n",
    "        z.b=max(x.a/y.a,x.a/y.b,x.b/y.a,x.b/y.b)\n",
    "        z\n",
    "    end\n",
    "end\n",
    "\n",
    "function /(x::Number,y::Interval) #defino división entre número e intervalo\n",
    "    if y.a<0.0&&y.b>0\n",
    "        error(\"el intervalo divisor no puede contener al cero\")\n",
    "    else\n",
    "        z=Interval(0.0,1.0)\n",
    "        set_rounding(Float64,RoundDown)\n",
    "        z.a=min(x/y.a,x/y.b)\n",
    "        set_rounding(Float64,RoundUp)\n",
    "        z.b=max(x/y.a,x/y.b)\n",
    "        z\n",
    "    end\n",
    "end\n",
    "function /(y::Interval,x::Number)\n",
    "    if float64(x)==0.0\n",
    "        error(\"no puedo dividir un intervalo entre cero\")\n",
    "    else\n",
    "        z=Interval(0.0,1.0)\n",
    "        set_rounding(Float64,RoundDown)\n",
    "        z.a=min(y.a/x,y.b/x)\n",
    "        set_rounding(Float64,RoundUp)\n",
    "        z.b=max(y.a/x,y.b/x)\n",
    "        z\n",
    "    end\n",
    "end\n",
    "\n",
    "function ^(y::Interval,x::Integer) #defino potencia intervalo^entero\n",
    "    z=Interval(0.0,1.0)\n",
    "    set_rounding(Float64,RoundDown)\n",
    "    if y.a<0.0&&y.b>0&&x<0\n",
    "        error(\"el intervalo no puede contener al cero con exponentes negativos\")\n",
    "    elseif y.a<0.0&&y.b>0&&x!=0\n",
    "        z.a=min(0,y.a^x,y.b^x)\n",
    "    else\n",
    "        z.a=min(y.a^x,y.b^x)\n",
    "    end\n",
    "    set_rounding(Float64,RoundUp)\n",
    "    z.b=max(y.a^x,y.b^x)\n",
    "    z\n",
    "end\n",
    "\n",
    "set_rounding(Float64,old);"
   ]
  },
  {
   "cell_type": "code",
   "execution_count": 42,
   "metadata": {
    "collapsed": false
   },
   "outputs": [
    {
     "name": "stdout",
     "output_type": "stream",
     "text": [
      "a+b=Interval(11.0,16.0)\n",
      "c+a=Interval(3.0,7.0)\n",
      "b-a=Interval(9.0,14.0)\n",
      "a-c=Interval(-5.0,-1.0)\n",
      "a*b=Interval(-13.0,39.0)\n",
      "a*c=Interval(-4.0,12.0)\n",
      "a/b=Interval(-0.08333333333333334,0.25)\n",
      "a/c=Interval(-0.25,0.75)\n",
      "a^2=Interval(0.0,9.0)\n",
      "b^-1=Interval(0.07692307692307691,0.08333333333333334)\n"
     ]
    }
   ],
   "source": [
    "a=Interval(-1,3)\n",
    "b=Interval(12,13)\n",
    "c=4\n",
    "println(\"a+b=\",a+b)\n",
    "println(\"c+a=\",c+a)\n",
    "println(\"b-a=\",b-a)\n",
    "println(\"a-c=\",a-c)\n",
    "println(\"a*b=\",a*b)\n",
    "println(\"a*c=\",a*c)\n",
    "println(\"a/b=\",a/b)\n",
    "println(\"a/c=\",a/c)\n",
    "println(\"a^2=\",a^2)\n",
    "println(\"b^-1=\",b^-1)"
   ]
  },
  {
   "cell_type": "code",
   "execution_count": 43,
   "metadata": {
    "collapsed": false
   },
   "outputs": [],
   "source": []
  },
  {
   "cell_type": "code",
   "execution_count": null,
   "metadata": {
    "collapsed": false
   },
   "outputs": [],
   "source": []
  },
  {
   "cell_type": "code",
   "execution_count": null,
   "metadata": {
    "collapsed": false
   },
   "outputs": [],
   "source": []
  },
  {
   "cell_type": "code",
   "execution_count": null,
   "metadata": {
    "collapsed": false
   },
   "outputs": [],
   "source": []
  }
 ],
 "metadata": {
  "kernelspec": {
   "display_name": "Julia 0.3.6",
   "language": "julia",
   "name": "julia 0.3"
  },
  "language_info": {
   "name": "julia",
   "version": "0.3.7"
  }
 },
 "nbformat": 4,
 "nbformat_minor": 0
}
