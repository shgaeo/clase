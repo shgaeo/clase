{
 "metadata": {
  "language": "Julia",
  "name": "",
  "signature": "sha256:c3688249ef25d428aa3c074c467927c4cd6d32570af993bd493cca8ebf11cd76"
 },
 "nbformat": 3,
 "nbformat_minor": 0,
 "worksheets": [
  {
   "cells": [
    {
     "cell_type": "code",
     "collapsed": false,
     "input": [],
     "language": "python",
     "metadata": {},
     "outputs": [],
     "prompt_number": 2
    },
    {
     "cell_type": "heading",
     "level": 1,
     "metadata": {},
     "source": [
      "[1]"
     ]
    },
    {
     "cell_type": "heading",
     "level": 4,
     "metadata": {},
     "source": [
      "(i) \u00bfC\u00f3mo representar\u00edas a una part\u00edcula en 1D con posici\u00f3n, velocidad y masa en Julia?"
     ]
    },
    {
     "cell_type": "markdown",
     "metadata": {},
     "source": [
      "Lo representar\u00eda con un vector, donde la primer entrada fuera la posici\u00f3n, la segunda la velocidad y la tercera la masa"
     ]
    },
    {
     "cell_type": "code",
     "collapsed": false,
     "input": [
      "x=[0.0,2.0,100.0] #part\u00edcula en pos=0, con vel=2 y masa=100"
     ],
     "language": "python",
     "metadata": {},
     "outputs": [
      {
       "metadata": {},
       "output_type": "pyout",
       "prompt_number": 4,
       "text": [
        "3-element Array{Float64,1}:\n",
        "   0.0\n",
        "   2.0\n",
        " 100.0"
       ]
      }
     ],
     "prompt_number": 4
    },
    {
     "cell_type": "heading",
     "level": 4,
     "metadata": {},
     "source": [
      "(ii) \u00bfC\u00f3mo mover\u00edas la part\u00edcula en un paso \u03b4t?"
     ]
    },
    {
     "cell_type": "markdown",
     "metadata": {},
     "source": [
      "x+[\u03b4pos,\u03b4vel,\u03b4mas]"
     ]
    },
    {
     "cell_type": "heading",
     "level": 4,
     "metadata": {},
     "source": [
      "(iii) \u00bfSi necesitas otra part\u00edcula con las mismas propiedades, qu\u00e9 har\u00edas?"
     ]
    },
    {
     "cell_type": "code",
     "collapsed": false,
     "input": [
      "y=similar(x)"
     ],
     "language": "python",
     "metadata": {},
     "outputs": [
      {
       "metadata": {},
       "output_type": "pyout",
       "prompt_number": 5,
       "text": [
        "3-element Array{Float64,1}:\n",
        " 8.67726e-317\n",
        " 8.67571e-317\n",
        " 8.67571e-317"
       ]
      }
     ],
     "prompt_number": 5
    },
    {
     "cell_type": "heading",
     "level": 4,
     "metadata": {},
     "source": [
      "(iv) Para N tales part\u00edculas, \u00bfqu\u00e9 podr\u00edas hacer?"
     ]
    },
    {
     "cell_type": "code",
     "collapsed": false,
     "input": [
      "#podr\u00eda hacer un arreglo en donde la primer entrada sea el n\u00famero de particula y la segunda la propiedad\n",
      "N=5\n",
      "z=zeros(N,length(x)) "
     ],
     "language": "python",
     "metadata": {},
     "outputs": [
      {
       "metadata": {},
       "output_type": "pyout",
       "prompt_number": 6,
       "text": [
        "5x3 Array{Float64,2}:\n",
        " 0.0  0.0  0.0\n",
        " 0.0  0.0  0.0\n",
        " 0.0  0.0  0.0\n",
        " 0.0  0.0  0.0\n",
        " 0.0  0.0  0.0"
       ]
      }
     ],
     "prompt_number": 6
    },
    {
     "cell_type": "code",
     "collapsed": false,
     "input": [
      "#O mejor a\u00fan podr\u00eda crear un vector cuyas entradas fueran del tipo arreglo\n",
      "z=Array{Float64,1}[]"
     ],
     "language": "python",
     "metadata": {},
     "outputs": [
      {
       "metadata": {},
       "output_type": "pyout",
       "prompt_number": 7,
       "text": [
        "0-element Array{Array{Float64,1},1}"
       ]
      }
     ],
     "prompt_number": 7
    },
    {
     "cell_type": "code",
     "collapsed": false,
     "input": [
      "#Y agregar las N part\u00edculas:\n",
      "N=5\n",
      "for i=1:N\n",
      "    push!(z,similar(x))\n",
      "end\n",
      "z"
     ],
     "language": "python",
     "metadata": {},
     "outputs": [
      {
       "metadata": {},
       "output_type": "pyout",
       "prompt_number": 8,
       "text": [
        "5-element Array{Array{Float64,1},1}:\n",
        " [7.7275e-316,8.67515e-317,8.67565e-317] \n",
        " [7.59147e-316,3.0735e-316,3.0735e-316]  \n",
        " [9.43519e-317,8.67039e-317,8.67565e-317]\n",
        " [3.34865e-316,3.34864e-316,3.34864e-316]\n",
        " [9.43519e-317,8.67039e-317,8.67565e-317]"
       ]
      }
     ],
     "prompt_number": 8
    },
    {
     "cell_type": "heading",
     "level": 1,
     "metadata": {},
     "source": [
      "[2]"
     ]
    },
    {
     "cell_type": "heading",
     "level": 4,
     "metadata": {},
     "source": [
      "Define un tipo que se llama `Particula`, que tiene variables para la posici\u00f3n, velocidad y masa en una dimensi\u00f3n."
     ]
    },
    {
     "cell_type": "code",
     "collapsed": false,
     "input": [
      "type Particula\n",
      "    pos::Float64\n",
      "    vel::Float64\n",
      "    masa::Float64\n",
      "end"
     ],
     "language": "python",
     "metadata": {},
     "outputs": [],
     "prompt_number": 9
    },
    {
     "cell_type": "code",
     "collapsed": false,
     "input": [
      "Particula(1,2,33,3)"
     ],
     "language": "python",
     "metadata": {},
     "outputs": [
      {
       "ename": "LoadError",
       "evalue": "`Particula` has no method matching Particula(::Int64, ::Int64, ::Int64, ::Int64)\nwhile loading In[10], in expression starting on line 1",
       "output_type": "pyerr",
       "traceback": [
        "`Particula` has no method matching Particula(::Int64, ::Int64, ::Int64, ::Int64)\nwhile loading In[10], in expression starting on line 1",
        ""
       ]
      }
     ],
     "prompt_number": 10
    },
    {
     "cell_type": "heading",
     "level": 1,
     "metadata": {},
     "source": [
      "[3]"
     ]
    },
    {
     "cell_type": "heading",
     "level": 4,
     "metadata": {},
     "source": [
      "Experimenta para ver c\u00f3mo crear un objeto de tipo `Particula`. [Pista: piensa en funciones]"
     ]
    },
    {
     "cell_type": "markdown",
     "metadata": {},
     "source": [
      "Lo siguiente es para conocer un poco `type`"
     ]
    },
    {
     "cell_type": "code",
     "collapsed": false,
     "input": [
      "methods(Particula)"
     ],
     "language": "python",
     "metadata": {},
     "outputs": [
      {
       "html": [
        "2 methods for generic function <b>Particula</b>:<ul><li> Particula(pos::<b>Float64</b>,vel::<b>Float64</b>,masa::<b>Float64</b>)<li> Particula(pos,vel,masa)</ul>"
       ],
       "metadata": {},
       "output_type": "pyout",
       "prompt_number": 28,
       "text": [
        "# 2 methods for generic function \"Particula\":\n",
        "Particula(pos::Float64,vel::Float64,masa::Float64)\n",
        "Particula(pos,vel,masa)"
       ]
      }
     ],
     "prompt_number": 28
    },
    {
     "cell_type": "code",
     "collapsed": false,
     "input": [
      "part1=Particula(0.0,2.0,100.0)"
     ],
     "language": "python",
     "metadata": {},
     "outputs": [
      {
       "metadata": {},
       "output_type": "pyout",
       "prompt_number": 11,
       "text": [
        "Particula(0.0,2.0,100.0)"
       ]
      }
     ],
     "prompt_number": 11
    },
    {
     "cell_type": "code",
     "collapsed": false,
     "input": [
      "names(part1)"
     ],
     "language": "python",
     "metadata": {},
     "outputs": [
      {
       "metadata": {},
       "output_type": "pyout",
       "prompt_number": 12,
       "text": [
        "3-element Array{Symbol,1}:\n",
        " :pos \n",
        " :vel \n",
        " :masa"
       ]
      }
     ],
     "prompt_number": 12
    },
    {
     "cell_type": "code",
     "collapsed": false,
     "input": [
      "typeof(part1)"
     ],
     "language": "python",
     "metadata": {},
     "outputs": [
      {
       "metadata": {},
       "output_type": "pyout",
       "prompt_number": 13,
       "text": [
        "Particula (constructor with 2 methods)"
       ]
      }
     ],
     "prompt_number": 13
    },
    {
     "cell_type": "code",
     "collapsed": false,
     "input": [
      "println(part1.pos)\n",
      "println(part1.vel)\n",
      "println(part1.masa)"
     ],
     "language": "python",
     "metadata": {},
     "outputs": [
      {
       "output_type": "stream",
       "stream": "stdout",
       "text": [
        "0.0"
       ]
      },
      {
       "output_type": "stream",
       "stream": "stdout",
       "text": [
        "\n",
        "2.0\n",
        "100.0\n"
       ]
      }
     ],
     "prompt_number": 14
    },
    {
     "cell_type": "code",
     "collapsed": false,
     "input": [
      "part1.pos=10*part1.vel\n",
      "println(part1.pos)\n",
      "println(part1.vel)\n",
      "println(part1.masa)"
     ],
     "language": "python",
     "metadata": {},
     "outputs": [
      {
       "output_type": "stream",
       "stream": "stdout",
       "text": [
        "20"
       ]
      },
      {
       "output_type": "stream",
       "stream": "stdout",
       "text": [
        ".0\n",
        "2.0\n",
        "100.0\n"
       ]
      }
     ],
     "prompt_number": 15
    },
    {
     "cell_type": "heading",
     "level": 1,
     "metadata": {},
     "source": [
      "[4]"
     ]
    },
    {
     "cell_type": "heading",
     "level": 4,
     "metadata": {},
     "source": [
      "\u00bfC\u00f3mo podemos definir una funci\u00f3n `mover` que mueve la part\u00edcula en un paso de tiempo `\u03b4t`? [Pista: Para especificar que un objeto t es de tipo `MiTipo`, usamos la sintaxis `t::MiTipo`.]"
     ]
    },
    {
     "cell_type": "code",
     "collapsed": false,
     "input": [
      "function mover!(x::Particula,\u03b4t::Float64) #el ! es porque cambia el valor del argumento (consejo julia)\n",
      "    x.pos+=\u03b4t*x.vel #estoy pensando que la part\u00edcula est\u00e1 libre de aceleraci\u00f3n.\n",
      "    x\n",
      "end"
     ],
     "language": "python",
     "metadata": {},
     "outputs": [
      {
       "metadata": {},
       "output_type": "pyout",
       "prompt_number": 16,
       "text": [
        "mover! (generic function with 1 method)"
       ]
      }
     ],
     "prompt_number": 16
    },
    {
     "cell_type": "code",
     "collapsed": false,
     "input": [
      "println(part1)\n",
      "mover!(part1,10.0)"
     ],
     "language": "python",
     "metadata": {},
     "outputs": [
      {
       "output_type": "stream",
       "stream": "stdout",
       "text": [
        "Particula("
       ]
      },
      {
       "output_type": "stream",
       "stream": "stdout",
       "text": [
        "20.0,2.0,100.0)\n"
       ]
      },
      {
       "metadata": {},
       "output_type": "pyout",
       "prompt_number": 17,
       "text": [
        "Particula(40.0,2.0,100.0)"
       ]
      }
     ],
     "prompt_number": 17
    },
    {
     "cell_type": "heading",
     "level": 1,
     "metadata": {},
     "source": [
      "[5]"
     ]
    },
    {
     "cell_type": "markdown",
     "metadata": {},
     "source": [
      "El que sigue era la primera opci\u00f3n que yo hice, pero me dijeron que era mejor hacer lo que pongo despu\u00e9s"
     ]
    },
    {
     "cell_type": "markdown",
     "metadata": {},
     "source": [
      "type Gas #El objeto gas representa N part\u00edculas, de modo que 'pos', 'vel' y 'masa' son vectores de tama\u00f1o N\n",
      "            #en los cuales misma posici\u00f3n indica misma part\u00edcula\n",
      "    pos::Array{Float64,1}\n",
      "    vel::Array{Float64,1}\n",
      "    masa::Array{Float64,1}\n",
      "    \n",
      "    #la parte siguiente es para asegurar que el tama\u00f1o de 'pos', 'vel' y 'masa' sea el mismo.\n",
      "    #La idea la saqu\u00e9 de internet en donde usan el 'ternary operator', en este caso podr\u00eda escribirse as\u00ed\n",
      "    #Gas(pos,vel,masa)= (length(pos)!=length(vel) || length(vel)!=length(masa) ?\n",
      "    #                    error(\"Deben ser tres arreglos del mismo tama\u00f1o\") : new(pos,vel,masa))\n",
      "    Gas(pos,vel,masa)=      \n",
      "    if length(pos)!=length(vel) || length(vel)!=length(masa)\n",
      "        error(\"Deben ser tres arreglos del mismo tama\u00f1o\")\n",
      "    else\n",
      "        new(pos,vel,masa)\n",
      "    end\n",
      "end    "
     ]
    },
    {
     "cell_type": "code",
     "collapsed": false,
     "input": [
      "type Gas #El objeto gas representa N part\u00edculas, de modo que la primer entrada es el n\u00famero de part\u00edculas y \n",
      "            #la segunda entrada es un vector cuyas entradas son elementos tipo Particula\n",
      "    n::Int64\n",
      "    particulas::Vector{Particula}\n",
      "    \n",
      "    #la parte siguiente es para asegurar que el n coincide con el tama\u00f1o del vector\n",
      "    #La idea la saqu\u00e9 de internet en donde usan el 'ternary operator' a ? b : c (if a then b, else c)\n",
      "    Gas(n::Int64,particulas::Vector{Particula})=\n",
      "    (length(particulas)!=n ? error(\"n es el n\u00famero de part\u00edculas\") : new(n::Int64,particulas::Vector{Particula}))\n",
      "end    "
     ],
     "language": "python",
     "metadata": {},
     "outputs": [],
     "prompt_number": 18
    },
    {
     "cell_type": "code",
     "collapsed": false,
     "input": [
      "partgas=Gas(3,[part1,part1])"
     ],
     "language": "python",
     "metadata": {},
     "outputs": [
      {
       "ename": "LoadError",
       "evalue": "n es el n\u00famero de part\u00edculas\nwhile loading In[19], in expression starting on line 1",
       "output_type": "pyerr",
       "traceback": [
        "n es el n\u00famero de part\u00edculas\nwhile loading In[19], in expression starting on line 1",
        "",
        " in Gas at In[18]:8"
       ]
      }
     ],
     "prompt_number": 19
    },
    {
     "cell_type": "code",
     "collapsed": false,
     "input": [
      "part1=Particula(0.0,2.0,100.0)\n",
      "part2=Particula(10.0,1.0,100.0)\n",
      "partgas=Gas(2,[part1,part2])"
     ],
     "language": "python",
     "metadata": {},
     "outputs": [
      {
       "metadata": {},
       "output_type": "pyout",
       "prompt_number": 20,
       "text": [
        "Gas(2,[Particula(0.0,2.0,100.0),Particula(10.0,1.0,100.0)])"
       ]
      }
     ],
     "prompt_number": 20
    },
    {
     "cell_type": "code",
     "collapsed": false,
     "input": [
      "#ahora defino Gas para unicamente un arreglo\n",
      "Gas(particulas::Vector{Particula})=Gas(length(particulas),particulas)"
     ],
     "language": "python",
     "metadata": {},
     "outputs": [
      {
       "metadata": {},
       "output_type": "pyout",
       "prompt_number": 21,
       "text": [
        "Gas (constructor with 2 methods)"
       ]
      }
     ],
     "prompt_number": 21
    },
    {
     "cell_type": "code",
     "collapsed": false,
     "input": [
      "methods(Gas)"
     ],
     "language": "python",
     "metadata": {},
     "outputs": [
      {
       "html": [
        "2 methods for generic function <b>Gas</b>:<ul><li> Gas(n::<b>Int64</b>,particulas::<b>Array{Particula,1}</b>) at In[18]:8<li> Gas(particulas::<b>Array{Particula,1}</b>) at In[21]:2</ul>"
       ],
       "metadata": {},
       "output_type": "pyout",
       "prompt_number": 22,
       "text": [
        "# 2 methods for generic function \"Gas\":\n",
        "Gas(n::Int64,particulas::Array{Particula,1}) at In[18]:8\n",
        "Gas(particulas::Array{Particula,1}) at In[21]:2"
       ]
      }
     ],
     "prompt_number": 22
    },
    {
     "cell_type": "code",
     "collapsed": false,
     "input": [
      "function mover!(x::Gas,\u03b4t::Float64) #el ! es porque cambia el valor del argumento (consejo julia)\n",
      "    for n=1:x.n #estoy pensando que las part\u00edculas est\u00e1n libres de aceleraci\u00f3n.\n",
      "        mover!(x.particulas[n],\u03b4t)\n",
      "    end\n",
      "    x\n",
      "end"
     ],
     "language": "python",
     "metadata": {},
     "outputs": [
      {
       "metadata": {},
       "output_type": "pyout",
       "prompt_number": 23,
       "text": [
        "mover! (generic function with 2 methods)"
       ]
      }
     ],
     "prompt_number": 23
    },
    {
     "cell_type": "code",
     "collapsed": false,
     "input": [
      "methods(mover!)"
     ],
     "language": "python",
     "metadata": {},
     "outputs": [
      {
       "html": [
        "2 methods for generic function <b>mover!</b>:<ul><li> mover!(x::<b>Particula</b>,\u03b4t::<b>Float64</b>) at In[16]:2<li> mover!(x::<b>Gas</b>,\u03b4t::<b>Float64</b>) at In[23]:2</ul>"
       ],
       "metadata": {},
       "output_type": "pyout",
       "prompt_number": 24,
       "text": [
        "# 2 methods for generic function \"mover!\":\n",
        "mover!(x::Particula,\u03b4t::Float64) at In[16]:2\n",
        "mover!(x::Gas,\u03b4t::Float64) at In[23]:2"
       ]
      }
     ],
     "prompt_number": 24
    },
    {
     "cell_type": "code",
     "collapsed": false,
     "input": [
      "println(partgas)\n",
      "mover!(partgas,10.0)"
     ],
     "language": "python",
     "metadata": {},
     "outputs": [
      {
       "output_type": "stream",
       "stream": "stdout",
       "text": [
        "Gas("
       ]
      },
      {
       "output_type": "stream",
       "stream": "stdout",
       "text": [
        "2,[Particula(0.0,2.0,100.0),Particula(10.0,1.0,100.0)])\n"
       ]
      },
      {
       "metadata": {},
       "output_type": "pyout",
       "prompt_number": 25,
       "text": [
        "Gas(2,[Particula(20.0,2.0,100.0),Particula(20.0,1.0,100.0)])"
       ]
      }
     ],
     "prompt_number": 25
    },
    {
     "cell_type": "code",
     "collapsed": false,
     "input": [
      "partgas"
     ],
     "language": "python",
     "metadata": {},
     "outputs": [
      {
       "metadata": {},
       "output_type": "pyout",
       "prompt_number": 26,
       "text": [
        "Gas(2,[Particula(20.0,2.0,100.0),Particula(20.0,1.0,100.0)])"
       ]
      }
     ],
     "prompt_number": 26
    },
    {
     "cell_type": "heading",
     "level": 1,
     "metadata": {},
     "source": [
      "[6]"
     ]
    },
    {
     "cell_type": "heading",
     "level": 4,
     "metadata": {},
     "source": [
      "(i)"
     ]
    },
    {
     "cell_type": "code",
     "collapsed": false,
     "input": [
      "type Barra\n",
      "    barra1::Float64\n",
      "    barra2::Float64\n",
      "end\n",
      "\n",
      "Barra(barra1)= Barra(barra1,1.0)"
     ],
     "language": "python",
     "metadata": {},
     "outputs": [
      {
       "metadata": {},
       "output_type": "pyout",
       "prompt_number": 37,
       "text": [
        "Barra (constructor with 3 methods)"
       ]
      }
     ],
     "prompt_number": 37
    },
    {
     "cell_type": "code",
     "collapsed": false,
     "input": [
      "function +(x::Barra,y::Barra) #defino la suma entre barras\n",
      "    z=Barra(0.0,0.0)\n",
      "    z.barra1=x.barra1+y.barra1\n",
      "    z.barra2=x.barra2+y.barra2\n",
      "    z\n",
      "end\n",
      "\n",
      "function +(x::Number,y::Barra) #defino la suma n\u00famero + barra\n",
      "    Barra(x,0.0)+y\n",
      "end\n",
      "function +(y::Barra,x::Number) #defino la suma barra + n\u00famero\n",
      "    x+y\n",
      "end\n",
      "\n",
      "function -(x::Barra,y::Barra) #defino la resta\n",
      "    z=Barra(0.0,0.0)\n",
      "    z.barra1=x.barra1-y.barra1\n",
      "    z.barra2=x.barra2-y.barra2\n",
      "    z\n",
      "end\n",
      "\n",
      "function -(x::Number,y::Barra) #defino la resta n\u00famero - barra\n",
      "    Barra(x,0.0)-y\n",
      "end\n",
      "function -(y::Barra,x::Number) #defino la suma barra - n\u00famero\n",
      "    y-Barra(x,0.0)\n",
      "end\n",
      "\n",
      "function *(x::Barra,y::Barra) #defino producto entre barras\n",
      "    z=Barra(0.0,0.0)\n",
      "    z.barra1=x.barra1*y.barra1\n",
      "    z.barra2=x.barra1*y.barra2+x.barra2*y.barra1\n",
      "    z\n",
      "end\n",
      "\n",
      "function *(x::Number,y::Barra) #defino producto barra por n\u00famero\n",
      "    Barra(x,0.0)*y\n",
      "end\n",
      "function *(y::Barra,x::Number) #defino producto barra por n\u00famero\n",
      "    x*y\n",
      "end\n",
      "\n",
      "function /(x::Barra,y::Barra) #defino divisi\u00f3n\n",
      "    z=Barra(0.0,0.0)\n",
      "    z.barra1=x.barra1/y.barra1\n",
      "    z.barra2=(x.barra2*y.barra1-x.barra1*y.barra2)/y.barra1^2\n",
      "    z\n",
      "end\n",
      "\n",
      "function ^(x::Barra,y::Float64) #defino potencia para flotantes\n",
      "    z=Barra(0.0,0.0)\n",
      "    z.barra1=x.barra1^y\n",
      "    z.barra2=y*x.barra1^(y-1)*x.barra2\n",
      "    z\n",
      "end\n",
      "function ^(x::Barra,y::Int64) #defino potencia para enteros\n",
      "    x^float64(y)\n",
      "end\n",
      "function ^(x::Barra,y::Rational{Int64}) #defino potencia para racionales\n",
      "    x^float64(y)\n",
      "end\n",
      ";"
     ],
     "language": "python",
     "metadata": {},
     "outputs": [],
     "prompt_number": 38
    },
    {
     "cell_type": "code",
     "collapsed": false,
     "input": [
      "a=Barra(1,1)\n",
      "b=Barra(2,3)\n",
      "println(a+b)\n",
      "println(a-b)\n",
      "println(a*b)\n",
      "println(a/b)\n",
      "println(b^2)"
     ],
     "language": "python",
     "metadata": {},
     "outputs": [
      {
       "output_type": "stream",
       "stream": "stdout",
       "text": [
        "Barra("
       ]
      },
      {
       "output_type": "stream",
       "stream": "stdout",
       "text": [
        "3.0,4.0)\n",
        "Barra(-1.0,-2.0)\n",
        "Barra(2.0,5.0)\n",
        "Barra(0.5,-0.25)\n",
        "Barra(4.0,12.0)\n"
       ]
      }
     ],
     "prompt_number": 39
    },
    {
     "cell_type": "code",
     "collapsed": false,
     "input": [],
     "language": "python",
     "metadata": {},
     "outputs": [],
     "prompt_number": 26
    },
    {
     "cell_type": "heading",
     "level": 4,
     "metadata": {},
     "source": [
      "(ii)"
     ]
    },
    {
     "cell_type": "heading",
     "level": 4,
     "metadata": {},
     "source": [
      "Define un polinomio $p(x)$ cuya variable independiente es $x$."
     ]
    },
    {
     "cell_type": "code",
     "collapsed": false,
     "input": [
      "function polinomio(x)\n",
      "    (x^4) + 2*(x^3) - 2*(x^2) + 2*(x) - 3\n",
      "end"
     ],
     "language": "python",
     "metadata": {},
     "outputs": [
      {
       "metadata": {},
       "output_type": "pyout",
       "prompt_number": 27,
       "text": [
        "polinomio (generic function with 1 method)"
       ]
      }
     ],
     "prompt_number": 27
    },
    {
     "cell_type": "heading",
     "level": 4,
     "metadata": {},
     "source": [
      "Eval\u00faa el polinomio en $\\bar x$ (variable independiente $x$), en $x0=0$."
     ]
    },
    {
     "cell_type": "code",
     "collapsed": false,
     "input": [
      "x=0.0\n",
      "polinomio(Barra(x))"
     ],
     "language": "python",
     "metadata": {},
     "outputs": [
      {
       "metadata": {},
       "output_type": "pyout",
       "prompt_number": 28,
       "text": [
        "Barra(-3.0,2.0)"
       ]
      }
     ],
     "prompt_number": 28
    },
    {
     "cell_type": "heading",
     "level": 4,
     "metadata": {},
     "source": [
      "\u00bfQu\u00e9 interpretaci\u00f3n tiene el valor obtenido para $d_x$?"
     ]
    },
    {
     "cell_type": "code",
     "collapsed": false,
     "input": [
      "#me parece que el valor obtenido para d_x es la derivada del polinomio evaluada en x\n",
      "function polinomio_der(x)\n",
      "    4*(x^3) + 6*(x^2) - 4*(x) + 2\n",
      "end"
     ],
     "language": "python",
     "metadata": {},
     "outputs": [
      {
       "metadata": {},
       "output_type": "pyout",
       "prompt_number": 29,
       "text": [
        "polinomio_der (generic function with 1 method)"
       ]
      }
     ],
     "prompt_number": 29
    },
    {
     "cell_type": "code",
     "collapsed": false,
     "input": [
      "x=0.0\n",
      "println(polinomio_der(x))\n",
      "println(polinomio(Barra(x)).barra2)"
     ],
     "language": "python",
     "metadata": {},
     "outputs": [
      {
       "output_type": "stream",
       "stream": "stdout",
       "text": [
        "2.0"
       ]
      },
      {
       "output_type": "stream",
       "stream": "stdout",
       "text": [
        "\n",
        "2.0\n"
       ]
      }
     ],
     "prompt_number": 30
    },
    {
     "cell_type": "heading",
     "level": 4,
     "metadata": {},
     "source": [
      "\u00bfY si en lugar de un polinomio utilizas un cociente de polinomios $r(\\bar x)=p(\\bar x)/q(\\bar x)$?"
     ]
    },
    {
     "cell_type": "markdown",
     "metadata": {},
     "source": [
      "Primero lo voy a a hacer por separado:"
     ]
    },
    {
     "cell_type": "code",
     "collapsed": false,
     "input": [
      "function pol_q(x)\n",
      "    x+3\n",
      "end\n",
      "x=0.0\n",
      "polinomio(Barra(x))/pol_q(Barra(x))"
     ],
     "language": "python",
     "metadata": {},
     "outputs": [
      {
       "metadata": {},
       "output_type": "pyout",
       "prompt_number": 31,
       "text": [
        "Barra(-1.0,1.0)"
       ]
      }
     ],
     "prompt_number": 31
    },
    {
     "cell_type": "markdown",
     "metadata": {},
     "source": [
      "Ahora lo voy a hacer con una funci\u00f3n:"
     ]
    },
    {
     "cell_type": "code",
     "collapsed": false,
     "input": [
      "function pol_r(x)\n",
      "    ((x^4) + 2*(x^3) - 2*(x^2) + 2*(x) - 3)/(x+3)\n",
      "end\n",
      "x=0.0\n",
      "pol_r(Barra(x))"
     ],
     "language": "python",
     "metadata": {},
     "outputs": [
      {
       "metadata": {},
       "output_type": "pyout",
       "prompt_number": 32,
       "text": [
        "Barra(-1.0,1.0)"
       ]
      }
     ],
     "prompt_number": 32
    },
    {
     "cell_type": "markdown",
     "metadata": {},
     "source": [
      "Por lo tanto es consistente, notemos adem\u00e1s que el primer polinomio se puede escribir como:\n",
      "\n",
      "\\begin{equation}\n",
      "    p(x)=x^4 + 2x^3 - 2x^2 + 2x - 3 = (x^2 +1)(x+3 ) (x -1) \n",
      "\\end{equation}\n",
      "\n",
      "Por lo que el cociente de \n",
      "\\begin{equation}\n",
      "r(x)=p(x)/q(x) = (x^2 +1)(x -1)= x^3-x^2+x-1\n",
      "\\end{equation}\n",
      "\n",
      "De modo que su derivada es \n",
      "\\begin{equation}\n",
      "r'(x)=3x^2-2x+1\n",
      "\\end{equation}"
     ]
    },
    {
     "cell_type": "code",
     "collapsed": false,
     "input": [
      "function pol_r_der(x)\n",
      "    3*(x^2) - 2*(x) + 1\n",
      "end;"
     ],
     "language": "python",
     "metadata": {},
     "outputs": [],
     "prompt_number": 33
    },
    {
     "cell_type": "code",
     "collapsed": false,
     "input": [
      "x=1.0\n",
      "println(pol_r(Barra(x)).barra2)\n",
      "println(pol_r_der(x))"
     ],
     "language": "python",
     "metadata": {},
     "outputs": [
      {
       "output_type": "stream",
       "stream": "stdout",
       "text": [
        "2.0\n",
        "2.0\n"
       ]
      }
     ],
     "prompt_number": 34
    },
    {
     "cell_type": "markdown",
     "metadata": {},
     "source": [
      "Por lo que para el cociente de polinomios se sigue cumpliendo que $d_x$ es la derivada evaluada en $x$"
     ]
    },
    {
     "cell_type": "heading",
     "level": 4,
     "metadata": {},
     "source": [
      "(iii)"
     ]
    },
    {
     "cell_type": "heading",
     "level": 4,
     "metadata": {},
     "source": [
      "Pensando en la interpretaci\u00f3n que le diste a $d_x$, c\u00f3mo definir\u00edas la acci\u00f3n sobre $\\bar{x}$ de las siguientes funciones:"
     ]
    },
    {
     "cell_type": "markdown",
     "metadata": {},
     "source": [
      "- exp($\\bar x$)\n",
      "- log($\\bar x$)\n",
      "- sin($\\bar x$)\n",
      "- cos($\\bar x$)\n",
      "- tan($\\bar x$)"
     ]
    },
    {
     "cell_type": "code",
     "collapsed": false,
     "input": [
      "import Base.exp #no se porqu\u00e9 pero para agregar otro m\u00e9todo a estas funciones ten\u00eda que importarlas\n",
      "import Base.log\n",
      "import Base.sin\n",
      "import Base.cos\n",
      "import Base.tan\n",
      "\n",
      "\n",
      "function exp(x::Barra)\n",
      "    z=Barra(0.0,0.0)\n",
      "    z.barra1=exp(x.barra1)\n",
      "    z.barra2=exp(x.barra1)*x.barra2 #la derivada de exp es ella misma\n",
      "    z\n",
      "end\n",
      "\n",
      "function log(x::Barra)\n",
      "    z=Barra(0.0,0.0)\n",
      "    z.barra1=log(x.barra1)\n",
      "    z.barra2=(1/(x.barra1))*x.barra2 #la derivada de log(x) es 1/x\n",
      "    z\n",
      "end\n",
      "\n",
      "function sin(x::Barra)\n",
      "    z=Barra(0.0,0.0)\n",
      "    z.barra1=sin(x.barra1)\n",
      "    z.barra2=cos(x.barra1)*x.barra2 #la derivada de sin(x) es cos(x)\n",
      "    z\n",
      "end\n",
      "\n",
      "function cos(x::Barra)\n",
      "    z=Barra(0.0,0.0)\n",
      "    z.barra1=cos(x.barra1)\n",
      "    z.barra2=-sin(x.barra1)*x.barra2 #la derivada de cos(x) es -sin(x)\n",
      "    z\n",
      "end\n",
      "\n",
      "function tan(x::Barra)\n",
      "    z=Barra(0.0,0.0)\n",
      "    z.barra1=tan(x.barra1)\n",
      "    z.barra2=(1/(cos(x.barra1))^2)*x.barra2 #la derivada de tan(x) es 1/(cos(x))^2\n",
      "    z\n",
      "end;"
     ],
     "language": "python",
     "metadata": {},
     "outputs": [],
     "prompt_number": 40
    },
    {
     "cell_type": "code",
     "collapsed": false,
     "input": [
      "x=Barra(1)\n",
      "println(exp(x))\n",
      "println(log(x))\n",
      "println(sin(x))\n",
      "println(cos(x))\n",
      "println(tan(x))"
     ],
     "language": "python",
     "metadata": {},
     "outputs": [
      {
       "output_type": "stream",
       "stream": "stdout",
       "text": [
        "Barra("
       ]
      },
      {
       "output_type": "stream",
       "stream": "stdout",
       "text": [
        "2.718281828459045,2.718281828459045)\n",
        "Barra(0.0,1.0)\n",
        "Barra(0.8414709848078965,0.5403023058681398)\n",
        "Barra(0.5403023058681398,-0.8414709848078965)\n",
        "Barra(1.5574077246549023,3.425518820814759)\n"
       ]
      }
     ],
     "prompt_number": 41
    },
    {
     "cell_type": "code",
     "collapsed": false,
     "input": [
      "x = Barra(2.0)"
     ],
     "language": "python",
     "metadata": {},
     "outputs": [
      {
       "metadata": {},
       "output_type": "pyout",
       "prompt_number": 42,
       "text": [
        "Barra(2.0,1.0)"
       ]
      }
     ],
     "prompt_number": 42
    },
    {
     "cell_type": "code",
     "collapsed": false,
     "input": [
      "sin(x^2 + 3*x)"
     ],
     "language": "python",
     "metadata": {},
     "outputs": [
      {
       "metadata": {},
       "output_type": "pyout",
       "prompt_number": 43,
       "text": [
        "Barra(-0.5440211108893698,-5.873500703535167)"
       ]
      }
     ],
     "prompt_number": 43
    },
    {
     "cell_type": "code",
     "collapsed": false,
     "input": [
      "sin(sin(x^2 + 3x))"
     ],
     "language": "python",
     "metadata": {},
     "outputs": [
      {
       "metadata": {},
       "output_type": "pyout",
       "prompt_number": 44,
       "text": [
        "Barra(-0.5175807674647733,-5.025568985012155)"
       ]
      }
     ],
     "prompt_number": 44
    },
    {
     "cell_type": "heading",
     "level": 4,
     "metadata": {},
     "source": [
      "(iv)"
     ]
    },
    {
     "cell_type": "heading",
     "level": 4,
     "metadata": {},
     "source": [
      "\u00bfC\u00f3mo podemos definir las cosas en Julia de tal manera que $\\bar v + c$, y las dem\u00e1s posibles operaciones entre una variable comp\u00f3sita y un flotante $c$, tengan sentido?"
     ]
    },
    {
     "cell_type": "markdown",
     "metadata": {},
     "source": [
      "Lo que hice al definir las operaciones m\u00e1s arriba fue convertir $c$ en $\\bar c = (c,0)$ y luego hacer las operaciones"
     ]
    },
    {
     "cell_type": "heading",
     "level": 1,
     "metadata": {},
     "source": [
      "[7]"
     ]
    },
    {
     "cell_type": "heading",
     "level": 4,
     "metadata": {},
     "source": [
      "En el resto del curso, trataremos con aritm\u00e9tica de intervalos. En este nuevo tipo de aritm\u00e9tica, ocupamos intervalos $[a,b]$ de la recta real, que es el conjunto\n",
      "\n",
      "\\begin{equation}\n",
      "    [a,b]:= \\{ x:a\\leq x \\leq b \\}\n",
      "\\end{equation}"
     ]
    },
    {
     "cell_type": "heading",
     "level": 4,
     "metadata": {},
     "source": [
      "(i) Define un tipo composito para representar un intervalo de dos n\u00fameros reales."
     ]
    },
    {
     "cell_type": "code",
     "collapsed": false,
     "input": [
      "type Interval\n",
      "    a::Float64\n",
      "    b::Float64\n",
      "    \n",
      "    Interval(a::Float64,b::Float64) = ( a>=b ? new(b,a) : new(a,b))\n",
      "end\n",
      "\n",
      "Interval(a,b)=Interval(float64(a),float64(a))"
     ],
     "language": "python",
     "metadata": {},
     "outputs": [
      {
       "metadata": {},
       "output_type": "pyout",
       "prompt_number": 20,
       "text": [
        "Interval (constructor with 2 methods)"
       ]
      }
     ],
     "prompt_number": 20
    },
    {
     "cell_type": "code",
     "collapsed": false,
     "input": [
      "methods(Interval)"
     ],
     "language": "python",
     "metadata": {},
     "outputs": [
      {
       "html": [
        "2 methods for generic function <b>Interval</b>:<ul><li> Interval(a::<b>Float64</b>,b::<b>Float64</b>) at In[20]:5<li> Interval(a,b) at In[20]:8</ul>"
       ],
       "metadata": {},
       "output_type": "pyout",
       "prompt_number": 21,
       "text": [
        "# 2 methods for generic function \"Interval\":\n",
        "Interval(a::Float64,b::Float64) at In[20]:5\n",
        "Interval(a,b) at In[20]:8"
       ]
      }
     ],
     "prompt_number": 21
    },
    {
     "cell_type": "code",
     "collapsed": false,
     "input": [
      "Interval(11,2)"
     ],
     "language": "python",
     "metadata": {},
     "outputs": [
      {
       "metadata": {},
       "output_type": "pyout",
       "prompt_number": 22,
       "text": [
        "Interval(11.0,11.0)"
       ]
      }
     ],
     "prompt_number": 22
    },
    {
     "cell_type": "code",
     "collapsed": false,
     "input": [
      "Interval(\"0.1\",1)"
     ],
     "language": "python",
     "metadata": {},
     "outputs": [
      {
       "metadata": {},
       "output_type": "pyout",
       "prompt_number": 23,
       "text": [
        "Interval(0.1,0.1)"
       ]
      }
     ],
     "prompt_number": 23
    },
    {
     "cell_type": "heading",
     "level": 4,
     "metadata": {},
     "source": [
      "(ii) \u00bfC\u00f3mo podr\u00edamos tener operaciones sensatas sobre los intervalos? La idea b\u00e1sica es que el resultado de la operaci\u00f3n sobre dos intervalos contenga los valores posibles resultantes de operar con los miembros de los dos intervalos respectivos.\n"
     ]
    },
    {
     "cell_type": "markdown",
     "metadata": {},
     "source": [
      "Solo tenemos que operar con los extremos de los intervalos, teniendo cuidado de algunos casos particulares, como por ejemplo si el intervalo contiene cero no podemos dividir entre ese intervalo. "
     ]
    },
    {
     "cell_type": "heading",
     "level": 4,
     "metadata": {},
     "source": [
      "(iii) Implementa estas operaciones, sin tomar en cuenta cuestiones de redondeo."
     ]
    },
    {
     "cell_type": "code",
     "collapsed": false,
     "input": [
      "function +(x::Interval,y::Interval) #defino suma entre intervalos\n",
      "    z=Interval(0.0,1.0)\n",
      "    z.a=x.a+y.a\n",
      "    z.b=x.b+y.b\n",
      "    z\n",
      "end\n",
      "\n",
      "function +(x::Number,y::Interval) #defino suma entre n\u00fameros e intervalos\n",
      "    z=Interval(0.0,1.0)\n",
      "    z.a=x+y.a\n",
      "    z.b=x+y.b\n",
      "    z\n",
      "end\n",
      "function +(y::Interval,x::Number) \n",
      "    x+y\n",
      "end\n",
      "    \n",
      "function -(x::Interval,y::Interval) #defino suma entre intervalos\n",
      "    z=Interval(0.0,1.0)\n",
      "    z.a=x.a-y.b\n",
      "    z.b=x.b-y.a\n",
      "    z\n",
      "end\n",
      "\n",
      "function -(x::Number,y::Interval) #defino resta entre n\u00fameros e intervalos\n",
      "    z=Interval(0.0,1.0)\n",
      "    z.a=x-y.b\n",
      "    z.b=x-y.a\n",
      "    z\n",
      "end\n",
      "function -(y::Interval,x::Number) \n",
      "    z=Interval(0.0,1.0)\n",
      "    z.a=y.a-x\n",
      "    z.b=y.b-x\n",
      "    z\n",
      "end\n",
      "\n",
      "function *(x::Interval,y::Interval) #defino producto entre intervalos\n",
      "    z=Interval(0.0,1.0)\n",
      "    z.a=min(x.a*y.a,x.a*y.b,x.b*y.a,x.b*y.b)\n",
      "    z.b=max(x.a*y.a,x.a*y.b,x.b*y.a,x.b*y.b)\n",
      "    z\n",
      "end\n",
      "\n",
      "function *(x::Number,y::Interval) #defino producto entre n\u00famero e intervalo\n",
      "    z=Interval(0.0,1.0)\n",
      "    z.a=min(x*y.a,x*y.b)\n",
      "    z.b=max(x*y.a,x*y.b)\n",
      "    z\n",
      "end\n",
      "function *(y::Interval,x::Number)\n",
      "    x*y\n",
      "end\n",
      "\n",
      "function /(x::Interval,y::Interval) #defino divisi\u00f3n entre intervalos\n",
      "    if y.a<0.0&&y.b>0\n",
      "        error(\"el intervalo divisor no puede contener al cero\")\n",
      "    else\n",
      "        z=Interval(0.0,1.0)\n",
      "        z.a=min(x.a/y.a,x.a/y.b,x.b/y.a,x.b/y.b)\n",
      "        z.b=max(x.a/y.a,x.a/y.b,x.b/y.a,x.b/y.b)\n",
      "        z\n",
      "    end\n",
      "end\n",
      "\n",
      "function /(x::Number,y::Interval) #defino divisi\u00f3n entre n\u00famero e intervalo\n",
      "    if y.a<0.0&&y.b>0\n",
      "        error(\"el intervalo divisor no puede contener al cero\")\n",
      "    else\n",
      "        z=Interval(0.0,1.0)\n",
      "        z.a=min(x/y.a,x/y.b)\n",
      "        z.b=max(x/y.a,x/y.b)\n",
      "        z\n",
      "    end\n",
      "end\n",
      "function /(y::Interval,x::Number)\n",
      "    if float64(x)==0.0\n",
      "        error(\"no puedo dividir un intervalo entre cero\")\n",
      "    else\n",
      "        z=Interval(0.0,1.0)\n",
      "        z.a=min(y.a/x,y.b/x)\n",
      "        z.b=max(y.a/x,y.b/x)\n",
      "        z\n",
      "    end\n",
      "end\n",
      "\n",
      "function ^(y::Interval,x::Integer) #defino potencia intervalo^entero\n",
      "    z=Interval(0.0,1.0)\n",
      "    if y.a<0.0&&y.b>0&&x<0\n",
      "        error(\"el intervalo no puede contener al cero con exponentes negativos\")\n",
      "    elseif y.a<0.0&&y.b>0&&x!=0\n",
      "        z.a=min(0,y.a^x,y.b^x)\n",
      "    else\n",
      "        z.a=min(y.a^x,y.b^x)\n",
      "    end\n",
      "    z.b=max(y.a^x,y.b^x)\n",
      "    z\n",
      "end\n",
      "        "
     ],
     "language": "python",
     "metadata": {},
     "outputs": [
      {
       "metadata": {},
       "output_type": "pyout",
       "prompt_number": 39,
       "text": [
        "^ (generic function with 49 methods)"
       ]
      }
     ],
     "prompt_number": 39
    },
    {
     "cell_type": "code",
     "collapsed": false,
     "input": [
      "a=Interval(-1,3)\n",
      "b=Interval(12,13)\n",
      "c=4\n",
      "println(\"a+b=\",a+b)\n",
      "println(\"c+a=\",c+a)\n",
      "println(\"b-a=\",b-a)\n",
      "println(\"a-c=\",a-c)\n",
      "println(\"a*b=\",a*b)\n",
      "println(\"a*c=\",a*c)\n",
      "println(\"a/b=\",a/b)\n",
      "println(\"a/c=\",a/c)\n",
      "println(\"a^2=\",a^2)\n",
      "println(\"b^-1=\",b^-1)"
     ],
     "language": "python",
     "metadata": {},
     "outputs": [
      {
       "output_type": "stream",
       "stream": "stdout",
       "text": [
        "a+b=Interval"
       ]
      },
      {
       "output_type": "stream",
       "stream": "stdout",
       "text": [
        "(11.0,16.0)\n",
        "c+a=Interval(3.0,7.0)\n",
        "b-a=Interval(9.0,14.0)\n",
        "a-c=Interval(-5.0,-1.0)\n",
        "a*b=Interval(-13.0,39.0)\n",
        "a*c=Interval(-4.0,12.0)\n",
        "a/b=Interval(-0.08333333333333333,0.25)\n",
        "a/c=Interval(-0.25,0.75)\n",
        "a^2=Interval(0.0,9.0)\n",
        "b^-1=Interval(0.07692307692307693,0.08333333333333333)\n"
       ]
      }
     ],
     "prompt_number": 40
    },
    {
     "cell_type": "heading",
     "level": 4,
     "metadata": {},
     "source": [
      "(iv) \u00bfC\u00f3mo nos puede ayudar el redondeo? Implem\u00e9ntalo."
     ]
    },
    {
     "cell_type": "markdown",
     "metadata": {},
     "source": [
      "Nos puede ayudar para asegurar que el n\u00famero REAL se encuentra dentro del intervalo de Flotantes."
     ]
    },
    {
     "cell_type": "code",
     "collapsed": false,
     "input": [
      "old=get_rounding(Float64)\n",
      "\n",
      "function +(x::Interval,y::Interval) #defino suma entre intervalos\n",
      "    z=Interval(0.0,1.0)\n",
      "    set_rounding(Float64,RoundDown)\n",
      "    z.a=x.a+y.a\n",
      "    set_rounding(Float64,RoundUp)\n",
      "    z.b=x.b+y.b\n",
      "    z\n",
      "end\n",
      "\n",
      "function +(x::Number,y::Interval) #defino suma entre n\u00fameros e intervalos\n",
      "    z=Interval(0.0,1.0)\n",
      "    set_rounding(Float64,RoundDown)\n",
      "    z.a=x+y.a\n",
      "    set_rounding(Float64,RoundUp)\n",
      "    z.b=x+y.b\n",
      "    z\n",
      "end\n",
      "function +(y::Interval,x::Number) \n",
      "    x+y\n",
      "end\n",
      "    \n",
      "function -(x::Interval,y::Interval) #defino suma entre intervalos\n",
      "    z=Interval(0.0,1.0)\n",
      "    set_rounding(Float64,RoundDown)\n",
      "    z.a=x.a-y.b\n",
      "    set_rounding(Float64,RoundUp)\n",
      "    z.b=x.b-y.a\n",
      "    z\n",
      "end\n",
      "\n",
      "function -(x::Number,y::Interval) #defino resta entre n\u00fameros e intervalos\n",
      "    z=Interval(0.0,1.0)\n",
      "    set_rounding(Float64,RoundDown)\n",
      "    z.a=x-y.b\n",
      "    set_rounding(Float64,RoundUp)\n",
      "    z.b=x-y.a\n",
      "    z\n",
      "end\n",
      "function -(y::Interval,x::Number) \n",
      "    z=Interval(0.0,1.0)\n",
      "    set_rounding(Float64,RoundDown)\n",
      "    z.a=y.a-x\n",
      "    set_rounding(Float64,RoundUp)\n",
      "    z.b=y.b-x\n",
      "    z\n",
      "end\n",
      "\n",
      "function *(x::Interval,y::Interval) #defino producto entre intervalos\n",
      "    z=Interval(0.0,1.0)\n",
      "    set_rounding(Float64,RoundDown)\n",
      "    z.a=min(x.a*y.a,x.a*y.b,x.b*y.a,x.b*y.b)\n",
      "    set_rounding(Float64,RoundUp)\n",
      "    z.b=max(x.a*y.a,x.a*y.b,x.b*y.a,x.b*y.b)\n",
      "    z\n",
      "end\n",
      "\n",
      "function *(x::Number,y::Interval) #defino producto entre n\u00famero e intervalo\n",
      "    z=Interval(0.0,1.0)\n",
      "    set_rounding(Float64,RoundDown)\n",
      "    z.a=min(x*y.a,x*y.b)\n",
      "    set_rounding(Float64,RoundUp)\n",
      "    z.b=max(x*y.a,x*y.b)\n",
      "    z\n",
      "end\n",
      "function *(y::Interval,x::Number)\n",
      "    x*y\n",
      "end\n",
      "\n",
      "function /(x::Interval,y::Interval) #defino divisi\u00f3n entre intervalos\n",
      "    if y.a<0.0&&y.b>0\n",
      "        error(\"el intervalo divisor no puede contener al cero\")\n",
      "    else\n",
      "        z=Interval(0.0,1.0)\n",
      "        set_rounding(Float64,RoundDown)\n",
      "        z.a=min(x.a/y.a,x.a/y.b,x.b/y.a,x.b/y.b)\n",
      "        set_rounding(Float64,RoundUp)\n",
      "        z.b=max(x.a/y.a,x.a/y.b,x.b/y.a,x.b/y.b)\n",
      "        z\n",
      "    end\n",
      "end\n",
      "\n",
      "function /(x::Number,y::Interval) #defino divisi\u00f3n entre n\u00famero e intervalo\n",
      "    if y.a<0.0&&y.b>0\n",
      "        error(\"el intervalo divisor no puede contener al cero\")\n",
      "    else\n",
      "        z=Interval(0.0,1.0)\n",
      "        set_rounding(Float64,RoundDown)\n",
      "        z.a=min(x/y.a,x/y.b)\n",
      "        set_rounding(Float64,RoundUp)\n",
      "        z.b=max(x/y.a,x/y.b)\n",
      "        z\n",
      "    end\n",
      "end\n",
      "function /(y::Interval,x::Number)\n",
      "    if float64(x)==0.0\n",
      "        error(\"no puedo dividir un intervalo entre cero\")\n",
      "    else\n",
      "        z=Interval(0.0,1.0)\n",
      "        set_rounding(Float64,RoundDown)\n",
      "        z.a=min(y.a/x,y.b/x)\n",
      "        set_rounding(Float64,RoundUp)\n",
      "        z.b=max(y.a/x,y.b/x)\n",
      "        z\n",
      "    end\n",
      "end\n",
      "\n",
      "function ^(y::Interval,x::Integer) #defino potencia intervalo^entero\n",
      "    z=Interval(0.0,1.0)\n",
      "    set_rounding(Float64,RoundDown)\n",
      "    if y.a<0.0&&y.b>0&&x<0\n",
      "        error(\"el intervalo no puede contener al cero con exponentes negativos\")\n",
      "    elseif y.a<0.0&&y.b>0&&x!=0\n",
      "        z.a=min(0,y.a^x,y.b^x)\n",
      "    else\n",
      "        z.a=min(y.a^x,y.b^x)\n",
      "    end\n",
      "    set_rounding(Float64,RoundUp)\n",
      "    z.b=max(y.a^x,y.b^x)\n",
      "    z\n",
      "end\n",
      "\n",
      "set_rounding(Float64,old);"
     ],
     "language": "python",
     "metadata": {},
     "outputs": [],
     "prompt_number": 41
    },
    {
     "cell_type": "code",
     "collapsed": false,
     "input": [
      "a=Interval(-1,3)\n",
      "b=Interval(12,13)\n",
      "c=4\n",
      "println(\"a+b=\",a+b)\n",
      "println(\"c+a=\",c+a)\n",
      "println(\"b-a=\",b-a)\n",
      "println(\"a-c=\",a-c)\n",
      "println(\"a*b=\",a*b)\n",
      "println(\"a*c=\",a*c)\n",
      "println(\"a/b=\",a/b)\n",
      "println(\"a/c=\",a/c)\n",
      "println(\"a^2=\",a^2)\n",
      "println(\"b^-1=\",b^-1)"
     ],
     "language": "python",
     "metadata": {},
     "outputs": [
      {
       "output_type": "stream",
       "stream": "stdout",
       "text": [
        "a+b=Interval(11.0,16.0)\n",
        "c+a=Interval(3.0,7.0)\n",
        "b-a="
       ]
      },
      {
       "output_type": "stream",
       "stream": "stdout",
       "text": [
        "Interval(9.0,14.0)\n",
        "a-c=Interval(-5.0,-1.0)\n",
        "a*b=Interval(-13.0,39.0)\n",
        "a*c=Interval(-4.0,12.0)\n",
        "a/b=Interval(-0.08333333333333334,0.25)\n",
        "a/c=Interval(-0.25,0.75)\n",
        "a^2=Interval(0.0,9.0)\n",
        "b^-1=Interval(0.07692307692307691,0.08333333333333334)\n"
       ]
      }
     ],
     "prompt_number": 42
    },
    {
     "cell_type": "code",
     "collapsed": false,
     "input": [],
     "language": "python",
     "metadata": {},
     "outputs": [],
     "prompt_number": 43
    },
    {
     "cell_type": "code",
     "collapsed": false,
     "input": [],
     "language": "python",
     "metadata": {},
     "outputs": []
    },
    {
     "cell_type": "code",
     "collapsed": false,
     "input": [],
     "language": "python",
     "metadata": {},
     "outputs": []
    },
    {
     "cell_type": "code",
     "collapsed": false,
     "input": [],
     "language": "python",
     "metadata": {},
     "outputs": []
    }
   ],
   "metadata": {}
  }
 ]
}