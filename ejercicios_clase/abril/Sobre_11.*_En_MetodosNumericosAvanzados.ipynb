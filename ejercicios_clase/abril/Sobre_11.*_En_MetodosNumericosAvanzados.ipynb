{
 "cells": [
  {
   "cell_type": "code",
   "execution_count": 1,
   "metadata": {
    "collapsed": false
   },
   "outputs": [],
   "source": [
    "using Intervalos"
   ]
  },
  {
   "cell_type": "markdown",
   "metadata": {},
   "source": [
    "#[1]\n",
    "#### ¿Cuál sería una definición matemática razonable de un intervalo multi-dimensional?"
   ]
  },
  {
   "cell_type": "markdown",
   "metadata": {},
   "source": [
    "Podríamos hacer un arreglo de intervalos, de modo que si tenemos `N` dimensiones entonces trabajemos con un vector de `N` entradas donde cada entrada es un objeto tipo `Intervalo`"
   ]
  },
  {
   "cell_type": "markdown",
   "metadata": {},
   "source": [
    "#[2]\n",
    "#### ¿Cómo podríamos expresar esto en Julia? Da dos posibilidades.\n",
    "\n",
    "##### [Pista: Checa typealias]\n"
   ]
  },
  {
   "cell_type": "markdown",
   "metadata": {},
   "source": [
    "MÉTODO #1\n",
    "\n",
    "Una opción es definir un nuevo tipo que sea un arreglo de intervalos"
   ]
  },
  {
   "cell_type": "code",
   "execution_count": 2,
   "metadata": {
    "collapsed": false
   },
   "outputs": [],
   "source": [
    "type IntervalDim{N}\n",
    "    a::Vector{Intervalo} #Array{Intervalo,1}\n",
    "    IntervalDim(a) = ( length(a)==int(N) ? new(a) : error(\"Error de dimensión\"))\n",
    "end\n",
    "\n",
    "\n",
    "Base.show(io::IO, a::IntervalDim) = print(io::IO, \"IntervalDim{$(length(a.a))}\n",
    "$(a.a)\");"
   ]
  },
  {
   "cell_type": "code",
   "execution_count": 3,
   "metadata": {
    "collapsed": false
   },
   "outputs": [
    {
     "ename": "LoadError",
     "evalue": "Error de dimensión\nwhile loading In[3], in expression starting on line 1",
     "output_type": "error",
     "traceback": [
      "Error de dimensión\nwhile loading In[3], in expression starting on line 1",
      "",
      " in IntervalDim at In[2]:3"
     ]
    }
   ],
   "source": [
    "IntervalDim{3}([Intervalo(1,2),Intervalo(1,1)])"
   ]
  },
  {
   "cell_type": "code",
   "execution_count": 4,
   "metadata": {
    "collapsed": false
   },
   "outputs": [
    {
     "data": {
      "text/plain": [
       "IntervalDim{2}\n",
       "[[1e+00,\n",
       "2e+00],[1e+00,\n",
       "1e+00]]"
      ]
     },
     "execution_count": 4,
     "metadata": {},
     "output_type": "execute_result"
    }
   ],
   "source": [
    "IntervalDim{2}([Intervalo(1,2),Intervalo(1,1)])"
   ]
  },
  {
   "cell_type": "markdown",
   "metadata": {},
   "source": [
    "Como vamos a trabajar normalmente con $\\mathbb{R}^2$ voy a definir uno por 'default' de dimensión dos."
   ]
  },
  {
   "cell_type": "code",
   "execution_count": 5,
   "metadata": {
    "collapsed": false
   },
   "outputs": [
    {
     "data": {
      "text/plain": [
       "IntervalDim{N} (constructor with 1 method)"
      ]
     },
     "execution_count": 5,
     "metadata": {},
     "output_type": "execute_result"
    }
   ],
   "source": [
    "IntervalDim(a::Array{Intervalo,1})=IntervalDim{2}(a::Array{Intervalo,1})"
   ]
  },
  {
   "cell_type": "code",
   "execution_count": 6,
   "metadata": {
    "collapsed": false
   },
   "outputs": [
    {
     "data": {
      "text/plain": [
       "IntervalDim{2}\n",
       "[[1e+00,\n",
       "2e+00],[1e+00,\n",
       "1e+00]]"
      ]
     },
     "execution_count": 6,
     "metadata": {},
     "output_type": "execute_result"
    }
   ],
   "source": [
    "vect1=IntervalDim([Intervalo(1,2),Intervalo(1,1)])"
   ]
  },
  {
   "cell_type": "code",
   "execution_count": null,
   "metadata": {
    "collapsed": true
   },
   "outputs": [],
   "source": []
  },
  {
   "cell_type": "markdown",
   "metadata": {},
   "source": [
    "# \n",
    "MÉTODO #2\n",
    "\n",
    "Otra opción es utilizar el hint (typealias):"
   ]
  },
  {
   "cell_type": "code",
   "execution_count": 7,
   "metadata": {
    "collapsed": false,
    "scrolled": true
   },
   "outputs": [
    {
     "data": {
      "text/plain": [
       "Array{Intervalo,1}"
      ]
     },
     "execution_count": 7,
     "metadata": {},
     "output_type": "execute_result"
    }
   ],
   "source": [
    "typealias IntervalD{} Vector{Intervalo}"
   ]
  },
  {
   "cell_type": "code",
   "execution_count": 8,
   "metadata": {
    "collapsed": false
   },
   "outputs": [
    {
     "data": {
      "text/plain": [
       "true"
      ]
     },
     "execution_count": 8,
     "metadata": {},
     "output_type": "execute_result"
    }
   ],
   "source": [
    "typeof([Intervalo(0,1),Intervalo(2,3)])==IntervalD{}"
   ]
  },
  {
   "cell_type": "markdown",
   "metadata": {
    "collapsed": false
   },
   "source": [
    "De modo que tenemos que definir los arreglos de intervalos de la manera usual pero podemos hacer referencia a su tipo utilizando `IntervalD`.\n",
    "\n",
    "Por ejemplo:"
   ]
  },
  {
   "cell_type": "code",
   "execution_count": 9,
   "metadata": {
    "collapsed": false
   },
   "outputs": [
    {
     "data": {
      "text/plain": [
       "2-element Array{Intervalo,1}:\n",
       " [5e+00,\n",
       "5e+00]\n",
       " [2e+00,\n",
       "3e+00]"
      ]
     },
     "execution_count": 9,
     "metadata": {},
     "output_type": "execute_result"
    }
   ],
   "source": [
    "function algo(c::IntervalD,b::Intervalo)\n",
    "    c[1]=b\n",
    "    c\n",
    "end\n",
    "\n",
    "algo([Intervalo(0,1),Intervalo(2,3)]  ,  Intervalo(5,5))"
   ]
  },
  {
   "cell_type": "markdown",
   "metadata": {},
   "source": [
    "También puedo definir una función que me genere elementos de tamaño `n` de ese tipo:"
   ]
  },
  {
   "cell_type": "code",
   "execution_count": 10,
   "metadata": {
    "collapsed": false
   },
   "outputs": [
    {
     "name": "stdout",
     "output_type": "stream",
     "text": [
      "[#undef,#undef]\n"
     ]
    }
   ],
   "source": [
    "intervalD(n::Int64) = Array(Intervalo,n)\n",
    "intervalD()=intervalD(2)\n",
    "\n",
    "asdf=intervalD() #este es un arreglo 'vacío' de dos elementos\n",
    "if typeof(asdf)==IntervalD\n",
    "    println(asdf)\n",
    "end"
   ]
  },
  {
   "cell_type": "code",
   "execution_count": null,
   "metadata": {
    "collapsed": false
   },
   "outputs": [],
   "source": []
  },
  {
   "cell_type": "markdown",
   "metadata": {},
   "source": [
    "#[3]\n",
    "#### ¿Cuáles operaciones matemáticas necesitaremos definir sobre los intervalos multi-dimensionales? Impleméntalos en un módulo. ¿Cuál de las dos definiciones resulta más útil en ese respecto?"
   ]
  },
  {
   "cell_type": "markdown",
   "metadata": {},
   "source": [
    "MÉTODO #1\n",
    "\n",
    "Pues si utilizamos el primero tenemos que definir TODAS las operaciones, aunque la definición es fácil ya que solo debemos hacer:"
   ]
  },
  {
   "cell_type": "code",
   "execution_count": 11,
   "metadata": {
    "collapsed": false
   },
   "outputs": [
    {
     "data": {
      "text/plain": [
       "definidorDim! (generic function with 1 method)"
      ]
     },
     "execution_count": 11,
     "metadata": {},
     "output_type": "execute_result"
    }
   ],
   "source": [
    "function definidorDim!(f::Function)\n",
    "    f(x::IntervalDim,y::IntervalDim)=f(x.a,y.a)\n",
    "end"
   ]
  },
  {
   "cell_type": "code",
   "execution_count": 12,
   "metadata": {
    "collapsed": false,
    "scrolled": true
   },
   "outputs": [
    {
     "data": {
      "text/plain": [
       "dot (generic function with 8 methods)"
      ]
     },
     "execution_count": 12,
     "metadata": {},
     "output_type": "execute_result"
    }
   ],
   "source": [
    "definidorDim!(+)\n",
    "definidorDim!(-)\n",
    "definidorDim!(.*)\n",
    "definidorDim!(./)\n",
    "definidorDim!(⋅)"
   ]
  },
  {
   "cell_type": "code",
   "execution_count": 13,
   "metadata": {
    "collapsed": false
   },
   "outputs": [
    {
     "name": "stdout",
     "output_type": "stream",
     "text": [
      "[[0e+00,\n",
      "2e+00],[2e+00,\n",
      "3e+00]]\n"
     ]
    }
   ],
   "source": [
    "vect1=IntervalDim([Intervalo(1,2),Intervalo(1,1)])\n",
    "vect2=IntervalDim([Intervalo(0,1),Intervalo(2,3)])\n",
    "\n",
    "#println(vect1+vect2)\n",
    "#println(vect2-vect1)\n",
    "println(vect1.*vect2)\n",
    "#println(vect2./vect1)\n",
    "#println(vect1⋅vect2)"
   ]
  },
  {
   "cell_type": "code",
   "execution_count": null,
   "metadata": {
    "collapsed": false
   },
   "outputs": [],
   "source": []
  },
  {
   "cell_type": "markdown",
   "metadata": {},
   "source": [
    "# \n",
    "MÉTODO #2\n",
    "\n",
    "No tenemos que definir operaciones ya que ya estan definidas las operaciones entre vectores"
   ]
  },
  {
   "cell_type": "code",
   "execution_count": 14,
   "metadata": {
    "collapsed": false
   },
   "outputs": [
    {
     "name": "stdout",
     "output_type": "stream",
     "text": [
      "[2e+00,\n",
      "5e+00]\n"
     ]
    }
   ],
   "source": [
    "vect1=[Intervalo(1,2),Intervalo(1,1)]\n",
    "vect2=[Intervalo(0,1),Intervalo(2,3)]\n",
    "\n",
    "#println(vect1+vect2)\n",
    "#println(vect2-vect1)\n",
    "#println(vect1.*vect2)\n",
    "#println(vect2./vect1)\n",
    "println(vect1⋅vect2)"
   ]
  },
  {
   "cell_type": "code",
   "execution_count": null,
   "metadata": {
    "collapsed": true
   },
   "outputs": [],
   "source": []
  },
  {
   "cell_type": "markdown",
   "metadata": {},
   "source": [
    "#[4]\n",
    "#### Considera la función $f:\\mathbb{R}^2→\\mathbb{R}^2$, dada por $f(x,y)=\\mathsf{M}⋅\\mathbf{x}$, con $\\mathsf{M} =\\begin{pmatrix}\n",
    "2 & 1 \\\\\n",
    "1 & 1\n",
    "\\end{pmatrix}.$"
   ]
  },
  {
   "cell_type": "markdown",
   "metadata": {},
   "source": [
    "#### (i) Encuentra a mano la imagen del cuadrado unitario. Encuentra el intervalo multi-dimensional más pequeño que contiene este conjunto."
   ]
  },
  {
   "cell_type": "code",
   "execution_count": 15,
   "metadata": {
    "collapsed": false
   },
   "outputs": [
    {
     "name": "stderr",
     "output_type": "stream",
     "text": [
      "INFO: Loading help data...\n"
     ]
    }
   ],
   "source": [
    "using PyPlot"
   ]
  },
  {
   "cell_type": "code",
   "execution_count": 16,
   "metadata": {
    "collapsed": false
   },
   "outputs": [
    {
     "data": {
      "image/png": "[encoded data removed]",
      "text/plain": [
       "Figure(PyObject <matplotlib.figure.Figure object at 0x7f27f54b1850>)"
      ]
     },
     "metadata": {},
     "output_type": "display_data"
    }
   ],
   "source": [
    "#El cuadrado unitario está dado por:\n",
    "PyPlot.fill_between([0,1],0,1,color=\"gray\")\n",
    "PyPlot.xlim(-0.5,1.5)\n",
    "PyPlot.ylim(-0.5,1.5);"
   ]
  },
  {
   "cell_type": "markdown",
   "metadata": {
    "collapsed": true
   },
   "source": [
    "Veamos a donde manda algunos puntos:"
   ]
  },
  {
   "cell_type": "code",
   "execution_count": 17,
   "metadata": {
    "collapsed": false
   },
   "outputs": [
    {
     "data": {
      "text/plain": [
       "2x2 Array{Int64,2}:\n",
       " 2  1\n",
       " 1  1"
      ]
     },
     "execution_count": 17,
     "metadata": {},
     "output_type": "execute_result"
    }
   ],
   "source": [
    "mat=[[2,1] [1,1]]"
   ]
  },
  {
   "cell_type": "code",
   "execution_count": 18,
   "metadata": {
    "collapsed": false
   },
   "outputs": [
    {
     "name": "stdout",
     "output_type": "stream",
     "text": [
      "[0,0] → [0,0]\n",
      "[0.0,0.25] → [0.25,0.25]\n",
      "[0.0,0.5] → [0.5,0.5]\n",
      "[0.0,0.75] → [0.75,0.75]\n",
      "[0,1] → [1,1]\n",
      "La recta que une [0,0] y [0,1] se va a una recta que une [0,0] y [1,1]\n",
      "\n",
      "[0,0] → [0,0]\n",
      "[0.25,0.0] → [0.5,0.25]\n",
      "[0.5,0.0] → [1.0,0.5]\n",
      "[0.75,0.0] → [1.5,0.75]\n",
      "[1,0] → [2,1]\n",
      "La recta que une [0,0] y [1,0] se va a una recta que une [0,0] y [2,1]\n",
      "\n",
      "[0,1] → [1,1]\n",
      "[0.25,1.0] → [1.5,1.25]\n",
      "[0.5,1.0] → [2.0,1.5]\n",
      "[0.75,1.0] → [2.5,1.75]\n",
      "[1,1] → [3,2]\n",
      "La recta que une [0,1] y [1,1] se va a una recta que une [1,1] y [3,2]\n",
      "\n",
      "[1,0] → [2,1]\n",
      "[1.0,0.25] → [2.25,1.25]\n",
      "[1.0,0.5] → [2.5,1.5]\n",
      "[1.0,0.75] → [2.75,1.75]\n",
      "[1,1] → [3,2]\n",
      "La recta que une [1,0] y [1,1] se va a una recta que une [2,1] y [3,2]\n"
     ]
    }
   ],
   "source": [
    "x=([0,0],[0,1/4],[0,1/2],[0,3/4],[0,1])\n",
    "for i=1:length(x)\n",
    "    println(\"$(x[i]) → \",mat*x[i])\n",
    "end;\n",
    "println(\"La recta que une [0,0] y [0,1] se va a una recta que une [0,0] y [1,1]\")\n",
    "println()\n",
    "x=([0,0],[1/4,0],[1/2,0],[3/4,0],[1,0])\n",
    "for i=1:length(x)\n",
    "    println(\"$(x[i]) → \",mat*x[i])\n",
    "end;\n",
    "println(\"La recta que une [0,0] y [1,0] se va a una recta que une [0,0] y [2,1]\")\n",
    "println()\n",
    "x=([0,1],[1/4,1],[1/2,1],[3/4,1],[1,1])\n",
    "for i=1:length(x)\n",
    "    println(\"$(x[i]) → \",mat*x[i])\n",
    "end;\n",
    "println(\"La recta que une [0,1] y [1,1] se va a una recta que une [1,1] y [3,2]\")\n",
    "println()\n",
    "x=([1,0],[1,1/4],[1,1/2],[1,3/4],[1,1])\n",
    "for i=1:length(x)\n",
    "    println(\"$(x[i]) → \",mat*x[i])\n",
    "end;\n",
    "println(\"La recta que une [1,0] y [1,1] se va a una recta que une [2,1] y [3,2]\")"
   ]
  },
  {
   "cell_type": "code",
   "execution_count": null,
   "metadata": {
    "collapsed": false
   },
   "outputs": [],
   "source": []
  },
  {
   "cell_type": "code",
   "execution_count": 19,
   "metadata": {
    "collapsed": false
   },
   "outputs": [
    {
     "data": {
      "image/png": "[encoded data removed]",
      "text/plain": [
       "Figure(PyObject <matplotlib.figure.Figure object at 0x7f28093b2a50>)"
      ]
     },
     "metadata": {},
     "output_type": "display_data"
    }
   ],
   "source": [
    "PyPlot.xlim(-0.5,3.5)\n",
    "PyPlot.ylim(-0.5,2.5);\n",
    "\n",
    "PyPlot.plot([0,0],[0,1],\"--g\")\n",
    "PyPlot.plot([0,1],[0,1],\"-g\")\n",
    "\n",
    "PyPlot.plot([0,1],[0,0],\"--r\")\n",
    "PyPlot.plot([0,2],[0,1],\"-r\")\n",
    "\n",
    "PyPlot.plot([0,1],[1,1],\"--b\")\n",
    "PyPlot.plot([1,3],[1,2],\"-b\")\n",
    "\n",
    "PyPlot.plot([1,1],[0,1],\"--y\")\n",
    "PyPlot.plot([2,3],[1,2],\"-y\")\n",
    "\n",
    "PyPlot.fill_between([0,3],0,2,color=\"gray\");"
   ]
  },
  {
   "cell_type": "markdown",
   "metadata": {
    "collapsed": true
   },
   "source": [
    "El intervalo multidimensional más pequeño que contiene la imagen es:"
   ]
  },
  {
   "cell_type": "code",
   "execution_count": 20,
   "metadata": {
    "collapsed": false
   },
   "outputs": [
    {
     "data": {
      "text/plain": [
       "2-element Array{Intervalo,1}:\n",
       " [0e+00,\n",
       "3e+00]\n",
       " [0e+00,\n",
       "2e+00]"
      ]
     },
     "execution_count": 20,
     "metadata": {},
     "output_type": "execute_result"
    }
   ],
   "source": [
    "[Intervalo(0,3),Intervalo(0,2)]"
   ]
  },
  {
   "cell_type": "markdown",
   "metadata": {},
   "source": [
    "#### (ii) Verifica el resultado con tu código."
   ]
  },
  {
   "cell_type": "code",
   "execution_count": 21,
   "metadata": {
    "collapsed": false
   },
   "outputs": [
    {
     "data": {
      "text/plain": [
       "2-element Array{Intervalo,1}:\n",
       " [0e+00,\n",
       "1e+00]\n",
       " [0e+00,\n",
       "1e+00]"
      ]
     },
     "execution_count": 21,
     "metadata": {},
     "output_type": "execute_result"
    }
   ],
   "source": [
    "inter2d=[Intervalo(0,1),Intervalo(0,1)]"
   ]
  },
  {
   "cell_type": "code",
   "execution_count": 22,
   "metadata": {
    "collapsed": false
   },
   "outputs": [
    {
     "ename": "LoadError",
     "evalue": "`zero` has no method matching zero(::Type{Any})\nwhile loading In[22], in expression starting on line 1",
     "output_type": "error",
     "traceback": [
      "`zero` has no method matching zero(::Type{Any})\nwhile loading In[22], in expression starting on line 1",
      "",
      " in generic_matvecmul! at linalg/matmul.jl:317",
      " in * at linalg/matmul.jl:72"
     ]
    }
   ],
   "source": [
    "mat*inter2d"
   ]
  },
  {
   "cell_type": "code",
   "execution_count": 23,
   "metadata": {
    "collapsed": false
   },
   "outputs": [
    {
     "data": {
      "text/plain": [
       "[0e+00,\n",
       "3e+00]"
      ]
     },
     "execution_count": 23,
     "metadata": {},
     "output_type": "execute_result"
    }
   ],
   "source": [
    "2*inter2d[1]+1*inter2d[2]\n",
    "[2,1]⋅inter2d"
   ]
  },
  {
   "cell_type": "code",
   "execution_count": 24,
   "metadata": {
    "collapsed": false,
    "scrolled": true
   },
   "outputs": [
    {
     "data": {
      "text/plain": [
       "[0e+00,\n",
       "2e+00]"
      ]
     },
     "execution_count": 24,
     "metadata": {},
     "output_type": "execute_result"
    }
   ],
   "source": [
    "1*inter2d[1]+1*inter2d[2]\n",
    "[1,1]⋅inter2d"
   ]
  },
  {
   "cell_type": "markdown",
   "metadata": {},
   "source": [
    "#### (iii) ¿Cuál es el problema que ocurre? ¿Cómo lo podríamos resolver? Impleméntalo."
   ]
  },
  {
   "cell_type": "markdown",
   "metadata": {},
   "source": [
    "El problema es que la operación para arreglos abstractos incluye la función zero que no está definida para este caso.\n",
    "Para resolverlo voy a definir la operación nuevamente"
   ]
  },
  {
   "cell_type": "code",
   "execution_count": 25,
   "metadata": {
    "collapsed": false
   },
   "outputs": [
    {
     "data": {
      "text/plain": [
       "* (generic function with 132 methods)"
      ]
     },
     "execution_count": 25,
     "metadata": {},
     "output_type": "execute_result"
    }
   ],
   "source": [
    "function *(m::Array{Int64,2},x::Array{Intervalo,1})\n",
    "    y=similar(x)\n",
    "    for i=1:length(x)\n",
    "        y[i]=transpose(m)[1+(i-1)*length(x):i*length(x)]⋅(x)\n",
    "    end\n",
    "    return y\n",
    "end        \n",
    "\n",
    "function *(m::Array{Float64,2},x::Array{Intervalo,1})\n",
    "    y=similar(x)\n",
    "    for i=1:length(x)\n",
    "        y[i]=transpose(m)[1+(i-1)*length(x):i*length(x)]⋅(x)\n",
    "    end\n",
    "    return y\n",
    "end"
   ]
  },
  {
   "cell_type": "code",
   "execution_count": 26,
   "metadata": {
    "collapsed": false
   },
   "outputs": [
    {
     "data": {
      "text/html": [
       "*(m::<b>Array{Int64,2}</b>,x::<b>Array{Intervalo,1}</b>) at In[25]:2"
      ],
      "text/plain": [
       "*(m::Array{Int64,2},x::Array{Intervalo,1}) at In[25]:2"
      ]
     },
     "execution_count": 26,
     "metadata": {},
     "output_type": "execute_result"
    }
   ],
   "source": [
    "@which mat*inter2d"
   ]
  },
  {
   "cell_type": "code",
   "execution_count": 27,
   "metadata": {
    "collapsed": false
   },
   "outputs": [
    {
     "data": {
      "text/plain": [
       "2-element Array{Intervalo,1}:\n",
       " [0e+00,\n",
       "3e+00]\n",
       " [0e+00,\n",
       "2e+00]"
      ]
     },
     "execution_count": 27,
     "metadata": {},
     "output_type": "execute_result"
    }
   ],
   "source": [
    "mat*inter2d"
   ]
  },
  {
   "cell_type": "markdown",
   "metadata": {
    "collapsed": true
   },
   "source": [
    "# [5]\n",
    "#### Haz lo mismo para la imagen del cuadrado unitario bajo la función\n",
    "\n",
    "\\begin{equation}\n",
    "    \\begin{pmatrix} x \\\\ y \\end{pmatrix} \\mapsto \\begin{pmatrix} 1-ax²+y \\\\ bx \\end{pmatrix}\n",
    "\\end{equation}\n",
    "\n",
    "#### con $a=1.4$ y $b=0.3$ (el famoso \"mapeo de Hénon\")."
   ]
  },
  {
   "cell_type": "code",
   "execution_count": 28,
   "metadata": {
    "collapsed": false
   },
   "outputs": [
    {
     "data": {
      "text/plain": [
       "mapeoHenon (generic function with 1 method)"
      ]
     },
     "execution_count": 28,
     "metadata": {},
     "output_type": "execute_result"
    }
   ],
   "source": [
    "a=14//10\n",
    "b=3//10\n",
    "mapeoHenon(x)=[1-a*(x[1])^2+x[2] , b*x[1]]    "
   ]
  },
  {
   "cell_type": "code",
   "execution_count": 29,
   "metadata": {
    "collapsed": false
   },
   "outputs": [
    {
     "data": {
      "text/plain": [
       "2-element Array{Intervalo,1}:\n",
       " [-4.000000000000000000000000000000000000000000000000000000000000000000000000000138e-01,\n",
       "2e+00]\n",
       " [0e+00,\n",
       "3.000000000000000000000000000000000000000000000000000000000000000000000000000017e-01] "
      ]
     },
     "execution_count": 29,
     "metadata": {},
     "output_type": "execute_result"
    }
   ],
   "source": [
    "mapeoHenon(inter2d)"
   ]
  },
  {
   "cell_type": "markdown",
   "metadata": {},
   "source": [
    "Ahora encuentro a mano la imagen"
   ]
  },
  {
   "cell_type": "code",
   "execution_count": 39,
   "metadata": {
    "collapsed": false
   },
   "outputs": [
    {
     "name": "stdout",
     "output_type": "stream",
     "text": [
      "[0,0] → Rational{Int64}[1//1,0//1]\n",
      "[0.0,0.25] → [1.25,0.0]\n",
      "[0.0,0.5] → [1.5,0.0]\n",
      "[0.0,0.75] → [1.75,0.0]\n",
      "[0,1] → Rational{Int64}[2//1,0//1]\n",
      "La recta que une [0,0] y [0,1] se va a una recta que une [1,0] y [2,0]\n",
      "\n",
      "[0,0] → Rational{Int64}[1//1,0//1]\n",
      "[0.25,0.0] → [0.9125,0.075]\n",
      "[0.5,0.0] → [0.65,0.15]\n",
      "[0.75,0.0] → [0.21250000000000002,0.22499999999999998]\n",
      "[1,0] → Rational{Int64}[-2//5,3//10]\n",
      "La recta que une [0,0] y [1,0] se va a una recta que une [1,0] y [-2/5,0.3]\n",
      "\n",
      "[0,1] → Rational{Int64}[2//1,0//1]\n",
      "[0.25,1.0] → [1.9125,0.075]\n",
      "[0.5,1.0] → [1.65,0.15]\n",
      "[0.75,1.0] → [1.2125,0.22499999999999998]\n",
      "[1,1] → Rational{Int64}[3//5,3//10]\n",
      "La recta que une [0,1] y [1,1] se va a una recta que une [2,0] y [3/5,3/10]\n",
      "\n",
      "[1,0] → Rational{Int64}[-2//5,3//10]\n",
      "[1.0,0.25] → [-0.1499999999999999,0.3]\n",
      "[1.0,0.5] → [0.10000000000000009,0.3]\n",
      "[1.0,0.75] → [0.3500000000000001,0.3]\n",
      "[1,1] → Rational{Int64}[3//5,3//10]\n",
      "La recta que une [1,0] y [1,1] se va a una recta que une [-2/5,3/10] y [3/5,3/10]\n"
     ]
    }
   ],
   "source": [
    "x=([0,0],[0,1/4],[0,1/2],[0,3/4],[0,1])\n",
    "for i=1:length(x)\n",
    "    println(\"$(x[i]) → \",mapeoHenon(x[i]))\n",
    "end;\n",
    "println(\"La recta que une [0,0] y [0,1] se va a una recta que une [1,0] y [2,0]\")\n",
    "println()\n",
    "x=([0,0],[1/4,0],[1/2,0],[3/4,0],[1,0])\n",
    "for i=1:length(x)\n",
    "    println(\"$(x[i]) → \",mapeoHenon(x[i]))\n",
    "end;\n",
    "println(\"La recta que une [0,0] y [1,0] se va a una recta que une [1,0] y [-2/5,0.3]\")\n",
    "println()\n",
    "x=([0,1],[1/4,1],[1/2,1],[3/4,1],[1,1])\n",
    "for i=1:length(x)\n",
    "    println(\"$(x[i]) → \",mapeoHenon(x[i]))\n",
    "end;\n",
    "println(\"La recta que une [0,1] y [1,1] se va a una recta que une [2,0] y [3/5,3/10]\")\n",
    "println()\n",
    "x=([1,0],[1,1/4],[1,1/2],[1,3/4],[1,1])\n",
    "for i=1:length(x)\n",
    "    println(\"$(x[i]) → \",mapeoHenon(x[i]))\n",
    "end;\n",
    "println(\"La recta que une [1,0] y [1,1] se va a una recta que une [-2/5,3/10] y [3/5,3/10]\")"
   ]
  },
  {
   "cell_type": "code",
   "execution_count": 41,
   "metadata": {
    "collapsed": false
   },
   "outputs": [
    {
     "data": {
      "image/png": "[encoded data removed]",
      "text/plain": [
       "Figure(PyObject <matplotlib.figure.Figure object at 0x7f27f50a7990>)"
      ]
     },
     "metadata": {},
     "output_type": "display_data"
    }
   ],
   "source": [
    "PyPlot.xlim(-0.5,3.5)\n",
    "PyPlot.ylim(-0.5,2.5);\n",
    "\n",
    "PyPlot.plot([0,0],[0,1],\"--g\")\n",
    "PyPlot.plot([1,2],[0,0],\"-g\")\n",
    "\n",
    "PyPlot.plot([0,1],[0,0],\"--r\")\n",
    "PyPlot.plot([1,-2//5],[0,3//10],\"-r\")\n",
    "\n",
    "PyPlot.plot([0,1],[1,1],\"--b\")\n",
    "PyPlot.plot([2,3//5],[0,3//10],\"-b\")\n",
    "\n",
    "PyPlot.plot([1,1],[0,1],\"--y\")\n",
    "PyPlot.plot([-2//5,3//5],[3//10,3//10],\"-y\")\n",
    "\n",
    "PyPlot.fill_between([-0.4,2],0,0.3,color=\"gray\");"
   ]
  },
  {
   "cell_type": "markdown",
   "metadata": {},
   "source": [
    "Nótese que el cuadro gris es el calculado con intervalos, por lo que vemos que el resultado real SÍ está contenido en este cálculo"
   ]
  },
  {
   "cell_type": "code",
   "execution_count": null,
   "metadata": {
    "collapsed": true
   },
   "outputs": [],
   "source": []
  }
 ],
 "metadata": {
  "kernelspec": {
   "display_name": "Julia 0.3.6",
   "language": "julia",
   "name": "julia 0.3"
  },
  "language_info": {
   "name": "julia",
   "version": "0.3.7"
  }
 },
 "nbformat": 4,
 "nbformat_minor": 0
}
