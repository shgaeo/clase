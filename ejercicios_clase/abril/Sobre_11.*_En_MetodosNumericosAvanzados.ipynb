{
 "cells": [
  {
   "cell_type": "code",
   "execution_count": 161,
   "metadata": {
    "collapsed": false
   },
   "outputs": [],
   "source": [
    "workspace()\n",
    "using Intervalos"
   ]
  },
  {
   "cell_type": "markdown",
   "metadata": {},
   "source": [
    "#[1]\n",
    "#### ¿Cuál sería una definición matemática razonable de un intervalo multi-dimensional?"
   ]
  },
  {
   "cell_type": "markdown",
   "metadata": {},
   "source": [
    "Podríamos hacer un arreglo de intervalos, de modo que si tenemos `N` dimensiones entonces trabajemos con un vector de `N` entradas donde cada entrada es un objeto tipo `Intervalo`"
   ]
  },
  {
   "cell_type": "markdown",
   "metadata": {},
   "source": [
    "#[2]\n",
    "#### ¿Cómo podríamos expresar esto en Julia? Da dos posibilidades.\n",
    "\n",
    "##### [Pista: Checa typealias]\n"
   ]
  },
  {
   "cell_type": "markdown",
   "metadata": {},
   "source": [
    "MÉTODO #1\n",
    "\n",
    "Una opción es definir un nuevo tipo que sea un arreglo de intervalos"
   ]
  },
  {
   "cell_type": "code",
   "execution_count": 144,
   "metadata": {
    "collapsed": false
   },
   "outputs": [],
   "source": [
    "type IntervalDim{N}\n",
    "    a::Vector{Intervalo} #Array{Intervalo,1}\n",
    "    IntervalDim(a) = ( length(a)==int(N) ? new(a) : error(\"Error de dimensión\"))\n",
    "end\n",
    "\n",
    "\n",
    "Base.show(io::IO, a::IntervalDim) = print(io::IO, \"IntervalDim{$(length(a.a))}\n",
    "$(a.a)\");"
   ]
  },
  {
   "cell_type": "code",
   "execution_count": 145,
   "metadata": {
    "collapsed": false
   },
   "outputs": [
    {
     "ename": "LoadError",
     "evalue": "Error de dimensión\nwhile loading In[145], in expression starting on line 1",
     "output_type": "error",
     "traceback": [
      "Error de dimensión\nwhile loading In[145], in expression starting on line 1",
      "",
      " in IntervalDim at In[144]:3"
     ]
    }
   ],
   "source": [
    "IntervalDim{3}([Intervalo(1,2),Intervalo(1,1)])"
   ]
  },
  {
   "cell_type": "code",
   "execution_count": 146,
   "metadata": {
    "collapsed": false
   },
   "outputs": [
    {
     "data": {
      "text/plain": [
       "IntervalDim{2}\n",
       "[[1e+00,\n",
       "2e+00],[1e+00,\n",
       "1e+00]]"
      ]
     },
     "execution_count": 146,
     "metadata": {},
     "output_type": "execute_result"
    }
   ],
   "source": [
    "IntervalDim{2}([Intervalo(1,2),Intervalo(1,1)])"
   ]
  },
  {
   "cell_type": "markdown",
   "metadata": {},
   "source": [
    "Como vamos a trabajar normalmente con $\\mathbb{R}^2$ voy a definir uno por 'default' de dimensión dos."
   ]
  },
  {
   "cell_type": "code",
   "execution_count": 147,
   "metadata": {
    "collapsed": false
   },
   "outputs": [
    {
     "data": {
      "text/plain": [
       "IntervalDim{N} (constructor with 1 method)"
      ]
     },
     "execution_count": 147,
     "metadata": {},
     "output_type": "execute_result"
    }
   ],
   "source": [
    "IntervalDim(a::Array{Intervalo,1})=IntervalDim{2}(a::Array{Intervalo,1})"
   ]
  },
  {
   "cell_type": "code",
   "execution_count": 148,
   "metadata": {
    "collapsed": false
   },
   "outputs": [
    {
     "data": {
      "text/plain": [
       "IntervalDim{2}\n",
       "[[1e+00,\n",
       "2e+00],[1e+00,\n",
       "1e+00]]"
      ]
     },
     "execution_count": 148,
     "metadata": {},
     "output_type": "execute_result"
    }
   ],
   "source": [
    "vect1=IntervalDim([Intervalo(1,2),Intervalo(1,1)])"
   ]
  },
  {
   "cell_type": "code",
   "execution_count": null,
   "metadata": {
    "collapsed": true
   },
   "outputs": [],
   "source": []
  },
  {
   "cell_type": "markdown",
   "metadata": {},
   "source": [
    "# \n",
    "MÉTODO #2\n",
    "\n",
    "Otra opción es utilizar el hint (typealias):"
   ]
  },
  {
   "cell_type": "code",
   "execution_count": 149,
   "metadata": {
    "collapsed": false,
    "scrolled": true
   },
   "outputs": [
    {
     "data": {
      "text/plain": [
       "Array{Intervalo,1}"
      ]
     },
     "execution_count": 149,
     "metadata": {},
     "output_type": "execute_result"
    }
   ],
   "source": [
    "typealias IntervalD{} Vector{Intervalo}"
   ]
  },
  {
   "cell_type": "code",
   "execution_count": 150,
   "metadata": {
    "collapsed": false
   },
   "outputs": [
    {
     "data": {
      "text/plain": [
       "true"
      ]
     },
     "execution_count": 150,
     "metadata": {},
     "output_type": "execute_result"
    }
   ],
   "source": [
    "typeof([Intervalo(0,1),Intervalo(2,3)])==IntervalD{}"
   ]
  },
  {
   "cell_type": "markdown",
   "metadata": {
    "collapsed": false
   },
   "source": [
    "De modo que tenemos que definir los arreglos de intervalos de la manera usual pero podemos hacer referencia a su tipo utilizando `IntervalD`.\n",
    "\n",
    "Por ejemplo:"
   ]
  },
  {
   "cell_type": "code",
   "execution_count": 151,
   "metadata": {
    "collapsed": false
   },
   "outputs": [
    {
     "data": {
      "text/plain": [
       "2-element Array{Intervalo,1}:\n",
       " [5e+00,\n",
       "5e+00]\n",
       " [2e+00,\n",
       "3e+00]"
      ]
     },
     "execution_count": 151,
     "metadata": {},
     "output_type": "execute_result"
    }
   ],
   "source": [
    "function algo(c::IntervalD,b::Intervalo)\n",
    "    c[1]=b\n",
    "    c\n",
    "end\n",
    "\n",
    "algo([Intervalo(0,1),Intervalo(2,3)]  ,  Intervalo(5,5))"
   ]
  },
  {
   "cell_type": "markdown",
   "metadata": {},
   "source": [
    "También puedo definir una función que me genere elementos de tamaño `n` de ese tipo:"
   ]
  },
  {
   "cell_type": "code",
   "execution_count": 152,
   "metadata": {
    "collapsed": false
   },
   "outputs": [
    {
     "name": "stdout",
     "output_type": "stream",
     "text": [
      "[#undef,#undef]\n"
     ]
    }
   ],
   "source": [
    "intervalD(n::Int64) = Array(Intervalo,n)\n",
    "intervalD()=intervalD(2)\n",
    "\n",
    "asdf=intervalD() #este es un arreglo 'vacío' de dos elementos\n",
    "if typeof(asdf)==IntervalD\n",
    "    println(asdf)\n",
    "end"
   ]
  },
  {
   "cell_type": "code",
   "execution_count": null,
   "metadata": {
    "collapsed": false
   },
   "outputs": [],
   "source": []
  },
  {
   "cell_type": "markdown",
   "metadata": {},
   "source": [
    "#[3]\n",
    "#### ¿Cuáles operaciones matemáticas necesitaremos definir sobre los intervalos multi-dimensionales? Impleméntalos en un módulo. ¿Cuál de las dos definiciones resulta más útil en ese respecto?"
   ]
  },
  {
   "cell_type": "markdown",
   "metadata": {},
   "source": [
    "MÉTODO #1\n",
    "\n",
    "Pues si utilizamos el primero tenemos que definir TODAS las operaciones, aunque la definición es fácil ya que solo debemos hacer:"
   ]
  },
  {
   "cell_type": "code",
   "execution_count": 153,
   "metadata": {
    "collapsed": false
   },
   "outputs": [
    {
     "data": {
      "text/plain": [
       "definidorDim! (generic function with 1 method)"
      ]
     },
     "execution_count": 153,
     "metadata": {},
     "output_type": "execute_result"
    }
   ],
   "source": [
    "function definidorDim!(f::Function)\n",
    "    f(x::IntervalDim,y::IntervalDim)=f(x.a,y.a)\n",
    "end"
   ]
  },
  {
   "cell_type": "code",
   "execution_count": 154,
   "metadata": {
    "collapsed": false,
    "scrolled": true
   },
   "outputs": [
    {
     "data": {
      "text/plain": [
       "dot (generic function with 9 methods)"
      ]
     },
     "execution_count": 154,
     "metadata": {},
     "output_type": "execute_result"
    }
   ],
   "source": [
    "definidorDim!(+)\n",
    "definidorDim!(-)\n",
    "definidorDim!(.*)\n",
    "definidorDim!(./)\n",
    "definidorDim!(⋅)"
   ]
  },
  {
   "cell_type": "code",
   "execution_count": 155,
   "metadata": {
    "collapsed": false
   },
   "outputs": [
    {
     "name": "stdout",
     "output_type": "stream",
     "text": [
      "[2e+00,\n",
      "5e+00]\n"
     ]
    }
   ],
   "source": [
    "vect1=IntervalDim([Intervalo(1,2),Intervalo(1,1)])\n",
    "vect2=IntervalDim([Intervalo(0,1),Intervalo(2,3)])\n",
    "\n",
    "#println(vect1+vect2)\n",
    "#println(vect2-vect1)\n",
    "#println(vect1.*vect2)\n",
    "#println(vect2./vect1)\n",
    "println(vect1⋅vect2)"
   ]
  },
  {
   "cell_type": "markdown",
   "metadata": {},
   "source": [
    "# \n",
    "MÉTODO #2\n",
    "\n",
    "No tenemos que definir operaciones ya que ya estan definidas las operaciones entre vectores"
   ]
  },
  {
   "cell_type": "code",
   "execution_count": 156,
   "metadata": {
    "collapsed": false
   },
   "outputs": [
    {
     "name": "stdout",
     "output_type": "stream",
     "text": [
      "[2e+00,\n",
      "5e+00]\n"
     ]
    }
   ],
   "source": [
    "vect1=[Intervalo(1,2),Intervalo(1,1)]\n",
    "vect2=[Intervalo(0,1),Intervalo(2,3)]\n",
    "\n",
    "#println(vect1+vect2)\n",
    "#println(vect2-vect1)\n",
    "#println(vect1.*vect2)\n",
    "#println(vect2./vect1)\n",
    "println(vect1⋅vect2)"
   ]
  },
  {
   "cell_type": "code",
   "execution_count": null,
   "metadata": {
    "collapsed": true
   },
   "outputs": [],
   "source": []
  },
  {
   "cell_type": "markdown",
   "metadata": {},
   "source": [
    "#[4]\n",
    "#### Considera la función $f:\\mathbb{R}^2→\\mathbb{R}^2$, dada por $f(x,y)=\\mathsf{M}⋅\\mathbf{x}$, con $\\mathsf{M} =\\begin{pmatrix}\n",
    "2 & 1 \\\\\n",
    "1 & 1\n",
    "\\end{pmatrix}.$"
   ]
  },
  {
   "cell_type": "markdown",
   "metadata": {},
   "source": [
    "#### (i) Encuentra a mano la imagen del cuadrado unitario. Encuentra el intervalo multi-dimensional más pequeño que contiene este conjunto."
   ]
  },
  {
   "cell_type": "code",
   "execution_count": 163,
   "metadata": {
    "collapsed": false
   },
   "outputs": [],
   "source": [
    "using PyPlot"
   ]
  },
  {
   "cell_type": "code",
   "execution_count": null,
   "metadata": {
    "collapsed": true
   },
   "outputs": [],
   "source": []
  },
  {
   "cell_type": "code",
   "execution_count": null,
   "metadata": {
    "collapsed": true
   },
   "outputs": [],
   "source": []
  },
  {
   "cell_type": "code",
   "execution_count": null,
   "metadata": {
    "collapsed": true
   },
   "outputs": [],
   "source": []
  },
  {
   "cell_type": "code",
   "execution_count": null,
   "metadata": {
    "collapsed": true
   },
   "outputs": [],
   "source": []
  },
  {
   "cell_type": "code",
   "execution_count": null,
   "metadata": {
    "collapsed": true
   },
   "outputs": [],
   "source": []
  },
  {
   "cell_type": "code",
   "execution_count": null,
   "metadata": {
    "collapsed": true
   },
   "outputs": [],
   "source": []
  },
  {
   "cell_type": "code",
   "execution_count": null,
   "metadata": {
    "collapsed": true
   },
   "outputs": [],
   "source": []
  }
 ],
 "metadata": {
  "kernelspec": {
   "display_name": "Julia 0.3.6",
   "language": "julia",
   "name": "julia 0.3"
  },
  "language_info": {
   "name": "julia",
   "version": "0.3.7"
  }
 },
 "nbformat": 4,
 "nbformat_minor": 0
}
