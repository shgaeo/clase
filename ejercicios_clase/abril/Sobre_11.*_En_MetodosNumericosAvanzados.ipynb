{
 "cells": [
  {
   "cell_type": "code",
   "execution_count": 75,
   "metadata": {
    "collapsed": false
   },
   "outputs": [],
   "source": [
    "using Intervalos"
   ]
  },
  {
   "cell_type": "markdown",
   "metadata": {},
   "source": [
    "#[1]\n",
    "#### ¿Cuál sería una definición matemática razonable de un intervalo multi-dimensional?"
   ]
  },
  {
   "cell_type": "markdown",
   "metadata": {},
   "source": [
    "Podríamos hacer un arreglo de intervalos, de modo que si tenemos `N` dimensiones entonces trabajemos con un vector de `N` entradas donde cada entrada es un objeto tipo `Intervalo`"
   ]
  },
  {
   "cell_type": "markdown",
   "metadata": {},
   "source": [
    "#[2]\n",
    "#### ¿Cómo podríamos expresar esto en Julia? Da dos posibilidades.\n",
    "\n",
    "##### [Pista: Checa typealias]\n"
   ]
  },
  {
   "cell_type": "markdown",
   "metadata": {},
   "source": [
    "MÉTODO #1\n",
    "\n",
    "Una opción es definir un nuevo tipo que sea un arreglo de intervalos"
   ]
  },
  {
   "cell_type": "code",
   "execution_count": 76,
   "metadata": {
    "collapsed": false
   },
   "outputs": [],
   "source": [
    "type IntervalDim{N}\n",
    "    a::Vector{Intervalo} #Array{Intervalo,1}\n",
    "    IntervalDim(a) = ( length(a)==int(N) ? new(a) : error(\"Error de dimensión\"))\n",
    "end\n",
    "\n",
    "\n",
    "Base.show(io::IO, a::IntervalDim) = print(io::IO, \"IntervalDim{$(length(a.a))}\n",
    "$(a.a)\");"
   ]
  },
  {
   "cell_type": "code",
   "execution_count": 77,
   "metadata": {
    "collapsed": false
   },
   "outputs": [
    {
     "ename": "LoadError",
     "evalue": "Error de dimensión\nwhile loading In[77], in expression starting on line 1",
     "output_type": "error",
     "traceback": [
      "Error de dimensión\nwhile loading In[77], in expression starting on line 1",
      "",
      " in IntervalDim at In[76]:3"
     ]
    }
   ],
   "source": [
    "IntervalDim{3}([Intervalo(1,2),Intervalo(1,1)])"
   ]
  },
  {
   "cell_type": "code",
   "execution_count": 78,
   "metadata": {
    "collapsed": false
   },
   "outputs": [
    {
     "data": {
      "text/plain": [
       "IntervalDim{2}\n",
       "[[1e+00,\n",
       "2e+00],[1e+00,\n",
       "1e+00]]"
      ]
     },
     "execution_count": 78,
     "metadata": {},
     "output_type": "execute_result"
    }
   ],
   "source": [
    "IntervalDim{2}([Intervalo(1,2),Intervalo(1,1)])"
   ]
  },
  {
   "cell_type": "markdown",
   "metadata": {},
   "source": [
    "Como vamos a trabajar normalmente con $\\mathbb{R}^2$ voy a definir uno por 'default' de dimensión dos."
   ]
  },
  {
   "cell_type": "code",
   "execution_count": 79,
   "metadata": {
    "collapsed": false
   },
   "outputs": [
    {
     "data": {
      "text/plain": [
       "IntervalDim{N} (constructor with 1 method)"
      ]
     },
     "execution_count": 79,
     "metadata": {},
     "output_type": "execute_result"
    }
   ],
   "source": [
    "IntervalDim(a::Array{Intervalo,1})=IntervalDim{2}(a::Array{Intervalo,1})"
   ]
  },
  {
   "cell_type": "code",
   "execution_count": 80,
   "metadata": {
    "collapsed": false
   },
   "outputs": [
    {
     "data": {
      "text/plain": [
       "IntervalDim{2}\n",
       "[[1e+00,\n",
       "2e+00],[1e+00,\n",
       "1e+00]]"
      ]
     },
     "execution_count": 80,
     "metadata": {},
     "output_type": "execute_result"
    }
   ],
   "source": [
    "vect1=IntervalDim([Intervalo(1,2),Intervalo(1,1)])"
   ]
  },
  {
   "cell_type": "code",
   "execution_count": null,
   "metadata": {
    "collapsed": true
   },
   "outputs": [],
   "source": []
  },
  {
   "cell_type": "markdown",
   "metadata": {},
   "source": [
    "# \n",
    "MÉTODO #2\n",
    "\n",
    "Otra opción es utilizar el hint (typealias):"
   ]
  },
  {
   "cell_type": "code",
   "execution_count": 81,
   "metadata": {
    "collapsed": false,
    "scrolled": true
   },
   "outputs": [
    {
     "data": {
      "text/plain": [
       "Array{Intervalo,1}"
      ]
     },
     "execution_count": 81,
     "metadata": {},
     "output_type": "execute_result"
    }
   ],
   "source": [
    "typealias IntervalD{} Vector{Intervalo}"
   ]
  },
  {
   "cell_type": "code",
   "execution_count": 82,
   "metadata": {
    "collapsed": false
   },
   "outputs": [
    {
     "data": {
      "text/plain": [
       "true"
      ]
     },
     "execution_count": 82,
     "metadata": {},
     "output_type": "execute_result"
    }
   ],
   "source": [
    "typeof([Intervalo(0,1),Intervalo(2,3)])==IntervalD{}"
   ]
  },
  {
   "cell_type": "markdown",
   "metadata": {
    "collapsed": false
   },
   "source": [
    "De modo que tenemos que definir los arreglos de intervalos de la manera usual pero podemos hacer referencia a su tipo utilizando `IntervalD`.\n",
    "\n",
    "Por ejemplo:"
   ]
  },
  {
   "cell_type": "code",
   "execution_count": 83,
   "metadata": {
    "collapsed": false
   },
   "outputs": [
    {
     "data": {
      "text/plain": [
       "2-element Array{Intervalo,1}:\n",
       " [5e+00,\n",
       "5e+00]\n",
       " [2e+00,\n",
       "3e+00]"
      ]
     },
     "execution_count": 83,
     "metadata": {},
     "output_type": "execute_result"
    }
   ],
   "source": [
    "function algo(c::IntervalD,b::Intervalo)\n",
    "    c[1]=b\n",
    "    c\n",
    "end\n",
    "\n",
    "algo([Intervalo(0,1),Intervalo(2,3)]  ,  Intervalo(5,5))"
   ]
  },
  {
   "cell_type": "markdown",
   "metadata": {},
   "source": [
    "También puedo definir una función que me genere elementos de tamaño `n` de ese tipo:"
   ]
  },
  {
   "cell_type": "code",
   "execution_count": 84,
   "metadata": {
    "collapsed": false
   },
   "outputs": [
    {
     "name": "stdout",
     "output_type": "stream",
     "text": [
      "[#undef,#undef]\n"
     ]
    }
   ],
   "source": [
    "intervalD(n::Int64) = Array(Intervalo,n)\n",
    "intervalD()=intervalD(2)\n",
    "\n",
    "asdf=intervalD() #este es un arreglo 'vacío' de dos elementos\n",
    "if typeof(asdf)==IntervalD\n",
    "    println(asdf)\n",
    "end"
   ]
  },
  {
   "cell_type": "code",
   "execution_count": null,
   "metadata": {
    "collapsed": false
   },
   "outputs": [],
   "source": []
  },
  {
   "cell_type": "markdown",
   "metadata": {},
   "source": [
    "#[3]\n",
    "#### ¿Cuáles operaciones matemáticas necesitaremos definir sobre los intervalos multi-dimensionales? Impleméntalos en un módulo. ¿Cuál de las dos definiciones resulta más útil en ese respecto?"
   ]
  },
  {
   "cell_type": "markdown",
   "metadata": {},
   "source": [
    "MÉTODO #1\n",
    "\n",
    "Pues si utilizamos el primero tenemos que definir TODAS las operaciones, aunque la definición es fácil ya que solo debemos hacer:"
   ]
  },
  {
   "cell_type": "code",
   "execution_count": 85,
   "metadata": {
    "collapsed": false
   },
   "outputs": [
    {
     "data": {
      "text/plain": [
       "definidorDim! (generic function with 1 method)"
      ]
     },
     "execution_count": 85,
     "metadata": {},
     "output_type": "execute_result"
    }
   ],
   "source": [
    "function definidorDim!(f::Function)\n",
    "    f(x::IntervalDim,y::IntervalDim)=f(x.a,y.a)\n",
    "end"
   ]
  },
  {
   "cell_type": "code",
   "execution_count": 86,
   "metadata": {
    "collapsed": false,
    "scrolled": true
   },
   "outputs": [
    {
     "data": {
      "text/plain": [
       "dot (generic function with 8 methods)"
      ]
     },
     "execution_count": 86,
     "metadata": {},
     "output_type": "execute_result"
    }
   ],
   "source": [
    "definidorDim!(+)\n",
    "definidorDim!(-)\n",
    "definidorDim!(.*)\n",
    "definidorDim!(./)\n",
    "definidorDim!(⋅)"
   ]
  },
  {
   "cell_type": "code",
   "execution_count": 109,
   "metadata": {
    "collapsed": false
   },
   "outputs": [
    {
     "name": "stdout",
     "output_type": "stream",
     "text": [
      "[[0e+00,\n",
      "2e+00],[2e+00,\n",
      "3e+00]]\n"
     ]
    }
   ],
   "source": [
    "vect1=IntervalDim([Intervalo(1,2),Intervalo(1,1)])\n",
    "vect2=IntervalDim([Intervalo(0,1),Intervalo(2,3)])\n",
    "\n",
    "#println(vect1+vect2)\n",
    "#println(vect2-vect1)\n",
    "println(vect1.*vect2)\n",
    "#println(vect2./vect1)\n",
    "#println(vect1⋅vect2)"
   ]
  },
  {
   "cell_type": "code",
   "execution_count": null,
   "metadata": {
    "collapsed": false
   },
   "outputs": [],
   "source": []
  },
  {
   "cell_type": "markdown",
   "metadata": {},
   "source": [
    "# \n",
    "MÉTODO #2\n",
    "\n",
    "No tenemos que definir operaciones ya que ya estan definidas las operaciones entre vectores"
   ]
  },
  {
   "cell_type": "code",
   "execution_count": 88,
   "metadata": {
    "collapsed": false
   },
   "outputs": [
    {
     "name": "stdout",
     "output_type": "stream",
     "text": [
      "[2e+00,\n",
      "5e+00]\n"
     ]
    }
   ],
   "source": [
    "vect1=[Intervalo(1,2),Intervalo(1,1)]\n",
    "vect2=[Intervalo(0,1),Intervalo(2,3)]\n",
    "\n",
    "#println(vect1+vect2)\n",
    "#println(vect2-vect1)\n",
    "#println(vect1.*vect2)\n",
    "#println(vect2./vect1)\n",
    "println(vect1⋅vect2)"
   ]
  },
  {
   "cell_type": "code",
   "execution_count": null,
   "metadata": {
    "collapsed": true
   },
   "outputs": [],
   "source": []
  },
  {
   "cell_type": "markdown",
   "metadata": {},
   "source": [
    "#[4]\n",
    "#### Considera la función $f:\\mathbb{R}^2→\\mathbb{R}^2$, dada por $f(x,y)=\\mathsf{M}⋅\\mathbf{x}$, con $\\mathsf{M} =\\begin{pmatrix}\n",
    "2 & 1 \\\\\n",
    "1 & 1\n",
    "\\end{pmatrix}.$"
   ]
  },
  {
   "cell_type": "markdown",
   "metadata": {},
   "source": [
    "#### (i) Encuentra a mano la imagen del cuadrado unitario. Encuentra el intervalo multi-dimensional más pequeño que contiene este conjunto."
   ]
  },
  {
   "cell_type": "code",
   "execution_count": 89,
   "metadata": {
    "collapsed": false
   },
   "outputs": [],
   "source": [
    "using PyPlot"
   ]
  },
  {
   "cell_type": "code",
   "execution_count": 90,
   "metadata": {
    "collapsed": false
   },
   "outputs": [
    {
     "data": {
      "image/png": "[encoded data removed]",
      "text/plain": [
       "Figure(PyObject <matplotlib.figure.Figure object at 0x7f53cab26650>)"
      ]
     },
     "metadata": {},
     "output_type": "display_data"
    }
   ],
   "source": [
    "#El cuadrado unitario está dado por:\n",
    "PyPlot.fill_between([0,1],0,1,color=\"gray\")\n",
    "PyPlot.xlim(-0.5,1.5)\n",
    "PyPlot.ylim(-0.5,1.5);"
   ]
  },
  {
   "cell_type": "markdown",
   "metadata": {
    "collapsed": true
   },
   "source": [
    "Veamos a donde manda algunos puntos:"
   ]
  },
  {
   "cell_type": "code",
   "execution_count": 137,
   "metadata": {
    "collapsed": false
   },
   "outputs": [
    {
     "data": {
      "text/plain": [
       "2x2 Array{Int64,2}:\n",
       " 2  1\n",
       " 1  1"
      ]
     },
     "execution_count": 137,
     "metadata": {},
     "output_type": "execute_result"
    }
   ],
   "source": [
    "mat=[[2,1] [1,1]]"
   ]
  },
  {
   "cell_type": "code",
   "execution_count": 92,
   "metadata": {
    "collapsed": false
   },
   "outputs": [
    {
     "name": "stdout",
     "output_type": "stream",
     "text": [
      "[0,0] → [0,0]\n",
      "[0.0,0.25] → [0.25,0.25]\n",
      "[0.0,0.5] → [0.5,0.5]\n",
      "[0.0,0.75] → [0.75,0.75]\n",
      "[0,1] → [1,1]\n",
      "La recta que une [0,0] y [0,1] se va a una recta que une [0,0] y [1,1]\n",
      "\n",
      "[0,0] → [0,0]\n",
      "[0.25,0.0] → [0.5,0.25]\n",
      "[0.5,0.0] → [1.0,0.5]\n",
      "[0.75,0.0] → [1.5,0.75]\n",
      "[1,0] → [2,1]\n",
      "La recta que une [0,0] y [1,0] se va a una recta que une [0,0] y [2,1]\n",
      "\n",
      "[0,1] → [1,1]\n",
      "[0.25,1.0] → [1.5,1.25]\n",
      "[0.5,1.0] → [2.0,1.5]\n",
      "[0.75,1.0] → [2.5,1.75]\n",
      "[1,1] → [3,2]\n",
      "La recta que une [0,1] y [1,1] se va a una recta que une [1,1] y [3,2]\n",
      "\n",
      "[1,0] → [2,1]\n",
      "[1.0,0.25] → [2.25,1.25]\n",
      "[1.0,0.5] → [2.5,1.5]\n",
      "[1.0,0.75] → [2.75,1.75]\n",
      "[1,1] → [3,2]\n",
      "La recta que une [1,0] y [1,1] se va a una recta que une [2,1] y [3,2]\n"
     ]
    }
   ],
   "source": [
    "x=([0,0],[0,1/4],[0,1/2],[0,3/4],[0,1])\n",
    "for i=1:length(x)\n",
    "    println(\"$(x[i]) → \",mat*x[i])\n",
    "end;\n",
    "println(\"La recta que une [0,0] y [0,1] se va a una recta que une [0,0] y [1,1]\")\n",
    "println()\n",
    "x=([0,0],[1/4,0],[1/2,0],[3/4,0],[1,0])\n",
    "for i=1:length(x)\n",
    "    println(\"$(x[i]) → \",mat*x[i])\n",
    "end;\n",
    "println(\"La recta que une [0,0] y [1,0] se va a una recta que une [0,0] y [2,1]\")\n",
    "println()\n",
    "x=([0,1],[1/4,1],[1/2,1],[3/4,1],[1,1])\n",
    "for i=1:length(x)\n",
    "    println(\"$(x[i]) → \",mat*x[i])\n",
    "end;\n",
    "println(\"La recta que une [0,1] y [1,1] se va a una recta que une [1,1] y [3,2]\")\n",
    "println()\n",
    "x=([1,0],[1,1/4],[1,1/2],[1,3/4],[1,1])\n",
    "for i=1:length(x)\n",
    "    println(\"$(x[i]) → \",mat*x[i])\n",
    "end;\n",
    "println(\"La recta que une [1,0] y [1,1] se va a una recta que une [2,1] y [3,2]\")"
   ]
  },
  {
   "cell_type": "code",
   "execution_count": null,
   "metadata": {
    "collapsed": false
   },
   "outputs": [],
   "source": []
  },
  {
   "cell_type": "code",
   "execution_count": 93,
   "metadata": {
    "collapsed": false
   },
   "outputs": [
    {
     "data": {
      "image/png": "[encoded data removed]",
      "text/plain": [
       "Figure(PyObject <matplotlib.figure.Figure object at 0x7f53caab88d0>)"
      ]
     },
     "metadata": {},
     "output_type": "display_data"
    }
   ],
   "source": [
    "PyPlot.xlim(-0.5,3.5)\n",
    "PyPlot.ylim(-0.5,2.5);\n",
    "\n",
    "PyPlot.plot([0,0],[0,1],\"--g\")\n",
    "PyPlot.plot([0,1],[0,1],\"-g\")\n",
    "\n",
    "PyPlot.plot([0,1],[0,0],\"--r\")\n",
    "PyPlot.plot([0,2],[0,1],\"-r\")\n",
    "\n",
    "PyPlot.plot([0,1],[1,1],\"--b\")\n",
    "PyPlot.plot([1,3],[1,2],\"-b\")\n",
    "\n",
    "PyPlot.plot([1,1],[0,1],\"--y\")\n",
    "PyPlot.plot([2,3],[1,2],\"-y\")\n",
    "\n",
    "PyPlot.fill_between([0,3],0,2,color=\"gray\");"
   ]
  },
  {
   "cell_type": "markdown",
   "metadata": {
    "collapsed": true
   },
   "source": [
    "El intervalo multidimensional más pequeño que contiene la imagen es:"
   ]
  },
  {
   "cell_type": "code",
   "execution_count": 94,
   "metadata": {
    "collapsed": false
   },
   "outputs": [
    {
     "data": {
      "text/plain": [
       "2-element Array{Intervalo,1}:\n",
       " [0e+00,\n",
       "3e+00]\n",
       " [0e+00,\n",
       "2e+00]"
      ]
     },
     "execution_count": 94,
     "metadata": {},
     "output_type": "execute_result"
    }
   ],
   "source": [
    "[Intervalo(0,3),Intervalo(0,2)]"
   ]
  },
  {
   "cell_type": "markdown",
   "metadata": {},
   "source": [
    "#### (ii) Verifica el resultado con tu código."
   ]
  },
  {
   "cell_type": "code",
   "execution_count": 96,
   "metadata": {
    "collapsed": false
   },
   "outputs": [
    {
     "data": {
      "text/plain": [
       "2-element Array{Intervalo,1}:\n",
       " [0e+00,\n",
       "1e+00]\n",
       " [0e+00,\n",
       "1e+00]"
      ]
     },
     "execution_count": 96,
     "metadata": {},
     "output_type": "execute_result"
    }
   ],
   "source": [
    "inter2d=[Intervalo(0,1),Intervalo(0,1)]"
   ]
  },
  {
   "cell_type": "code",
   "execution_count": 98,
   "metadata": {
    "collapsed": false
   },
   "outputs": [
    {
     "ename": "LoadError",
     "evalue": "`zero` has no method matching zero(::Type{Any})\nwhile loading In[98], in expression starting on line 1",
     "output_type": "error",
     "traceback": [
      "`zero` has no method matching zero(::Type{Any})\nwhile loading In[98], in expression starting on line 1",
      "",
      " in generic_matvecmul! at linalg/matmul.jl:317",
      " in * at linalg/matmul.jl:72"
     ]
    }
   ],
   "source": [
    "mat*inter2d"
   ]
  },
  {
   "cell_type": "code",
   "execution_count": 119,
   "metadata": {
    "collapsed": false
   },
   "outputs": [
    {
     "data": {
      "text/plain": [
       "[0e+00,\n",
       "3e+00]"
      ]
     },
     "execution_count": 119,
     "metadata": {},
     "output_type": "execute_result"
    }
   ],
   "source": [
    "2*inter2d[1]+1*inter2d[2]\n",
    "[2,1]⋅inter2d"
   ]
  },
  {
   "cell_type": "code",
   "execution_count": 120,
   "metadata": {
    "collapsed": false
   },
   "outputs": [
    {
     "data": {
      "text/plain": [
       "[0e+00,\n",
       "2e+00]"
      ]
     },
     "execution_count": 120,
     "metadata": {},
     "output_type": "execute_result"
    }
   ],
   "source": [
    "1*inter2d[1]+1*inter2d[2]\n",
    "[1,1]⋅inter2d"
   ]
  },
  {
   "cell_type": "code",
   "execution_count": null,
   "metadata": {
    "collapsed": false
   },
   "outputs": [],
   "source": [
    "*(m::Array{Any,2},x::Array{Intervalo,1})="
   ]
  },
  {
   "cell_type": "code",
   "execution_count": 123,
   "metadata": {
    "collapsed": false
   },
   "outputs": [
    {
     "data": {
      "text/plain": [
       "Array{Intervalo,1}"
      ]
     },
     "execution_count": 123,
     "metadata": {},
     "output_type": "execute_result"
    }
   ],
   "source": [
    "typeof(inter2d)"
   ]
  },
  {
   "cell_type": "code",
   "execution_count": 128,
   "metadata": {
    "collapsed": false
   },
   "outputs": [
    {
     "data": {
      "text/plain": [
       "[0e+00,\n",
       "3e+00]"
      ]
     },
     "execution_count": 128,
     "metadata": {},
     "output_type": "execute_result"
    }
   ],
   "source": [
    "mat[1:2]⋅inter2d"
   ]
  },
  {
   "cell_type": "code",
   "execution_count": 133,
   "metadata": {
    "collapsed": false
   },
   "outputs": [
    {
     "data": {
      "text/plain": [
       "2-element Array{Int64,1}:\n",
       " 2\n",
       " 1"
      ]
     },
     "execution_count": 133,
     "metadata": {},
     "output_type": "execute_result"
    }
   ],
   "source": [
    "mat[1:2,1]"
   ]
  },
  {
   "cell_type": "code",
   "execution_count": 135,
   "metadata": {
    "collapsed": false
   },
   "outputs": [
    {
     "data": {
      "text/plain": [
       "2-element Array{Int64,1}:\n",
       " 1\n",
       " 1"
      ]
     },
     "execution_count": 135,
     "metadata": {},
     "output_type": "execute_result"
    }
   ],
   "source": [
    "mat[1:2,2]"
   ]
  },
  {
   "cell_type": "code",
   "execution_count": 141,
   "metadata": {
    "collapsed": false
   },
   "outputs": [
    {
     "data": {
      "text/plain": [
       "2x2 Array{Int64,2}:\n",
       " 2  0\n",
       " 1  1"
      ]
     },
     "execution_count": 141,
     "metadata": {},
     "output_type": "execute_result"
    }
   ],
   "source": [
    "mat2=[[2,1] [0,1]]"
   ]
  },
  {
   "cell_type": "code",
   "execution_count": 147,
   "metadata": {
    "collapsed": false
   },
   "outputs": [
    {
     "data": {
      "text/plain": [
       "2-element Array{Int64,1}:\n",
       " 2\n",
       " 2"
      ]
     },
     "execution_count": 147,
     "metadata": {},
     "output_type": "execute_result"
    }
   ],
   "source": [
    "mat2*[1,1]"
   ]
  },
  {
   "cell_type": "code",
   "execution_count": 155,
   "metadata": {
    "collapsed": false
   },
   "outputs": [
    {
     "data": {
      "text/plain": [
       "3"
      ]
     },
     "execution_count": 155,
     "metadata": {},
     "output_type": "execute_result"
    }
   ],
   "source": [
    "(transpose(mat))[1:2,1]⋅[1,1]\n",
    "#mat[1:2,1]⋅[1,1]"
   ]
  },
  {
   "cell_type": "code",
   "execution_count": 146,
   "metadata": {
    "collapsed": false
   },
   "outputs": [
    {
     "data": {
      "text/plain": [
       "2x1 Array{Int64,2}:\n",
       " 2\n",
       " 0"
      ]
     },
     "execution_count": 146,
     "metadata": {},
     "output_type": "execute_result"
    }
   ],
   "source": [
    "transpose(mat2[1,1:2])"
   ]
  },
  {
   "cell_type": "code",
   "execution_count": null,
   "metadata": {
    "collapsed": true
   },
   "outputs": [],
   "source": []
  }
 ],
 "metadata": {
  "kernelspec": {
   "display_name": "Julia 0.3.6",
   "language": "julia",
   "name": "julia 0.3"
  },
  "language_info": {
   "name": "julia",
   "version": "0.3.7"
  }
 },
 "nbformat": 4,
 "nbformat_minor": 0
}
