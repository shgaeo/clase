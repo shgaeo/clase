{
 "cells": [
  {
   "cell_type": "code",
   "execution_count": 1,
   "metadata": {
    "collapsed": false
   },
   "outputs": [
    {
     "data": {
      "text/plain": [
       "1"
      ]
     },
     "execution_count": 1,
     "metadata": {},
     "output_type": "execute_result"
    }
   ],
   "source": [
    "asdf=1"
   ]
  },
  {
   "cell_type": "code",
   "execution_count": 1,
   "metadata": {
    "collapsed": false
   },
   "outputs": [
    {
     "name": "stderr",
     "output_type": "stream",
     "text": [
      "INFO: Loading help data...\n"
     ]
    }
   ],
   "source": [
    "using Intervalos, Graficador, AutoDif\n",
    "using PyPlot"
   ]
  },
  {
   "cell_type": "markdown",
   "metadata": {
    "collapsed": true
   },
   "source": [
    "#[1]\n",
    "#### Escribe una función que calcule el operador de Newton para un intervalo $X$, dadas $f(x)$ y $f′(x)$."
   ]
  },
  {
   "cell_type": "code",
   "execution_count": 2,
   "metadata": {
    "collapsed": false
   },
   "outputs": [
    {
     "data": {
      "text/plain": [
       "newtonIntervalo (generic function with 1 method)"
      ]
     },
     "execution_count": 2,
     "metadata": {},
     "output_type": "execute_result"
    }
   ],
   "source": [
    "ptomedio(x::Intervalo)= (x.a + x.b)/2\n",
    "\n",
    "newtonIntervalo(x::Intervalo,f::Function,ff::Function)= ptomedio(x) - f(ptomedio(x))/ff(x)"
   ]
  },
  {
   "cell_type": "markdown",
   "metadata": {},
   "source": [
    "Voy a implementar un par de funciones que den la unión o intersección de un par de intervalos. Si los intervalos no se intersectan las funciones arrojan un error"
   ]
  },
  {
   "cell_type": "code",
   "execution_count": 3,
   "metadata": {
    "collapsed": false
   },
   "outputs": [
    {
     "data": {
      "text/plain": [
       "iNtersectar (generic function with 1 method)"
      ]
     },
     "execution_count": 3,
     "metadata": {},
     "output_type": "execute_result"
    }
   ],
   "source": [
    "uNir(x::Intervalo,y::Intervalo) = (x.a<=y.b && y.a<=x.b) ? Intervalo(min(x.a,y.a),max(x.b,y.b)) : \n",
    "                                                                return(\"Deben ser intervalos que se intersectan\")\n",
    "iNtersectar(x::Intervalo,y::Intervalo) = (x.a<=y.b && y.a<=x.b) ? Intervalo(max(x.a,y.a),min(x.b,y.b)) : \n",
    "                                                                return(\"Deben ser intervalos que se intersectan\")"
   ]
  },
  {
   "cell_type": "markdown",
   "metadata": {},
   "source": [
    "#[2]\n",
    "#### Implementa el método de Newton para intervalos para encontrar las raíces de $f(x)=x^3−1$ a partir de $X=[−3,3]$. Muestra gráficamente la implementación del método. En cada iteración subsecuente del método, ilustra qué le pasa al diámetro de la refincación del intervalo que vas obteniendo."
   ]
  },
  {
   "cell_type": "code",
   "execution_count": 13,
   "metadata": {
    "collapsed": false
   },
   "outputs": [
    {
     "data": {
      "text/plain": [
       "cerosNewton (generic function with 1 method)"
      ]
     },
     "execution_count": 13,
     "metadata": {},
     "output_type": "execute_result"
    }
   ],
   "source": [
    "function cerosNewtonAux(x::Intervalo,f::Function,ff::Function,n::Int64)\n",
    "    if in(0.0,ff(x))\n",
    "        if x.a<0.0 && x.b>0.0\n",
    "            return \"El intervalo de la derivada contiene al cero\"\n",
    "        end\n",
    "    end\n",
    "    if typeof(iNtersectar(x,newtonIntervalo(x,f,ff)))==ASCIIString\n",
    "        return \"El intervalo elegido no contiene ceros de $f(x)\"\n",
    "    end\n",
    "    if n>100\n",
    "        println(x)\n",
    "        return \"Más de 100 iteraciones\"\n",
    "    elseif abs(redonUP(-,x.b,x.a))<2.0^-30 \n",
    "        return x\n",
    "    else\n",
    "        n+=1\n",
    "        cerosNewtonAux( iNtersectar(x,newtonIntervalo(x,f,ff))  , f , ff , n)\n",
    "    end\n",
    "end\n",
    "\n",
    "cerosNewton(x::Intervalo,f::Function,ff::Function)=cerosNewtonAux(x::Intervalo,f::Function,ff::Function,1)"
   ]
  },
  {
   "cell_type": "code",
   "execution_count": 14,
   "metadata": {
    "collapsed": false
   },
   "outputs": [
    {
     "data": {
      "text/plain": [
       "\"El intervalo de la derivada contiene al cero\""
      ]
     },
     "execution_count": 14,
     "metadata": {},
     "output_type": "execute_result"
    }
   ],
   "source": [
    "f1(x)=x^3-1\n",
    "f2(x)=3*x^2\n",
    "interv1=Intervalo(-3,3)\n",
    "cerosNewton(interv1,f1,f2)"
   ]
  },
  {
   "cell_type": "code",
   "execution_count": 15,
   "metadata": {
    "collapsed": false,
    "scrolled": true
   },
   "outputs": [
    {
     "data": {
      "text/plain": [
       "[9.999999999996638396386008709155080217012860753066769572114956244718861318173878e-01,\n",
       "1.000000000000370042584027206015784751339542262885839885826171619502992567418929e+00]"
      ]
     },
     "execution_count": 15,
     "metadata": {},
     "output_type": "execute_result"
    }
   ],
   "source": [
    "interv1=Intervalo(3e-02,3)\n",
    "cerosNewton(interv1,f1,f2)"
   ]
  },
  {
   "cell_type": "code",
   "execution_count": 16,
   "metadata": {
    "collapsed": false
   },
   "outputs": [
    {
     "data": {
      "text/plain": [
       "[9.999999999996455746958370586872576732910155438046615480108400544854991344101945e-01,\n",
       "1.00000000000039142809569346024873314200851275964043658576342252110557003319485e+00]"
      ]
     },
     "execution_count": 16,
     "metadata": {},
     "output_type": "execute_result"
    }
   ],
   "source": [
    "interv1=Intervalo(0,3)\n",
    "cerosNewton(interv1,f1,f2)"
   ]
  },
  {
   "cell_type": "code",
   "execution_count": null,
   "metadata": {
    "collapsed": true
   },
   "outputs": [],
   "source": []
  },
  {
   "cell_type": "markdown",
   "metadata": {
    "collapsed": false
   },
   "source": [
    "Lo siguiente es una representación gráfica de lo que hace el método. Para hacerlo amigable con nosotros solo hice las primeras tres iteraciones."
   ]
  },
  {
   "cell_type": "code",
   "execution_count": 17,
   "metadata": {
    "collapsed": false
   },
   "outputs": [
    {
     "data": {
      "image/png": "[encoded data removed]",
      "text/plain": [
       "Figure(PyObject <matplotlib.figure.Figure object at 0x7f6c13df08d0>)"
      ]
     },
     "metadata": {},
     "output_type": "display_data"
    }
   ],
   "source": [
    "eme=ptomedio(interv1)\n",
    "graficaarea(float64(interv1.a),float64(interv1.b),f1)\n",
    "PyPlot.plot(Float64[eme],Float64[f1(eme)],\"+r\")\n",
    "\n",
    "interv2=newtonIntervalo(interv1,f1,f2)\n",
    "interv3=iNtersectar(interv1,interv2)\n",
    "polY=f1(interv3)\n",
    "PyPlot.fill_between(Float64[interv3.a,interv3.b],float64(polY.a),float64(polY.b),color=\"gray\")\n",
    "eme=ptomedio(interv3)\n",
    "PyPlot.plot(Float64[eme],Float64[f1(eme)],\"+r\")\n",
    "\n",
    "interv4=newtonIntervalo(interv3,f1,f2)\n",
    "interv5=iNtersectar(interv3,interv4)\n",
    "polY=f1(interv5)\n",
    "PyPlot.fill_between(Float64[interv5.a,interv5.b],float64(polY.a),float64(polY.b),color=\"black\")\n",
    "eme=ptomedio(interv5)\n",
    "PyPlot.plot(Float64[eme],Float64[f1(eme)],\"+r\")\n",
    "\n",
    "interv6=newtonIntervalo(interv5,f1,f2)\n",
    "interv7=iNtersectar(interv5,interv6)\n",
    "polY=f1(interv7)\n",
    "PyPlot.fill_between(Float64[interv7.a,interv7.b],float64(polY.a),float64(polY.b),color=\"white\")\n",
    "eme=ptomedio(interv7)\n",
    "PyPlot.plot(Float64[eme],Float64[f1(eme)],\"+r\")\n",
    ";"
   ]
  },
  {
   "cell_type": "code",
   "execution_count": null,
   "metadata": {
    "collapsed": true
   },
   "outputs": [],
   "source": []
  },
  {
   "cell_type": "markdown",
   "metadata": {},
   "source": [
    "Ahora voy a implementar el método con diferenciación automática, para lo cual agregué la siguiente linea al módulo AutoDif:\n",
    "`ValorDeriv(x::Intervalo)=ValorDeriv(x,Intervalo(1.0))`"
   ]
  },
  {
   "cell_type": "code",
   "execution_count": 18,
   "metadata": {
    "collapsed": false
   },
   "outputs": [
    {
     "data": {
      "text/html": [
       "3 methods for generic function <b>ValorDeriv</b>:<ul><li> ValorDeriv(x::<b>Intervalo</b>) at <a href=\"https://github.com/shgaeo/clase/tree/bd9e410f472ba5e4e0b36ef4fb23131232f5fe0f/e/MisModulos/AutoDif/src/AutoDif.jl#L19\" target=\"_blank\">/home/santiago/Documentos/Escuela-maestría/1er-semestre/Física-computacional/Clase/MisModulos/AutoDif/src/AutoDif.jl:19</a><li> ValorDeriv(valor,deriv)<li> ValorDeriv(valor) at <a href=\"https://github.com/shgaeo/clase/tree/bd9e410f472ba5e4e0b36ef4fb23131232f5fe0f/e/MisModulos/AutoDif/src/AutoDif.jl#L18\" target=\"_blank\">/home/santiago/Documentos/Escuela-maestría/1er-semestre/Física-computacional/Clase/MisModulos/AutoDif/src/AutoDif.jl:18</a></ul>"
      ],
      "text/plain": [
       "# 3 methods for generic function \"ValorDeriv\":\n",
       "ValorDeriv(x::Intervalo) at /home/santiago/Documentos/Escuela-maestría/1er-semestre/Física-computacional/Clase/MisModulos/AutoDif/src/AutoDif.jl:19\n",
       "ValorDeriv(valor,deriv)\n",
       "ValorDeriv(valor) at /home/santiago/Documentos/Escuela-maestría/1er-semestre/Física-computacional/Clase/MisModulos/AutoDif/src/AutoDif.jl:18"
      ]
     },
     "execution_count": 18,
     "metadata": {},
     "output_type": "execute_result"
    }
   ],
   "source": [
    "methods(ValorDeriv)"
   ]
  },
  {
   "cell_type": "code",
   "execution_count": 24,
   "metadata": {
    "collapsed": false
   },
   "outputs": [
    {
     "data": {
      "text/plain": [
       "cerosNewton (generic function with 2 methods)"
      ]
     },
     "execution_count": 24,
     "metadata": {},
     "output_type": "execute_result"
    }
   ],
   "source": [
    "newtonIntervalo(x::Intervalo,f::Function)= ptomedio(x) - f(ptomedio(x))/(f(ValorDeriv(x)).deriv)\n",
    "\n",
    "function cerosNewtonAux(x::Intervalo,f::Function,n::Int64)\n",
    "    y=f(ValorDeriv(x))\n",
    "    if in(0.0,y.deriv)\n",
    "        if x.a<0.0 && x.b>0.0\n",
    "            return \"El intervalo de la derivada contiene al cero\"\n",
    "        end\n",
    "    end\n",
    "    if typeof(iNtersectar(x,newtonIntervalo(x,f)))==ASCIIString\n",
    "        return \"El intervalo elegido no contiene ceros de $f(x)\"\n",
    "    end\n",
    "    if n>100\n",
    "        println(x)\n",
    "        return \"Más de 100 iteraciones\"\n",
    "    elseif abs(redonUP(-,x.b,x.a))<2.0^-30 \n",
    "        return x\n",
    "    else\n",
    "        n+=1\n",
    "        cerosNewtonAux( iNtersectar(x,newtonIntervalo(x,f))  , f , n)\n",
    "    end\n",
    "end\n",
    "\n",
    "cerosNewton(x::Intervalo,f::Function)=cerosNewtonAux(x::Intervalo,f::Function,1)"
   ]
  },
  {
   "cell_type": "code",
   "execution_count": 25,
   "metadata": {
    "collapsed": false
   },
   "outputs": [
    {
     "data": {
      "text/plain": [
       "\"El intervalo de la derivada contiene al cero\""
      ]
     },
     "execution_count": 25,
     "metadata": {},
     "output_type": "execute_result"
    }
   ],
   "source": [
    "f1(x)=x^3-1\n",
    "interv1=Intervalo(-3,3)\n",
    "cerosNewton(interv1,f1)"
   ]
  },
  {
   "cell_type": "code",
   "execution_count": 26,
   "metadata": {
    "collapsed": false
   },
   "outputs": [
    {
     "data": {
      "text/plain": [
       "[9.999999999996638396386008709155080217012860753066769572114956244718861318173878e-01,\n",
       "1.000000000000370042584027206015784751339542262885839885826171619502992567418929e+00]"
      ]
     },
     "execution_count": 26,
     "metadata": {},
     "output_type": "execute_result"
    }
   ],
   "source": [
    "interv1=Intervalo(3e-02,3)\n",
    "cerosNewton(interv1,f1)"
   ]
  },
  {
   "cell_type": "code",
   "execution_count": 27,
   "metadata": {
    "collapsed": false
   },
   "outputs": [
    {
     "data": {
      "text/plain": [
       "[9.999999999996455746958370586872576732910155438046615480108400544854991344101945e-01,\n",
       "1.00000000000039142809569346024873314200851275964043658576342252110557003319485e+00]"
      ]
     },
     "execution_count": 27,
     "metadata": {},
     "output_type": "execute_result"
    }
   ],
   "source": [
    "interv1=Intervalo(0,3)\n",
    "cerosNewton(interv1,f1)"
   ]
  },
  {
   "cell_type": "markdown",
   "metadata": {
    "collapsed": false
   },
   "source": [
    "#[3]\n",
    "##### Usando tu implementación, demuestra que en el mismo intervalo $X=[−3,3]$ que $g(x)=x^2+1$ no tiene ninguna raíz. Ilustra gráficamente esto."
   ]
  },
  {
   "cell_type": "code",
   "execution_count": null,
   "metadata": {
    "collapsed": false
   },
   "outputs": [],
   "source": []
  },
  {
   "cell_type": "code",
   "execution_count": 240,
   "metadata": {
    "collapsed": false
   },
   "outputs": [
    {
     "data": {
      "text/plain": [
       "\"El intervalo de la derivada contiene al cero\""
      ]
     },
     "execution_count": 240,
     "metadata": {},
     "output_type": "execute_result"
    }
   ],
   "source": [
    "f1(x)=x^2+1\n",
    "interv1=Intervalo(-3,3)\n",
    "cerosNewton(interv1,f1)"
   ]
  },
  {
   "cell_type": "code",
   "execution_count": 241,
   "metadata": {
    "collapsed": false
   },
   "outputs": [
    {
     "data": {
      "image/png": "[encoded data removed]",
      "text/plain": [
       "Figure(PyObject <matplotlib.figure.Figure object at 0x7f54bc3df810>)"
      ]
     },
     "metadata": {},
     "output_type": "display_data"
    }
   ],
   "source": [
    "eme=ptomedio(interv1)\n",
    "graficaarea(float64(interv1.a),float64(interv1.b),f1)\n",
    "PyPlot.plot(Float64[eme],Float64[f1(eme)],\"or\")\n",
    "\n",
    "#interv2=newtonIntervalo(interv1,f1,f2)\n",
    "#interv3=iNtersectar(interv1,interv2)\n",
    "#polY=f1(interv3)\n",
    "#PyPlot.fill_between(Float64[interv3.a,interv3.b],float64(polY.a),float64(polY.b),color=\"gray\")\n",
    "#eme=ptomedio(interv3)\n",
    "#PyPlot.plot(Float64[eme],Float64[f1(eme)],\"or\")\n",
    "\n",
    ";"
   ]
  },
  {
   "cell_type": "code",
   "execution_count": null,
   "metadata": {
    "collapsed": false
   },
   "outputs": [],
   "source": []
  },
  {
   "cell_type": "markdown",
   "metadata": {},
   "source": [
    "#[4]\n",
    "##### Considera la familia de polinomios de Wilkinson definidos por $W_n(x)=∏^n_{i=1}(x−i)$. Partiendo de un intervalo simétrico alrededor de cero, implementa el método de Newton para encontrar sus raíces, utilizando diferenciación automática."
   ]
  },
  {
   "cell_type": "code",
   "execution_count": 242,
   "metadata": {
    "collapsed": false
   },
   "outputs": [
    {
     "data": {
      "text/plain": [
       "wilkinson (generic function with 1 method)"
      ]
     },
     "execution_count": 242,
     "metadata": {},
     "output_type": "execute_result"
    }
   ],
   "source": [
    "function wilkinson(x,n::Int64)\n",
    "    a=(x-1)\n",
    "    for i=2:n\n",
    "        a=a*(x-i)\n",
    "    end\n",
    "    return a\n",
    "end"
   ]
  },
  {
   "cell_type": "code",
   "execution_count": 243,
   "metadata": {
    "collapsed": false,
    "scrolled": true
   },
   "outputs": [
    {
     "data": {
      "text/plain": [
       "2"
      ]
     },
     "execution_count": 243,
     "metadata": {},
     "output_type": "execute_result"
    }
   ],
   "source": [
    "asdf=wilkinson(0,2)"
   ]
  },
  {
   "cell_type": "code",
   "execution_count": 245,
   "metadata": {
    "collapsed": false
   },
   "outputs": [
    {
     "data": {
      "text/plain": [
       "[1e+00,\n",
       "1e+00]"
      ]
     },
     "execution_count": 245,
     "metadata": {},
     "output_type": "execute_result"
    }
   ],
   "source": [
    "n=1;\n",
    "f3(x)=wilkinson(x,n)\n",
    "interv8=Intervalo(0.5,1.5)\n",
    "cerosNewton(interv8,f3)"
   ]
  },
  {
   "cell_type": "code",
   "execution_count": null,
   "metadata": {
    "collapsed": true
   },
   "outputs": [],
   "source": []
  },
  {
   "cell_type": "markdown",
   "metadata": {},
   "source": [
    "# División extendida"
   ]
  },
  {
   "cell_type": "markdown",
   "metadata": {},
   "source": [
    "#[5]\n",
    "#### Supón que $F′(X)$ sea un intervalo, digamos $F′(X)=[−a,b]$, que contiene $0$ (con $a,b>0$).\n",
    "#### (i) Definiendo 1/A como el conjunto {1/x:x∈A}, evalúa 1/F′(X)."
   ]
  },
  {
   "cell_type": "markdown",
   "metadata": {},
   "source": [
    "Sabemos que $1/F′(X)$ debería dar como resultado dos intervalos: $[-∞,-\\frac{1}{a}]$ y $[\\frac{1}{b},∞]$\n",
    "\n",
    "Para trabajar con estos intervalos haré que $1/F′(X)$ no arroje un intervalo sino un arreglo de intervalos:"
   ]
  },
  {
   "cell_type": "code",
   "execution_count": 279,
   "metadata": {
    "collapsed": false
   },
   "outputs": [
    {
     "data": {
      "text/plain": [
       "extenDiv (generic function with 1 method)"
      ]
     },
     "execution_count": 279,
     "metadata": {},
     "output_type": "execute_result"
    }
   ],
   "source": [
    "extenDiv(x::Intervalo)=[Intervalo(-inf(BigFloat),(1/Intervalo(x.a)).b),Intervalo((1/Intervalo(x.b)).a,inf(BigFloat))]"
   ]
  },
  {
   "cell_type": "code",
   "execution_count": 280,
   "metadata": {
    "collapsed": false
   },
   "outputs": [
    {
     "data": {
      "text/plain": [
       "2-element Array{Intervalo,1}:\n",
       " [-inf,\n",
       "-3.333333333333333333333333333333333333333333333333333333333333333333333333333305e-01]\n",
       " [3.333333333333333333333333333333333333333333333333333333333333333333333333333305e-01,\n",
       "inf]  "
      ]
     },
     "execution_count": 280,
     "metadata": {},
     "output_type": "execute_result"
    }
   ],
   "source": [
    "extenDiv(Intervalo(-3,3))"
   ]
  },
  {
   "cell_type": "markdown",
   "metadata": {},
   "source": [
    "Nótese que al definirlo hice que el redondeo incluyera el valor que yo quiero. Si lo hubiera definido como \n",
    "\n",
    "    extenDiv(x::Intervalo)=[Intervalo(-inf(BigFloat),1/x.a),Intervalo(1/x.b,inf(BigFloat))]\n",
    "\n",
    "entonces \n",
    "\n",
    "    extenDiv(Intervalo(-3,3))\n",
    "\n",
    "arroja \n",
    "\n",
    "    [ [-inf,-3.333333333333333333333333333333333333333333333333333333333333333333333333333348e-01], \n",
    "        [3.333333333333333333333333333333333333333333333333333333333333333333333333333348e-01,inf] ]\n",
    "\n",
    "Que claramente no contiene los elementos { $-\\frac{1}{3}$,$\\frac{1}{3}$ }"
   ]
  },
  {
   "cell_type": "markdown",
   "metadata": {},
   "source": [
    "#### (ii) Define una función que implementa esta \"división extendida\" de intervalos (o, más bien, inversa extendida)."
   ]
  },
  {
   "cell_type": "code",
   "execution_count": null,
   "metadata": {
    "collapsed": true
   },
   "outputs": [],
   "source": []
  }
 ],
 "metadata": {
  "kernelspec": {
   "display_name": "Julia 0.3.6",
   "language": "julia",
   "name": "julia 0.3"
  },
  "language_info": {
   "name": "julia",
   "version": "0.3.7"
  }
 },
 "nbformat": 4,
 "nbformat_minor": 0
}
