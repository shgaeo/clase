{
 "cells": [
  {
   "cell_type": "code",
   "execution_count": 1,
   "metadata": {
    "collapsed": false
   },
   "outputs": [
    {
     "data": {
      "text/plain": [
       "1"
      ]
     },
     "execution_count": 1,
     "metadata": {},
     "output_type": "execute_result"
    }
   ],
   "source": [
    "asdf=1"
   ]
  },
  {
   "cell_type": "code",
   "execution_count": 2,
   "metadata": {
    "collapsed": false
   },
   "outputs": [
    {
     "name": "stderr",
     "output_type": "stream",
     "text": [
      "INFO: Loading help data...\n"
     ]
    }
   ],
   "source": [
    "using Intervalos, Graficador\n",
    "using PyPlot"
   ]
  },
  {
   "cell_type": "markdown",
   "metadata": {
    "collapsed": true
   },
   "source": [
    "#[1]\n",
    "##### Escribe una función que calcule el operador de Newton para un intervalo $X$, dadas $f(x)$ y $f′(x)$."
   ]
  },
  {
   "cell_type": "code",
   "execution_count": 3,
   "metadata": {
    "collapsed": false
   },
   "outputs": [
    {
     "data": {
      "text/plain": [
       "newtonIntervalo (generic function with 1 method)"
      ]
     },
     "execution_count": 3,
     "metadata": {},
     "output_type": "execute_result"
    }
   ],
   "source": [
    "ptomedio(x::Intervalo)= (x.a + x.b)/2\n",
    "\n",
    "newtonIntervalo(x::Intervalo,f::Function,ff::Function)= ptomedio(x) - f(ptomedio(x))/ff(x)"
   ]
  },
  {
   "cell_type": "markdown",
   "metadata": {},
   "source": [
    "Voy a implementar un par de funciones que den la unión o intersección de un par de intervalos. Si los intervalos no se intersectan las funciones arrojan un error"
   ]
  },
  {
   "cell_type": "code",
   "execution_count": 4,
   "metadata": {
    "collapsed": false
   },
   "outputs": [
    {
     "data": {
      "text/plain": [
       "iNtersectar (generic function with 1 method)"
      ]
     },
     "execution_count": 4,
     "metadata": {},
     "output_type": "execute_result"
    }
   ],
   "source": [
    "uNir(x::Intervalo,y::Intervalo) = (x.a<=y.b && y.a<=x.b) ? Intervalo(min(x.a,y.a),max(x.b,y.b)) : \n",
    "                                                                error(\"Deben ser intervalos que se intersectan\")\n",
    "iNtersectar(x::Intervalo,y::Intervalo) = (x.a<=y.b && y.a<=x.b) ? Intervalo(max(x.a,y.a),min(x.b,y.b)) : \n",
    "                                                                error(\"Deben ser intervalos que se intersectan\")"
   ]
  },
  {
   "cell_type": "markdown",
   "metadata": {},
   "source": [
    "#[2]\n",
    "##### Implementa el método de Newton para intervalos para encontrar las raíces de $f(x)=x^3−1$ a partir de $X=[−3,3]$. Muestra gráficamente la implementación del método. En cada iteración subsecuente del método, ilustra qué le pasa al diámetro de la refincación del intervalo que vas obteniendo."
   ]
  },
  {
   "cell_type": "code",
   "execution_count": 53,
   "metadata": {
    "collapsed": false
   },
   "outputs": [
    {
     "data": {
      "text/plain": [
       "cerosNewton (generic function with 1 method)"
      ]
     },
     "execution_count": 53,
     "metadata": {},
     "output_type": "execute_result"
    }
   ],
   "source": [
    "function cerosNewtonAux(x::Intervalo,f::Function,ff::Function,n::Int64)\n",
    "    if n>3\n",
    "        println(x)\n",
    "        return \"Más de 100 iteraciones\"\n",
    "    elseif norm(redonUP(-,x.b,x.a))<2.0^-30 \n",
    "        return x\n",
    "    else\n",
    "        n+=1\n",
    "        cerosNewtonAux( iNtersectar(x,newtonIntervalo(x,f,ff))  , f , ff , n)\n",
    "    end\n",
    "end\n",
    "\n",
    "cerosNewton(x::Intervalo,f::Function,ff::Function)=cerosNewtonAux(x::Intervalo,f::Function,ff::Function,1)"
   ]
  },
  {
   "cell_type": "code",
   "execution_count": 54,
   "metadata": {
    "collapsed": false
   },
   "outputs": [
    {
     "name": "stdout",
     "output_type": "stream",
     "text": [
      "[1.119837448309931898629876041048700831509144473417338273797090161289464996798915e+00,\n",
      "1.248437738149672306050906873952141441853376009754610577655845145557079713458323e+00]\n"
     ]
    },
    {
     "data": {
      "text/plain": [
       "\"Más de 100 iteraciones\""
      ]
     },
     "execution_count": 54,
     "metadata": {},
     "output_type": "execute_result"
    }
   ],
   "source": [
    "cerosNewton(interv1,f1,f2)"
   ]
  },
  {
   "cell_type": "code",
   "execution_count": 66,
   "metadata": {
    "collapsed": false
   },
   "outputs": [
    {
     "data": {
      "text/plain": [
       "[1.119837448309931898629876041048700831509144473417338273797090161289464996798915e+00,\n",
       "5.623612038781746287845687766686782306733165862869764513438294460237262028522043e+01]"
      ]
     },
     "execution_count": 66,
     "metadata": {},
     "output_type": "execute_result"
    }
   ],
   "source": [
    "asdf=interv5\n",
    "ptomedio(asdf)-f1(ptomedio(asdf))/f2(asdf)"
   ]
  },
  {
   "cell_type": "code",
   "execution_count": null,
   "metadata": {
    "collapsed": true
   },
   "outputs": [],
   "source": []
  },
  {
   "cell_type": "code",
   "execution_count": 37,
   "metadata": {
    "collapsed": false
   },
   "outputs": [
    {
     "data": {
      "text/plain": [
       "[1.119837448309931898629876041048700831509144473417338273797090161289464996798915e+00,\n",
       "1.248437738149672306050906873952141441853376009754610577655845145557079713458323e+00]"
      ]
     },
     "execution_count": 37,
     "metadata": {},
     "output_type": "execute_result"
    }
   ],
   "source": [
    "f1(x)=x^3-1\n",
    "f2(x)=x^2\n",
    "interv1=Intervalo(-3,3)\n",
    "interv2=newtonIntervalo(interv1,f1,f2)\n",
    "interv3=iNtersectar(interv1,interv2)\n",
    "interv4=newtonIntervalo(interv3,f1,f2)\n",
    "interv5=iNtersectar(interv3,interv4)\n",
    "interv6=newtonIntervalo(interv5,f1,f2)\n",
    "interv7=iNtersectar(interv5,interv6)"
   ]
  },
  {
   "cell_type": "code",
   "execution_count": 67,
   "metadata": {
    "collapsed": false
   },
   "outputs": [
    {
     "data": {
      "image/png": "[encoded data removed]",
      "text/plain": [
       "Figure(PyObject <matplotlib.figure.Figure object at 0x7fb795298750>)"
      ]
     },
     "metadata": {},
     "output_type": "display_data"
    }
   ],
   "source": [
    "eme=ptomedio(interv1)\n",
    "graficaarea(float64(interv1.a),float64(interv1.b),f1)\n",
    "PyPlot.plot(Float64[eme],Float64[f1(eme)],\"o\")\n",
    "\n",
    "polY=f1(interv3)\n",
    "PyPlot.fill_between(Float64[interv3.a,interv3.b],float64(polY.a),float64(polY.b),color=\"gray\")\n",
    "eme=ptomedio(interv3)\n",
    "PyPlot.plot(Float64[eme],Float64[f1(eme)],\"o\")\n",
    "\n",
    "polY=f1(interv5)\n",
    "PyPlot.fill_between(Float64[interv5.a,interv5.b],float64(polY.a),float64(polY.b),color=\"black\")\n",
    "eme=ptomedio(interv5)\n",
    "PyPlot.plot(Float64[eme],Float64[f1(eme)],\"o\")\n",
    "\n",
    "polY=f1(interv7)\n",
    "PyPlot.fill_between(Float64[interv7.a,interv7.b],float64(polY.a),float64(polY.b),color=\"white\")\n",
    "#eme=ptomedio(interv7)\n",
    "#PyPlot.plot(Float64[eme],Float64[f1(eme)],\"o\")\n",
    ";"
   ]
  },
  {
   "cell_type": "code",
   "execution_count": null,
   "metadata": {
    "collapsed": false
   },
   "outputs": [],
   "source": []
  },
  {
   "cell_type": "code",
   "execution_count": null,
   "metadata": {
    "collapsed": true
   },
   "outputs": [],
   "source": []
  }
 ],
 "metadata": {
  "kernelspec": {
   "display_name": "Julia 0.3.6",
   "language": "julia",
   "name": "julia 0.3"
  },
  "language_info": {
   "name": "julia",
   "version": "0.3.7"
  }
 },
 "nbformat": 4,
 "nbformat_minor": 0
}
