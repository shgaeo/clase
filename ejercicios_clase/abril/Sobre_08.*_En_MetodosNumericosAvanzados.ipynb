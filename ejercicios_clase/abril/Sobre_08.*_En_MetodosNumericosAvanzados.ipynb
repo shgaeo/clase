{
 "metadata": {
  "language": "Julia",
  "name": "",
  "signature": "sha256:93b6fe54e058e977dfeea9cfc2042abdad425ee3e766f90b88024896c161c8f4"
 },
 "nbformat": 3,
 "nbformat_minor": 0,
 "worksheets": [
  {
   "cells": [
    {
     "cell_type": "code",
     "collapsed": false,
     "input": [],
     "language": "python",
     "metadata": {},
     "outputs": [],
     "prompt_number": 2
    },
    {
     "cell_type": "code",
     "collapsed": false,
     "input": [
      "using Intervalos, PyPlot"
     ],
     "language": "python",
     "metadata": {},
     "outputs": [],
     "prompt_number": 11
    },
    {
     "cell_type": "code",
     "collapsed": false,
     "input": [
      "methods(Intervalo)"
     ],
     "language": "python",
     "metadata": {},
     "outputs": [
      {
       "html": [
        "3 methods for generic function <b>Intervalo</b>:<ul><li> Intervalo(a::<b>BigFloat</b>,b::<b>BigFloat</b>) at <a href=\"https://github.com/shgaeo/clase/tree/ccbe7a7460a10b6061f88145d9d22e058e21328b/e/MisModulos/Intervalos/src/Intervalos.jl#L14\" target=\"_blank\">/home/santiago/Documentos/Escuela-maestr\u00eda/1er-semestre/F\u00edsica-computacional/Clase/MisModulos/Intervalos/src/Intervalos.jl:14</a><li> Intervalo(a,b) at <a href=\"https://github.com/shgaeo/clase/tree/ccbe7a7460a10b6061f88145d9d22e058e21328b/e/MisModulos/Intervalos/src/Intervalos.jl#L29\" target=\"_blank\">/home/santiago/Documentos/Escuela-maestr\u00eda/1er-semestre/F\u00edsica-computacional/Clase/MisModulos/Intervalos/src/Intervalos.jl:29</a><li> Intervalo(a) at <a href=\"https://github.com/shgaeo/clase/tree/ccbe7a7460a10b6061f88145d9d22e058e21328b/e/MisModulos/Intervalos/src/Intervalos.jl#L31\" target=\"_blank\">/home/santiago/Documentos/Escuela-maestr\u00eda/1er-semestre/F\u00edsica-computacional/Clase/MisModulos/Intervalos/src/Intervalos.jl:31</a></ul>"
       ],
       "metadata": {},
       "output_type": "pyout",
       "prompt_number": 5,
       "text": [
        "# 3 methods for generic function \"Intervalo\":\n",
        "Intervalo(a::BigFloat,b::BigFloat) at /home/santiago/Documentos/Escuela-maestr\u00eda/1er-semestre/F\u00edsica-computacional/Clase/MisModulos/Intervalos/src/Intervalos.jl:14\n",
        "Intervalo(a,b) at /home/santiago/Documentos/Escuela-maestr\u00eda/1er-semestre/F\u00edsica-computacional/Clase/MisModulos/Intervalos/src/Intervalos.jl:29\n",
        "Intervalo(a) at /home/santiago/Documentos/Escuela-maestr\u00eda/1er-semestre/F\u00edsica-computacional/Clase/MisModulos/Intervalos/src/Intervalos.jl:31"
       ]
      }
     ],
     "prompt_number": 5
    },
    {
     "cell_type": "code",
     "collapsed": false,
     "input": [
      "inter1=Intervalo(\"2\",\"2.5\")\n",
      "inter2=Intervalo(\"0\",\"0.5\")"
     ],
     "language": "python",
     "metadata": {},
     "outputs": [
      {
       "metadata": {},
       "output_type": "pyout",
       "prompt_number": 33,
       "text": [
        "[0e+00,\n",
        "5e-01]"
       ]
      }
     ],
     "prompt_number": 33
    },
    {
     "cell_type": "code",
     "collapsed": false,
     "input": [
      "function redonUP(f::Function,x,y)\n",
      "    with_rounding(BigFloat,RoundUp) do \n",
      "        f(BigFloat(x),BigFloat(y))\n",
      "    end\n",
      "end\n",
      "\n",
      "function redonDOWN(f::Function,x,y)\n",
      "    with_rounding(BigFloat,RoundDown) do \n",
      "        f(BigFloat(x),BigFloat(y))\n",
      "    end\n",
      "end\n",
      "\n",
      "function redonUP(f::Function,x)\n",
      "    with_rounding(BigFloat,RoundUp) do \n",
      "        f(BigFloat(x))\n",
      "    end\n",
      "end\n",
      "\n",
      "function redonDOWN(f::Function,x)\n",
      "    with_rounding(BigFloat,RoundDown) do \n",
      "        f(BigFloat(x))\n",
      "    end\n",
      "end"
     ],
     "language": "python",
     "metadata": {},
     "outputs": [
      {
       "metadata": {},
       "output_type": "pyout",
       "prompt_number": 125,
       "text": [
        "redonDOWN (generic function with 2 methods)"
       ]
      }
     ],
     "prompt_number": 125
    },
    {
     "cell_type": "heading",
     "level": 2,
     "metadata": {},
     "source": [
      "Falta seguir poniento los redondeos en las operaciones(recuerda que todas son monotonas, tu sabes si crecientes o decrecientes)"
     ]
    },
    {
     "cell_type": "code",
     "collapsed": false,
     "input": [
      "import Base.exp\n",
      "import Base.log\n",
      "import Base.atan\n",
      "import Base.asin\n",
      "import Base.acos\n",
      "\n",
      "exp(x::Intervalo)=Intervalo(redonDOWN(exp,x.a),redonUP(exp,x.b))\n",
      "log(x::Intervalo)= x.a<0 ? error(\"Funci\u00f3n log no acepta n\u00fameros negativos \\n\") : Intervalo(redonDOWN(log,x.a),redonUP(log,x.b))\n",
      "atan(x::Intervalo)=Intervalo(atan(x.a),atan(x.b))\n",
      "asin(x::Intervalo)=\n",
      "        x.a<-1||x.b>1 ? error(\"Funci\u00f3n asin solo acepta n\u00fameros entre -1 y 1 \\n\") : Intervalo(asin(x.a),asin(x.b))\n",
      "acos(x::Intervalo)=\n",
      "        x.a<-1||x.b>1 ? error(\"Funci\u00f3n acos solo acepta n\u00fameros entre -1 y 1 \\n\") : Intervalo(acos(x.a),acos(x.b))\n",
      "^(x::Intervalo,y)=exp(y*log(x))"
     ],
     "language": "python",
     "metadata": {},
     "outputs": [
      {
       "metadata": {},
       "output_type": "pyout",
       "prompt_number": 126,
       "text": [
        "^ (generic function with 47 methods)"
       ]
      }
     ],
     "prompt_number": 126
    },
    {
     "cell_type": "code",
     "collapsed": false,
     "input": [
      "println(exp(inter1))\n",
      "println(exp(inter2))\n",
      "println()\n",
      "println(log(inter1))\n",
      "println(log(inter2))\n",
      "println()\n",
      "println(atan(inter1))\n",
      "println(atan(inter2))\n",
      "println()\n",
      "#println(asin(inter1)) #este genera un error, como deber\u00eda\n",
      "println(asin(inter2))\n",
      "println()\n",
      "#println(acos(inter1)) #este genera un error, como deber\u00eda\n",
      "println(acos(inter2))\n",
      "println()\n",
      "println(inter1^3.1)\n",
      "println(inter2^3.1)"
     ],
     "language": "python",
     "metadata": {},
     "outputs": [
      {
       "output_type": "stream",
       "stream": "stdout",
       "text": [
        "[7.389056098930650227230427460575007813180315570551847324087127822522573796079054e+00,\n",
        "1.218249396070347343807017595116796618318276779006316131156039834183818512614323e+01]\n"
       ]
      },
      {
       "output_type": "stream",
       "stream": "stdout",
       "text": [
        "[1e+00,\n",
        "1.648721270700128146848650787814163571653776100710148011575079311640661021194214e+00]\n",
        "\n",
        "[6.931471805599453094172321214581765680755001343602552541206800094933936219696955e-01,\n",
        "9.162907318741550651835272117680110714501012199082624677919678819807853657379671e-01]\n",
        "[-inf,\n",
        "-6.931471805599453094172321214581765680755001343602552541206800094933936219696955e-01]\n",
        "\n",
        "[1.107148717794090503017065460178537040070047645401432646676539207433710338977366e+00,\n",
        "1.190289949682531732927733774829318337601178986029452072911166673829707745314098e+00]\n",
        "[0e+00,\n",
        "4.636476090008061162142562314612144020285370542861202638109330887201978641657418e-01]\n",
        "\n",
        "[0e+00,\n",
        "5.235987755982988730771072305465838140328615665625176368291574320513027343810388e-01]\n",
        "\n",
        "[1.047197551196597746154214461093167628065723133125035273658314864102605468762078e+00,\n",
        "1.570796326794896619231321691639751442098584699687552910487472296153908203143099e+00]\n",
        "\n",
        "[8.574187700290345841563942401273738717647582112589674932001205757595622269920498e+00,\n",
        "1.71243472872690218460525805680778677409817402943042913718480742388138568967945e+01]\n",
        "[0e+00,\n",
        "1.166291239421009198175315621926896174079138570010807075754297147622867925761367e-01]\n"
       ]
      }
     ],
     "prompt_number": 127
    },
    {
     "cell_type": "code",
     "collapsed": false,
     "input": [
      "println(exp(big(2.0)))\n",
      "println(exp(big(2.5)))\n",
      "println(exp(big(0.0)))\n",
      "println(exp(big(0.5)))\n",
      "println()\n",
      "println(log(big(2.0)))\n",
      "println(log(big(2.5)))\n",
      "println(log(big(0.0)))\n",
      "println(log(big(0.5)))\n",
      "println()\n",
      "println(atan(big(2.0)))\n",
      "println(atan(big(2.5)))\n",
      "println(atan(big(0.0)))\n",
      "println(atan(big(0.5)))\n",
      "println()\n",
      "println(asin(big(0.0)))\n",
      "println(asin(big(0.5)))\n",
      "println()\n",
      "println(acos(big(0.0)))\n",
      "println(acos(big(0.5)))\n",
      "println()\n",
      "println(big(2.0)^3.1)\n",
      "println(big(2.5)^3.1)\n",
      "println(big(0.0)^3.1)\n",
      "println(big(0.5)^3.1)\n"
     ],
     "language": "python",
     "metadata": {},
     "outputs": [
      {
       "output_type": "stream",
       "stream": "stdout",
       "text": [
        "7.389056098930650227230427460575007813180315570551847324087127822522573796079054e+00\n"
       ]
      },
      {
       "output_type": "stream",
       "stream": "stdout",
       "text": [
        "1.218249396070347343807017595116796618318276779006316131156039834183818512614337e+01\n",
        "1e+00\n",
        "1.648721270700128146848650787814163571653776100710148011575079311640661021194214e+00\n",
        "\n",
        "6.931471805599453094172321214581765680755001343602552541206800094933936219696955e-01\n",
        "9.162907318741550651835272117680110714501012199082624677919678819807853657379671e-01\n",
        "-inf\n",
        "-6.931471805599453094172321214581765680755001343602552541206800094933936219696955e-01\n",
        "\n",
        "1.107148717794090503017065460178537040070047645401432646676539207433710338977366e+00\n",
        "1.190289949682531732927733774829318337601178986029452072911166673829707745314098e+00\n",
        "0e+00\n",
        "4.636476090008061162142562314612144020285370542861202638109330887201978641657418e-01\n",
        "\n",
        "0e+00\n",
        "5.235987755982988730771072305465838140328615665625176368291574320513027343810388e-01\n",
        "\n",
        "1.570796326794896619231321691639751442098584699687552910487472296153908203143099e+00\n",
        "1.047197551196597746154214461093167628065723133125035273658314864102605468762078e+00\n",
        "\n",
        "8.574187700290345841563942401273738717647582112589674932001205757595622269920637e+00\n",
        "1.71243472872690218460525805680778677409817402943042913718480742388138568967945e+01\n",
        "0e+00\n",
        "1.166291239421009198175315621926896174079138570010807075754297147622867925761345e-01\n"
       ]
      }
     ],
     "prompt_number": 124
    },
    {
     "cell_type": "code",
     "collapsed": false,
     "input": [],
     "language": "python",
     "metadata": {},
     "outputs": [],
     "prompt_number": 119
    },
    {
     "cell_type": "code",
     "collapsed": false,
     "input": [
      "x=0:2.0^-7:2\n",
      "y=similar(x)\n",
      "y1=similar(x)\n",
      "y2=similar(x)\n",
      "for i=1:length(x)\n",
      "    y[i]=x[i]^2\n",
      "    y1[i]=x[i]^3\n",
      "    y2[i]=x[i]^5\n",
      "end\n",
      "\n",
      "PyPlot.plot(x,y,x,y1,x,y2);"
     ],
     "language": "python",
     "metadata": {},
     "outputs": [
      {
       "metadata": {},
       "output_type": "display_data",
       "png": "[encoded data removed]",
       "text": [
        "Figure(PyObject <matplotlib.figure.Figure object at 0x7f862c6be350>)"
       ]
      }
     ],
     "prompt_number": 145
    },
    {
     "cell_type": "code",
     "collapsed": false,
     "input": [
      "algo(x::Real)=println(x)"
     ],
     "language": "python",
     "metadata": {},
     "outputs": [
      {
       "metadata": {},
       "output_type": "pyout",
       "prompt_number": 109,
       "text": [
        "algo (generic function with 1 method)"
       ]
      }
     ],
     "prompt_number": 109
    },
    {
     "cell_type": "code",
     "collapsed": false,
     "input": [],
     "language": "python",
     "metadata": {},
     "outputs": [],
     "prompt_number": 112
    },
    {
     "cell_type": "code",
     "collapsed": false,
     "input": [],
     "language": "python",
     "metadata": {},
     "outputs": []
    }
   ],
   "metadata": {}
  }
 ]
}