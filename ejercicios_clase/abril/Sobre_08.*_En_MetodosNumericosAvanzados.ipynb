{
 "cells": [
  {
   "cell_type": "markdown",
   "metadata": {
    "collapsed": false
   },
   "source": [
    "# Extensión de funciones a intervalos"
   ]
  },
  {
   "cell_type": "markdown",
   "metadata": {},
   "source": [
    "# [1]"
   ]
  },
  {
   "cell_type": "markdown",
   "metadata": {},
   "source": [
    "Amplía tu módulo de intervalos para que incluya la extensión de las funciones estándres monótonas a intervalos. En el caso de las potencias, extiénde lo que ya hayas hecho para que incluya potencias reales. Incluye algunas pruebas en `pruebas.jl` que muestren que lo que has hecho funciona bien."
   ]
  },
  {
   "cell_type": "code",
   "execution_count": 1,
   "metadata": {
    "collapsed": false,
    "scrolled": true
   },
   "outputs": [
    {
     "name": "stderr",
     "output_type": "stream",
     "text": [
      "INFO: Loading help data...\n"
     ]
    }
   ],
   "source": [
    "using Intervalos, PyPlot, Graficador"
   ]
  },
  {
   "cell_type": "code",
   "execution_count": 2,
   "metadata": {
    "collapsed": false
   },
   "outputs": [
    {
     "data": {
      "text/html": [
       "3 methods for generic function <b>Intervalo</b>:<ul><li> Intervalo(a::<b>BigFloat</b>,b::<b>BigFloat</b>) at <a href=\"https://github.com/shgaeo/clase/tree/3ee9e33d9c09e2c29f56808f02688a20f74afca2/e/MisModulos/Intervalos/src/Intervalos.jl#L15\" target=\"_blank\">/home/santiago/Documentos/Escuela-maestría/1er-semestre/Física-computacional/Clase/MisModulos/Intervalos/src/Intervalos.jl:15</a><li> Intervalo(a,b) at <a href=\"https://github.com/shgaeo/clase/tree/3ee9e33d9c09e2c29f56808f02688a20f74afca2/e/MisModulos/Intervalos/src/Intervalos.jl#L30\" target=\"_blank\">/home/santiago/Documentos/Escuela-maestría/1er-semestre/Física-computacional/Clase/MisModulos/Intervalos/src/Intervalos.jl:30</a><li> Intervalo(a) at <a href=\"https://github.com/shgaeo/clase/tree/3ee9e33d9c09e2c29f56808f02688a20f74afca2/e/MisModulos/Intervalos/src/Intervalos.jl#L32\" target=\"_blank\">/home/santiago/Documentos/Escuela-maestría/1er-semestre/Física-computacional/Clase/MisModulos/Intervalos/src/Intervalos.jl:32</a></ul>"
      ],
      "text/plain": [
       "# 3 methods for generic function \"Intervalo\":\n",
       "Intervalo(a::BigFloat,b::BigFloat) at /home/santiago/Documentos/Escuela-maestría/1er-semestre/Física-computacional/Clase/MisModulos/Intervalos/src/Intervalos.jl:15\n",
       "Intervalo(a,b) at /home/santiago/Documentos/Escuela-maestría/1er-semestre/Física-computacional/Clase/MisModulos/Intervalos/src/Intervalos.jl:30\n",
       "Intervalo(a) at /home/santiago/Documentos/Escuela-maestría/1er-semestre/Física-computacional/Clase/MisModulos/Intervalos/src/Intervalos.jl:32"
      ]
     },
     "execution_count": 2,
     "metadata": {},
     "output_type": "execute_result"
    }
   ],
   "source": [
    "methods(Intervalo)"
   ]
  },
  {
   "cell_type": "code",
   "execution_count": 3,
   "metadata": {
    "collapsed": false
   },
   "outputs": [
    {
     "data": {
      "text/plain": [
       "[0e+00,\n",
       "5e-01]"
      ]
     },
     "execution_count": 3,
     "metadata": {},
     "output_type": "execute_result"
    }
   ],
   "source": [
    "inter1=Intervalo(\"2\",\"2.5\")\n",
    "inter2=Intervalo(\"0\",\"0.5\")"
   ]
  },
  {
   "cell_type": "markdown",
   "metadata": {
    "collapsed": false
   },
   "source": [
    "####Lo siguiente era parte del código pero ahora es texto porque está incluido en el módulo Intervalos\n",
    "\n",
    "function redonUP(f::Function,x,y)\n",
    "    with_rounding(BigFloat,RoundUp) do \n",
    "        f(BigFloat(x),BigFloat(y)) \n",
    "    end\n",
    "end\n",
    "\n",
    "function redonDOWN(f::Function,x,y)\n",
    "    with_rounding(BigFloat,RoundDown) do \n",
    "        f(BigFloat(x),BigFloat(y))\n",
    "    end\n",
    "end\n",
    "\n",
    "function redonUP(f::Function,x)\n",
    "    with_rounding(BigFloat,RoundUp) do \n",
    "        f(BigFloat(x))\n",
    "    end\n",
    "end\n",
    "\n",
    "function redonDOWN(f::Function,x)\n",
    "    with_rounding(BigFloat,RoundDown) do \n",
    "        f(BigFloat(x))\n",
    "    end\n",
    "end\n",
    "\n",
    "\n",
    "import Base.exp\n",
    "import Base.log\n",
    "import Base.atan\n",
    "import Base.asin\n",
    "import Base.acos\n",
    "\n",
    "exp(x::Intervalo)=Intervalo(redonDOWN(exp,x.a),redonUP(exp,x.b))\n",
    "\n",
    "\n",
    "log(x::Intervalo)= x.a<0 ? error(\"Función log no acepta números negativos \\n\") : Intervalo(redonDOWN(log,x.a),redonUP(log,x.b))\n",
    "\n",
    "\n",
    "atan(x::Intervalo)=Intervalo(redonDOWN(atan,x.a),redonUP(atan,x.b))\n",
    "\n",
    "asin(x::Intervalo)=\n",
    "        x.a<-1||x.b>1 ? error(\"Función asin solo acepta números entre -1 y 1 \\n\") : Intervalo(redonDOWN(asin,x.a),redonUP(asin,x.b))\n",
    "\n",
    "acos(x::Intervalo)=\n",
    "        x.a<-1||x.b>1 ? error(\"Función acos solo acepta números entre -1 y 1 \\n\") : Intervalo(redonDOWN(acos,x.b),redonUP(acos,x.a))\n",
    "\n",
    "^(x::Intervalo,y)=exp(y*log(x))"
   ]
  },
  {
   "cell_type": "code",
   "execution_count": 240,
   "metadata": {
    "collapsed": false
   },
   "outputs": [],
   "source": [
    "#println(asin(inter1)) #este genera un error, como debería\n",
    "#println(acos(inter1)) #este genera un error, como debería"
   ]
  },
  {
   "cell_type": "markdown",
   "metadata": {},
   "source": [
    "Lo siguiente está incluido en el test.jl del módulo Intervalo"
   ]
  },
  {
   "cell_type": "code",
   "execution_count": 4,
   "metadata": {
    "collapsed": false
   },
   "outputs": [],
   "source": [
    "using FactCheck"
   ]
  },
  {
   "cell_type": "code",
   "execution_count": 5,
   "metadata": {
    "collapsed": false,
    "scrolled": true
   },
   "outputs": [
    {
     "name": "stdout",
     "output_type": "stream",
     "text": [
      "Probando funciones sobre intervalos\n",
      "21 facts verified.\n"
     ]
    }
   ],
   "source": [
    "facts(\"Probando funciones sobre intervalos\")do\n",
    "    interv1=Intervalo(\"0.0\",\"0.5\")\n",
    "    @fact exp(BigFloat(1.0)) => exp(Intervalo(\"1.0\")).b\n",
    "    @fact exp(Intervalo(1)).a => less_than(exp(Intervalo(1)).b) #checo redondeo\n",
    "    @fact exp(interv1).a => 1.0\n",
    "    @fact exp(interv1).b => greater_than_or_equal(exp(interv1.b))\n",
    "    \n",
    "    @fact log(interv1).a => -inf(BigFloat)\n",
    "    @fact log(interv1).b => greater_than_or_equal(log(interv1.b))\n",
    "    @fact log(interv1).b => less_than(1.0)\n",
    "    \n",
    "    @fact atan(interv1).a => 0.0\n",
    "    @fact atan(interv1).b => greater_than_or_equal(atan(interv1.b))\n",
    "    @fact atan(Intervalo(inf(BigFloat))).a => π/BigFloat(2)\n",
    "    @fact atan(Intervalo(-inf(BigFloat))).b => π/BigFloat(-2)\n",
    "    \n",
    "    @fact asin(interv1).a => 0.0\n",
    "    @fact asin(interv1).b => greater_than_or_equal(asin(interv1.b))\n",
    "    @fact asin(Intervalo(1)).a => π/BigFloat(2)\n",
    "    @fact asin(Intervalo(-1)).b => π/BigFloat(-2)\n",
    "    \n",
    "    @fact acos(interv1).a => less_than_or_equal(acos(interv1.b))\n",
    "    @fact acos(interv1).b => nextfloat(π/BigFloat(2))\n",
    "    @fact acos(Intervalo(1)) => Intervalo(0,0)\n",
    "    @fact acos(Intervalo(-1)).a => π\n",
    "    \n",
    "    @fact (interv1^\"0.5\").a => 0.0 \n",
    "    @fact (interv1^3.1).b => greater_than_or_equal((interv1.b)^3.1) #si este manda error, falta incluir redondeo\n",
    "end;"
   ]
  },
  {
   "cell_type": "code",
   "execution_count": 6,
   "metadata": {
    "collapsed": false
   },
   "outputs": [
    {
     "name": "stdout",
     "output_type": "stream",
     "text": [
      "Probando tipo Intervalo\n",
      "8 facts verified.\n",
      "Probando operaciones entre intervalos\n",
      "13 facts verified.\n",
      "Probando funciones sobre intervalos\n",
      "21 facts verified.\n"
     ]
    }
   ],
   "source": [
    "include(\"../../MisModulos/Intervalos/test/pruebas.jl\");"
   ]
  },
  {
   "cell_type": "markdown",
   "metadata": {
    "collapsed": false
   },
   "source": [
    "#[2]"
   ]
  },
  {
   "cell_type": "markdown",
   "metadata": {
    "collapsed": false
   },
   "source": [
    "¿Cómo definirías la extensión a intervalos para funciones no monótonas? Repite [1] para este caso."
   ]
  },
  {
   "cell_type": "code",
   "execution_count": null,
   "metadata": {
    "collapsed": false
   },
   "outputs": [],
   "source": []
  },
  {
   "cell_type": "code",
   "execution_count": 19,
   "metadata": {
    "collapsed": false
   },
   "outputs": [],
   "source": []
  },
  {
   "cell_type": "markdown",
   "metadata": {},
   "source": [
    "# [3]"
   ]
  },
  {
   "cell_type": "markdown",
   "metadata": {},
   "source": [
    "La extensión natural del intervalo para $f(x)=x/(1+x^2)$ es $F(\\mathbf{x})=\\mathbf{x}/(1+\\mathbf{x}^2)$. ¿Cuál es la extensión natural del intervalo para $\\mathbf{x}=[1,2]$? ¿Cómo se compara con el rango $R(f;[1,2])$. Ilustra los resultados con una gráfica."
   ]
  },
  {
   "cell_type": "code",
   "execution_count": 5,
   "metadata": {
    "collapsed": false
   },
   "outputs": [
    {
     "data": {
      "text/plain": [
       "disper (generic function with 1 method)"
      ]
     },
     "execution_count": 5,
     "metadata": {},
     "output_type": "execute_result"
    }
   ],
   "source": [
    "disper(x)=x/(1+x^2)"
   ]
  },
  {
   "cell_type": "markdown",
   "metadata": {},
   "source": [
    "La extención natural es:"
   ]
  },
  {
   "cell_type": "code",
   "execution_count": 6,
   "metadata": {
    "collapsed": false
   },
   "outputs": [
    {
     "data": {
      "text/plain": [
       "[1.999999999999999999999999999999999999999999999999999999999999999999999999999983e-01,\n",
       "1e+00]"
      ]
     },
     "execution_count": 6,
     "metadata": {},
     "output_type": "execute_result"
    }
   ],
   "source": [
    "disper(Intervalo(1,2))"
   ]
  },
  {
   "cell_type": "code",
   "execution_count": 7,
   "metadata": {
    "collapsed": false
   },
   "outputs": [
    {
     "data": {
      "image/png": "[encoded data removed]",
      "text/plain": [
       "Figure(PyObject <matplotlib.figure.Figure object at 0x7f5965751850>)"
      ]
     },
     "metadata": {},
     "output_type": "display_data"
    }
   ],
   "source": [
    "graficador(1,2,disper);"
   ]
  },
  {
   "cell_type": "markdown",
   "metadata": {},
   "source": [
    "Sin embargo el rango es $R(f;[1,2])=[0.5,0.4]$"
   ]
  },
  {
   "cell_type": "code",
   "execution_count": 9,
   "metadata": {
    "collapsed": false
   },
   "outputs": [
    {
     "data": {
      "text/plain": [
       "(0.5,0.4)"
      ]
     },
     "execution_count": 9,
     "metadata": {},
     "output_type": "execute_result"
    }
   ],
   "source": [
    "(disper(1),disper(2))"
   ]
  },
  {
   "cell_type": "markdown",
   "metadata": {},
   "source": [
    "# [4]"
   ]
  },
  {
   "cell_type": "code",
   "execution_count": null,
   "metadata": {
    "collapsed": true
   },
   "outputs": [],
   "source": []
  },
  {
   "cell_type": "markdown",
   "metadata": {},
   "source": [
    "# Rutina para encontrar raíces de una función"
   ]
  },
  {
   "cell_type": "code",
   "execution_count": null,
   "metadata": {
    "collapsed": true
   },
   "outputs": [],
   "source": []
  }
 ],
 "metadata": {
  "kernelspec": {
   "display_name": "Julia 0.3.6",
   "language": "julia",
   "name": "julia 0.3"
  },
  "language_info": {
   "name": "julia",
   "version": "0.3.7"
  }
 },
 "nbformat": 4,
 "nbformat_minor": 0
}
