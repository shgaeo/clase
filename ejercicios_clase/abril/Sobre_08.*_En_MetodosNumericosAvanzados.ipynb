{
 "cells": [
  {
   "cell_type": "markdown",
   "metadata": {
    "collapsed": false
   },
   "source": [
    "# Extensión de funciones a intervalos"
   ]
  },
  {
   "cell_type": "markdown",
   "metadata": {},
   "source": [
    "#[1]\n",
    "####Amplía tu módulo de intervalos para que incluya la extensión de las funciones estándres monótonas a intervalos. En el caso de las potencias, extiénde lo que ya hayas hecho para que incluya potencias reales. Incluye algunas pruebas en `pruebas.jl` que muestren que lo que has hecho funciona bien."
   ]
  },
  {
   "cell_type": "code",
   "execution_count": 1,
   "metadata": {
    "collapsed": false,
    "scrolled": true
   },
   "outputs": [
    {
     "name": "stderr",
     "output_type": "stream",
     "text": [
      "INFO: Loading help data...\n"
     ]
    }
   ],
   "source": [
    "using Intervalos, PyPlot, Graficador"
   ]
  },
  {
   "cell_type": "code",
   "execution_count": 2,
   "metadata": {
    "collapsed": false
   },
   "outputs": [
    {
     "data": {
      "text/html": [
       "3 methods for generic function <b>Intervalo</b>:<ul><li> Intervalo(a::<b>BigFloat</b>,b::<b>BigFloat</b>) at <a href=\"https://github.com/shgaeo/clase/tree/9fddbdcb0a7d344e16d7a5048217faadda17fb3a/e/MisModulos/Intervalos/src/Intervalos.jl#L15\" target=\"_blank\">/home/santiago/Documentos/Escuela-maestría/1er-semestre/Física-computacional/Clase/MisModulos/Intervalos/src/Intervalos.jl:15</a><li> Intervalo(a,b) at <a href=\"https://github.com/shgaeo/clase/tree/9fddbdcb0a7d344e16d7a5048217faadda17fb3a/e/MisModulos/Intervalos/src/Intervalos.jl#L30\" target=\"_blank\">/home/santiago/Documentos/Escuela-maestría/1er-semestre/Física-computacional/Clase/MisModulos/Intervalos/src/Intervalos.jl:30</a><li> Intervalo(a) at <a href=\"https://github.com/shgaeo/clase/tree/9fddbdcb0a7d344e16d7a5048217faadda17fb3a/e/MisModulos/Intervalos/src/Intervalos.jl#L32\" target=\"_blank\">/home/santiago/Documentos/Escuela-maestría/1er-semestre/Física-computacional/Clase/MisModulos/Intervalos/src/Intervalos.jl:32</a></ul>"
      ],
      "text/plain": [
       "# 3 methods for generic function \"Intervalo\":\n",
       "Intervalo(a::BigFloat,b::BigFloat) at /home/santiago/Documentos/Escuela-maestría/1er-semestre/Física-computacional/Clase/MisModulos/Intervalos/src/Intervalos.jl:15\n",
       "Intervalo(a,b) at /home/santiago/Documentos/Escuela-maestría/1er-semestre/Física-computacional/Clase/MisModulos/Intervalos/src/Intervalos.jl:30\n",
       "Intervalo(a) at /home/santiago/Documentos/Escuela-maestría/1er-semestre/Física-computacional/Clase/MisModulos/Intervalos/src/Intervalos.jl:32"
      ]
     },
     "execution_count": 2,
     "metadata": {},
     "output_type": "execute_result"
    }
   ],
   "source": [
    "methods(Intervalo)"
   ]
  },
  {
   "cell_type": "code",
   "execution_count": 3,
   "metadata": {
    "collapsed": false,
    "scrolled": true
   },
   "outputs": [
    {
     "data": {
      "text/plain": [
       "[0e+00,\n",
       "5e-01]"
      ]
     },
     "execution_count": 3,
     "metadata": {},
     "output_type": "execute_result"
    }
   ],
   "source": [
    "inter1=Intervalo(\"2\",\"2.5\")\n",
    "inter2=Intervalo(\"0\",\"0.5\")"
   ]
  },
  {
   "cell_type": "markdown",
   "metadata": {
    "collapsed": false
   },
   "source": [
    "####Lo siguiente era parte del código pero ahora es texto porque está incluido en el módulo Intervalos\n",
    "\n",
    "function redonUP(f::Function,x,y)\n",
    "    with_rounding(BigFloat,RoundUp) do \n",
    "        f(BigFloat(x),BigFloat(y)) \n",
    "    end\n",
    "end\n",
    "\n",
    "function redonDOWN(f::Function,x,y)\n",
    "    with_rounding(BigFloat,RoundDown) do \n",
    "        f(BigFloat(x),BigFloat(y))\n",
    "    end\n",
    "end\n",
    "\n",
    "function redonUP(f::Function,x)\n",
    "    with_rounding(BigFloat,RoundUp) do \n",
    "        f(BigFloat(x))\n",
    "    end\n",
    "end\n",
    "\n",
    "function redonDOWN(f::Function,x)\n",
    "    with_rounding(BigFloat,RoundDown) do \n",
    "        f(BigFloat(x))\n",
    "    end\n",
    "end\n",
    "\n",
    "\n",
    "import Base.exp\n",
    "import Base.log\n",
    "import Base.atan\n",
    "import Base.asin\n",
    "import Base.acos\n",
    "\n",
    "exp(x::Intervalo)=Intervalo(redonDOWN(exp,x.a),redonUP(exp,x.b))\n",
    "\n",
    "\n",
    "log(x::Intervalo)= x.a<0 ? error(\"Función log no acepta números negativos \\n\") : Intervalo(redonDOWN(log,x.a),redonUP(log,x.b))\n",
    "\n",
    "\n",
    "atan(x::Intervalo)=Intervalo(redonDOWN(atan,x.a),redonUP(atan,x.b))\n",
    "\n",
    "asin(x::Intervalo)=\n",
    "        x.a<-1||x.b>1 ? error(\"Función asin solo acepta números entre -1 y 1 \\n\") : Intervalo(redonDOWN(asin,x.a),redonUP(asin,x.b))\n",
    "\n",
    "acos(x::Intervalo)=\n",
    "        x.a<-1||x.b>1 ? error(\"Función acos solo acepta números entre -1 y 1 \\n\") : Intervalo(redonDOWN(acos,x.b),redonUP(acos,x.a))\n",
    "\n",
    "^(x::Intervalo,y)=exp(y*log(x))"
   ]
  },
  {
   "cell_type": "code",
   "execution_count": 4,
   "metadata": {
    "collapsed": false
   },
   "outputs": [],
   "source": [
    "#println(asin(inter1)) #este genera un error, como debería\n",
    "#println(acos(inter1)) #este genera un error, como debería"
   ]
  },
  {
   "cell_type": "markdown",
   "metadata": {},
   "source": [
    "Lo siguiente está incluido en el test.jl del módulo Intervalo\n",
    "\n",
    "Correlo estando en la carpeta de la Clase con:\n",
    "\n",
    "`julia> include(\"MisModulos/Intervalos/test/pruebas.jl\")`"
   ]
  },
  {
   "cell_type": "code",
   "execution_count": 5,
   "metadata": {
    "collapsed": false
   },
   "outputs": [],
   "source": [
    "using FactCheck"
   ]
  },
  {
   "cell_type": "code",
   "execution_count": 6,
   "metadata": {
    "collapsed": false,
    "scrolled": true
   },
   "outputs": [
    {
     "name": "stdout",
     "output_type": "stream",
     "text": [
      "Probando funciones sobre intervalos\n",
      "21 facts verified.\n"
     ]
    }
   ],
   "source": [
    "facts(\"Probando funciones sobre intervalos\")do\n",
    "    interv1=Intervalo(\"0.0\",\"0.5\")\n",
    "    @fact exp(BigFloat(1.0)) => exp(Intervalo(\"1.0\")).b\n",
    "    @fact exp(Intervalo(1)).a => less_than(exp(Intervalo(1)).b) #checo redondeo\n",
    "    @fact exp(interv1).a => 1.0\n",
    "    @fact exp(interv1).b => greater_than_or_equal(exp(interv1.b))\n",
    "    \n",
    "    @fact log(interv1).a => -inf(BigFloat)\n",
    "    @fact log(interv1).b => greater_than_or_equal(log(interv1.b))\n",
    "    @fact log(interv1).b => less_than(1.0)\n",
    "    \n",
    "    @fact atan(interv1).a => 0.0\n",
    "    @fact atan(interv1).b => greater_than_or_equal(atan(interv1.b))\n",
    "    @fact atan(Intervalo(inf(BigFloat))).a => π/BigFloat(2)\n",
    "    @fact atan(Intervalo(-inf(BigFloat))).b => π/BigFloat(-2)\n",
    "    \n",
    "    @fact asin(interv1).a => 0.0\n",
    "    @fact asin(interv1).b => greater_than_or_equal(asin(interv1.b))\n",
    "    @fact asin(Intervalo(1)).a => π/BigFloat(2)\n",
    "    @fact asin(Intervalo(-1)).b => π/BigFloat(-2)\n",
    "    \n",
    "    @fact acos(interv1).a => less_than_or_equal(acos(interv1.b))\n",
    "    @fact acos(interv1).b => nextfloat(π/BigFloat(2))\n",
    "    @fact acos(Intervalo(1)) => Intervalo(0,0)\n",
    "    @fact acos(Intervalo(-1)).a => π\n",
    "    \n",
    "    @fact (interv1^\"0.5\").a => 0.0 \n",
    "    @fact (interv1^3.1).b => greater_than_or_equal((interv1.b)^3.1) #si este manda error, falta incluir redondeo\n",
    "end;"
   ]
  },
  {
   "cell_type": "code",
   "execution_count": 7,
   "metadata": {
    "collapsed": false
   },
   "outputs": [
    {
     "name": "stdout",
     "output_type": "stream",
     "text": [
      "Probando tipo Intervalo\n",
      "8 facts verified.\n",
      "Probando operaciones entre intervalos\n",
      "13 facts verified.\n",
      "Probando funciones sobre intervalos\n",
      "21 facts verified.\n"
     ]
    }
   ],
   "source": [
    "include(\"../../MisModulos/Intervalos/test/pruebas.jl\");"
   ]
  },
  {
   "cell_type": "markdown",
   "metadata": {
    "collapsed": false
   },
   "source": [
    "#[2]\n",
    "#### ¿Cómo definirías la extensión a intervalos para funciones no monótonas? Repite [1] para este caso."
   ]
  },
  {
   "cell_type": "markdown",
   "metadata": {
    "collapsed": false
   },
   "source": [
    "#### .......Lo estoy dejando para el final"
   ]
  },
  {
   "cell_type": "code",
   "execution_count": null,
   "metadata": {
    "collapsed": false
   },
   "outputs": [],
   "source": []
  },
  {
   "cell_type": "markdown",
   "metadata": {},
   "source": [
    "#[3]\n",
    "#### La extensión natural del intervalo para $f(x)=x/(1+x^2)$ es $F(\\mathbf{x})=\\mathbf{x}/(1+\\mathbf{x}^2)$. ¿Cuál es la extensión natural del intervalo para $\\mathbf{x}=[1,2]$? ¿Cómo se compara con el rango $R(f;[1,2])$. Ilustra los resultados con una gráfica."
   ]
  },
  {
   "cell_type": "code",
   "execution_count": 8,
   "metadata": {
    "collapsed": false
   },
   "outputs": [
    {
     "data": {
      "text/plain": [
       "disper (generic function with 1 method)"
      ]
     },
     "execution_count": 8,
     "metadata": {},
     "output_type": "execute_result"
    }
   ],
   "source": [
    "disper(x)=x/(1+x^2)"
   ]
  },
  {
   "cell_type": "markdown",
   "metadata": {},
   "source": [
    "La extención natural es:"
   ]
  },
  {
   "cell_type": "code",
   "execution_count": 9,
   "metadata": {
    "collapsed": false
   },
   "outputs": [
    {
     "data": {
      "text/plain": [
       "[1.999999999999999999999999999999999999999999999999999999999999999999999999999983e-01,\n",
       "1e+00]"
      ]
     },
     "execution_count": 9,
     "metadata": {},
     "output_type": "execute_result"
    }
   ],
   "source": [
    "disper(Intervalo(1,2))"
   ]
  },
  {
   "cell_type": "markdown",
   "metadata": {},
   "source": [
    "Sin embargo el rango es $R(f;[1,2])=[0.5,0.4]$"
   ]
  },
  {
   "cell_type": "code",
   "execution_count": 10,
   "metadata": {
    "collapsed": false
   },
   "outputs": [
    {
     "data": {
      "text/plain": [
       "(0.5,0.4)"
      ]
     },
     "execution_count": 10,
     "metadata": {},
     "output_type": "execute_result"
    }
   ],
   "source": [
    "(disper(1),disper(2))"
   ]
  },
  {
   "cell_type": "code",
   "execution_count": 11,
   "metadata": {
    "collapsed": false,
    "scrolled": false
   },
   "outputs": [
    {
     "data": {
      "image/png": "[encoded data removed]",
      "text/plain": [
       "Figure(PyObject <matplotlib.figure.Figure object at 0x7f43a08ec4d0>)"
      ]
     },
     "metadata": {},
     "output_type": "display_data"
    },
    {
     "data": {
      "text/plain": [
       "1-element Array{Any,1}:\n",
       " PyObject <matplotlib.lines.Line2D object at 0x7f43b0298d50>"
      ]
     },
     "execution_count": 11,
     "metadata": {},
     "output_type": "execute_result"
    }
   ],
   "source": [
    "graficador(1,2,disper); #la función graficador está en el módulo Graficador en la carpeta MisModulos\n",
    "#las siguientes líneas son solo para hacer más claro que el rango está contenido en la extensión natural\n",
    "PyPlot.plot(0.2*[1,1],[disper(1),disper(2)], \"blue\", linewidth=2.0)\n",
    "PyPlot.plot([0.2,1],disper(1)*[1,1],\"blue\", linewidth=1.0, linestyle=\"--\")\n",
    "PyPlot.plot([0.2,2],disper(2)*[1,1],\"blue\", linewidth=1.0, linestyle=\"--\")"
   ]
  },
  {
   "cell_type": "markdown",
   "metadata": {
    "collapsed": true
   },
   "source": [
    "#[4]\n",
    "#### Demuestra que $f(x)=(sin(x)−x^2+1)cos(x)$ no tiene raíces en $x=[0,1/2]$. Ilustra que el argumento es correcto gráficamente."
   ]
  },
  {
   "cell_type": "code",
   "execution_count": 12,
   "metadata": {
    "collapsed": false
   },
   "outputs": [
    {
     "data": {
      "text/plain": [
       "func1 (generic function with 1 method)"
      ]
     },
     "execution_count": 12,
     "metadata": {},
     "output_type": "execute_result"
    }
   ],
   "source": [
    "func1(x)=(sin(x)-x^2+1)*cos(x)"
   ]
  },
  {
   "cell_type": "code",
   "execution_count": 13,
   "metadata": {
    "collapsed": false
   },
   "outputs": [],
   "source": [
    "#Tras definir sin y cos solo hay que hacer:\n",
    "#in(0.0,func1(Intervalo(0,0.5)))"
   ]
  },
  {
   "cell_type": "code",
   "execution_count": 14,
   "metadata": {
    "collapsed": true
   },
   "outputs": [],
   "source": [
    "#graficador(0,0.5,func1); "
   ]
  },
  {
   "cell_type": "markdown",
   "metadata": {},
   "source": [
    "# Rutina para encontrar raíces de una función"
   ]
  },
  {
   "cell_type": "markdown",
   "metadata": {
    "collapsed": true
   },
   "source": [
    "#[5]\n",
    "#### Escribe un código quer utiliza la propiedad de los ceros para encontrar los intervalos donde podría haber un cero."
   ]
  },
  {
   "cell_type": "markdown",
   "metadata": {},
   "source": [
    "Probemos por ejemplo con la función disper y el intervalo [-1,3]"
   ]
  },
  {
   "cell_type": "code",
   "execution_count": 23,
   "metadata": {
    "collapsed": false
   },
   "outputs": [
    {
     "data": {
      "text/plain": [
       "ceros (generic function with 1 method)"
      ]
     },
     "execution_count": 23,
     "metadata": {},
     "output_type": "execute_result"
    }
   ],
   "source": [
    "cerosin(f::Function,x::Intervalo)= in(0.0,f(x))\n",
    "\n",
    "function parteIntervalo(x::Intervalo)\n",
    "    a1=redonUP(/ , redonUP(+,x.a,x.b) , 2) #uso el redondeo para no dejar fuera números\n",
    "    b1=redonDOWN(/ , redonDOWN(+,x.a,x.b) , 2)\n",
    "    #[Intervalo(x.a,a1),Intervalo(b1,x.b)]\n",
    "    [Intervalo(x.a,a1),Intervalo(b1,x.b),Intervalo(b1,a1)]\n",
    "end\n",
    "\n",
    "function ceros(f::Function,x::Intervalo)\n",
    "    if cerosin(f,x)==false\n",
    "        #no hago nada si no hay ceros\n",
    "    else\n",
    "        println(\"entró $x\")\n",
    "        if x.b-x.a < 0.5\n",
    "            println(\"no\")\n",
    "            println(\"hay un cero en $x\")\n",
    "        else\n",
    "            println(\"si\")\n",
    "            parInt=parteIntervalo(x)\n",
    "            if parInt[1]==parInt[2]\n",
    "                println(\"iguales\")\n",
    "                println(\"hay un cero en $x\")\n",
    "            elseif in(0.0,parInt[3])==true\n",
    "                println(\"centro\")\n",
    "                println(\"$(Intervalo(x.a,prevfloat(parInt[3].a)))\")\n",
    "                println(in(0.0,Intervalo(x.a,prevfloat(parInt[3].a))))\n",
    "                println(in(0.0,f(Intervalo(x.a,prevfloat(parInt[3].a)))))\n",
    "                println(cerosin(f,parInt[1]))\n",
    "                #println(\"$(Intervalo(nextfloat(parInt[3].b),x.b))\")\n",
    "                #println(in(0.0,Intervalo(nextfloat(parInt[3].b),x.b)))\n",
    "                println(\"hay un cero en $(parInt[3])\")\n",
    "                ceros(f,Intervalo(x.a,prevfloat(parInt[3].a)))\n",
    "                ceros(f,Intervalo(nextfloat(parInt[3].b),x.b))\n",
    "            else\n",
    "                println(\"sigue\")\n",
    "                ceros(f,parInt[1])\n",
    "                \n",
    "                ceros(f,parInt[2])\n",
    "            end\n",
    "        end\n",
    "    end\n",
    "end"
   ]
  },
  {
   "cell_type": "code",
   "execution_count": 24,
   "metadata": {
    "collapsed": true
   },
   "outputs": [],
   "source": [
    "inter3=Intervalo(\"-1.0\",\"3.0\")\n",
    "inter4=Intervalo(\"5.1\",\"6.01\");"
   ]
  },
  {
   "cell_type": "code",
   "execution_count": 25,
   "metadata": {
    "collapsed": false
   },
   "outputs": [],
   "source": [
    "ceros(disper,inter4) #si la función no imprime nada entonces no hay ceros en inter4"
   ]
  },
  {
   "cell_type": "code",
   "execution_count": 26,
   "metadata": {
    "collapsed": false
   },
   "outputs": [
    {
     "name": "stdout",
     "output_type": "stream",
     "text": [
      "entró [-1e+00,\n",
      "3e+00]\n",
      "si\n",
      "sigue\n",
      "entró [-1e+00,\n",
      "1e+00]\n",
      "si\n",
      "centro\n",
      "[-1e+00,\n",
      "-2.382564904887951073216169781732674520415196125559239787955023752600945386104324e-323228497]\n",
      "false\n",
      "true\n",
      "true\n",
      "hay un cero en [0e+00,\n",
      "-0e+00]\n",
      "entró [-1e+00,\n",
      "-2.382564904887951073216169781732674520415196125559239787955023752600945386104324e-323228497]\n",
      "si\n",
      "sigue\n",
      "entró [-5.000000000000000000000000000000000000000000000000000000000000000000000000000086e-01,\n",
      "-2.382564904887951073216169781732674520415196125559239787955023752600945386104324e-323228497]\n",
      "si\n",
      "sigue\n",
      "entró [-2.500000000000000000000000000000000000000000000000000000000000000000000000000086e-01,\n",
      "-2.382564904887951073216169781732674520415196125559239787955023752600945386104324e-323228497]\n",
      "no\n",
      "hay un cero en [-2.500000000000000000000000000000000000000000000000000000000000000000000000000086e-01,\n",
      "-2.382564904887951073216169781732674520415196125559239787955023752600945386104324e-323228497]\n",
      "entró [2.382564904887951073216169781732674520415196125559239787955023752600945386104324e-323228497,\n",
      "1e+00]\n",
      "si\n",
      "sigue\n",
      "entró [2.382564904887951073216169781732674520415196125559239787955023752600945386104324e-323228497,\n",
      "5.000000000000000000000000000000000000000000000000000000000000000000000000000086e-01]\n",
      "si\n",
      "sigue\n",
      "entró [2.382564904887951073216169781732674520415196125559239787955023752600945386104324e-323228497,\n",
      "2.500000000000000000000000000000000000000000000000000000000000000000000000000086e-01]\n",
      "no\n",
      "hay un cero en [2.382564904887951073216169781732674520415196125559239787955023752600945386104324e-323228497,\n",
      "2.500000000000000000000000000000000000000000000000000000000000000000000000000086e-01]\n"
     ]
    }
   ],
   "source": [
    "ceros(disper,inter3)"
   ]
  },
  {
   "cell_type": "code",
   "execution_count": 19,
   "metadata": {
    "collapsed": false
   },
   "outputs": [
    {
     "data": {
      "text/plain": [
       "true"
      ]
     },
     "execution_count": 19,
     "metadata": {},
     "output_type": "execute_result"
    }
   ],
   "source": [
    "in(0.0,Intervalo(-5e-01,0))"
   ]
  },
  {
   "cell_type": "code",
   "execution_count": 20,
   "metadata": {
    "collapsed": false
   },
   "outputs": [
    {
     "data": {
      "text/plain": [
       "3-element Array{Intervalo,1}:\n",
       " [9.999999999999999999999999999999999999999999999999999999999999999999999999999914e-02,\n",
       "1.000000000000000000000000000000000000000000000000000000000000000000000000000002e-01]\n",
       " [9.999999999999999999999999999999999999999999999999999999999999999999999999999914e-02,\n",
       "1.000000000000000000000000000000000000000000000000000000000000000000000000000002e-01]\n",
       " [9.999999999999999999999999999999999999999999999999999999999999999999999999999914e-02,\n",
       "1.000000000000000000000000000000000000000000000000000000000000000000000000000002e-01]"
      ]
     },
     "execution_count": 20,
     "metadata": {},
     "output_type": "execute_result"
    }
   ],
   "source": [
    "inter9=Intervalo(\"0.1\",\"0.1\")\n",
    "parteIntervalo(inter9)"
   ]
  },
  {
   "cell_type": "code",
   "execution_count": 21,
   "metadata": {
    "collapsed": false
   },
   "outputs": [
    {
     "data": {
      "text/plain": [
       "true"
      ]
     },
     "execution_count": 21,
     "metadata": {},
     "output_type": "execute_result"
    }
   ],
   "source": [
    "parteIntervalo(inter9)[1]==parteIntervalo(inter9)[2]"
   ]
  },
  {
   "cell_type": "code",
   "execution_count": 22,
   "metadata": {
    "collapsed": false
   },
   "outputs": [
    {
     "data": {
      "text/plain": [
       "[9.999999999999999999999999999999999999999999999999999999999999999999999999999914e-02,\n",
       "1.000000000000000000000000000000000000000000000000000000000000000000000000000002e-01]"
      ]
     },
     "execution_count": 22,
     "metadata": {},
     "output_type": "execute_result"
    }
   ],
   "source": [
    "parteIntervalo(inter9)[3]"
   ]
  },
  {
   "cell_type": "code",
   "execution_count": null,
   "metadata": {
    "collapsed": true
   },
   "outputs": [],
   "source": []
  },
  {
   "cell_type": "code",
   "execution_count": null,
   "metadata": {
    "collapsed": true
   },
   "outputs": [],
   "source": []
  },
  {
   "cell_type": "code",
   "execution_count": null,
   "metadata": {
    "collapsed": true
   },
   "outputs": [],
   "source": []
  },
  {
   "cell_type": "code",
   "execution_count": null,
   "metadata": {
    "collapsed": true
   },
   "outputs": [],
   "source": []
  },
  {
   "cell_type": "code",
   "execution_count": null,
   "metadata": {
    "collapsed": true
   },
   "outputs": [],
   "source": []
  },
  {
   "cell_type": "code",
   "execution_count": null,
   "metadata": {
    "collapsed": true
   },
   "outputs": [],
   "source": []
  },
  {
   "cell_type": "code",
   "execution_count": null,
   "metadata": {
    "collapsed": true
   },
   "outputs": [],
   "source": []
  },
  {
   "cell_type": "code",
   "execution_count": null,
   "metadata": {
    "collapsed": true
   },
   "outputs": [],
   "source": []
  },
  {
   "cell_type": "code",
   "execution_count": null,
   "metadata": {
    "collapsed": true
   },
   "outputs": [],
   "source": []
  },
  {
   "cell_type": "code",
   "execution_count": null,
   "metadata": {
    "collapsed": true
   },
   "outputs": [],
   "source": []
  },
  {
   "cell_type": "code",
   "execution_count": 44,
   "metadata": {
    "collapsed": false
   },
   "outputs": [
    {
     "data": {
      "text/plain": [
       "ceros (generic function with 1 method)"
      ]
     },
     "execution_count": 44,
     "metadata": {},
     "output_type": "execute_result"
    }
   ],
   "source": [
    "cerosin(f::Function,x::Intervalo)= in(0.0,f(x))\n",
    "\n",
    "function parteIntervalo(x::Intervalo)\n",
    "    a1=redonUP(/ , redonUP(+,x.a,x.b) , 2) #uso el redondeo para no dejar fuera números\n",
    "    b1=redonDOWN(/ , redonDOWN(+,x.a,x.b) , 2)\n",
    "    #[Intervalo(x.a,a1),Intervalo(b1,x.b)]\n",
    "    [Intervalo(x.a,a1),Intervalo(b1,x.b)]\n",
    "end\n",
    "\n",
    "function parteIntervalo3(x::Intervalo)\n",
    "    medio=parteIntervalo(x)\n",
    "    cuarto1=parteIntervalo(medio[1])[1]\n",
    "    cuarto3=parteIntervalo(medio[2])[2]\n",
    "    cuartoMedio= Intervalo( parteIntervalo(medio[1])[2].a  ,  parteIntervalo(medio[2])[1].b )\n",
    "    [cuarto1, cuartoMedio, cuarto3]\n",
    "end\n",
    "\n",
    "function ceros(f::Function,x::Intervalo)\n",
    "    presicion=0.5\n",
    "    if cerosin(f,x)==false\n",
    "        #no hago nada si no hay ceros\n",
    "    else\n",
    "        #println(\"entró $x\")#descomenta para debugear :P\n",
    "        if x.b-x.a < presicion\n",
    "            #println(\"no\") #descomenta para debugear :P\n",
    "            println(\"hay un cero en $x\")\n",
    "        else\n",
    "            #println(\"si\") #descomenta para debugear :P\n",
    "            parInt=parteIntervalo(x)\n",
    "            if parInt[1]==parInt[2] #este es un límite por si pongo una presición demasiado pequeña o algo así.\n",
    "                #println(\"iguales\") #descomenta para debugear :P\n",
    "                println(\"hay un cero en $x\")\n",
    "                \n",
    "                \n",
    "                # lo que hago ahora es preguntar si al dividir entre dos ambos intervalos contienen al cero:\n",
    "                # cerosin(f,1) = cerosin(f,2) = true. Si esto ocurre entonces\n",
    "                # divido intervalo entre \"3\" partes no iguales _ __ _ , si no entonces divide entre 2\n",
    "                \n",
    "            elseif cerosin(f,parInt[1])==true && cerosin(f,parInt[2])==true\n",
    "                #println(\"centro\") #descomenta para debugear :P\n",
    "                parInt3=parteIntervalo3(x)\n",
    "                ceros(f,parInt3[1])\n",
    "                ceros(f,parInt3[2])\n",
    "                ceros(f,parInt3[3])\n",
    "            else\n",
    "                #println(\"sigue\") #descomenta para debugear :P\n",
    "                ceros(f,parInt[1])\n",
    "                ceros(f,parInt[2])\n",
    "            end\n",
    "        end\n",
    "    end\n",
    "end"
   ]
  },
  {
   "cell_type": "code",
   "execution_count": 45,
   "metadata": {
    "collapsed": true
   },
   "outputs": [],
   "source": [
    "inter3=Intervalo(\"-1.0\",\"3.0\")\n",
    "inter4=Intervalo(\"5.1\",\"6.01\");"
   ]
  },
  {
   "cell_type": "code",
   "execution_count": 46,
   "metadata": {
    "collapsed": true
   },
   "outputs": [],
   "source": [
    "ceros(disper,inter4) #si la función no imprime nada entonces no hay ceros en inter4"
   ]
  },
  {
   "cell_type": "code",
   "execution_count": 47,
   "metadata": {
    "collapsed": false
   },
   "outputs": [
    {
     "name": "stdout",
     "output_type": "stream",
     "text": [
      "hay un cero en [-1.25e-01,\n",
      "1.25e-01]\n"
     ]
    }
   ],
   "source": [
    "ceros(disper,inter3)"
   ]
  },
  {
   "cell_type": "code",
   "execution_count": null,
   "metadata": {
    "collapsed": true
   },
   "outputs": [],
   "source": []
  }
 ],
 "metadata": {
  "kernelspec": {
   "display_name": "Julia 0.3.6",
   "language": "julia",
   "name": "julia 0.3"
  },
  "language_info": {
   "name": "julia",
   "version": "0.3.7"
  }
 },
 "nbformat": 4,
 "nbformat_minor": 0
}
