{
 "cells": [
  {
   "cell_type": "code",
   "execution_count": 1,
   "metadata": {
    "collapsed": false
   },
   "outputs": [
    {
     "data": {
      "text/plain": [
       "1"
      ]
     },
     "execution_count": 1,
     "metadata": {},
     "output_type": "execute_result"
    }
   ],
   "source": [
    "asdf=1"
   ]
  },
  {
   "cell_type": "markdown",
   "metadata": {},
   "source": [
    "# El método de Newton"
   ]
  },
  {
   "cell_type": "markdown",
   "metadata": {
    "collapsed": true
   },
   "source": [
    "#[1]\n",
    "\n",
    "####Esboza la geometría, tanto a mano como en la computadora, y así encuentra la expresión de $x_{n+1}$ en términos de $x_n$."
   ]
  },
  {
   "cell_type": "code",
   "execution_count": 2,
   "metadata": {
    "collapsed": false
   },
   "outputs": [
    {
     "name": "stderr",
     "output_type": "stream",
     "text": [
      "INFO: Loading help data...\n"
     ]
    }
   ],
   "source": [
    "using PyPlot, AutoDif"
   ]
  },
  {
   "cell_type": "markdown",
   "metadata": {},
   "source": [
    "Lo que hice fue ir graficando lo que iba escribiendo para tener una idea de qué estaba pasando"
   ]
  },
  {
   "cell_type": "code",
   "execution_count": 3,
   "metadata": {
    "collapsed": false
   },
   "outputs": [
    {
     "data": {
      "image/png": "[encoded data removed]",
      "text/plain": [
       "Figure(PyObject <matplotlib.figure.Figure object at 0x7f6b840f64d0>)"
      ]
     },
     "metadata": {},
     "output_type": "display_data"
    }
   ],
   "source": [
    "a=0\n",
    "b=5\n",
    "f(x)=(x-2)^3-4\n",
    "\n",
    "x0=b*rand()\n",
    "recta(x)= (f(ValorDeriv(x0)).deriv)*x  +  f(x0)-x0*f(ValorDeriv(x0)).deriv\n",
    "x1=x0 - f(x0)/(f(ValorDeriv(x0)).deriv)\n",
    "\n",
    "\n",
    "x=a:2.0^-3:b\n",
    "y=similar(x)\n",
    "y0=similar(x)\n",
    "\n",
    "for i=1:length(x)\n",
    "    y[i]=f(x[i])\n",
    "    y0[i]=recta(x[i])\n",
    "end\n",
    "\n",
    "PyPlot.plot(x,y)\n",
    "PyPlot.plot([a,b],zeros(2),\"black\")\n",
    "PyPlot.plot(x0*[1,1],[f(a),f(b)],\"red\")\n",
    "PyPlot.plot(x,y0,\"red\");\n",
    "PyPlot.plot(x1*[1,1],[f(a),f(b)],\"green\")\n",
    "PyPlot.xlim(a,b)\n",
    "PyPlot.ylim(f(a),f(b));"
   ]
  },
  {
   "cell_type": "markdown",
   "metadata": {},
   "source": [
    "Por lo tanto, dada una $x_n$ la expresión para $x_{n+1}$ es:\n",
    "\n",
    "\\begin{equation}\n",
    "    x_{n+1}=x_n - \\frac{f(x_n)}{f´(x_n)}\n",
    "\\end{equation}"
   ]
  },
  {
   "cell_type": "markdown",
   "metadata": {},
   "source": [
    "#[2]\n",
    "#### Implementa la iteración para calcular la raíz cuadrada y la raíz cúbica de 2. ¿Cuál es una condición razonable de terminación del algoritmo?"
   ]
  },
  {
   "cell_type": "markdown",
   "metadata": {},
   "source": [
    "Estoy pidiendole al algoritmo que se detenga después de $100$ iteraciones o cuando la función tome un valor cuyo valor absoluto sea menor que $2.0^{-4}$"
   ]
  },
  {
   "cell_type": "code",
   "execution_count": 23,
   "metadata": {
    "collapsed": false
   },
   "outputs": [
    {
     "data": {
      "text/plain": [
       "cerosNewton (generic function with 1 method)"
      ]
     },
     "execution_count": 23,
     "metadata": {},
     "output_type": "execute_result"
    }
   ],
   "source": [
    "function cerosNewtonAux(f::Function,x,n::Int64)\n",
    "    if n>100 \n",
    "        return \"Más de 100 iteraciones\"\n",
    "    elseif norm(f(x))<2.0^-30 \n",
    "        return x\n",
    "    else\n",
    "        println(x)\n",
    "        n+=1\n",
    "        cerosNewtonAux(f,  x - f(x)/(f(ValorDeriv(x)).deriv)  ,n)\n",
    "    end\n",
    "end\n",
    "\n",
    "cerosNewton(f::Function,x)=cerosNewtonAux(f::Function,x,1)"
   ]
  },
  {
   "cell_type": "code",
   "execution_count": 5,
   "metadata": {
    "collapsed": false
   },
   "outputs": [
    {
     "name": "stdout",
     "output_type": "stream",
     "text": [
      "1.2599210498948732\n"
     ]
    },
    {
     "data": {
      "text/plain": [
       "1.2599210498953948"
      ]
     },
     "execution_count": 5,
     "metadata": {},
     "output_type": "execute_result"
    }
   ],
   "source": [
    "println(2^(1//3))\n",
    "f(x)=x^3 - 2\n",
    "cerosNewton(f,2)"
   ]
  },
  {
   "cell_type": "code",
   "execution_count": 6,
   "metadata": {
    "collapsed": false
   },
   "outputs": [
    {
     "name": "stdout",
     "output_type": "stream",
     "text": [
      "1.4142135623730951\n"
     ]
    },
    {
     "data": {
      "text/plain": [
       "1.4142135623746899"
      ]
     },
     "execution_count": 6,
     "metadata": {},
     "output_type": "execute_result"
    }
   ],
   "source": [
    "println(2^(1//2))\n",
    "f(x)=x^2 - 2\n",
    "cerosNewton(f,2)"
   ]
  },
  {
   "cell_type": "markdown",
   "metadata": {},
   "source": [
    "#[3]\n",
    "#### Haz un módulo para llevar a cabo diferenciación automática (usando el código del notebook correspondiente) y utilízalo para implementar el método."
   ]
  },
  {
   "cell_type": "markdown",
   "metadata": {},
   "source": [
    "...lo había hecho así desde el principio. El módulo se llama `AutoDif` y permite usar el tipo `ValorDeriv` definido en el notebook 6. Este módulo al igual que todos los que he creado están en la carpeta `MisModulos`"
   ]
  },
  {
   "cell_type": "markdown",
   "metadata": {},
   "source": [
    "#[4]\n",
    "####Utiliza el mismo método para la función compleja $f(z)=z^3−1$. Empezando desde distintos números complejos $a+bi$, itera el algoritmo para ver a cuál raíz converge, y colorea el punto inicial de manera correspondiente. [Para esto, se recomienda construir una matriz y utilizar la función pcolor de PyPlot."
   ]
  },
  {
   "cell_type": "markdown",
   "metadata": {},
   "source": [
    "Primero pruebo qué hacen mis programas a números complejos:"
   ]
  },
  {
   "cell_type": "code",
   "execution_count": 7,
   "metadata": {
    "collapsed": false,
    "scrolled": false
   },
   "outputs": [
    {
     "name": "stdout",
     "output_type": "stream",
     "text": [
      "1.0000000000000042 + 0.0im\n",
      "-0.5 + 0.8660254037844387im\n",
      "-0.5 - 0.8660254037844387im\n"
     ]
    }
   ],
   "source": [
    "f(x)=x^3 - 1\n",
    "println(cerosNewton(f,Complex(1,0)/sqrt(2))) #elegí como puntos iniciales complejos unitarios\n",
    "println(cerosNewton(f,Complex( -1,1 )/sqrt(2)))\n",
    "println(cerosNewton(f,Complex( -1,-1 )/sqrt(2)))"
   ]
  },
  {
   "cell_type": "markdown",
   "metadata": {},
   "source": [
    "Parece que funcionan bastante bien O.O\n",
    "\n",
    "Lo que haré ahora es crear una matriz de unos y cada que una raíz no converga convertiré esa entrada en cero"
   ]
  },
  {
   "cell_type": "code",
   "execution_count": 8,
   "metadata": {
    "collapsed": false,
    "scrolled": true
   },
   "outputs": [
    {
     "name": "stdout",
     "output_type": "stream",
     "text": [
      "0.0 + 0.0im\n"
     ]
    },
    {
     "data": {
      "image/png": "[encoded data removed]",
      "text/plain": [
       "Figure(PyObject <matplotlib.figure.Figure object at 0x7f6b9013a650>)"
      ]
     },
     "metadata": {},
     "output_type": "display_data"
    }
   ],
   "source": [
    "paso=2.0^-3\n",
    "a=-3\n",
    "b=3-paso # le quito un elemento ya que pcolor grafica cuadrantes, lo que quiere\n",
    "        # decir que la matriz z debe tener un elemento menos que los arreglos x,y\n",
    "        # Nótese que esto quiere decir que nos falta una columna de info\n",
    "x=Float64[a:paso:b]\n",
    "y=Float64[a:paso:b]\n",
    "n=length(x)\n",
    "z=ones(n,n);\n",
    "for i=1:n\n",
    "    for j=1:n\n",
    "        if typeof(  cerosNewton(f,Complex(x[i],y[j]))  ) == UTF8String\n",
    "            println(Complex(x[i],y[j])) # imprimo valores en los que no converge\n",
    "            z[j,i]=0 #es j,i porque en matrices se usa que (renglón, columna) y yo lo quiero al revés\n",
    "        end\n",
    "    end\n",
    "end\n",
    "\n",
    "push!(x,b+paso)\n",
    "push!(y,b+paso)\n",
    "\n",
    "PyPlot.pcolor(x,y,z)\n",
    "PyPlot.xlabel(\"Reales\")\n",
    "PyPlot.ylabel(\"Imaginarios\")\n",
    "PyPlot.suptitle(\"Rojo=1, Azul=0\")\n",
    "PyPlot.title(\"rojo=converge, azul=no converge\");"
   ]
  },
  {
   "cell_type": "markdown",
   "metadata": {},
   "source": [
    "Es decir que el único valor que no converge es el cero, lo cual tiene sentido ya que la derivada de la función $f(x)=x^3 - 1$ evaluada en cero es igual a cero, por lo que el término $x_{n+1}$ diverge (ver ejercicio [1])"
   ]
  },
  {
   "cell_type": "code",
   "execution_count": null,
   "metadata": {
    "collapsed": false
   },
   "outputs": [],
   "source": []
  },
  {
   "cell_type": "markdown",
   "metadata": {},
   "source": [
    "# Dimensión superior"
   ]
  },
  {
   "cell_type": "markdown",
   "metadata": {},
   "source": [
    "#[5]\n",
    "#### Desarrolla e implementa el método de Newton para funciones $\\mathbf{f}: \\mathbb{R}^n \\to \\mathbb{R}^n$. Para hacerlo, toma una adivinaza $\\mathbf{x}_n$ y resuelve la ecuación $\\mathbf{f}(\\mathbf{x}_{n+1})=\\mathbf{0}$, con $\\mathbf{x}_{n+1}=\\mathbf{x}_n+δ\\mathbf{x}_n$."
   ]
  },
  {
   "cell_type": "markdown",
   "metadata": {},
   "source": [
    "Antes de implementarlo para $\\mathbf{f}: \\mathbb{R}^n \\to \\mathbb{R}^n$ voy a hacerlo para  $\\mathbf{f}: \\mathbb{R}^n \\to \\mathbb{R}$. "
   ]
  },
  {
   "cell_type": "markdown",
   "metadata": {},
   "source": [
    "Para lo cual empiezo por definir cómo es `ValorDeriv` con `arreglos`:"
   ]
  },
  {
   "cell_type": "code",
   "execution_count": null,
   "metadata": {
    "collapsed": true
   },
   "outputs": [],
   "source": []
  },
  {
   "cell_type": "code",
   "execution_count": 27,
   "metadata": {
    "collapsed": false
   },
   "outputs": [
    {
     "data": {
      "text/plain": [
       "ValorDeriv (constructor with 3 methods)"
      ]
     },
     "execution_count": 27,
     "metadata": {},
     "output_type": "execute_result"
    }
   ],
   "source": [
    "import AutoDif.ValorDeriv\n",
    "\n",
    "function ValorDeriv(valor::Array{Float64,1})\n",
    "    a=ValorDeriv[]\n",
    "    for i=1:length(valor)\n",
    "        push!(a,ValorDeriv(valor[i]))\n",
    "    end\n",
    "    return a\n",
    "end"
   ]
  },
  {
   "cell_type": "code",
   "execution_count": 28,
   "metadata": {
    "collapsed": false
   },
   "outputs": [
    {
     "data": {
      "text/plain": [
       "3-element Array{ValorDeriv,1}:\n",
       " ValorDeriv(4.0,1.0)\n",
       " ValorDeriv(2.0,1.0)\n",
       " ValorDeriv(1.0,1.0)"
      ]
     },
     "execution_count": 28,
     "metadata": {},
     "output_type": "execute_result"
    }
   ],
   "source": [
    "x=Float64[4,2,1]\n",
    "ValorDeriv(x)"
   ]
  },
  {
   "cell_type": "code",
   "execution_count": null,
   "metadata": {
    "collapsed": true
   },
   "outputs": [],
   "source": []
  },
  {
   "cell_type": "markdown",
   "metadata": {},
   "source": [
    "Hay un problema, al hacer $\\mathbf{x}_{n+1}=\\mathbf{x}_n - \\frac{f(\\mathbf{x}_n)}{f´(\\mathbf{x}_n)}$ estoy sumando un escalar al vector $\\mathbf{x}_n$. Lo que quiero intentar ahora es incluir no la derivada sino el gradiente, para sumar vectores. Pero aún no se bien como hacerlo. En primer lugar para calcularlo creo que tendría que hacer que la función `f` fuera evaluada en ([x1,1],[x2,0],[x3,0],...) para obtener la componente en X, luego en ([x1,0],[x2,1],[x3,0],...)  para obtener la componente en Y y así sucesivamente. Pero aún cuando pudiera calcular bien el gradiente, como lo incluyo en la teoría de buscar ceros? Creo que la clave es pensar bien esto (fuente wiki):\n",
    "    \n",
    "    \"Similarly to the usual derivative, the gradient represents the slope of the tangent of the graph of the function. More precisely, the gradient points in the direction of the greatest rate of increase of the function and its magnitude is the slope of the graph in that direction.\"\n",
    "    \n",
    "Busca la ecuación de una recta que vaya en la dirección de este gradiente."
   ]
  },
  {
   "cell_type": "markdown",
   "metadata": {},
   "source": [
    "Ahora pruebo para algunas funciones:"
   ]
  },
  {
   "cell_type": "code",
   "execution_count": 30,
   "metadata": {
    "collapsed": false
   },
   "outputs": [
    {
     "name": "stdout",
     "output_type": "stream",
     "text": [
      "[4.0,2.0,1.0]\n",
      "[1.0000000000000004,-0.9999999999999996,-1.9999999999999996]\n",
      "[4.000000000000002,2.0000000000000018,1.0000000000000018]\n",
      "[1.0000000000000009,-0.9999999999999991,-1.9999999999999991]\n",
      "[4.0000000000000036,2.0000000000000036,1.0000000000000036]\n",
      "[1.0000000000000013,-0.9999999999999987,-1.9999999999999987]\n",
      "[4.000000000000005,2.000000000000005,1.0000000000000049]\n",
      "[1.0000000000000018,-0.9999999999999987,-1.9999999999999987]\n",
      "[4.000000000000005,2.0000000000000053,1.0000000000000053]\n",
      "[1.0000000000000018,-0.9999999999999982,-1.9999999999999982]\n",
      "[4.000000000000006,2.000000000000006,1.0000000000000062]\n",
      "[1.0000000000000018,-0.9999999999999982,-1.9999999999999982]\n",
      "[4.000000000000006,2.000000000000006,1.0000000000000062]\n",
      "[1.0000000000000018,-0.9999999999999982,-1.9999999999999982]\n",
      "[4.000000000000006,2.000000000000006,1.0000000000000062]\n",
      "[1.0000000000000018,-0.9999999999999982,-1.9999999999999982]\n",
      "[4.000000000000006,2.000000000000006,1.0000000000000062]\n",
      "[1.0000000000000018,-0.9999999999999982,-1.9999999999999982]\n",
      "[4.000000000000006,2.000000000000006,1.0000000000000062]\n",
      "[1.0000000000000018,-0.9999999999999982,-1.9999999999999982]\n",
      "[4.000000000000006,2.000000000000006,1.0000000000000062]\n",
      "[1.0000000000000018,-0.9999999999999982,-1.9999999999999982]\n",
      "[4.000000000000006,2.000000000000006,1.0000000000000062]\n",
      "[1.0000000000000018,-0.9999999999999982,-1.9999999999999982]\n",
      "[4.000000000000006,2.000000000000006,1.0000000000000062]\n",
      "[1.0000000000000018,-0.9999999999999982,-1.9999999999999982]\n",
      "[4.000000000000006,2.000000000000006,1.0000000000000062]\n",
      "[1.0000000000000018,-0.9999999999999982,-1.9999999999999982]\n",
      "[4.000000000000006,2.000000000000006,1.0000000000000062]\n",
      "[1.0000000000000018,-0.9999999999999982,-1.9999999999999982]\n",
      "[4.000000000000006,2.000000000000006,1.0000000000000062]\n",
      "[1.0000000000000018,-0.9999999999999982,-1.9999999999999982]\n",
      "[4.000000000000006,2.000000000000006,1.0000000000000062]\n",
      "[1.0000000000000018,-0.9999999999999982,-1.9999999999999982]\n",
      "[4.000000000000006,2.000000000000006,1.0000000000000062]\n",
      "[1.0000000000000018,-0.9999999999999982,-1.9999999999999982]\n",
      "[4.000000000000006,2.000000000000006,1.0000000000000062]\n",
      "[1.0000000000000018,-0.9999999999999982,-1.9999999999999982]\n",
      "[4.000000000000006,2.000000000000006,1.0000000000000062]\n",
      "[1.0000000000000018,-0.9999999999999982,-1.9999999999999982]\n",
      "[4.000000000000006,2.000000000000006,1.0000000000000062]\n",
      "[1.0000000000000018,-0.9999999999999982,-1.9999999999999982]\n",
      "[4.000000000000006,2.000000000000006,1.0000000000000062]\n",
      "[1.0000000000000018,-0.9999999999999982,-1.9999999999999982]\n",
      "[4.000000000000006,2.000000000000006,1.0000000000000062]\n",
      "[1.0000000000000018,-0.9999999999999982,-1.9999999999999982]\n",
      "[4.000000000000006,2.000000000000006,1.0000000000000062]\n",
      "[1.0000000000000018,-0.9999999999999982,-1.9999999999999982]\n",
      "[4.000000000000006,2.000000000000006,1.0000000000000062]\n",
      "[1.0000000000000018,-0.9999999999999982,-1.9999999999999982]\n",
      "[4.000000000000006,2.000000000000006,1.0000000000000062]\n",
      "[1.0000000000000018,-0.9999999999999982,-1.9999999999999982]\n",
      "[4.000000000000006,2.000000000000006,1.0000000000000062]\n",
      "[1.0000000000000018,-0.9999999999999982,-1.9999999999999982]\n",
      "[4.000000000000006,2.000000000000006,1.0000000000000062]\n",
      "[1.0000000000000018,-0.9999999999999982,-1.9999999999999982]\n",
      "[4.000000000000006,2.000000000000006,1.0000000000000062]\n",
      "[1.0000000000000018,-0.9999999999999982,-1.9999999999999982]\n",
      "[4.000000000000006,2.000000000000006,1.0000000000000062]\n",
      "[1.0000000000000018,-0.9999999999999982,-1.9999999999999982]\n",
      "[4.000000000000006,2.000000000000006,1.0000000000000062]\n",
      "[1.0000000000000018,-0.9999999999999982,-1.9999999999999982]\n",
      "[4.000000000000006,2.000000000000006,1.0000000000000062]\n",
      "[1.0000000000000018,-0.9999999999999982,-1.9999999999999982]\n",
      "[4.000000000000006,2.000000000000006,1.0000000000000062]\n",
      "[1.0000000000000018,-0.9999999999999982,-1.9999999999999982]\n",
      "[4.000000000000006,2.000000000000006,1.0000000000000062]\n",
      "[1.0000000000000018,-0.9999999999999982,-1.9999999999999982]\n",
      "[4.000000000000006,2.000000000000006,1.0000000000000062]\n",
      "[1.0000000000000018,-0.9999999999999982,-1.9999999999999982]\n",
      "[4.000000000000006,2.000000000000006,1.0000000000000062]\n",
      "[1.0000000000000018,-0.9999999999999982,-1.9999999999999982]\n",
      "[4.000000000000006,2.000000000000006,1.0000000000000062]\n",
      "[1.0000000000000018,-0.9999999999999982,-1.9999999999999982]\n",
      "[4.000000000000006,2.000000000000006,1.0000000000000062]\n",
      "[1.0000000000000018,-0.9999999999999982,-1.9999999999999982]\n",
      "[4.000000000000006,2.000000000000006,1.0000000000000062]\n",
      "[1.0000000000000018,-0.9999999999999982,-1.9999999999999982]\n",
      "[4.000000000000006,2.000000000000006,1.0000000000000062]\n",
      "[1.0000000000000018,-0.9999999999999982,-1.9999999999999982]\n",
      "[4.000000000000006,2.000000000000006,1.0000000000000062]\n",
      "[1.0000000000000018,-0.9999999999999982,-1.9999999999999982]\n",
      "[4.000000000000006,2.000000000000006,1.0000000000000062]\n",
      "[1.0000000000000018,-0.9999999999999982,-1.9999999999999982]\n",
      "[4.000000000000006,2.000000000000006,1.0000000000000062]\n",
      "[1.0000000000000018,-0.9999999999999982,-1.9999999999999982]\n",
      "[4.000000000000006,2.000000000000006,1.0000000000000062]\n",
      "[1.0000000000000018,-0.9999999999999982,-1.9999999999999982]\n",
      "[4.000000000000006,2.000000000000006,1.0000000000000062]\n",
      "[1.0000000000000018,-0.9999999999999982,-1.9999999999999982]\n",
      "[4.000000000000006,2.000000000000006,1.0000000000000062]\n",
      "[1.0000000000000018,-0.9999999999999982,-1.9999999999999982]\n",
      "[4.000000000000006,2.000000000000006,1.0000000000000062]\n",
      "[1.0000000000000018,-0.9999999999999982,-1.9999999999999982]\n",
      "[4.000000000000006,2.000000000000006,1.0000000000000062]\n",
      "[1.0000000000000018,-0.9999999999999982,-1.9999999999999982]\n",
      "[4.000000000000006,2.000000000000006,1.0000000000000062]\n",
      "[1.0000000000000018,-0.9999999999999982,-1.9999999999999982]\n",
      "[4.000000000000006,2.000000000000006,1.0000000000000062]\n",
      "[1.0000000000000018,-0.9999999999999982,-1.9999999999999982]\n"
     ]
    },
    {
     "data": {
      "text/plain": [
       "\"Más de 100 iteraciones\""
      ]
     },
     "execution_count": 30,
     "metadata": {},
     "output_type": "execute_result"
    }
   ],
   "source": [
    "f(x)= (x⋅x)^(1/2)\n",
    "#cerosNewton(f,Float64[4,2,1])"
   ]
  },
  {
   "cell_type": "code",
   "execution_count": 20,
   "metadata": {
    "collapsed": false
   },
   "outputs": [
    {
     "data": {
      "text/plain": [
       "4.242640687119285"
      ]
     },
     "execution_count": 20,
     "metadata": {},
     "output_type": "execute_result"
    }
   ],
   "source": []
  },
  {
   "cell_type": "code",
   "execution_count": null,
   "metadata": {
    "collapsed": true
   },
   "outputs": [],
   "source": []
  },
  {
   "cell_type": "code",
   "execution_count": null,
   "metadata": {
    "collapsed": true
   },
   "outputs": [],
   "source": []
  },
  {
   "cell_type": "code",
   "execution_count": null,
   "metadata": {
    "collapsed": true
   },
   "outputs": [],
   "source": []
  },
  {
   "cell_type": "code",
   "execution_count": null,
   "metadata": {
    "collapsed": true
   },
   "outputs": [],
   "source": []
  },
  {
   "cell_type": "code",
   "execution_count": null,
   "metadata": {
    "collapsed": true
   },
   "outputs": [],
   "source": []
  },
  {
   "cell_type": "code",
   "execution_count": null,
   "metadata": {
    "collapsed": true
   },
   "outputs": [],
   "source": []
  },
  {
   "cell_type": "code",
   "execution_count": null,
   "metadata": {
    "collapsed": true
   },
   "outputs": [],
   "source": []
  },
  {
   "cell_type": "code",
   "execution_count": null,
   "metadata": {
    "collapsed": true
   },
   "outputs": [],
   "source": []
  },
  {
   "cell_type": "code",
   "execution_count": null,
   "metadata": {
    "collapsed": true
   },
   "outputs": [],
   "source": []
  },
  {
   "cell_type": "code",
   "execution_count": null,
   "metadata": {
    "collapsed": true
   },
   "outputs": [],
   "source": []
  },
  {
   "cell_type": "code",
   "execution_count": null,
   "metadata": {
    "collapsed": true
   },
   "outputs": [],
   "source": []
  },
  {
   "cell_type": "code",
   "execution_count": null,
   "metadata": {
    "collapsed": true
   },
   "outputs": [],
   "source": []
  },
  {
   "cell_type": "code",
   "execution_count": 179,
   "metadata": {
    "collapsed": false
   },
   "outputs": [
    {
     "data": {
      "text/plain": [
       "cerosNewtonVectorial (generic function with 1 method)"
      ]
     },
     "execution_count": 179,
     "metadata": {},
     "output_type": "execute_result"
    }
   ],
   "source": [
    "function cerosNewtonVectorialAux(f::Function,x,n::Int64)\n",
    "    δ=2.0^-1\n",
    "    if n>200 \n",
    "        return \"Más de 200 iteraciones\" #Aumenté el máximo de iteraciones\n",
    "    elseif norm(f(x))<2.0^-30 \n",
    "        return x\n",
    "    else\n",
    "        n+=1\n",
    "        if norm(f(x - δ*x))<norm(f(x + δ*x))\n",
    "            δ=-δ\n",
    "        end\n",
    "        cerosNewtonVectorialAux(f,  x + δ*x  ,n)\n",
    "    end\n",
    "end\n",
    "\n",
    "cerosNewtonVectorial(f::Function,x)=cerosNewtonVectorialAux(f::Function,x,1)"
   ]
  },
  {
   "cell_type": "markdown",
   "metadata": {},
   "source": [
    "Voy a hacer una función que cheque la convergencia en un área para funciones de $\\mathbf{f}: \\mathbb{R}^2 \\to \\mathbb{R}^2$ (análogamente a como lo hice en [4])."
   ]
  },
  {
   "cell_type": "code",
   "execution_count": 180,
   "metadata": {
    "collapsed": false
   },
   "outputs": [
    {
     "data": {
      "text/plain": [
       "checaConverg (generic function with 1 method)"
      ]
     },
     "execution_count": 180,
     "metadata": {},
     "output_type": "execute_result"
    }
   ],
   "source": [
    "function checaConverg(f::Function)\n",
    "    paso=2.0^-3\n",
    "    a=-3\n",
    "    b=3-paso # le quito un elemento ya que pcolor grafica cuadrantes, lo que quiere\n",
    "    # decir que la matriz z debe tener un elemento menos que los arreglos x,y\n",
    "    # Nótese que esto quiere decir que nos falta una columna de info\n",
    "    x=Float64[a:paso:b]\n",
    "    y=Float64[a:paso:b]\n",
    "    n=length(x)\n",
    "    z=ones(n,n);\n",
    "    for i=1:n\n",
    "        for j=1:n\n",
    "            if typeof(  cerosNewtonVectorial(f,[x[i],y[j]])  ) == UTF8String\n",
    "                println([x[i],y[j]]) # imprimo valores en los que no converge\n",
    "                z[j,i]=0 #es j,i porque en matrices se usa que (renglón, columna) y yo lo quiero al revés\n",
    "            end\n",
    "        end\n",
    "    end\n",
    "    \n",
    "    push!(x,b+paso)\n",
    "    push!(y,b+paso)\n",
    "    \n",
    "    if(z==ones(n,n))\n",
    "        println(\"Todos convergen\")\n",
    "    else\n",
    "        \n",
    "        PyPlot.pcolor(x,y,z)\n",
    "        PyPlot.xlabel(\"Reales\")\n",
    "        PyPlot.ylabel(\"Imaginarios\")\n",
    "        PyPlot.suptitle(\"Rojo=1, Azul=0\")\n",
    "        PyPlot.title(\"rojo=converge, azul=no converge\");\n",
    "    end\n",
    "end"
   ]
  },
  {
   "cell_type": "code",
   "execution_count": 181,
   "metadata": {
    "collapsed": false
   },
   "outputs": [
    {
     "name": "stdout",
     "output_type": "stream",
     "text": [
      "Todos convergen\n"
     ]
    },
    {
     "data": {
      "text/plain": [
       "2-element Array{Float64,1}:\n",
       " 4.65661e-10\n",
       " 1.16415e-10"
      ]
     },
     "execution_count": 181,
     "metadata": {},
     "output_type": "execute_result"
    }
   ],
   "source": [
    "ff(x)=x #Función identidad\n",
    "checaConverg(ff)\n",
    "cerosNewtonVectorial(ff,Float64[4,1])"
   ]
  },
  {
   "cell_type": "code",
   "execution_count": 182,
   "metadata": {
    "collapsed": false
   },
   "outputs": [
    {
     "name": "stdout",
     "output_type": "stream",
     "text": [
      "Todos convergen\n"
     ]
    },
    {
     "data": {
      "text/plain": [
       "2-element Array{Float64,1}:\n",
       " 6.98492e-10\n",
       " 4.65661e-10"
      ]
     },
     "execution_count": 182,
     "metadata": {},
     "output_type": "execute_result"
    }
   ],
   "source": [
    "ff(x)=[x[1],-x[2]] #Reflexión\n",
    "checaConverg(ff)\n",
    "cerosNewtonVectorial(ff,Float64[3,2])"
   ]
  },
  {
   "cell_type": "code",
   "execution_count": 183,
   "metadata": {
    "collapsed": false,
    "scrolled": true
   },
   "outputs": [
    {
     "name": "stdout",
     "output_type": "stream",
     "text": [
      "Todos convergen\n"
     ]
    },
    {
     "data": {
      "text/plain": [
       "2-element Array{Float64,1}:\n",
       " 1.16415e-10\n",
       " 4.65661e-10"
      ]
     },
     "execution_count": 183,
     "metadata": {},
     "output_type": "execute_result"
    }
   ],
   "source": [
    "θ=π/4\n",
    "ff(x)=[cos(θ)x[1]-sin(θ)x[2],sin(θ)x[1]+cos(θ)x[2]] #Rotación\n",
    "checaConverg(ff)\n",
    "cerosNewtonVectorial(ff,Float64[1,4])"
   ]
  },
  {
   "cell_type": "code",
   "execution_count": 194,
   "metadata": {
    "collapsed": false
   },
   "outputs": [
    {
     "data": {
      "text/plain": [
       "cerosNewtonVectorial (generic function with 1 method)"
      ]
     },
     "execution_count": 194,
     "metadata": {},
     "output_type": "execute_result"
    }
   ],
   "source": [
    "function cerosNewtonVectorialAux(f::Function,x,n::Int64)\n",
    "    δ=2.0^-1\n",
    "    if n>10 \n",
    "        return \"Más de 200 iteraciones\" #Aumenté el máximo de iteraciones\n",
    "    elseif norm(f(x))<2.0^-30 \n",
    "        return x\n",
    "    else\n",
    "        n+=1\n",
    "        while norm(f(x - δ*x))>norm(f(x)) && norm(f(x + δ*x))>norm(f(x))\n",
    "            δ=δ/2 #si moverme hace que me aleje del cero, me muevo menos\n",
    "        end\n",
    "        if norm(f(x - δ*x))<norm(f(x + δ*x))\n",
    "            δ=-δ\n",
    "        end\n",
    "        println(norm(f(x - δ*x)))\n",
    "        println(norm(f(x + δ*x)))\n",
    "        println(x)\n",
    "        println()\n",
    "        cerosNewtonVectorialAux(f,  x + δ*x  ,n)\n",
    "    end\n",
    "end\n",
    "\n",
    "cerosNewtonVectorial(f::Function,x)=cerosNewtonVectorialAux(f::Function,x,1)"
   ]
  },
  {
   "cell_type": "code",
   "execution_count": 196,
   "metadata": {
    "collapsed": false
   },
   "outputs": [
    {
     "name": "stdout",
     "output_type": "stream",
     "text": [
      "9.116057261777154\n",
      "3.289756829919196\n",
      "[5.5,-2.4]\n",
      "\n",
      "4.705382556179678\n",
      "2.0014057559625433\n",
      "[2.75,-1.2]\n",
      "\n",
      "2.61751910212705\n",
      "1.511673327805978\n",
      "[1.375,-0.6]\n",
      "\n",
      "1.733414711631351\n",
      "1.359012164220762\n",
      "[0.6875,-0.3]\n",
      "\n",
      "1.4250856608025355\n",
      "1.3165451058072413\n",
      "[0.34375,-0.15]\n",
      "\n",
      "1.3346576471725813\n",
      "1.3049344826106215\n",
      "[0.171875,-0.075]\n",
      "\n",
      "1.309913979537993\n",
      "1.3016255705757176\n",
      "[0.0859375,-0.0375]\n",
      "\n",
      "1.3030702574870112\n",
      "1.3006018199257374\n",
      "[0.04296875,-0.01875]\n",
      "\n",
      "1.3010610065392076\n",
      "1.3002481223783924\n",
      "[0.021484375,-0.009375]\n",
      "\n",
      "1.3004117790373955\n",
      "1.30011085991239\n",
      "[0.0107421875,-0.0046875]\n",
      "\n"
     ]
    },
    {
     "data": {
      "text/plain": [
       "\"Más de 200 iteraciones\""
      ]
     },
     "execution_count": 196,
     "metadata": {},
     "output_type": "execute_result"
    }
   ],
   "source": [
    "ff(x)=x-[0.5,1.2] #Traslación\n",
    "#checaConverg(ff)\n",
    "cerosNewtonVectorial(ff,Float64[5.5,-2.4])"
   ]
  },
  {
   "cell_type": "code",
   "execution_count": null,
   "metadata": {
    "collapsed": true
   },
   "outputs": [],
   "source": []
  },
  {
   "cell_type": "code",
   "execution_count": null,
   "metadata": {
    "collapsed": true
   },
   "outputs": [],
   "source": []
  },
  {
   "cell_type": "code",
   "execution_count": 164,
   "metadata": {
    "collapsed": false,
    "scrolled": true
   },
   "outputs": [
    {
     "data": {
      "text/plain": [
       "4.799926683327254e-10"
      ]
     },
     "execution_count": 164,
     "metadata": {},
     "output_type": "execute_result"
    }
   ],
   "source": [
    "norm(ff(ans))"
   ]
  },
  {
   "cell_type": "code",
   "execution_count": 17,
   "metadata": {
    "collapsed": false
   },
   "outputs": [
    {
     "data": {
      "text/html": [
       "2 methods for generic function <b>ValorDeriv</b>:<ul><li> ValorDeriv(valor,deriv)<li> ValorDeriv(valor) at <a href=\"https://github.com/shgaeo/clase/tree/142c91725e4f97e9e48616a475b44a6a5a279bb7/e/MisModulos/AutoDif/src/AutoDif.jl#L16\" target=\"_blank\">/home/santiago/Documentos/Escuela-maestría/1er-semestre/Física-computacional/Clase/MisModulos/AutoDif/src/AutoDif.jl:16</a></ul>"
      ],
      "text/plain": [
       "# 2 methods for generic function \"ValorDeriv\":\n",
       "ValorDeriv(valor,deriv)\n",
       "ValorDeriv(valor) at /home/santiago/Documentos/Escuela-maestría/1er-semestre/Física-computacional/Clase/MisModulos/AutoDif/src/AutoDif.jl:16"
      ]
     },
     "execution_count": 17,
     "metadata": {},
     "output_type": "execute_result"
    }
   ],
   "source": [
    "methods(ValorDeriv)"
   ]
  },
  {
   "cell_type": "code",
   "execution_count": 199,
   "metadata": {
    "collapsed": false
   },
   "outputs": [
    {
     "data": {
      "text/plain": [
       "ValorDeriv (constructor with 4 methods)"
      ]
     },
     "execution_count": 199,
     "metadata": {},
     "output_type": "execute_result"
    }
   ],
   "source": [
    "import AutoDif.ValorDeriv\n",
    "\n",
    "function ValorDeriv(valor::Array{Float64,1})\n",
    "    a=ValorDeriv[]\n",
    "    for i=1:length(valor)\n",
    "        push!(a,ValorDeriv(valor[i]))\n",
    "    end\n",
    "    return a\n",
    "end\n",
    "\n",
    "#ValorDeriv(valor::Array{Float64,1})=ValorDeriv(valor,ones(Float64,length(valor)))"
   ]
  },
  {
   "cell_type": "code",
   "execution_count": 200,
   "metadata": {
    "collapsed": false
   },
   "outputs": [
    {
     "name": "stdout",
     "output_type": "stream",
     "text": [
      "[ValorDeriv(4.0,1.0),ValorDeriv(1.0,1.0),ValorDeriv(1.0,1.0)]\n"
     ]
    }
   ],
   "source": [
    "x=Float64[4,1,1]\n",
    "y=Float64[1,-4,0]\n",
    "\n",
    "#f1(x)\n",
    "\n",
    "println(ValorDeriv(x))\n",
    "#println(f1(ValorDeriv(x)))\n"
   ]
  },
  {
   "cell_type": "code",
   "execution_count": 67,
   "metadata": {
    "collapsed": false
   },
   "outputs": [
    {
     "data": {
      "text/plain": [
       "getindex (generic function with 202 methods)"
      ]
     },
     "execution_count": 67,
     "metadata": {},
     "output_type": "execute_result"
    }
   ],
   "source": [
    "getindex(x::ValorDeriv,n::Int64)=ValorDeriv(x.valor[n],x.deriv[n])"
   ]
  },
  {
   "cell_type": "code",
   "execution_count": 68,
   "metadata": {
    "collapsed": false
   },
   "outputs": [
    {
     "data": {
      "text/html": [
       "4 methods for generic function <b>ValorDeriv</b>:<ul><li> ValorDeriv(valor::<b>Array{Any,1}</b>) at In[31]:4<li> ValorDeriv(valor::<b>Array{Float64,1}</b>) at In[65]:11<li> ValorDeriv(valor,deriv)<li> ValorDeriv(valor) at <a href=\"https://github.com/shgaeo/clase/tree/142c91725e4f97e9e48616a475b44a6a5a279bb7/e/MisModulos/AutoDif/src/AutoDif.jl#L16\" target=\"_blank\">/home/santiago/Documentos/Escuela-maestría/1er-semestre/Física-computacional/Clase/MisModulos/AutoDif/src/AutoDif.jl:16</a></ul>"
      ],
      "text/plain": [
       "# 4 methods for generic function \"ValorDeriv\":\n",
       "ValorDeriv(valor::Array{Any,1}) at In[31]:4\n",
       "ValorDeriv(valor::Array{Float64,1}) at In[65]:11\n",
       "ValorDeriv(valor,deriv)\n",
       "ValorDeriv(valor) at /home/santiago/Documentos/Escuela-maestría/1er-semestre/Física-computacional/Clase/MisModulos/AutoDif/src/AutoDif.jl:16"
      ]
     },
     "execution_count": 68,
     "metadata": {},
     "output_type": "execute_result"
    }
   ],
   "source": [
    "methods(ValorDeriv)"
   ]
  },
  {
   "cell_type": "code",
   "execution_count": 63,
   "metadata": {
    "collapsed": false
   },
   "outputs": [
    {
     "ename": "LoadError",
     "evalue": "dimensions must match\nwhile loading In[63], in expression starting on line 1",
     "output_type": "error",
     "traceback": [
      "dimensions must match\nwhile loading In[63], in expression starting on line 1",
      "",
      " in promote_shape at operators.jl:191",
      " in - at array.jl:723"
     ]
    }
   ],
   "source": [
    "Float64[4,1,1]-(Float64[4,1,1]/(ValorDeriv(Float64[4,1,1]).deriv))"
   ]
  },
  {
   "cell_type": "markdown",
   "metadata": {},
   "source": [
    "#[6]\n",
    "####Utiliza tu algoritmo para calcular raíces de funciones conocidas multidimensionales."
   ]
  },
  {
   "cell_type": "code",
   "execution_count": null,
   "metadata": {
    "collapsed": true
   },
   "outputs": [],
   "source": []
  }
 ],
 "metadata": {
  "kernelspec": {
   "display_name": "Julia 0.3.6",
   "language": "julia",
   "name": "julia 0.3"
  },
  "language_info": {
   "name": "julia",
   "version": "0.3.7"
  }
 },
 "nbformat": 4,
 "nbformat_minor": 0
}
