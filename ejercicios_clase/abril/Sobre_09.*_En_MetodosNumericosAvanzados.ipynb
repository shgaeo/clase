{
 "cells": [
  {
   "cell_type": "code",
   "execution_count": 1,
   "metadata": {
    "collapsed": false
   },
   "outputs": [
    {
     "data": {
      "text/plain": [
       "1"
      ]
     },
     "execution_count": 1,
     "metadata": {},
     "output_type": "execute_result"
    }
   ],
   "source": [
    "asdf=1"
   ]
  },
  {
   "cell_type": "markdown",
   "metadata": {},
   "source": [
    "# El método de Newton"
   ]
  },
  {
   "cell_type": "markdown",
   "metadata": {
    "collapsed": true
   },
   "source": [
    "#[1]\n",
    "\n",
    "####Esboza la geometría, tanto a mano como en la computadora, y así encuentra la expresión de $x_{n+1}$ en términos de $x_n$."
   ]
  },
  {
   "cell_type": "code",
   "execution_count": 53,
   "metadata": {
    "collapsed": false
   },
   "outputs": [],
   "source": [
    "using PyPlot, AutoDif"
   ]
  },
  {
   "cell_type": "markdown",
   "metadata": {},
   "source": [
    "Lo que hice fue ir graficando lo que iba escribiendo para tener una idea de qué estaba pasando"
   ]
  },
  {
   "cell_type": "code",
   "execution_count": 172,
   "metadata": {
    "collapsed": false
   },
   "outputs": [
    {
     "data": {
      "image/png": "[encoded data removed]",
      "text/plain": [
       "Figure(PyObject <matplotlib.figure.Figure object at 0x7fafc5e5c350>)"
      ]
     },
     "metadata": {},
     "output_type": "display_data"
    }
   ],
   "source": [
    "a=0\n",
    "b=5\n",
    "f(x)=(x-2)^3-4\n",
    "\n",
    "x0=b*rand()\n",
    "recta(x)= (f(ValorDeriv(x0)).deriv)*x  +  f(x0)-x0*f(ValorDeriv(x0)).deriv\n",
    "x1=x0 - f(x0)/(f(ValorDeriv(x0)).deriv)\n",
    "\n",
    "\n",
    "x=a:2.0^-3:b\n",
    "y=similar(x)\n",
    "y0=similar(x)\n",
    "\n",
    "for i=1:length(x)\n",
    "    y[i]=f(x[i])\n",
    "    y0[i]=recta(x[i])\n",
    "end\n",
    "\n",
    "PyPlot.plot(x,y)\n",
    "PyPlot.plot([a,b],zeros(2),\"black\")\n",
    "PyPlot.plot(x0*[1,1],[f(a),f(b)],\"red\")\n",
    "PyPlot.plot(x,y0,\"red\");\n",
    "PyPlot.plot(x1*[1,1],[f(a),f(b)],\"green\")\n",
    "PyPlot.xlim(a,b)\n",
    "PyPlot.ylim(f(a),f(b));"
   ]
  },
  {
   "cell_type": "markdown",
   "metadata": {},
   "source": [
    "Por lo tanto, dada una $x_n$ la expresión para $x_{n+1}$ es:\n",
    "\n",
    "\\begin{equation}\n",
    "    x_{n+1}=x_n - \\frac{f(x_n)}{f´(x_n)}\n",
    "\\end{equation}"
   ]
  },
  {
   "cell_type": "markdown",
   "metadata": {},
   "source": [
    "#[2]\n",
    "#### Implementa la iteración para calcular la raíz cuadrada y la raíz cúbica de 2. ¿Cuál es una condición razonable de terminación del algoritmo?"
   ]
  },
  {
   "cell_type": "markdown",
   "metadata": {},
   "source": [
    "Estoy pidiendole al algoritmo que se detenga después de $100$ iteraciones o cuando la función tome un valor cuyo valor absoluto sea menor que $2.0^{-4}$"
   ]
  },
  {
   "cell_type": "code",
   "execution_count": 505,
   "metadata": {
    "collapsed": false
   },
   "outputs": [
    {
     "data": {
      "text/plain": [
       "cerosNewton (generic function with 3 methods)"
      ]
     },
     "execution_count": 505,
     "metadata": {},
     "output_type": "execute_result"
    }
   ],
   "source": [
    "function cerosNewtonAux(f::Function,x,n::Int64)\n",
    "    if n>100 \n",
    "        return \"Más de 100 iteraciones\"\n",
    "    elseif norm(f(x))<2.0^-30 #antes tenía abs() pero cambié a norm() para incluir arreglos\n",
    "        return x\n",
    "    else\n",
    "        n+=1\n",
    "        cerosNewtonAux(f,x - f(x)/(f(ValorDeriv(x)).deriv),n)\n",
    "    end\n",
    "end\n",
    "\n",
    "cerosNewton(f::Function,x)=cerosNewtonAux(f::Function,x,1)"
   ]
  },
  {
   "cell_type": "code",
   "execution_count": 506,
   "metadata": {
    "collapsed": false
   },
   "outputs": [
    {
     "name": "stdout",
     "output_type": "stream",
     "text": [
      "1.2599210498948732\n"
     ]
    },
    {
     "data": {
      "text/plain": [
       "1.2599210498953948"
      ]
     },
     "execution_count": 506,
     "metadata": {},
     "output_type": "execute_result"
    }
   ],
   "source": [
    "println(2^(1//3))\n",
    "f(x)=x^3 - 2\n",
    "cerosNewton(f,2)"
   ]
  },
  {
   "cell_type": "code",
   "execution_count": 507,
   "metadata": {
    "collapsed": false
   },
   "outputs": [
    {
     "name": "stdout",
     "output_type": "stream",
     "text": [
      "1.4142135623730951\n"
     ]
    },
    {
     "data": {
      "text/plain": [
       "1.4142135623746899"
      ]
     },
     "execution_count": 507,
     "metadata": {},
     "output_type": "execute_result"
    }
   ],
   "source": [
    "println(2^(1//2))\n",
    "f(x)=x^2 - 2\n",
    "cerosNewton(f,2)"
   ]
  },
  {
   "cell_type": "markdown",
   "metadata": {},
   "source": [
    "#[3]\n",
    "#### Haz un módulo para llevar a cabo diferenciación automática (usando el código del notebook correspondiente) y utilízalo para implementar el método."
   ]
  },
  {
   "cell_type": "markdown",
   "metadata": {},
   "source": [
    "...lo había hecho así desde el principio. El módulo se llama `AutoDif` y permite usar el tipo `ValorDeriv` definido en el notebook 6. Este módulo al igual que todos los que he creado están en la carpeta `MisModulos`"
   ]
  },
  {
   "cell_type": "markdown",
   "metadata": {},
   "source": [
    "#[4]\n",
    "####Utiliza el mismo método para la función compleja $f(z)=z^3−1$. Empezando desde distintos números complejos $a+bi$, itera el algoritmo para ver a cuál raíz converge, y colorea el punto inicial de manera correspondiente. [Para esto, se recomienda construir una matriz y utilizar la función pcolor de PyPlot."
   ]
  },
  {
   "cell_type": "markdown",
   "metadata": {},
   "source": [
    "Primero pruebo qué hacen mis programas a números complejos:"
   ]
  },
  {
   "cell_type": "code",
   "execution_count": 508,
   "metadata": {
    "collapsed": false,
    "scrolled": false
   },
   "outputs": [
    {
     "name": "stdout",
     "output_type": "stream",
     "text": [
      "1.0000000000000042 + 0.0im\n",
      "-0.5 + 0.8660254037844387im\n",
      "-0.5 - 0.8660254037844387im\n"
     ]
    }
   ],
   "source": [
    "f(x)=x^3 - 1\n",
    "println(cerosNewton(f,Complex(1,0)/sqrt(2))) #elegí como puntos iniciales complejos unitarios\n",
    "println(cerosNewton(f,Complex( -1,1 )/sqrt(2)))\n",
    "println(cerosNewton(f,Complex( -1,-1 )/sqrt(2)))"
   ]
  },
  {
   "cell_type": "markdown",
   "metadata": {},
   "source": [
    "Parece que funcionan bastante bien O.O\n",
    "\n",
    "Lo que haré ahora es crear una matriz de unos y cada que una raíz no converga convertiré esa entrada en cero"
   ]
  },
  {
   "cell_type": "code",
   "execution_count": 509,
   "metadata": {
    "collapsed": false,
    "scrolled": true
   },
   "outputs": [
    {
     "name": "stdout",
     "output_type": "stream",
     "text": [
      "0.0 + 0.0im\n"
     ]
    },
    {
     "data": {
      "image/png": "[encoded data removed]",
      "text/plain": [
       "Figure(PyObject <matplotlib.figure.Figure object at 0x7fafc35090d0>)"
      ]
     },
     "metadata": {},
     "output_type": "display_data"
    }
   ],
   "source": [
    "paso=2.0^-3\n",
    "a=-3\n",
    "b=3-paso # le quito un elemento ya que pcolor grafica cuadrantes, lo que quiere\n",
    "        # decir que la matriz z debe tener un elemento menos que los arreglos x,y\n",
    "        # Nótese que esto quiere decir que nos falta una columna de info\n",
    "x=Float64[a:paso:b]\n",
    "y=Float64[a:paso:b]\n",
    "n=length(x)\n",
    "z=ones(n,n);\n",
    "for i=1:n\n",
    "    for j=1:n\n",
    "        if typeof(  cerosNewton(f,Complex(x[i],y[j]))  ) == UTF8String\n",
    "            println(Complex(x[i],y[j])) # imprimo valores en los que no converge\n",
    "            z[j,i]=0 #es j,i porque en matrices se usa que (renglón, columna) y yo lo quiero al revés\n",
    "        end\n",
    "    end\n",
    "end\n",
    "\n",
    "push!(x,b+paso)\n",
    "push!(y,b+paso)\n",
    "\n",
    "PyPlot.pcolor(x,y,z)\n",
    "PyPlot.xlabel(\"Reales\")\n",
    "PyPlot.ylabel(\"Imaginarios\")\n",
    "PyPlot.suptitle(\"Rojo=1, Azul=0\")\n",
    "PyPlot.title(\"rojo=converge, azul=no converge\");"
   ]
  },
  {
   "cell_type": "markdown",
   "metadata": {},
   "source": [
    "Es decir que el único valor que no converge es el cero, lo cual tiene sentido ya que la derivada de la función $f(x)=x^3 - 1$ evaluada en cero es igual a cero, por lo que el término $x_{n+1}$ diverge (ver ejercicio [1])"
   ]
  },
  {
   "cell_type": "code",
   "execution_count": null,
   "metadata": {
    "collapsed": false
   },
   "outputs": [],
   "source": []
  },
  {
   "cell_type": "markdown",
   "metadata": {},
   "source": [
    "# Dimensión superior"
   ]
  },
  {
   "cell_type": "markdown",
   "metadata": {},
   "source": [
    "#[5]\n",
    "#### Desarrolla e implementa el método de Newton para funciones $\\mathbf{f}: \\mathbb{R}^n \\to \\mathbb{R}^n$. Para hacerlo, toma una adivinaza $\\mathbf{x}_n$ y resuelve la ecuación $\\mathbf{f}(\\mathbf{x}_{n+1})=\\mathbf{0}$, con $\\mathbf{x}_{n+1}=\\mathbf{x}_n+δ\\mathbf{x}_n$."
   ]
  },
  {
   "cell_type": "markdown",
   "metadata": {},
   "source": [
    "Lo dejo comentado pa ver si jala sin restringir tipo de x\n",
    "\n",
    "function cerosNewtonAux(f::Function,x::Array{Float64,1},n::Int64)\n",
    "    if n>100 \n",
    "        return \"Más de 100 iteraciones\"\n",
    "    elseif norm(f(x))<2.0^-30\n",
    "        return x\n",
    "    else\n",
    "        n+=1\n",
    "        cerosNewtonAux(f,x - f(x)/(f(ValorDeriv(x)).deriv),n)\n",
    "    end\n",
    "end\n",
    "\n",
    "cerosNewton(f::Function,x::Array{Float64,1})=cerosNewtonAux(f,x,1)"
   ]
  },
  {
   "cell_type": "code",
   "execution_count": 510,
   "metadata": {
    "collapsed": false
   },
   "outputs": [
    {
     "data": {
      "text/plain": [
       "ff (generic function with 1 method)"
      ]
     },
     "execution_count": 510,
     "metadata": {},
     "output_type": "execute_result"
    }
   ],
   "source": [
    "ff(x)=x #Float64[]"
   ]
  },
  {
   "cell_type": "code",
   "execution_count": 511,
   "metadata": {
    "collapsed": false
   },
   "outputs": [
    {
     "data": {
      "text/plain": [
       "2-element Array{Float64,1}:\n",
       " 0.0\n",
       " 0.0"
      ]
     },
     "execution_count": 511,
     "metadata": {},
     "output_type": "execute_result"
    }
   ],
   "source": [
    "cerosNewton(ff,Float64[4,1])"
   ]
  },
  {
   "cell_type": "code",
   "execution_count": 504,
   "metadata": {
    "collapsed": false
   },
   "outputs": [
    {
     "data": {
      "text/plain": [
       "0.7071067811865476"
      ]
     },
     "execution_count": 504,
     "metadata": {},
     "output_type": "execute_result"
    }
   ],
   "source": [
    "norm(Float64[12.2,4,1])\n",
    "norm(Complex(1/2,1/2))"
   ]
  },
  {
   "cell_type": "markdown",
   "metadata": {},
   "source": [
    "#[6]\n",
    "####Utiliza tu algoritmo para calcular raíces de funciones conocidas multidimensionales."
   ]
  },
  {
   "cell_type": "code",
   "execution_count": null,
   "metadata": {
    "collapsed": true
   },
   "outputs": [],
   "source": []
  }
 ],
 "metadata": {
  "kernelspec": {
   "display_name": "Julia 0.3.6",
   "language": "julia",
   "name": "julia 0.3"
  },
  "language_info": {
   "name": "julia",
   "version": "0.3.7"
  }
 },
 "nbformat": 4,
 "nbformat_minor": 0
}
